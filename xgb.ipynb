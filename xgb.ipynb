{
 "cells": [
  {
   "cell_type": "code",
   "execution_count": 322,
   "metadata": {},
   "outputs": [],
   "source": [
    "import pandas as pd\n",
    "import xgboost as xgb\n",
    "from sklearn.model_selection import train_test_split, RandomizedSearchCV\n",
    "from sklearn.metrics import confusion_matrix, accuracy_score,classification_report\n",
    "\n",
    "import numpy as np\n",
    "import matplotlib.pyplot as plt\n",
    "from sklearn.preprocessing import LabelEncoder,OneHotEncoder\n",
    "import itertools as itr\n",
    "from sklearn.model_selection import KFold\n",
    "from imblearn.over_sampling import SMOTEN\n",
    "import seaborn as sns"
   ]
  },
  {
   "cell_type": "code",
   "execution_count": null,
   "metadata": {},
   "outputs": [],
   "source": [
    "data=pd.read_csv('data.csv')\n"
   ]
  },
  {
   "cell_type": "markdown",
   "metadata": {},
   "source": [
    "PREPROCESSING"
   ]
  },
  {
   "cell_type": "code",
   "execution_count": 350,
   "metadata": {},
   "outputs": [],
   "source": [
    "cat_columns=['pr_status',  'pam50_+_claudin-low_subtype', 'primary_tumor_laterality',   'inferred_menopausal_state',   'her2_status',   'er_status',   'er_status_measured_by_ihc',   '3-gene_classifier_subtype', 'death_from_cancer']\n",
    "\n",
    "\n",
    "def one_hot_encode_columns(df, columns,isTrain):\n",
    "  enc=OneHotEncoder(sparse_output=False)\n",
    "  encoded_data=enc.fit_transform(df[columns])\n",
    "  encoded_df = pd.DataFrame(encoded_data, columns=enc.get_feature_names_out(columns))\n",
    "  df_encoded = pd.concat([df.reset_index(drop=True),encoded_df.reset_index(drop=True)],axis=1)\n",
    "  return  df_encoded.drop(columns,axis=1)\n",
    "\n",
    "def data_preprocess(df,isTrain):\n",
    "  \n",
    "  \n",
    "  \n",
    "  df = df.drop('patient_id', axis=1)\n",
    "  df=df.drop('cohort',axis=1)\n",
    "  \n",
    "  \n",
    "  numerical_columns = ['neoplasm_histologic_grade', 'mutation_count', 'tumor_size', 'tumor_stage']\n",
    "  df[numerical_columns] = df[numerical_columns].fillna(df[numerical_columns].mean())\n",
    "\n",
    "  categorical_columns = ['er_status_measured_by_ihc', 'primary_tumor_laterality', '3-gene_classifier_subtype', 'death_from_cancer']\n",
    "  for column in categorical_columns:\n",
    "    most_frequent_class = df[column].mode()[0]\n",
    "    df[column] = df[column].fillna(most_frequent_class)\n",
    "\n",
    "  # label encoding for cellularity 40 nan values transformed to 0\n",
    "  mapping = {\n",
    "      'Low': 1,\n",
    "      'Moderate': 2,\n",
    "      'High': 3,\n",
    "  }\n",
    "#['pr_status',   'primary_tumor_laterality',   'inferred_menopausal_state',   'her2_status',   'er_status',   'er_status_measured_by_ihc',   '3-gene_classifier_subtype', 'death_from_cancer']\n",
    "\n",
    "  df['cellularity'] = df['cellularity'].str.strip()\n",
    "  df[\"cellularity\"] = df[\"cellularity\"].map(mapping)\n",
    "  df[\"cellularity\"] = df[\"cellularity\"].fillna(3)\n",
    "\n",
    "\n",
    "  her2_mapping={\n",
    "  'LOSS' : -1,\n",
    "  'NEUTRAL' : 0,\n",
    "  'GAIN' : 1,\n",
    "  }\n",
    "\n",
    "  df=df[df.her2_status_measured_by_snp6 != 'UNDEF']\n",
    "  df['her2_status_measured_by_snp6'] = df['her2_status_measured_by_snp6'].str.strip()\n",
    "  df['her2_status_measured_by_snp6'] = df['her2_status_measured_by_snp6'].map(her2_mapping)\n",
    "\n",
    "  label_encoders = {}\n",
    "  y = df[\"cancer_type\"]\n",
    "  df = df.drop('cancer_type', axis = 1) \n",
    "  label_encoder = LabelEncoder()\n",
    "  y  = label_encoder.fit_transform(y)\n",
    "  # def map_values(value):\n",
    "  #   if value in [1, 2]:\n",
    "  #       return 1 \n",
    "  #   else:\n",
    "  #       return value  \n",
    "\n",
    "  # y = [map_values(value) for value in y]\n",
    "  y = pd.Series(y,name='cancer_type')\n",
    "\n",
    "  df=one_hot_encode_columns(df,cat_columns,isTrain=isTrain)\n",
    "  \n",
    "\n",
    "  \n",
    "  for column in df.columns:\n",
    "      if df[column].dtype == 'object' and column not in ['pr_status',  'pam50_+_claudin-low_subtype', 'primary_tumor_laterality',   'inferred_menopausal_state',   'her2_status',   'er_status',   'er_status_measured_by_ihc',   '3-gene_classifier_subtype', 'death_from_cancer']:\n",
    "          \n",
    "          le = LabelEncoder()\n",
    "\n",
    "          df[column] = le.fit_transform(df[column].astype(str))\n",
    "\n",
    "          label_encoders[column] = le\n",
    "  \n",
    "  last_seven = df.iloc[:, -7:]\n",
    "  part_before = df.iloc[:, :2] \n",
    "  part_after = df.iloc[:, 2:]\n",
    "  df = pd.concat([part_before, last_seven, part_after], axis=1)\n",
    "  df = df.iloc[:, :-7]\n",
    "\n",
    "\n",
    "  \n",
    "  return df,y"
   ]
  },
  {
   "cell_type": "code",
   "execution_count": 389,
   "metadata": {},
   "outputs": [],
   "source": [
    "X, y=data_preprocess(data.copy(),isTrain=True)"
   ]
  },
  {
   "cell_type": "markdown",
   "metadata": {},
   "source": [
    "SPLITTING"
   ]
  },
  {
   "cell_type": "code",
   "execution_count": 397,
   "metadata": {},
   "outputs": [],
   "source": [
    "def split_data_by_samples(X, y, desired_samples):\n",
    "    def get_class_indices(y):\n",
    "        class_indices = {}\n",
    "        for i, label in enumerate(np.unique(y)):\n",
    "            class_indices[label] = np.where(y == label)[0]\n",
    "        return class_indices\n",
    "    \n",
    "    class_indices = get_class_indices(y)\n",
    "    \n",
    "    all_indices = np.arange(len(X))\n",
    "    selected = []\n",
    "    X_train_selected = pd.DataFrame()\n",
    "    y_train_selected = []\n",
    "\n",
    "    X_test_selected = pd.DataFrame()\n",
    "    y_test_selected = []\n",
    "\n",
    "    for class_label, num_samples in desired_samples.items():\n",
    "        indices = class_indices[class_label]\n",
    "        selected_indices = np.random.choice(indices, size=num_samples, replace=False)\n",
    "        selected.extend(selected_indices.tolist())\n",
    "        X_train_selected = pd.concat([X_train_selected, X.loc[selected_indices]])\n",
    "        y_train_selected.extend(y[selected_indices])\n",
    "\n",
    "    test_indices = np.setdiff1d(all_indices, sorted(selected))\n",
    "    X_test_selected = pd.concat([X_test_selected, X.loc[test_indices]])\n",
    "    y_test_selected.extend(y[test_indices])\n",
    "\n",
    "    return X_train_selected, pd.Series(y_train_selected), X_test_selected, pd.Series(y_test_selected)\n",
    "\n",
    "\n",
    "\n",
    "desired_samples = {0: 700, 1: 100,2:12,3:150}\n",
    "X_train, y_train,X_test, y_test=split_data_by_samples(X,y,desired_samples=desired_samples)\n",
    "X_validate, X_test, y_validate, y_test =train_test_split(X_test,y_test,shuffle=True,test_size=0.5,random_state=42)"
   ]
  },
  {
   "cell_type": "markdown",
   "metadata": {},
   "source": [
    "OVERSAMPLING"
   ]
  },
  {
   "cell_type": "code",
   "execution_count": 399,
   "metadata": {},
   "outputs": [],
   "source": [
    "import imblearn\n",
    "ROS=imblearn.over_sampling.RandomOverSampler(random_state=0)\n",
    "X_train, y_train=ROS.fit_resample(X_train,y_train)"
   ]
  },
  {
   "cell_type": "markdown",
   "metadata": {},
   "source": [
    "TRAINING"
   ]
  },
  {
   "cell_type": "code",
   "execution_count": 401,
   "metadata": {},
   "outputs": [
    {
     "name": "stdout",
     "output_type": "stream",
     "text": [
      "acc Score on Validation Set: 0.8411764705882353\n"
     ]
    }
   ],
   "source": [
    "from xgboost import XGBClassifier\n",
    "from sklearn.metrics import f1_score, accuracy_score\n",
    "from sklearn.model_selection import learning_curve\n",
    "import matplotlib.pyplot as plt\n",
    "\n",
    "xgb_classifier = XGBClassifier(num_class=4,n_estimators=100, random_state=42)\n",
    "\n",
    "# Train the classifier\n",
    "xgb_classifier.fit(X_train, y_train)\n",
    "\n",
    "# Predict on validation set\n",
    "y_pred = xgb_classifier.predict(X_validate)\n",
    "\n",
    "# Calculate F1 score\n",
    "f1 = f1_score(y_validate, y_pred)\n",
    "\n",
    "print(\"acc Score on Validation Set:\", f1)\n",
    "\n"
   ]
  },
  {
   "cell_type": "markdown",
   "metadata": {},
   "source": [
    "LEARNING CURVE PLOT"
   ]
  },
  {
   "cell_type": "code",
   "execution_count": null,
   "metadata": {},
   "outputs": [],
   "source": [
    "from xgboost.callback import TrainingCallback\n",
    "class EvaluationHistoryCallback(TrainingCallback):\n",
    "    def __init__(self):\n",
    "        super().__init__()\n",
    "        self.evaluation_results = {}\n",
    "\n",
    "    def after_iteration(self, model, epoch, evals_log):\n",
    "        if not evals_log:\n",
    "            return False\n",
    "        for dataset_name, metric_dict in evals_log.items():\n",
    "            for metric_name, log in metric_dict.items():\n",
    "                full_metric_name = f\"{dataset_name}-{metric_name}\"\n",
    "                if full_metric_name not in self.evaluation_results:\n",
    "                    self.evaluation_results[full_metric_name] = []\n",
    "                self.evaluation_results[full_metric_name].append(log[-1])\n",
    "        return False  # Return False to continue training\n",
    "\n",
    "# Initialize callback\n",
    "eval_history_multi = EvaluationHistoryCallback()\n",
    "params_multi = {\n",
    "    'objective': 'multi:softmax',\n",
    "    'num_class': 4,\n",
    "    'eval_metric': 'mlogloss',  \n",
    "    'device': 'cuda',\n",
    "    'learning_rate': 0.1,\n",
    "    'max_depth': 15,\n",
    "    'min_child_weight': 1,\n",
    "    'subsample': 0.8,\n",
    "    'colsample_bytree': 0.8,\n",
    "    'gamma': 0.1,\n",
    "    'lambda': 1.5,\n",
    "    'alpha': 0.01,\n",
    "    'num_parallel_tree': 5\n",
    "}\n",
    "\n",
    "dtrain=xgb.DMatrix(X_train,label=y_train)\n",
    "dval=xgb.DMatrix(X_validate,label=y_validate)\n",
    "eval_set_multi = [(dtrain, 'train'), (dval, 'eval')]\n",
    "multi_class_model = xgb.train(params_multi, dtrain, num_boost_round=100, evals=eval_set_multi, early_stopping_rounds=10, verbose_eval=True, callbacks=[eval_history_multi])\n",
    "\n",
    "# Access the stored evaluation results\n",
    "results_multi = eval_history_multi.evaluation_results\n",
    "train_mlogloss = results_multi.get('train-mlogloss', [])\n",
    "eval_mlogloss = results_multi.get('eval-mlogloss', [])\n",
    "epochs_multi = len(train_mlogloss)\n",
    "x_axis_multi = range(0, epochs_multi)\n",
    "\n",
    "# Plot learning curves\n",
    "fig, ax = plt.subplots()\n",
    "ax.plot(x_axis_multi, train_mlogloss, label='Train MLogLoss')\n",
    "ax.plot(x_axis_multi, eval_mlogloss, label='Validation MLogLoss')\n",
    "ax.legend()\n",
    "plt.ylabel('MLogLoss')\n",
    "plt.title('Learning Curve for Multi-Class Model')\n",
    "plt.show()"
   ]
  },
  {
   "cell_type": "markdown",
   "metadata": {},
   "source": [
    "**Confusion Matrix**"
   ]
  },
  {
   "cell_type": "code",
   "execution_count": null,
   "metadata": {},
   "outputs": [],
   "source": [
    "from sklearn.metrics import f1_score\n",
    "import seaborn as sns\n",
    "#predicted_classes = np.argmax(predictions, axis=1)\n",
    "\n",
    "# Compute F1 score\n",
    "f1 = f1_score(y_validate, y_pred, average='macro')\n",
    "\n",
    "# Visualize confusion matrix\n",
    "cm = confusion_matrix(y_validate, y_pred)\n",
    "plt.figure(figsize=(8, 6))\n",
    "sns.heatmap(cm, annot=True, fmt='d', cmap='Blues', xticklabels=np.unique(y_validate), yticklabels=np.unique(y_validate))\n",
    "plt.title('Confusion Matrix')\n",
    "plt.xlabel('Predicted Label')\n",
    "plt.ylabel('True Label')\n",
    "plt.show()\n",
    "\n",
    "print(f'F1 Score: {f1:.4f}')"
   ]
  },
  {
   "cell_type": "markdown",
   "metadata": {},
   "source": [
    "**HyperParameter Tuning**"
   ]
  },
  {
   "cell_type": "code",
   "execution_count": 16,
   "metadata": {},
   "outputs": [
    {
     "name": "stderr",
     "output_type": "stream",
     "text": [
      "c:\\Users\\Moustapha\\AppData\\Local\\Programs\\Python\\Python312\\Lib\\site-packages\\sklearn\\metrics\\_classification.py:1497: UndefinedMetricWarning: Precision is ill-defined and being set to 0.0 in labels with no predicted samples. Use `zero_division` parameter to control this behavior.\n",
      "  _warn_prf(average, modifier, f\"{metric.capitalize()} is\", len(result))\n",
      "c:\\Users\\Moustapha\\AppData\\Local\\Programs\\Python\\Python312\\Lib\\site-packages\\sklearn\\metrics\\_classification.py:1497: UndefinedMetricWarning: Precision is ill-defined and being set to 0.0 in labels with no predicted samples. Use `zero_division` parameter to control this behavior.\n",
      "  _warn_prf(average, modifier, f\"{metric.capitalize()} is\", len(result))\n",
      "c:\\Users\\Moustapha\\AppData\\Local\\Programs\\Python\\Python312\\Lib\\site-packages\\sklearn\\metrics\\_classification.py:1497: UndefinedMetricWarning: Precision is ill-defined and being set to 0.0 in labels with no predicted samples. Use `zero_division` parameter to control this behavior.\n",
      "  _warn_prf(average, modifier, f\"{metric.capitalize()} is\", len(result))\n"
     ]
    },
    {
     "name": "stdout",
     "output_type": "stream",
     "text": [
      "{'0': {'precision': 0.7628083491461101, 'recall': 0.9975186104218362, 'f1-score': 0.864516129032258, 'support': 403.0}, '1': {'precision': 0.8333333333333334, 'recall': 0.10416666666666667, 'f1-score': 0.18518518518518517, 'support': 48.0}, '2': {'precision': 0.0, 'recall': 0.0, 'f1-score': 0.0, 'support': 9.0}, '3': {'precision': 0.0, 'recall': 0.0, 'f1-score': 0.0, 'support': 73.0}, 'accuracy': 0.7636022514071295, 'macro avg': {'precision': 0.39903542061986086, 'recall': 0.2754213192721257, 'f1-score': 0.2624253285543608, 'support': 533.0}, 'weighted avg': {'precision': 0.6518044365964022, 'recall': 0.7636022514071295, 'f1-score': 0.6703356264331874, 'support': 533.0}} for parameters {'num_class': 4, 'alpha': 0.01, 'device': 'cuda', 'eta': 0.01, 'eval_metric': 'logloss', 'gamma': 0.05, 'grow_policy': 'depthwise', 'lambda': 0.1, 'max_depth': 3, 'num_parallel_tree': 3, 'objective': 'multi:softmax', 'sampling_method': 'uniform', 'subsample': 0.3, 'tree_method': 'hist'}\n"
     ]
    },
    {
     "name": "stderr",
     "output_type": "stream",
     "text": [
      "c:\\Users\\Moustapha\\AppData\\Local\\Programs\\Python\\Python312\\Lib\\site-packages\\sklearn\\metrics\\_classification.py:1497: UndefinedMetricWarning: Precision is ill-defined and being set to 0.0 in labels with no predicted samples. Use `zero_division` parameter to control this behavior.\n",
      "  _warn_prf(average, modifier, f\"{metric.capitalize()} is\", len(result))\n",
      "c:\\Users\\Moustapha\\AppData\\Local\\Programs\\Python\\Python312\\Lib\\site-packages\\sklearn\\metrics\\_classification.py:1497: UndefinedMetricWarning: Precision is ill-defined and being set to 0.0 in labels with no predicted samples. Use `zero_division` parameter to control this behavior.\n",
      "  _warn_prf(average, modifier, f\"{metric.capitalize()} is\", len(result))\n",
      "c:\\Users\\Moustapha\\AppData\\Local\\Programs\\Python\\Python312\\Lib\\site-packages\\sklearn\\metrics\\_classification.py:1497: UndefinedMetricWarning: Precision is ill-defined and being set to 0.0 in labels with no predicted samples. Use `zero_division` parameter to control this behavior.\n",
      "  _warn_prf(average, modifier, f\"{metric.capitalize()} is\", len(result))\n"
     ]
    },
    {
     "name": "stdout",
     "output_type": "stream",
     "text": [
      "{'0': {'precision': 0.747148288973384, 'recall': 0.9899244332493703, 'f1-score': 0.8515709642470206, 'support': 397.0}, '1': {'precision': 0.3333333333333333, 'recall': 0.038461538461538464, 'f1-score': 0.06896551724137931, 'support': 52.0}, '2': {'precision': 0.0, 'recall': 0.0, 'f1-score': 0.0, 'support': 6.0}, '3': {'precision': 0.0, 'recall': 0.0, 'f1-score': 0.0, 'support': 77.0}, 'accuracy': 0.7424812030075187, 'macro avg': {'precision': 0.2701204055766793, 'recall': 0.2570964929277272, 'f1-score': 0.2301341203721, 'support': 532.0}, 'weighted avg': {'precision': 0.5901338422100879, 'recall': 0.7424812030075187, 'f1-score': 0.6422178189898852, 'support': 532.0}} for parameters {'num_class': 4, 'alpha': 0.01, 'device': 'cuda', 'eta': 0.01, 'eval_metric': 'logloss', 'gamma': 0.05, 'grow_policy': 'depthwise', 'lambda': 0.1, 'max_depth': 3, 'num_parallel_tree': 3, 'objective': 'multi:softmax', 'sampling_method': 'uniform', 'subsample': 0.3, 'tree_method': 'hist'}\n"
     ]
    },
    {
     "name": "stderr",
     "output_type": "stream",
     "text": [
      "c:\\Users\\Moustapha\\AppData\\Local\\Programs\\Python\\Python312\\Lib\\site-packages\\sklearn\\metrics\\_classification.py:1497: UndefinedMetricWarning: Precision is ill-defined and being set to 0.0 in labels with no predicted samples. Use `zero_division` parameter to control this behavior.\n",
      "  _warn_prf(average, modifier, f\"{metric.capitalize()} is\", len(result))\n",
      "c:\\Users\\Moustapha\\AppData\\Local\\Programs\\Python\\Python312\\Lib\\site-packages\\sklearn\\metrics\\_classification.py:1497: UndefinedMetricWarning: Precision is ill-defined and being set to 0.0 in labels with no predicted samples. Use `zero_division` parameter to control this behavior.\n",
      "  _warn_prf(average, modifier, f\"{metric.capitalize()} is\", len(result))\n",
      "c:\\Users\\Moustapha\\AppData\\Local\\Programs\\Python\\Python312\\Lib\\site-packages\\sklearn\\metrics\\_classification.py:1497: UndefinedMetricWarning: Precision is ill-defined and being set to 0.0 in labels with no predicted samples. Use `zero_division` parameter to control this behavior.\n",
      "  _warn_prf(average, modifier, f\"{metric.capitalize()} is\", len(result))\n"
     ]
    },
    {
     "name": "stdout",
     "output_type": "stream",
     "text": [
      "{'0': {'precision': 0.7462406015037594, 'recall': 0.9974874371859297, 'f1-score': 0.853763440860215, 'support': 398.0}, '1': {'precision': 0.0, 'recall': 0.0, 'f1-score': 0.0, 'support': 58.0}, '2': {'precision': 0.0, 'recall': 0.0, 'f1-score': 0.0, 'support': 6.0}, '3': {'precision': 0.0, 'recall': 0.0, 'f1-score': 0.0, 'support': 71.0}, 'accuracy': 0.7448405253283302, 'macro avg': {'precision': 0.18656015037593984, 'recall': 0.24937185929648242, 'f1-score': 0.21344086021505376, 'support': 533.0}, 'weighted avg': {'precision': 0.5572303178208184, 'recall': 0.7448405253283302, 'f1-score': 0.6375194173777966, 'support': 533.0}} for parameters {'num_class': 4, 'alpha': 0.01, 'device': 'cuda', 'eta': 0.01, 'eval_metric': 'logloss', 'gamma': 0.05, 'grow_policy': 'depthwise', 'lambda': 0.1, 'max_depth': 3, 'num_parallel_tree': 3, 'objective': 'multi:softmax', 'sampling_method': 'uniform', 'subsample': 0.3, 'tree_method': 'approx'}\n"
     ]
    },
    {
     "name": "stderr",
     "output_type": "stream",
     "text": [
      "c:\\Users\\Moustapha\\AppData\\Local\\Programs\\Python\\Python312\\Lib\\site-packages\\sklearn\\metrics\\_classification.py:1497: UndefinedMetricWarning: Precision is ill-defined and being set to 0.0 in labels with no predicted samples. Use `zero_division` parameter to control this behavior.\n",
      "  _warn_prf(average, modifier, f\"{metric.capitalize()} is\", len(result))\n",
      "c:\\Users\\Moustapha\\AppData\\Local\\Programs\\Python\\Python312\\Lib\\site-packages\\sklearn\\metrics\\_classification.py:1497: UndefinedMetricWarning: Precision is ill-defined and being set to 0.0 in labels with no predicted samples. Use `zero_division` parameter to control this behavior.\n",
      "  _warn_prf(average, modifier, f\"{metric.capitalize()} is\", len(result))\n",
      "c:\\Users\\Moustapha\\AppData\\Local\\Programs\\Python\\Python312\\Lib\\site-packages\\sklearn\\metrics\\_classification.py:1497: UndefinedMetricWarning: Precision is ill-defined and being set to 0.0 in labels with no predicted samples. Use `zero_division` parameter to control this behavior.\n",
      "  _warn_prf(average, modifier, f\"{metric.capitalize()} is\", len(result))\n"
     ]
    },
    {
     "name": "stdout",
     "output_type": "stream",
     "text": [
      "{'0': {'precision': 0.7619047619047619, 'recall': 0.9950248756218906, 'f1-score': 0.8629989212513485, 'support': 402.0}, '1': {'precision': 0.7142857142857143, 'recall': 0.11904761904761904, 'f1-score': 0.20408163265306123, 'support': 42.0}, '2': {'precision': 0.0, 'recall': 0.0, 'f1-score': 0.0, 'support': 9.0}, '3': {'precision': 0.0, 'recall': 0.0, 'f1-score': 0.0, 'support': 79.0}, 'accuracy': 0.7612781954887218, 'macro avg': {'precision': 0.36904761904761907, 'recall': 0.2785181236673774, 'f1-score': 0.2667701384761024, 'support': 532.0}, 'weighted avg': {'precision': 0.6321160042964554, 'recall': 0.7612781954887218, 'f1-score': 0.6682274340497568, 'support': 532.0}} for parameters {'num_class': 4, 'alpha': 0.01, 'device': 'cuda', 'eta': 0.01, 'eval_metric': 'logloss', 'gamma': 0.05, 'grow_policy': 'depthwise', 'lambda': 0.1, 'max_depth': 3, 'num_parallel_tree': 3, 'objective': 'multi:softmax', 'sampling_method': 'uniform', 'subsample': 0.3, 'tree_method': 'approx'}\n"
     ]
    },
    {
     "name": "stderr",
     "output_type": "stream",
     "text": [
      "c:\\Users\\Moustapha\\AppData\\Local\\Programs\\Python\\Python312\\Lib\\site-packages\\sklearn\\metrics\\_classification.py:1497: UndefinedMetricWarning: Precision is ill-defined and being set to 0.0 in labels with no predicted samples. Use `zero_division` parameter to control this behavior.\n",
      "  _warn_prf(average, modifier, f\"{metric.capitalize()} is\", len(result))\n",
      "c:\\Users\\Moustapha\\AppData\\Local\\Programs\\Python\\Python312\\Lib\\site-packages\\sklearn\\metrics\\_classification.py:1497: UndefinedMetricWarning: Precision is ill-defined and being set to 0.0 in labels with no predicted samples. Use `zero_division` parameter to control this behavior.\n",
      "  _warn_prf(average, modifier, f\"{metric.capitalize()} is\", len(result))\n",
      "c:\\Users\\Moustapha\\AppData\\Local\\Programs\\Python\\Python312\\Lib\\site-packages\\sklearn\\metrics\\_classification.py:1497: UndefinedMetricWarning: Precision is ill-defined and being set to 0.0 in labels with no predicted samples. Use `zero_division` parameter to control this behavior.\n",
      "  _warn_prf(average, modifier, f\"{metric.capitalize()} is\", len(result))\n"
     ]
    },
    {
     "name": "stdout",
     "output_type": "stream",
     "text": [
      "{'0': {'precision': 0.7765151515151515, 'recall': 0.9975669099756691, 'f1-score': 0.873269435569755, 'support': 411.0}, '1': {'precision': 0.8, 'recall': 0.08163265306122448, 'f1-score': 0.14814814814814814, 'support': 49.0}, '2': {'precision': 0.0, 'recall': 0.0, 'f1-score': 0.0, 'support': 5.0}, '3': {'precision': 0.0, 'recall': 0.0, 'f1-score': 0.0, 'support': 68.0}, 'accuracy': 0.776735459662289, 'macro avg': {'precision': 0.3941287878787879, 'recall': 0.2697998907592234, 'f1-score': 0.2553543959294758, 'support': 533.0}, 'weighted avg': {'precision': 0.6723221900051167, 'recall': 0.776735459662289, 'f1-score': 0.687003747239078, 'support': 533.0}} for parameters {'num_class': 4, 'alpha': 0.01, 'device': 'cuda', 'eta': 0.01, 'eval_metric': 'logloss', 'gamma': 0.05, 'grow_policy': 'depthwise', 'lambda': 0.1, 'max_depth': 3, 'num_parallel_tree': 3, 'objective': 'multi:softmax', 'sampling_method': 'uniform', 'subsample': 0.5, 'tree_method': 'hist'}\n"
     ]
    },
    {
     "name": "stderr",
     "output_type": "stream",
     "text": [
      "c:\\Users\\Moustapha\\AppData\\Local\\Programs\\Python\\Python312\\Lib\\site-packages\\sklearn\\metrics\\_classification.py:1497: UndefinedMetricWarning: Precision is ill-defined and being set to 0.0 in labels with no predicted samples. Use `zero_division` parameter to control this behavior.\n",
      "  _warn_prf(average, modifier, f\"{metric.capitalize()} is\", len(result))\n",
      "c:\\Users\\Moustapha\\AppData\\Local\\Programs\\Python\\Python312\\Lib\\site-packages\\sklearn\\metrics\\_classification.py:1497: UndefinedMetricWarning: Precision is ill-defined and being set to 0.0 in labels with no predicted samples. Use `zero_division` parameter to control this behavior.\n",
      "  _warn_prf(average, modifier, f\"{metric.capitalize()} is\", len(result))\n",
      "c:\\Users\\Moustapha\\AppData\\Local\\Programs\\Python\\Python312\\Lib\\site-packages\\sklearn\\metrics\\_classification.py:1497: UndefinedMetricWarning: Precision is ill-defined and being set to 0.0 in labels with no predicted samples. Use `zero_division` parameter to control this behavior.\n",
      "  _warn_prf(average, modifier, f\"{metric.capitalize()} is\", len(result))\n"
     ]
    },
    {
     "name": "stdout",
     "output_type": "stream",
     "text": [
      "{'0': {'precision': 0.7442307692307693, 'recall': 0.9948586118251928, 'f1-score': 0.8514851485148515, 'support': 389.0}, '1': {'precision': 0.75, 'recall': 0.17647058823529413, 'f1-score': 0.2857142857142857, 'support': 51.0}, '2': {'precision': 0.0, 'recall': 0.0, 'f1-score': 0.0, 'support': 10.0}, '3': {'precision': 0.0, 'recall': 0.0, 'f1-score': 0.0, 'support': 82.0}, 'accuracy': 0.7443609022556391, 'macro avg': {'precision': 0.3735576923076923, 'recall': 0.2928323000151217, 'f1-score': 0.2842998585572843, 'support': 532.0}, 'weighted avg': {'precision': 0.6160822729901678, 'recall': 0.7443609022556391, 'f1-score': 0.6499984047814018, 'support': 532.0}} for parameters {'num_class': 4, 'alpha': 0.01, 'device': 'cuda', 'eta': 0.01, 'eval_metric': 'logloss', 'gamma': 0.05, 'grow_policy': 'depthwise', 'lambda': 0.1, 'max_depth': 3, 'num_parallel_tree': 3, 'objective': 'multi:softmax', 'sampling_method': 'uniform', 'subsample': 0.5, 'tree_method': 'hist'}\n"
     ]
    },
    {
     "name": "stderr",
     "output_type": "stream",
     "text": [
      "c:\\Users\\Moustapha\\AppData\\Local\\Programs\\Python\\Python312\\Lib\\site-packages\\sklearn\\metrics\\_classification.py:1497: UndefinedMetricWarning: Precision is ill-defined and being set to 0.0 in labels with no predicted samples. Use `zero_division` parameter to control this behavior.\n",
      "  _warn_prf(average, modifier, f\"{metric.capitalize()} is\", len(result))\n",
      "c:\\Users\\Moustapha\\AppData\\Local\\Programs\\Python\\Python312\\Lib\\site-packages\\sklearn\\metrics\\_classification.py:1497: UndefinedMetricWarning: Precision is ill-defined and being set to 0.0 in labels with no predicted samples. Use `zero_division` parameter to control this behavior.\n",
      "  _warn_prf(average, modifier, f\"{metric.capitalize()} is\", len(result))\n",
      "c:\\Users\\Moustapha\\AppData\\Local\\Programs\\Python\\Python312\\Lib\\site-packages\\sklearn\\metrics\\_classification.py:1497: UndefinedMetricWarning: Precision is ill-defined and being set to 0.0 in labels with no predicted samples. Use `zero_division` parameter to control this behavior.\n",
      "  _warn_prf(average, modifier, f\"{metric.capitalize()} is\", len(result))\n"
     ]
    },
    {
     "name": "stdout",
     "output_type": "stream",
     "text": [
      "{'0': {'precision': 0.7666034155597723, 'recall': 0.9950738916256158, 'f1-score': 0.8660235798499464, 'support': 406.0}, '1': {'precision': 0.8, 'recall': 0.07692307692307693, 'f1-score': 0.14035087719298245, 'support': 52.0}, '2': {'precision': 0.0, 'recall': 0.0, 'f1-score': 0.0, 'support': 6.0}, '3': {'precision': 0.0, 'recall': 0.0, 'f1-score': 0.0, 'support': 69.0}, 'accuracy': 0.7654784240150094, 'macro avg': {'precision': 0.3916508538899431, 'recall': 0.2679992421371732, 'f1-score': 0.25159361426073223, 'support': 533.0}, 'weighted avg': {'precision': 0.6619905942162618, 'recall': 0.7654784240150094, 'f1-score': 0.6733655141334208, 'support': 533.0}} for parameters {'num_class': 4, 'alpha': 0.01, 'device': 'cuda', 'eta': 0.01, 'eval_metric': 'logloss', 'gamma': 0.05, 'grow_policy': 'depthwise', 'lambda': 0.1, 'max_depth': 3, 'num_parallel_tree': 3, 'objective': 'multi:softmax', 'sampling_method': 'uniform', 'subsample': 0.5, 'tree_method': 'approx'}\n"
     ]
    },
    {
     "name": "stderr",
     "output_type": "stream",
     "text": [
      "c:\\Users\\Moustapha\\AppData\\Local\\Programs\\Python\\Python312\\Lib\\site-packages\\sklearn\\metrics\\_classification.py:1497: UndefinedMetricWarning: Precision is ill-defined and being set to 0.0 in labels with no predicted samples. Use `zero_division` parameter to control this behavior.\n",
      "  _warn_prf(average, modifier, f\"{metric.capitalize()} is\", len(result))\n",
      "c:\\Users\\Moustapha\\AppData\\Local\\Programs\\Python\\Python312\\Lib\\site-packages\\sklearn\\metrics\\_classification.py:1497: UndefinedMetricWarning: Precision is ill-defined and being set to 0.0 in labels with no predicted samples. Use `zero_division` parameter to control this behavior.\n",
      "  _warn_prf(average, modifier, f\"{metric.capitalize()} is\", len(result))\n",
      "c:\\Users\\Moustapha\\AppData\\Local\\Programs\\Python\\Python312\\Lib\\site-packages\\sklearn\\metrics\\_classification.py:1497: UndefinedMetricWarning: Precision is ill-defined and being set to 0.0 in labels with no predicted samples. Use `zero_division` parameter to control this behavior.\n",
      "  _warn_prf(average, modifier, f\"{metric.capitalize()} is\", len(result))\n"
     ]
    },
    {
     "name": "stdout",
     "output_type": "stream",
     "text": [
      "{'0': {'precision': 0.7490421455938697, 'recall': 0.9923857868020305, 'f1-score': 0.8537117903930131, 'support': 394.0}, '1': {'precision': 0.6, 'recall': 0.125, 'f1-score': 0.20689655172413793, 'support': 48.0}, '2': {'precision': 0.0, 'recall': 0.0, 'f1-score': 0.0, 'support': 9.0}, '3': {'precision': 0.0, 'recall': 0.0, 'f1-score': 0.0, 'support': 81.0}, 'accuracy': 0.7462406015037594, 'macro avg': {'precision': 0.3372605363984674, 'recall': 0.2793464467005076, 'f1-score': 0.26515208552928776, 'support': 532.0}, 'weighted avg': {'precision': 0.608877077751851, 'recall': 0.7462406015037594, 'f1-score': 0.6509275937924921, 'support': 532.0}} for parameters {'num_class': 4, 'alpha': 0.01, 'device': 'cuda', 'eta': 0.01, 'eval_metric': 'logloss', 'gamma': 0.05, 'grow_policy': 'depthwise', 'lambda': 0.1, 'max_depth': 3, 'num_parallel_tree': 3, 'objective': 'multi:softmax', 'sampling_method': 'uniform', 'subsample': 0.5, 'tree_method': 'approx'}\n"
     ]
    },
    {
     "name": "stderr",
     "output_type": "stream",
     "text": [
      "c:\\Users\\Moustapha\\AppData\\Local\\Programs\\Python\\Python312\\Lib\\site-packages\\sklearn\\metrics\\_classification.py:1497: UndefinedMetricWarning: Precision is ill-defined and being set to 0.0 in labels with no predicted samples. Use `zero_division` parameter to control this behavior.\n",
      "  _warn_prf(average, modifier, f\"{metric.capitalize()} is\", len(result))\n",
      "c:\\Users\\Moustapha\\AppData\\Local\\Programs\\Python\\Python312\\Lib\\site-packages\\sklearn\\metrics\\_classification.py:1497: UndefinedMetricWarning: Precision is ill-defined and being set to 0.0 in labels with no predicted samples. Use `zero_division` parameter to control this behavior.\n",
      "  _warn_prf(average, modifier, f\"{metric.capitalize()} is\", len(result))\n",
      "c:\\Users\\Moustapha\\AppData\\Local\\Programs\\Python\\Python312\\Lib\\site-packages\\sklearn\\metrics\\_classification.py:1497: UndefinedMetricWarning: Precision is ill-defined and being set to 0.0 in labels with no predicted samples. Use `zero_division` parameter to control this behavior.\n",
      "  _warn_prf(average, modifier, f\"{metric.capitalize()} is\", len(result))\n"
     ]
    },
    {
     "name": "stdout",
     "output_type": "stream",
     "text": [
      "{'0': {'precision': 0.765748031496063, 'recall': 0.9798488664987406, 'f1-score': 0.8596685082872928, 'support': 397.0}, '1': {'precision': 0.52, 'recall': 0.25, 'f1-score': 0.33766233766233766, 'support': 52.0}, '2': {'precision': 0.0, 'recall': 0.0, 'f1-score': 0.0, 'support': 10.0}, '3': {'precision': 0.0, 'recall': 0.0, 'f1-score': 0.0, 'support': 74.0}, 'accuracy': 0.7542213883677298, 'macro avg': {'precision': 0.32143700787401575, 'recall': 0.30746221662468515, 'f1-score': 0.2993327114874076, 'support': 533.0}, 'weighted avg': {'precision': 0.6210918733657355, 'recall': 0.7542213883677298, 'f1-score': 0.6732586104099377, 'support': 533.0}} for parameters {'num_class': 4, 'alpha': 0.01, 'device': 'cuda', 'eta': 0.01, 'eval_metric': 'logloss', 'gamma': 0.05, 'grow_policy': 'depthwise', 'lambda': 0.1, 'max_depth': 3, 'num_parallel_tree': 3, 'objective': 'multi:softmax', 'sampling_method': 'uniform', 'subsample': 0.8, 'tree_method': 'hist'}\n"
     ]
    },
    {
     "name": "stderr",
     "output_type": "stream",
     "text": [
      "c:\\Users\\Moustapha\\AppData\\Local\\Programs\\Python\\Python312\\Lib\\site-packages\\sklearn\\metrics\\_classification.py:1497: UndefinedMetricWarning: Precision is ill-defined and being set to 0.0 in labels with no predicted samples. Use `zero_division` parameter to control this behavior.\n",
      "  _warn_prf(average, modifier, f\"{metric.capitalize()} is\", len(result))\n",
      "c:\\Users\\Moustapha\\AppData\\Local\\Programs\\Python\\Python312\\Lib\\site-packages\\sklearn\\metrics\\_classification.py:1497: UndefinedMetricWarning: Precision is ill-defined and being set to 0.0 in labels with no predicted samples. Use `zero_division` parameter to control this behavior.\n",
      "  _warn_prf(average, modifier, f\"{metric.capitalize()} is\", len(result))\n",
      "c:\\Users\\Moustapha\\AppData\\Local\\Programs\\Python\\Python312\\Lib\\site-packages\\sklearn\\metrics\\_classification.py:1497: UndefinedMetricWarning: Precision is ill-defined and being set to 0.0 in labels with no predicted samples. Use `zero_division` parameter to control this behavior.\n",
      "  _warn_prf(average, modifier, f\"{metric.capitalize()} is\", len(result))\n"
     ]
    },
    {
     "name": "stdout",
     "output_type": "stream",
     "text": [
      "{'0': {'precision': 0.7657142857142857, 'recall': 0.9975186104218362, 'f1-score': 0.8663793103448276, 'support': 403.0}, '1': {'precision': 0.7142857142857143, 'recall': 0.10416666666666667, 'f1-score': 0.18181818181818182, 'support': 48.0}, '2': {'precision': 0.0, 'recall': 0.0, 'f1-score': 0.0, 'support': 5.0}, '3': {'precision': 0.0, 'recall': 0.0, 'f1-score': 0.0, 'support': 76.0}, 'accuracy': 0.7650375939849624, 'macro avg': {'precision': 0.37, 'recall': 0.2754213192721257, 'f1-score': 0.2620493730407524, 'support': 532.0}, 'weighted avg': {'precision': 0.6444897959183673, 'recall': 0.7650375939849624, 'f1-score': 0.6727032608951847, 'support': 532.0}} for parameters {'num_class': 4, 'alpha': 0.01, 'device': 'cuda', 'eta': 0.01, 'eval_metric': 'logloss', 'gamma': 0.05, 'grow_policy': 'depthwise', 'lambda': 0.1, 'max_depth': 3, 'num_parallel_tree': 3, 'objective': 'multi:softmax', 'sampling_method': 'uniform', 'subsample': 0.8, 'tree_method': 'hist'}\n"
     ]
    },
    {
     "name": "stderr",
     "output_type": "stream",
     "text": [
      "c:\\Users\\Moustapha\\AppData\\Local\\Programs\\Python\\Python312\\Lib\\site-packages\\sklearn\\metrics\\_classification.py:1497: UndefinedMetricWarning: Precision is ill-defined and being set to 0.0 in labels with no predicted samples. Use `zero_division` parameter to control this behavior.\n",
      "  _warn_prf(average, modifier, f\"{metric.capitalize()} is\", len(result))\n",
      "c:\\Users\\Moustapha\\AppData\\Local\\Programs\\Python\\Python312\\Lib\\site-packages\\sklearn\\metrics\\_classification.py:1497: UndefinedMetricWarning: Precision is ill-defined and being set to 0.0 in labels with no predicted samples. Use `zero_division` parameter to control this behavior.\n",
      "  _warn_prf(average, modifier, f\"{metric.capitalize()} is\", len(result))\n",
      "c:\\Users\\Moustapha\\AppData\\Local\\Programs\\Python\\Python312\\Lib\\site-packages\\sklearn\\metrics\\_classification.py:1497: UndefinedMetricWarning: Precision is ill-defined and being set to 0.0 in labels with no predicted samples. Use `zero_division` parameter to control this behavior.\n",
      "  _warn_prf(average, modifier, f\"{metric.capitalize()} is\", len(result))\n"
     ]
    },
    {
     "name": "stdout",
     "output_type": "stream",
     "text": [
      "{'0': {'precision': 0.7625482625482626, 'recall': 0.9949622166246851, 'f1-score': 0.8633879781420765, 'support': 397.0}, '1': {'precision': 0.6, 'recall': 0.17647058823529413, 'f1-score': 0.2727272727272727, 'support': 51.0}, '2': {'precision': 0.0, 'recall': 0.0, 'f1-score': 0.0, 'support': 9.0}, '3': {'precision': 0.0, 'recall': 0.0, 'f1-score': 0.0, 'support': 76.0}, 'accuracy': 0.7579737335834896, 'macro avg': {'precision': 0.34063706563706564, 'recall': 0.2928582012149948, 'f1-score': 0.28402881271733726, 'support': 533.0}, 'weighted avg': {'precision': 0.6253877302657792, 'recall': 0.7579737335834896, 'f1-score': 0.6691822105656572, 'support': 533.0}} for parameters {'num_class': 4, 'alpha': 0.01, 'device': 'cuda', 'eta': 0.01, 'eval_metric': 'logloss', 'gamma': 0.05, 'grow_policy': 'depthwise', 'lambda': 0.1, 'max_depth': 3, 'num_parallel_tree': 3, 'objective': 'multi:softmax', 'sampling_method': 'uniform', 'subsample': 0.8, 'tree_method': 'approx'}\n"
     ]
    },
    {
     "name": "stderr",
     "output_type": "stream",
     "text": [
      "c:\\Users\\Moustapha\\AppData\\Local\\Programs\\Python\\Python312\\Lib\\site-packages\\sklearn\\metrics\\_classification.py:1497: UndefinedMetricWarning: Precision is ill-defined and being set to 0.0 in labels with no predicted samples. Use `zero_division` parameter to control this behavior.\n",
      "  _warn_prf(average, modifier, f\"{metric.capitalize()} is\", len(result))\n",
      "c:\\Users\\Moustapha\\AppData\\Local\\Programs\\Python\\Python312\\Lib\\site-packages\\sklearn\\metrics\\_classification.py:1497: UndefinedMetricWarning: Precision is ill-defined and being set to 0.0 in labels with no predicted samples. Use `zero_division` parameter to control this behavior.\n",
      "  _warn_prf(average, modifier, f\"{metric.capitalize()} is\", len(result))\n",
      "c:\\Users\\Moustapha\\AppData\\Local\\Programs\\Python\\Python312\\Lib\\site-packages\\sklearn\\metrics\\_classification.py:1497: UndefinedMetricWarning: Precision is ill-defined and being set to 0.0 in labels with no predicted samples. Use `zero_division` parameter to control this behavior.\n",
      "  _warn_prf(average, modifier, f\"{metric.capitalize()} is\", len(result))\n"
     ]
    },
    {
     "name": "stdout",
     "output_type": "stream",
     "text": [
      "{'0': {'precision': 0.7728155339805826, 'recall': 0.9875930521091811, 'f1-score': 0.8671023965141612, 'support': 403.0}, '1': {'precision': 0.6470588235294118, 'recall': 0.22448979591836735, 'f1-score': 0.3333333333333333, 'support': 49.0}, '2': {'precision': 0.0, 'recall': 0.0, 'f1-score': 0.0, 'support': 6.0}, '3': {'precision': 0.0, 'recall': 0.0, 'f1-score': 0.0, 'support': 74.0}, 'accuracy': 0.768796992481203, 'macro avg': {'precision': 0.3549685893774986, 'recall': 0.3030207120068871, 'f1-score': 0.30010893246187365, 'support': 532.0}, 'weighted avg': {'precision': 0.6450198168178871, 'recall': 0.768796992481203, 'f1-score': 0.6875481186626697, 'support': 532.0}} for parameters {'num_class': 4, 'alpha': 0.01, 'device': 'cuda', 'eta': 0.01, 'eval_metric': 'logloss', 'gamma': 0.05, 'grow_policy': 'depthwise', 'lambda': 0.1, 'max_depth': 3, 'num_parallel_tree': 3, 'objective': 'multi:softmax', 'sampling_method': 'uniform', 'subsample': 0.8, 'tree_method': 'approx'}\n"
     ]
    },
    {
     "name": "stderr",
     "output_type": "stream",
     "text": [
      "c:\\Users\\Moustapha\\AppData\\Local\\Programs\\Python\\Python312\\Lib\\site-packages\\sklearn\\metrics\\_classification.py:1497: UndefinedMetricWarning: Precision is ill-defined and being set to 0.0 in labels with no predicted samples. Use `zero_division` parameter to control this behavior.\n",
      "  _warn_prf(average, modifier, f\"{metric.capitalize()} is\", len(result))\n",
      "c:\\Users\\Moustapha\\AppData\\Local\\Programs\\Python\\Python312\\Lib\\site-packages\\sklearn\\metrics\\_classification.py:1497: UndefinedMetricWarning: Precision is ill-defined and being set to 0.0 in labels with no predicted samples. Use `zero_division` parameter to control this behavior.\n",
      "  _warn_prf(average, modifier, f\"{metric.capitalize()} is\", len(result))\n",
      "c:\\Users\\Moustapha\\AppData\\Local\\Programs\\Python\\Python312\\Lib\\site-packages\\sklearn\\metrics\\_classification.py:1497: UndefinedMetricWarning: Precision is ill-defined and being set to 0.0 in labels with no predicted samples. Use `zero_division` parameter to control this behavior.\n",
      "  _warn_prf(average, modifier, f\"{metric.capitalize()} is\", len(result))\n"
     ]
    },
    {
     "name": "stdout",
     "output_type": "stream",
     "text": [
      "{'0': {'precision': 0.7790697674418605, 'recall': 0.9901477832512315, 'f1-score': 0.8720173535791758, 'support': 406.0}, '1': {'precision': 0.6153846153846154, 'recall': 0.16326530612244897, 'f1-score': 0.25806451612903225, 'support': 49.0}, '2': {'precision': 0.0, 'recall': 0.0, 'f1-score': 0.0, 'support': 11.0}, '3': {'precision': 0.75, 'recall': 0.04477611940298507, 'f1-score': 0.08450704225352113, 'support': 67.0}, 'accuracy': 0.774859287054409, 'macro avg': {'precision': 0.536113595706619, 'recall': 0.29954730219416636, 'f1-score': 0.3036472279904323, 'support': 533.0}, 'weighted avg': {'precision': 0.7442892527865694, 'recall': 0.774859287054409, 'f1-score': 0.6985857010777745, 'support': 533.0}} for parameters {'num_class': 4, 'alpha': 0.01, 'device': 'cuda', 'eta': 0.01, 'eval_metric': 'logloss', 'gamma': 0.05, 'grow_policy': 'depthwise', 'lambda': 0.1, 'max_depth': 3, 'num_parallel_tree': 3, 'objective': 'multi:softmax', 'sampling_method': 'gradient_based', 'subsample': 0.3, 'tree_method': 'hist'}\n"
     ]
    },
    {
     "name": "stderr",
     "output_type": "stream",
     "text": [
      "c:\\Users\\Moustapha\\AppData\\Local\\Programs\\Python\\Python312\\Lib\\site-packages\\sklearn\\metrics\\_classification.py:1497: UndefinedMetricWarning: Precision is ill-defined and being set to 0.0 in labels with no predicted samples. Use `zero_division` parameter to control this behavior.\n",
      "  _warn_prf(average, modifier, f\"{metric.capitalize()} is\", len(result))\n",
      "c:\\Users\\Moustapha\\AppData\\Local\\Programs\\Python\\Python312\\Lib\\site-packages\\sklearn\\metrics\\_classification.py:1497: UndefinedMetricWarning: Precision is ill-defined and being set to 0.0 in labels with no predicted samples. Use `zero_division` parameter to control this behavior.\n",
      "  _warn_prf(average, modifier, f\"{metric.capitalize()} is\", len(result))\n",
      "c:\\Users\\Moustapha\\AppData\\Local\\Programs\\Python\\Python312\\Lib\\site-packages\\sklearn\\metrics\\_classification.py:1497: UndefinedMetricWarning: Precision is ill-defined and being set to 0.0 in labels with no predicted samples. Use `zero_division` parameter to control this behavior.\n",
      "  _warn_prf(average, modifier, f\"{metric.capitalize()} is\", len(result))\n"
     ]
    },
    {
     "name": "stdout",
     "output_type": "stream",
     "text": [
      "{'0': {'precision': 0.7689243027888446, 'recall': 0.9796954314720813, 'f1-score': 0.8616071428571429, 'support': 394.0}, '1': {'precision': 0.4, 'recall': 0.23529411764705882, 'f1-score': 0.2962962962962963, 'support': 51.0}, '2': {'precision': 0.0, 'recall': 0.0, 'f1-score': 0.0, 'support': 4.0}, '3': {'precision': 0.0, 'recall': 0.0, 'f1-score': 0.0, 'support': 83.0}, 'accuracy': 0.7481203007518797, 'macro avg': {'precision': 0.2922310756972112, 'recall': 0.303747387279785, 'f1-score': 0.28947585978835977, 'support': 532.0}, 'weighted avg': {'precision': 0.6078123595842195, 'recall': 0.7481203007518797, 'f1-score': 0.6665118898436567, 'support': 532.0}} for parameters {'num_class': 4, 'alpha': 0.01, 'device': 'cuda', 'eta': 0.01, 'eval_metric': 'logloss', 'gamma': 0.05, 'grow_policy': 'depthwise', 'lambda': 0.1, 'max_depth': 3, 'num_parallel_tree': 3, 'objective': 'multi:softmax', 'sampling_method': 'gradient_based', 'subsample': 0.3, 'tree_method': 'hist'}\n"
     ]
    },
    {
     "name": "stderr",
     "output_type": "stream",
     "text": [
      "c:\\Users\\Moustapha\\AppData\\Local\\Programs\\Python\\Python312\\Lib\\site-packages\\sklearn\\metrics\\_classification.py:1497: UndefinedMetricWarning: Precision is ill-defined and being set to 0.0 in labels with no predicted samples. Use `zero_division` parameter to control this behavior.\n",
      "  _warn_prf(average, modifier, f\"{metric.capitalize()} is\", len(result))\n",
      "c:\\Users\\Moustapha\\AppData\\Local\\Programs\\Python\\Python312\\Lib\\site-packages\\sklearn\\metrics\\_classification.py:1497: UndefinedMetricWarning: Precision is ill-defined and being set to 0.0 in labels with no predicted samples. Use `zero_division` parameter to control this behavior.\n",
      "  _warn_prf(average, modifier, f\"{metric.capitalize()} is\", len(result))\n",
      "c:\\Users\\Moustapha\\AppData\\Local\\Programs\\Python\\Python312\\Lib\\site-packages\\sklearn\\metrics\\_classification.py:1497: UndefinedMetricWarning: Precision is ill-defined and being set to 0.0 in labels with no predicted samples. Use `zero_division` parameter to control this behavior.\n",
      "  _warn_prf(average, modifier, f\"{metric.capitalize()} is\", len(result))\n"
     ]
    },
    {
     "name": "stdout",
     "output_type": "stream",
     "text": [
      "{'0': {'precision': 0.7485714285714286, 'recall': 0.9899244332493703, 'f1-score': 0.8524945770065075, 'support': 397.0}, '1': {'precision': 0.42857142857142855, 'recall': 0.058823529411764705, 'f1-score': 0.10344827586206896, 'support': 51.0}, '2': {'precision': 0.0, 'recall': 0.0, 'f1-score': 0.0, 'support': 7.0}, '3': {'precision': 1.0, 'recall': 0.01282051282051282, 'f1-score': 0.02531645569620253, 'support': 78.0}, 'accuracy': 0.7448405253283302, 'macro avg': {'precision': 0.5442857142857143, 'recall': 0.2653921188704119, 'f1-score': 0.24531482714119476, 'support': 533.0}, 'weighted avg': {'precision': 0.7449155722326454, 'recall': 0.7448405253283302, 'f1-score': 0.6485757836488796, 'support': 533.0}} for parameters {'num_class': 4, 'alpha': 0.01, 'device': 'cuda', 'eta': 0.01, 'eval_metric': 'logloss', 'gamma': 0.05, 'grow_policy': 'depthwise', 'lambda': 0.1, 'max_depth': 3, 'num_parallel_tree': 3, 'objective': 'multi:softmax', 'sampling_method': 'gradient_based', 'subsample': 0.3, 'tree_method': 'approx'}\n"
     ]
    },
    {
     "name": "stderr",
     "output_type": "stream",
     "text": [
      "c:\\Users\\Moustapha\\AppData\\Local\\Programs\\Python\\Python312\\Lib\\site-packages\\sklearn\\metrics\\_classification.py:1497: UndefinedMetricWarning: Precision is ill-defined and being set to 0.0 in labels with no predicted samples. Use `zero_division` parameter to control this behavior.\n",
      "  _warn_prf(average, modifier, f\"{metric.capitalize()} is\", len(result))\n",
      "c:\\Users\\Moustapha\\AppData\\Local\\Programs\\Python\\Python312\\Lib\\site-packages\\sklearn\\metrics\\_classification.py:1497: UndefinedMetricWarning: Precision is ill-defined and being set to 0.0 in labels with no predicted samples. Use `zero_division` parameter to control this behavior.\n",
      "  _warn_prf(average, modifier, f\"{metric.capitalize()} is\", len(result))\n",
      "c:\\Users\\Moustapha\\AppData\\Local\\Programs\\Python\\Python312\\Lib\\site-packages\\sklearn\\metrics\\_classification.py:1497: UndefinedMetricWarning: Precision is ill-defined and being set to 0.0 in labels with no predicted samples. Use `zero_division` parameter to control this behavior.\n",
      "  _warn_prf(average, modifier, f\"{metric.capitalize()} is\", len(result))\n"
     ]
    },
    {
     "name": "stdout",
     "output_type": "stream",
     "text": [
      "{'0': {'precision': 0.7747035573122529, 'recall': 0.9727047146401985, 'f1-score': 0.8624862486248625, 'support': 403.0}, '1': {'precision': 0.32, 'recall': 0.16326530612244897, 'f1-score': 0.21621621621621623, 'support': 49.0}, '2': {'precision': 0.0, 'recall': 0.0, 'f1-score': 0.0, 'support': 8.0}, '3': {'precision': 0.0, 'recall': 0.0, 'f1-score': 0.0, 'support': 72.0}, 'accuracy': 0.7518796992481203, 'macro avg': {'precision': 0.27367588932806325, 'recall': 0.2839925051906619, 'f1-score': 0.2696756162102697, 'support': 532.0}, 'weighted avg': {'precision': 0.6163261909714999, 'recall': 0.7518796992481203, 'f1-score': 0.6732641969744627, 'support': 532.0}} for parameters {'num_class': 4, 'alpha': 0.01, 'device': 'cuda', 'eta': 0.01, 'eval_metric': 'logloss', 'gamma': 0.05, 'grow_policy': 'depthwise', 'lambda': 0.1, 'max_depth': 3, 'num_parallel_tree': 3, 'objective': 'multi:softmax', 'sampling_method': 'gradient_based', 'subsample': 0.3, 'tree_method': 'approx'}\n"
     ]
    },
    {
     "name": "stderr",
     "output_type": "stream",
     "text": [
      "c:\\Users\\Moustapha\\AppData\\Local\\Programs\\Python\\Python312\\Lib\\site-packages\\sklearn\\metrics\\_classification.py:1497: UndefinedMetricWarning: Precision is ill-defined and being set to 0.0 in labels with no predicted samples. Use `zero_division` parameter to control this behavior.\n",
      "  _warn_prf(average, modifier, f\"{metric.capitalize()} is\", len(result))\n",
      "c:\\Users\\Moustapha\\AppData\\Local\\Programs\\Python\\Python312\\Lib\\site-packages\\sklearn\\metrics\\_classification.py:1497: UndefinedMetricWarning: Precision is ill-defined and being set to 0.0 in labels with no predicted samples. Use `zero_division` parameter to control this behavior.\n",
      "  _warn_prf(average, modifier, f\"{metric.capitalize()} is\", len(result))\n",
      "c:\\Users\\Moustapha\\AppData\\Local\\Programs\\Python\\Python312\\Lib\\site-packages\\sklearn\\metrics\\_classification.py:1497: UndefinedMetricWarning: Precision is ill-defined and being set to 0.0 in labels with no predicted samples. Use `zero_division` parameter to control this behavior.\n",
      "  _warn_prf(average, modifier, f\"{metric.capitalize()} is\", len(result))\n"
     ]
    },
    {
     "name": "stdout",
     "output_type": "stream",
     "text": [
      "{'0': {'precision': 0.7288135593220338, 'recall': 0.9974226804123711, 'f1-score': 0.8422198041349293, 'support': 388.0}, '1': {'precision': 0.5, 'recall': 0.018518518518518517, 'f1-score': 0.03571428571428571, 'support': 54.0}, '2': {'precision': 0.0, 'recall': 0.0, 'f1-score': 0.0, 'support': 5.0}, '3': {'precision': 0.0, 'recall': 0.0, 'f1-score': 0.0, 'support': 86.0}, 'accuracy': 0.7279549718574109, 'macro avg': {'precision': 0.30720338983050843, 'recall': 0.25398529973272244, 'f1-score': 0.21948352246230374, 'support': 533.0}, 'weighted avg': {'precision': 0.5812001144783286, 'recall': 0.7279549718574109, 'f1-score': 0.6167164267034221, 'support': 533.0}} for parameters {'num_class': 4, 'alpha': 0.01, 'device': 'cuda', 'eta': 0.01, 'eval_metric': 'logloss', 'gamma': 0.05, 'grow_policy': 'depthwise', 'lambda': 0.1, 'max_depth': 3, 'num_parallel_tree': 3, 'objective': 'multi:softmax', 'sampling_method': 'gradient_based', 'subsample': 0.5, 'tree_method': 'hist'}\n"
     ]
    },
    {
     "name": "stderr",
     "output_type": "stream",
     "text": [
      "c:\\Users\\Moustapha\\AppData\\Local\\Programs\\Python\\Python312\\Lib\\site-packages\\sklearn\\metrics\\_classification.py:1497: UndefinedMetricWarning: Precision is ill-defined and being set to 0.0 in labels with no predicted samples. Use `zero_division` parameter to control this behavior.\n",
      "  _warn_prf(average, modifier, f\"{metric.capitalize()} is\", len(result))\n",
      "c:\\Users\\Moustapha\\AppData\\Local\\Programs\\Python\\Python312\\Lib\\site-packages\\sklearn\\metrics\\_classification.py:1497: UndefinedMetricWarning: Precision is ill-defined and being set to 0.0 in labels with no predicted samples. Use `zero_division` parameter to control this behavior.\n",
      "  _warn_prf(average, modifier, f\"{metric.capitalize()} is\", len(result))\n",
      "c:\\Users\\Moustapha\\AppData\\Local\\Programs\\Python\\Python312\\Lib\\site-packages\\sklearn\\metrics\\_classification.py:1497: UndefinedMetricWarning: Precision is ill-defined and being set to 0.0 in labels with no predicted samples. Use `zero_division` parameter to control this behavior.\n",
      "  _warn_prf(average, modifier, f\"{metric.capitalize()} is\", len(result))\n"
     ]
    },
    {
     "name": "stdout",
     "output_type": "stream",
     "text": [
      "{'0': {'precision': 0.796844181459566, 'recall': 0.9805825242718447, 'f1-score': 0.8792165397170838, 'support': 412.0}, '1': {'precision': 0.48, 'recall': 0.2608695652173913, 'f1-score': 0.3380281690140845, 'support': 46.0}, '2': {'precision': 0.0, 'recall': 0.0, 'f1-score': 0.0, 'support': 10.0}, '3': {'precision': 0.0, 'recall': 0.0, 'f1-score': 0.0, 'support': 64.0}, 'accuracy': 0.7819548872180451, 'macro avg': {'precision': 0.31921104536489153, 'recall': 0.310363022372309, 'f1-score': 0.3043111771827921, 'support': 532.0}, 'weighted avg': {'precision': 0.6586086518070323, 'recall': 0.7819548872180451, 'f1-score': 0.7101250190565533, 'support': 532.0}} for parameters {'num_class': 4, 'alpha': 0.01, 'device': 'cuda', 'eta': 0.01, 'eval_metric': 'logloss', 'gamma': 0.05, 'grow_policy': 'depthwise', 'lambda': 0.1, 'max_depth': 3, 'num_parallel_tree': 3, 'objective': 'multi:softmax', 'sampling_method': 'gradient_based', 'subsample': 0.5, 'tree_method': 'hist'}\n"
     ]
    },
    {
     "name": "stderr",
     "output_type": "stream",
     "text": [
      "c:\\Users\\Moustapha\\AppData\\Local\\Programs\\Python\\Python312\\Lib\\site-packages\\sklearn\\metrics\\_classification.py:1497: UndefinedMetricWarning: Precision is ill-defined and being set to 0.0 in labels with no predicted samples. Use `zero_division` parameter to control this behavior.\n",
      "  _warn_prf(average, modifier, f\"{metric.capitalize()} is\", len(result))\n",
      "c:\\Users\\Moustapha\\AppData\\Local\\Programs\\Python\\Python312\\Lib\\site-packages\\sklearn\\metrics\\_classification.py:1497: UndefinedMetricWarning: Precision is ill-defined and being set to 0.0 in labels with no predicted samples. Use `zero_division` parameter to control this behavior.\n",
      "  _warn_prf(average, modifier, f\"{metric.capitalize()} is\", len(result))\n",
      "c:\\Users\\Moustapha\\AppData\\Local\\Programs\\Python\\Python312\\Lib\\site-packages\\sklearn\\metrics\\_classification.py:1497: UndefinedMetricWarning: Precision is ill-defined and being set to 0.0 in labels with no predicted samples. Use `zero_division` parameter to control this behavior.\n",
      "  _warn_prf(average, modifier, f\"{metric.capitalize()} is\", len(result))\n"
     ]
    },
    {
     "name": "stdout",
     "output_type": "stream",
     "text": [
      "{'0': {'precision': 0.7872340425531915, 'recall': 0.9902676399026764, 'f1-score': 0.8771551724137931, 'support': 411.0}, '1': {'precision': 0.6428571428571429, 'recall': 0.20454545454545456, 'f1-score': 0.3103448275862069, 'support': 44.0}, '2': {'precision': 0.0, 'recall': 0.0, 'f1-score': 0.0, 'support': 8.0}, '3': {'precision': 0.0, 'recall': 0.0, 'f1-score': 0.0, 'support': 70.0}, 'accuracy': 0.7804878048780488, 'macro avg': {'precision': 0.3575227963525836, 'recall': 0.29870327361203275, 'f1-score': 0.296875, 'support': 533.0}, 'weighted avg': {'precision': 0.6601105174016435, 'recall': 0.7804878048780488, 'f1-score': 0.7019999029565893, 'support': 533.0}} for parameters {'num_class': 4, 'alpha': 0.01, 'device': 'cuda', 'eta': 0.01, 'eval_metric': 'logloss', 'gamma': 0.05, 'grow_policy': 'depthwise', 'lambda': 0.1, 'max_depth': 3, 'num_parallel_tree': 3, 'objective': 'multi:softmax', 'sampling_method': 'gradient_based', 'subsample': 0.5, 'tree_method': 'approx'}\n"
     ]
    },
    {
     "name": "stderr",
     "output_type": "stream",
     "text": [
      "c:\\Users\\Moustapha\\AppData\\Local\\Programs\\Python\\Python312\\Lib\\site-packages\\sklearn\\metrics\\_classification.py:1497: UndefinedMetricWarning: Precision is ill-defined and being set to 0.0 in labels with no predicted samples. Use `zero_division` parameter to control this behavior.\n",
      "  _warn_prf(average, modifier, f\"{metric.capitalize()} is\", len(result))\n",
      "c:\\Users\\Moustapha\\AppData\\Local\\Programs\\Python\\Python312\\Lib\\site-packages\\sklearn\\metrics\\_classification.py:1497: UndefinedMetricWarning: Precision is ill-defined and being set to 0.0 in labels with no predicted samples. Use `zero_division` parameter to control this behavior.\n",
      "  _warn_prf(average, modifier, f\"{metric.capitalize()} is\", len(result))\n",
      "c:\\Users\\Moustapha\\AppData\\Local\\Programs\\Python\\Python312\\Lib\\site-packages\\sklearn\\metrics\\_classification.py:1497: UndefinedMetricWarning: Precision is ill-defined and being set to 0.0 in labels with no predicted samples. Use `zero_division` parameter to control this behavior.\n",
      "  _warn_prf(average, modifier, f\"{metric.capitalize()} is\", len(result))\n"
     ]
    },
    {
     "name": "stdout",
     "output_type": "stream",
     "text": [
      "{'0': {'precision': 0.7451737451737451, 'recall': 0.9922879177377892, 'f1-score': 0.8511576626240352, 'support': 389.0}, '1': {'precision': 0.6428571428571429, 'recall': 0.16071428571428573, 'f1-score': 0.2571428571428571, 'support': 56.0}, '2': {'precision': 0.0, 'recall': 0.0, 'f1-score': 0.0, 'support': 7.0}, '3': {'precision': 0.0, 'recall': 0.0, 'f1-score': 0.0, 'support': 80.0}, 'accuracy': 0.7424812030075187, 'macro avg': {'precision': 0.347007722007722, 'recall': 0.28825055086301876, 'f1-score': 0.2770751299417231, 'support': 532.0}, 'weighted avg': {'precision': 0.6125424565274189, 'recall': 0.7424812030075187, 'f1-score': 0.6494367119562965, 'support': 532.0}} for parameters {'num_class': 4, 'alpha': 0.01, 'device': 'cuda', 'eta': 0.01, 'eval_metric': 'logloss', 'gamma': 0.05, 'grow_policy': 'depthwise', 'lambda': 0.1, 'max_depth': 3, 'num_parallel_tree': 3, 'objective': 'multi:softmax', 'sampling_method': 'gradient_based', 'subsample': 0.5, 'tree_method': 'approx'}\n"
     ]
    },
    {
     "name": "stderr",
     "output_type": "stream",
     "text": [
      "c:\\Users\\Moustapha\\AppData\\Local\\Programs\\Python\\Python312\\Lib\\site-packages\\sklearn\\metrics\\_classification.py:1497: UndefinedMetricWarning: Precision is ill-defined and being set to 0.0 in labels with no predicted samples. Use `zero_division` parameter to control this behavior.\n",
      "  _warn_prf(average, modifier, f\"{metric.capitalize()} is\", len(result))\n",
      "c:\\Users\\Moustapha\\AppData\\Local\\Programs\\Python\\Python312\\Lib\\site-packages\\sklearn\\metrics\\_classification.py:1497: UndefinedMetricWarning: Precision is ill-defined and being set to 0.0 in labels with no predicted samples. Use `zero_division` parameter to control this behavior.\n",
      "  _warn_prf(average, modifier, f\"{metric.capitalize()} is\", len(result))\n",
      "c:\\Users\\Moustapha\\AppData\\Local\\Programs\\Python\\Python312\\Lib\\site-packages\\sklearn\\metrics\\_classification.py:1497: UndefinedMetricWarning: Precision is ill-defined and being set to 0.0 in labels with no predicted samples. Use `zero_division` parameter to control this behavior.\n",
      "  _warn_prf(average, modifier, f\"{metric.capitalize()} is\", len(result))\n"
     ]
    },
    {
     "name": "stdout",
     "output_type": "stream",
     "text": [
      "{'0': {'precision': 0.76, 'recall': 0.9950124688279302, 'f1-score': 0.8617710583153347, 'support': 401.0}, '1': {'precision': 0.75, 'recall': 0.125, 'f1-score': 0.21428571428571427, 'support': 48.0}, '2': {'precision': 0.0, 'recall': 0.0, 'f1-score': 0.0, 'support': 8.0}, '3': {'precision': 0.0, 'recall': 0.0, 'f1-score': 0.0, 'support': 76.0}, 'accuracy': 0.7598499061913696, 'macro avg': {'precision': 0.3775, 'recall': 0.28000311720698257, 'f1-score': 0.26901419315026226, 'support': 533.0}, 'weighted avg': {'precision': 0.6393245778611633, 'recall': 0.7598499061913696, 'f1-score': 0.667647108199181, 'support': 533.0}} for parameters {'num_class': 4, 'alpha': 0.01, 'device': 'cuda', 'eta': 0.01, 'eval_metric': 'logloss', 'gamma': 0.05, 'grow_policy': 'depthwise', 'lambda': 0.1, 'max_depth': 3, 'num_parallel_tree': 3, 'objective': 'multi:softmax', 'sampling_method': 'gradient_based', 'subsample': 0.8, 'tree_method': 'hist'}\n"
     ]
    },
    {
     "name": "stderr",
     "output_type": "stream",
     "text": [
      "c:\\Users\\Moustapha\\AppData\\Local\\Programs\\Python\\Python312\\Lib\\site-packages\\sklearn\\metrics\\_classification.py:1497: UndefinedMetricWarning: Precision is ill-defined and being set to 0.0 in labels with no predicted samples. Use `zero_division` parameter to control this behavior.\n",
      "  _warn_prf(average, modifier, f\"{metric.capitalize()} is\", len(result))\n",
      "c:\\Users\\Moustapha\\AppData\\Local\\Programs\\Python\\Python312\\Lib\\site-packages\\sklearn\\metrics\\_classification.py:1497: UndefinedMetricWarning: Precision is ill-defined and being set to 0.0 in labels with no predicted samples. Use `zero_division` parameter to control this behavior.\n",
      "  _warn_prf(average, modifier, f\"{metric.capitalize()} is\", len(result))\n",
      "c:\\Users\\Moustapha\\AppData\\Local\\Programs\\Python\\Python312\\Lib\\site-packages\\sklearn\\metrics\\_classification.py:1497: UndefinedMetricWarning: Precision is ill-defined and being set to 0.0 in labels with no predicted samples. Use `zero_division` parameter to control this behavior.\n",
      "  _warn_prf(average, modifier, f\"{metric.capitalize()} is\", len(result))\n"
     ]
    },
    {
     "name": "stdout",
     "output_type": "stream",
     "text": [
      "{'0': {'precision': 0.7648221343873518, 'recall': 0.9699248120300752, 'f1-score': 0.8552486187845304, 'support': 399.0}, '1': {'precision': 0.3333333333333333, 'recall': 0.15384615384615385, 'f1-score': 0.21052631578947367, 'support': 52.0}, '2': {'precision': 0.0, 'recall': 0.0, 'f1-score': 0.0, 'support': 7.0}, '3': {'precision': 0.0, 'recall': 0.0, 'f1-score': 0.0, 'support': 74.0}, 'accuracy': 0.7424812030075187, 'macro avg': {'precision': 0.27453886693017127, 'recall': 0.2809427414690573, 'f1-score': 0.26644373364350105, 'support': 532.0}, 'weighted avg': {'precision': 0.6061980544245991, 'recall': 0.7424812030075187, 'f1-score': 0.6620142242783464, 'support': 532.0}} for parameters {'num_class': 4, 'alpha': 0.01, 'device': 'cuda', 'eta': 0.01, 'eval_metric': 'logloss', 'gamma': 0.05, 'grow_policy': 'depthwise', 'lambda': 0.1, 'max_depth': 3, 'num_parallel_tree': 3, 'objective': 'multi:softmax', 'sampling_method': 'gradient_based', 'subsample': 0.8, 'tree_method': 'hist'}\n"
     ]
    },
    {
     "name": "stderr",
     "output_type": "stream",
     "text": [
      "c:\\Users\\Moustapha\\AppData\\Local\\Programs\\Python\\Python312\\Lib\\site-packages\\sklearn\\metrics\\_classification.py:1497: UndefinedMetricWarning: Precision is ill-defined and being set to 0.0 in labels with no predicted samples. Use `zero_division` parameter to control this behavior.\n",
      "  _warn_prf(average, modifier, f\"{metric.capitalize()} is\", len(result))\n",
      "c:\\Users\\Moustapha\\AppData\\Local\\Programs\\Python\\Python312\\Lib\\site-packages\\sklearn\\metrics\\_classification.py:1497: UndefinedMetricWarning: Precision is ill-defined and being set to 0.0 in labels with no predicted samples. Use `zero_division` parameter to control this behavior.\n",
      "  _warn_prf(average, modifier, f\"{metric.capitalize()} is\", len(result))\n",
      "c:\\Users\\Moustapha\\AppData\\Local\\Programs\\Python\\Python312\\Lib\\site-packages\\sklearn\\metrics\\_classification.py:1497: UndefinedMetricWarning: Precision is ill-defined and being set to 0.0 in labels with no predicted samples. Use `zero_division` parameter to control this behavior.\n",
      "  _warn_prf(average, modifier, f\"{metric.capitalize()} is\", len(result))\n"
     ]
    },
    {
     "name": "stdout",
     "output_type": "stream",
     "text": [
      "{'0': {'precision': 0.7788844621513944, 'recall': 0.9678217821782178, 'f1-score': 0.8631346578366446, 'support': 404.0}, '1': {'precision': 0.4, 'recall': 0.26666666666666666, 'f1-score': 0.32, 'support': 45.0}, '2': {'precision': 0.0, 'recall': 0.0, 'f1-score': 0.0, 'support': 12.0}, '3': {'precision': 0.0, 'recall': 0.0, 'f1-score': 0.0, 'support': 72.0}, 'accuracy': 0.7560975609756098, 'macro avg': {'precision': 0.29472111553784863, 'recall': 0.3086221122112211, 'f1-score': 0.29578366445916116, 'support': 533.0}, 'weighted avg': {'precision': 0.6241450707488994, 'recall': 0.7560975609756098, 'f1-score': 0.6812502847392202, 'support': 533.0}} for parameters {'num_class': 4, 'alpha': 0.01, 'device': 'cuda', 'eta': 0.01, 'eval_metric': 'logloss', 'gamma': 0.05, 'grow_policy': 'depthwise', 'lambda': 0.1, 'max_depth': 3, 'num_parallel_tree': 3, 'objective': 'multi:softmax', 'sampling_method': 'gradient_based', 'subsample': 0.8, 'tree_method': 'approx'}\n"
     ]
    },
    {
     "name": "stderr",
     "output_type": "stream",
     "text": [
      "c:\\Users\\Moustapha\\AppData\\Local\\Programs\\Python\\Python312\\Lib\\site-packages\\sklearn\\metrics\\_classification.py:1497: UndefinedMetricWarning: Precision is ill-defined and being set to 0.0 in labels with no predicted samples. Use `zero_division` parameter to control this behavior.\n",
      "  _warn_prf(average, modifier, f\"{metric.capitalize()} is\", len(result))\n",
      "c:\\Users\\Moustapha\\AppData\\Local\\Programs\\Python\\Python312\\Lib\\site-packages\\sklearn\\metrics\\_classification.py:1497: UndefinedMetricWarning: Precision is ill-defined and being set to 0.0 in labels with no predicted samples. Use `zero_division` parameter to control this behavior.\n",
      "  _warn_prf(average, modifier, f\"{metric.capitalize()} is\", len(result))\n",
      "c:\\Users\\Moustapha\\AppData\\Local\\Programs\\Python\\Python312\\Lib\\site-packages\\sklearn\\metrics\\_classification.py:1497: UndefinedMetricWarning: Precision is ill-defined and being set to 0.0 in labels with no predicted samples. Use `zero_division` parameter to control this behavior.\n",
      "  _warn_prf(average, modifier, f\"{metric.capitalize()} is\", len(result))\n"
     ]
    },
    {
     "name": "stdout",
     "output_type": "stream",
     "text": [
      "{'0': {'precision': 0.7567049808429118, 'recall': 0.9974747474747475, 'f1-score': 0.8605664488017429, 'support': 396.0}, '1': {'precision': 0.7777777777777778, 'recall': 0.12727272727272726, 'f1-score': 0.21875, 'support': 55.0}, '2': {'precision': 0.0, 'recall': 0.0, 'f1-score': 0.0, 'support': 3.0}, '3': {'precision': 0.0, 'recall': 0.0, 'f1-score': 0.0, 'support': 78.0}, 'accuracy': 0.7556390977443609, 'macro avg': {'precision': 0.3836206896551724, 'recall': 0.2811868686868687, 'f1-score': 0.2698291122004357, 'support': 532.0}, 'weighted avg': {'precision': 0.6436709590067121, 'recall': 0.7556390977443609, 'f1-score': 0.663187149859944, 'support': 532.0}} for parameters {'num_class': 4, 'alpha': 0.01, 'device': 'cuda', 'eta': 0.01, 'eval_metric': 'logloss', 'gamma': 0.05, 'grow_policy': 'depthwise', 'lambda': 0.1, 'max_depth': 3, 'num_parallel_tree': 3, 'objective': 'multi:softmax', 'sampling_method': 'gradient_based', 'subsample': 0.8, 'tree_method': 'approx'}\n"
     ]
    },
    {
     "name": "stderr",
     "output_type": "stream",
     "text": [
      "c:\\Users\\Moustapha\\AppData\\Local\\Programs\\Python\\Python312\\Lib\\site-packages\\sklearn\\metrics\\_classification.py:1497: UndefinedMetricWarning: Precision is ill-defined and being set to 0.0 in labels with no predicted samples. Use `zero_division` parameter to control this behavior.\n",
      "  _warn_prf(average, modifier, f\"{metric.capitalize()} is\", len(result))\n",
      "c:\\Users\\Moustapha\\AppData\\Local\\Programs\\Python\\Python312\\Lib\\site-packages\\sklearn\\metrics\\_classification.py:1497: UndefinedMetricWarning: Precision is ill-defined and being set to 0.0 in labels with no predicted samples. Use `zero_division` parameter to control this behavior.\n",
      "  _warn_prf(average, modifier, f\"{metric.capitalize()} is\", len(result))\n",
      "c:\\Users\\Moustapha\\AppData\\Local\\Programs\\Python\\Python312\\Lib\\site-packages\\sklearn\\metrics\\_classification.py:1497: UndefinedMetricWarning: Precision is ill-defined and being set to 0.0 in labels with no predicted samples. Use `zero_division` parameter to control this behavior.\n",
      "  _warn_prf(average, modifier, f\"{metric.capitalize()} is\", len(result))\n"
     ]
    },
    {
     "name": "stdout",
     "output_type": "stream",
     "text": [
      "{'0': {'precision': 0.745697896749522, 'recall': 0.9898477157360406, 'f1-score': 0.8505997818974919, 'support': 394.0}, '1': {'precision': 0.5, 'recall': 0.09259259259259259, 'f1-score': 0.15625, 'support': 54.0}, '2': {'precision': 0.0, 'recall': 0.0, 'f1-score': 0.0, 'support': 7.0}, '3': {'precision': 0.0, 'recall': 0.0, 'f1-score': 0.0, 'support': 78.0}, 'accuracy': 0.7410881801125704, 'macro avg': {'precision': 0.3114244741873805, 'recall': 0.2706100770821583, 'f1-score': 0.251712445474373, 'support': 533.0}, 'weighted avg': {'precision': 0.6018854996609975, 'recall': 0.7410881801125704, 'f1-score': 0.6446037787384837, 'support': 533.0}} for parameters {'num_class': 4, 'alpha': 0.01, 'device': 'cuda', 'eta': 0.01, 'eval_metric': 'logloss', 'gamma': 0.05, 'grow_policy': 'depthwise', 'lambda': 0.1, 'max_depth': 3, 'num_parallel_tree': 10, 'objective': 'multi:softmax', 'sampling_method': 'uniform', 'subsample': 0.3, 'tree_method': 'hist'}\n"
     ]
    },
    {
     "name": "stderr",
     "output_type": "stream",
     "text": [
      "c:\\Users\\Moustapha\\AppData\\Local\\Programs\\Python\\Python312\\Lib\\site-packages\\sklearn\\metrics\\_classification.py:1497: UndefinedMetricWarning: Precision is ill-defined and being set to 0.0 in labels with no predicted samples. Use `zero_division` parameter to control this behavior.\n",
      "  _warn_prf(average, modifier, f\"{metric.capitalize()} is\", len(result))\n",
      "c:\\Users\\Moustapha\\AppData\\Local\\Programs\\Python\\Python312\\Lib\\site-packages\\sklearn\\metrics\\_classification.py:1497: UndefinedMetricWarning: Precision is ill-defined and being set to 0.0 in labels with no predicted samples. Use `zero_division` parameter to control this behavior.\n",
      "  _warn_prf(average, modifier, f\"{metric.capitalize()} is\", len(result))\n",
      "c:\\Users\\Moustapha\\AppData\\Local\\Programs\\Python\\Python312\\Lib\\site-packages\\sklearn\\metrics\\_classification.py:1497: UndefinedMetricWarning: Precision is ill-defined and being set to 0.0 in labels with no predicted samples. Use `zero_division` parameter to control this behavior.\n",
      "  _warn_prf(average, modifier, f\"{metric.capitalize()} is\", len(result))\n"
     ]
    },
    {
     "name": "stdout",
     "output_type": "stream",
     "text": [
      "{'0': {'precision': 0.7641509433962265, 'recall': 0.9975369458128078, 'f1-score': 0.8653846153846154, 'support': 406.0}, '1': {'precision': 0.5, 'recall': 0.021739130434782608, 'f1-score': 0.041666666666666664, 'support': 46.0}, '2': {'precision': 0.0, 'recall': 0.0, 'f1-score': 0.0, 'support': 8.0}, '3': {'precision': 0.0, 'recall': 0.0, 'f1-score': 0.0, 'support': 72.0}, 'accuracy': 0.7631578947368421, 'macro avg': {'precision': 0.3160377358490566, 'recall': 0.25481901906189763, 'f1-score': 0.2267628205128205, 'support': 532.0}, 'weighted avg': {'precision': 0.6264009079302029, 'recall': 0.7631578947368421, 'f1-score': 0.6640278581068055, 'support': 532.0}} for parameters {'num_class': 4, 'alpha': 0.01, 'device': 'cuda', 'eta': 0.01, 'eval_metric': 'logloss', 'gamma': 0.05, 'grow_policy': 'depthwise', 'lambda': 0.1, 'max_depth': 3, 'num_parallel_tree': 10, 'objective': 'multi:softmax', 'sampling_method': 'uniform', 'subsample': 0.3, 'tree_method': 'hist'}\n"
     ]
    },
    {
     "name": "stderr",
     "output_type": "stream",
     "text": [
      "c:\\Users\\Moustapha\\AppData\\Local\\Programs\\Python\\Python312\\Lib\\site-packages\\sklearn\\metrics\\_classification.py:1497: UndefinedMetricWarning: Precision is ill-defined and being set to 0.0 in labels with no predicted samples. Use `zero_division` parameter to control this behavior.\n",
      "  _warn_prf(average, modifier, f\"{metric.capitalize()} is\", len(result))\n",
      "c:\\Users\\Moustapha\\AppData\\Local\\Programs\\Python\\Python312\\Lib\\site-packages\\sklearn\\metrics\\_classification.py:1497: UndefinedMetricWarning: Precision is ill-defined and being set to 0.0 in labels with no predicted samples. Use `zero_division` parameter to control this behavior.\n",
      "  _warn_prf(average, modifier, f\"{metric.capitalize()} is\", len(result))\n",
      "c:\\Users\\Moustapha\\AppData\\Local\\Programs\\Python\\Python312\\Lib\\site-packages\\sklearn\\metrics\\_classification.py:1497: UndefinedMetricWarning: Precision is ill-defined and being set to 0.0 in labels with no predicted samples. Use `zero_division` parameter to control this behavior.\n",
      "  _warn_prf(average, modifier, f\"{metric.capitalize()} is\", len(result))\n"
     ]
    },
    {
     "name": "stdout",
     "output_type": "stream",
     "text": [
      "{'0': {'precision': 0.7608286252354048, 'recall': 1.0, 'f1-score': 0.8641711229946524, 'support': 404.0}, '1': {'precision': 1.0, 'recall': 0.0392156862745098, 'f1-score': 0.07547169811320754, 'support': 51.0}, '2': {'precision': 0.0, 'recall': 0.0, 'f1-score': 0.0, 'support': 3.0}, '3': {'precision': 0.0, 'recall': 0.0, 'f1-score': 0.0, 'support': 75.0}, 'accuracy': 0.7617260787992496, 'macro avg': {'precision': 0.4402071563088512, 'recall': 0.25980392156862747, 'f1-score': 0.23491070527696498, 'support': 533.0}, 'weighted avg': {'precision': 0.6723729166887497, 'recall': 0.7617260787992496, 'f1-score': 0.6622405071174731, 'support': 533.0}} for parameters {'num_class': 4, 'alpha': 0.01, 'device': 'cuda', 'eta': 0.01, 'eval_metric': 'logloss', 'gamma': 0.05, 'grow_policy': 'depthwise', 'lambda': 0.1, 'max_depth': 3, 'num_parallel_tree': 10, 'objective': 'multi:softmax', 'sampling_method': 'uniform', 'subsample': 0.3, 'tree_method': 'approx'}\n"
     ]
    },
    {
     "name": "stderr",
     "output_type": "stream",
     "text": [
      "c:\\Users\\Moustapha\\AppData\\Local\\Programs\\Python\\Python312\\Lib\\site-packages\\sklearn\\metrics\\_classification.py:1497: UndefinedMetricWarning: Precision is ill-defined and being set to 0.0 in labels with no predicted samples. Use `zero_division` parameter to control this behavior.\n",
      "  _warn_prf(average, modifier, f\"{metric.capitalize()} is\", len(result))\n",
      "c:\\Users\\Moustapha\\AppData\\Local\\Programs\\Python\\Python312\\Lib\\site-packages\\sklearn\\metrics\\_classification.py:1497: UndefinedMetricWarning: Precision is ill-defined and being set to 0.0 in labels with no predicted samples. Use `zero_division` parameter to control this behavior.\n",
      "  _warn_prf(average, modifier, f\"{metric.capitalize()} is\", len(result))\n",
      "c:\\Users\\Moustapha\\AppData\\Local\\Programs\\Python\\Python312\\Lib\\site-packages\\sklearn\\metrics\\_classification.py:1497: UndefinedMetricWarning: Precision is ill-defined and being set to 0.0 in labels with no predicted samples. Use `zero_division` parameter to control this behavior.\n",
      "  _warn_prf(average, modifier, f\"{metric.capitalize()} is\", len(result))\n"
     ]
    },
    {
     "name": "stdout",
     "output_type": "stream",
     "text": [
      "{'0': {'precision': 0.7485714285714286, 'recall': 0.9924242424242424, 'f1-score': 0.8534201954397395, 'support': 396.0}, '1': {'precision': 0.5714285714285714, 'recall': 0.08163265306122448, 'f1-score': 0.14285714285714285, 'support': 49.0}, '2': {'precision': 0.0, 'recall': 0.0, 'f1-score': 0.0, 'support': 12.0}, '3': {'precision': 0.0, 'recall': 0.0, 'f1-score': 0.0, 'support': 75.0}, 'accuracy': 0.7462406015037594, 'macro avg': {'precision': 0.32999999999999996, 'recall': 0.26851422387136675, 'f1-score': 0.2490693345742206, 'support': 532.0}, 'weighted avg': {'precision': 0.6098388829215896, 'recall': 0.7462406015037594, 'f1-score': 0.6484105214175504, 'support': 532.0}} for parameters {'num_class': 4, 'alpha': 0.01, 'device': 'cuda', 'eta': 0.01, 'eval_metric': 'logloss', 'gamma': 0.05, 'grow_policy': 'depthwise', 'lambda': 0.1, 'max_depth': 3, 'num_parallel_tree': 10, 'objective': 'multi:softmax', 'sampling_method': 'uniform', 'subsample': 0.3, 'tree_method': 'approx'}\n"
     ]
    },
    {
     "name": "stderr",
     "output_type": "stream",
     "text": [
      "c:\\Users\\Moustapha\\AppData\\Local\\Programs\\Python\\Python312\\Lib\\site-packages\\sklearn\\metrics\\_classification.py:1497: UndefinedMetricWarning: Precision is ill-defined and being set to 0.0 in labels with no predicted samples. Use `zero_division` parameter to control this behavior.\n",
      "  _warn_prf(average, modifier, f\"{metric.capitalize()} is\", len(result))\n",
      "c:\\Users\\Moustapha\\AppData\\Local\\Programs\\Python\\Python312\\Lib\\site-packages\\sklearn\\metrics\\_classification.py:1497: UndefinedMetricWarning: Precision is ill-defined and being set to 0.0 in labels with no predicted samples. Use `zero_division` parameter to control this behavior.\n",
      "  _warn_prf(average, modifier, f\"{metric.capitalize()} is\", len(result))\n",
      "c:\\Users\\Moustapha\\AppData\\Local\\Programs\\Python\\Python312\\Lib\\site-packages\\sklearn\\metrics\\_classification.py:1497: UndefinedMetricWarning: Precision is ill-defined and being set to 0.0 in labels with no predicted samples. Use `zero_division` parameter to control this behavior.\n",
      "  _warn_prf(average, modifier, f\"{metric.capitalize()} is\", len(result))\n"
     ]
    },
    {
     "name": "stdout",
     "output_type": "stream",
     "text": [
      "{'0': {'precision': 0.7655038759689923, 'recall': 0.9875, 'f1-score': 0.8624454148471615, 'support': 400.0}, '1': {'precision': 0.5882352941176471, 'recall': 0.20408163265306123, 'f1-score': 0.30303030303030304, 'support': 49.0}, '2': {'precision': 0.0, 'recall': 0.0, 'f1-score': 0.0, 'support': 9.0}, '3': {'precision': 0.0, 'recall': 0.0, 'f1-score': 0.0, 'support': 75.0}, 'accuracy': 0.7598499061913696, 'macro avg': {'precision': 0.33843479252165987, 'recall': 0.2978954081632653, 'f1-score': 0.29136892946936616, 'support': 533.0}, 'weighted avg': {'precision': 0.6285648776723483, 'recall': 0.7598499061913696, 'f1-score': 0.6750969057924006, 'support': 533.0}} for parameters {'num_class': 4, 'alpha': 0.01, 'device': 'cuda', 'eta': 0.01, 'eval_metric': 'logloss', 'gamma': 0.05, 'grow_policy': 'depthwise', 'lambda': 0.1, 'max_depth': 3, 'num_parallel_tree': 10, 'objective': 'multi:softmax', 'sampling_method': 'uniform', 'subsample': 0.5, 'tree_method': 'hist'}\n"
     ]
    },
    {
     "name": "stderr",
     "output_type": "stream",
     "text": [
      "c:\\Users\\Moustapha\\AppData\\Local\\Programs\\Python\\Python312\\Lib\\site-packages\\sklearn\\metrics\\_classification.py:1497: UndefinedMetricWarning: Precision is ill-defined and being set to 0.0 in labels with no predicted samples. Use `zero_division` parameter to control this behavior.\n",
      "  _warn_prf(average, modifier, f\"{metric.capitalize()} is\", len(result))\n",
      "c:\\Users\\Moustapha\\AppData\\Local\\Programs\\Python\\Python312\\Lib\\site-packages\\sklearn\\metrics\\_classification.py:1497: UndefinedMetricWarning: Precision is ill-defined and being set to 0.0 in labels with no predicted samples. Use `zero_division` parameter to control this behavior.\n",
      "  _warn_prf(average, modifier, f\"{metric.capitalize()} is\", len(result))\n",
      "c:\\Users\\Moustapha\\AppData\\Local\\Programs\\Python\\Python312\\Lib\\site-packages\\sklearn\\metrics\\_classification.py:1497: UndefinedMetricWarning: Precision is ill-defined and being set to 0.0 in labels with no predicted samples. Use `zero_division` parameter to control this behavior.\n",
      "  _warn_prf(average, modifier, f\"{metric.capitalize()} is\", len(result))\n"
     ]
    },
    {
     "name": "stdout",
     "output_type": "stream",
     "text": [
      "{'0': {'precision': 0.7590822179732314, 'recall': 0.9925, 'f1-score': 0.8602383531960996, 'support': 400.0}, '1': {'precision': 0.5555555555555556, 'recall': 0.09803921568627451, 'f1-score': 0.16666666666666666, 'support': 51.0}, '2': {'precision': 0.0, 'recall': 0.0, 'f1-score': 0.0, 'support': 6.0}, '3': {'precision': 0.0, 'recall': 0.0, 'f1-score': 0.0, 'support': 75.0}, 'accuracy': 0.7556390977443609, 'macro avg': {'precision': 0.32865944338219677, 'recall': 0.27263480392156864, 'f1-score': 0.25672625496569157, 'support': 532.0}, 'weighted avg': {'precision': 0.6239966551177177, 'recall': 0.7556390977443609, 'f1-score': 0.6627731978918042, 'support': 532.0}} for parameters {'num_class': 4, 'alpha': 0.01, 'device': 'cuda', 'eta': 0.01, 'eval_metric': 'logloss', 'gamma': 0.05, 'grow_policy': 'depthwise', 'lambda': 0.1, 'max_depth': 3, 'num_parallel_tree': 10, 'objective': 'multi:softmax', 'sampling_method': 'uniform', 'subsample': 0.5, 'tree_method': 'hist'}\n"
     ]
    },
    {
     "name": "stderr",
     "output_type": "stream",
     "text": [
      "c:\\Users\\Moustapha\\AppData\\Local\\Programs\\Python\\Python312\\Lib\\site-packages\\sklearn\\metrics\\_classification.py:1497: UndefinedMetricWarning: Precision is ill-defined and being set to 0.0 in labels with no predicted samples. Use `zero_division` parameter to control this behavior.\n",
      "  _warn_prf(average, modifier, f\"{metric.capitalize()} is\", len(result))\n",
      "c:\\Users\\Moustapha\\AppData\\Local\\Programs\\Python\\Python312\\Lib\\site-packages\\sklearn\\metrics\\_classification.py:1497: UndefinedMetricWarning: Precision is ill-defined and being set to 0.0 in labels with no predicted samples. Use `zero_division` parameter to control this behavior.\n",
      "  _warn_prf(average, modifier, f\"{metric.capitalize()} is\", len(result))\n",
      "c:\\Users\\Moustapha\\AppData\\Local\\Programs\\Python\\Python312\\Lib\\site-packages\\sklearn\\metrics\\_classification.py:1497: UndefinedMetricWarning: Precision is ill-defined and being set to 0.0 in labels with no predicted samples. Use `zero_division` parameter to control this behavior.\n",
      "  _warn_prf(average, modifier, f\"{metric.capitalize()} is\", len(result))\n"
     ]
    },
    {
     "name": "stdout",
     "output_type": "stream",
     "text": [
      "{'0': {'precision': 0.7805343511450382, 'recall': 0.9903147699757869, 'f1-score': 0.8729989327641409, 'support': 413.0}, '1': {'precision': 0.5, 'recall': 0.0975609756097561, 'f1-score': 0.16326530612244897, 'support': 41.0}, '2': {'precision': 0.0, 'recall': 0.0, 'f1-score': 0.0, 'support': 5.0}, '3': {'precision': 0.0, 'recall': 0.0, 'f1-score': 0.0, 'support': 74.0}, 'accuracy': 0.774859287054409, 'macro avg': {'precision': 0.32013358778625955, 'recall': 0.27196893639638575, 'f1-score': 0.2590660597216475, 'support': 533.0}, 'weighted avg': {'precision': 0.6432658293112585, 'recall': 0.774859287054409, 'f1-score': 0.689010200342609, 'support': 533.0}} for parameters {'num_class': 4, 'alpha': 0.01, 'device': 'cuda', 'eta': 0.01, 'eval_metric': 'logloss', 'gamma': 0.05, 'grow_policy': 'depthwise', 'lambda': 0.1, 'max_depth': 3, 'num_parallel_tree': 10, 'objective': 'multi:softmax', 'sampling_method': 'uniform', 'subsample': 0.5, 'tree_method': 'approx'}\n"
     ]
    },
    {
     "name": "stderr",
     "output_type": "stream",
     "text": [
      "c:\\Users\\Moustapha\\AppData\\Local\\Programs\\Python\\Python312\\Lib\\site-packages\\sklearn\\metrics\\_classification.py:1497: UndefinedMetricWarning: Precision is ill-defined and being set to 0.0 in labels with no predicted samples. Use `zero_division` parameter to control this behavior.\n",
      "  _warn_prf(average, modifier, f\"{metric.capitalize()} is\", len(result))\n",
      "c:\\Users\\Moustapha\\AppData\\Local\\Programs\\Python\\Python312\\Lib\\site-packages\\sklearn\\metrics\\_classification.py:1497: UndefinedMetricWarning: Precision is ill-defined and being set to 0.0 in labels with no predicted samples. Use `zero_division` parameter to control this behavior.\n",
      "  _warn_prf(average, modifier, f\"{metric.capitalize()} is\", len(result))\n",
      "c:\\Users\\Moustapha\\AppData\\Local\\Programs\\Python\\Python312\\Lib\\site-packages\\sklearn\\metrics\\_classification.py:1497: UndefinedMetricWarning: Precision is ill-defined and being set to 0.0 in labels with no predicted samples. Use `zero_division` parameter to control this behavior.\n",
      "  _warn_prf(average, modifier, f\"{metric.capitalize()} is\", len(result))\n"
     ]
    },
    {
     "name": "stdout",
     "output_type": "stream",
     "text": [
      "{'0': {'precision': 0.7310606060606061, 'recall': 0.9974160206718347, 'f1-score': 0.8437158469945355, 'support': 387.0}, '1': {'precision': 0.75, 'recall': 0.05084745762711865, 'f1-score': 0.09523809523809523, 'support': 59.0}, '2': {'precision': 0.0, 'recall': 0.0, 'f1-score': 0.0, 'support': 10.0}, '3': {'precision': 0.0, 'recall': 0.0, 'f1-score': 0.0, 'support': 76.0}, 'accuracy': 0.731203007518797, 'macro avg': {'precision': 0.3702651515151515, 'recall': 0.2620658695747383, 'f1-score': 0.23473848555815768, 'support': 532.0}, 'weighted avg': {'precision': 0.614982057416268, 'recall': 0.731203007518797, 'f1-score': 0.6243178203119037, 'support': 532.0}} for parameters {'num_class': 4, 'alpha': 0.01, 'device': 'cuda', 'eta': 0.01, 'eval_metric': 'logloss', 'gamma': 0.05, 'grow_policy': 'depthwise', 'lambda': 0.1, 'max_depth': 3, 'num_parallel_tree': 10, 'objective': 'multi:softmax', 'sampling_method': 'uniform', 'subsample': 0.5, 'tree_method': 'approx'}\n"
     ]
    },
    {
     "name": "stderr",
     "output_type": "stream",
     "text": [
      "c:\\Users\\Moustapha\\AppData\\Local\\Programs\\Python\\Python312\\Lib\\site-packages\\sklearn\\metrics\\_classification.py:1497: UndefinedMetricWarning: Precision is ill-defined and being set to 0.0 in labels with no predicted samples. Use `zero_division` parameter to control this behavior.\n",
      "  _warn_prf(average, modifier, f\"{metric.capitalize()} is\", len(result))\n",
      "c:\\Users\\Moustapha\\AppData\\Local\\Programs\\Python\\Python312\\Lib\\site-packages\\sklearn\\metrics\\_classification.py:1497: UndefinedMetricWarning: Precision is ill-defined and being set to 0.0 in labels with no predicted samples. Use `zero_division` parameter to control this behavior.\n",
      "  _warn_prf(average, modifier, f\"{metric.capitalize()} is\", len(result))\n",
      "c:\\Users\\Moustapha\\AppData\\Local\\Programs\\Python\\Python312\\Lib\\site-packages\\sklearn\\metrics\\_classification.py:1497: UndefinedMetricWarning: Precision is ill-defined and being set to 0.0 in labels with no predicted samples. Use `zero_division` parameter to control this behavior.\n",
      "  _warn_prf(average, modifier, f\"{metric.capitalize()} is\", len(result))\n"
     ]
    },
    {
     "name": "stdout",
     "output_type": "stream",
     "text": [
      "{'0': {'precision': 0.759765625, 'recall': 0.9848101265822785, 'f1-score': 0.8577728776185226, 'support': 395.0}, '1': {'precision': 0.5714285714285714, 'recall': 0.24489795918367346, 'f1-score': 0.34285714285714286, 'support': 49.0}, '2': {'precision': 0.0, 'recall': 0.0, 'f1-score': 0.0, 'support': 9.0}, '3': {'precision': 0.0, 'recall': 0.0, 'f1-score': 0.0, 'support': 80.0}, 'accuracy': 0.7523452157598499, 'macro avg': {'precision': 0.33279854910714285, 'recall': 0.307427021441488, 'f1-score': 0.30015750511891637, 'support': 533.0}, 'weighted avg': {'precision': 0.6155861573639775, 'recall': 0.7523452157598499, 'f1-score': 0.6672050406366162, 'support': 533.0}} for parameters {'num_class': 4, 'alpha': 0.01, 'device': 'cuda', 'eta': 0.01, 'eval_metric': 'logloss', 'gamma': 0.05, 'grow_policy': 'depthwise', 'lambda': 0.1, 'max_depth': 3, 'num_parallel_tree': 10, 'objective': 'multi:softmax', 'sampling_method': 'uniform', 'subsample': 0.8, 'tree_method': 'hist'}\n"
     ]
    },
    {
     "name": "stderr",
     "output_type": "stream",
     "text": [
      "c:\\Users\\Moustapha\\AppData\\Local\\Programs\\Python\\Python312\\Lib\\site-packages\\sklearn\\metrics\\_classification.py:1497: UndefinedMetricWarning: Precision is ill-defined and being set to 0.0 in labels with no predicted samples. Use `zero_division` parameter to control this behavior.\n",
      "  _warn_prf(average, modifier, f\"{metric.capitalize()} is\", len(result))\n",
      "c:\\Users\\Moustapha\\AppData\\Local\\Programs\\Python\\Python312\\Lib\\site-packages\\sklearn\\metrics\\_classification.py:1497: UndefinedMetricWarning: Precision is ill-defined and being set to 0.0 in labels with no predicted samples. Use `zero_division` parameter to control this behavior.\n",
      "  _warn_prf(average, modifier, f\"{metric.capitalize()} is\", len(result))\n",
      "c:\\Users\\Moustapha\\AppData\\Local\\Programs\\Python\\Python312\\Lib\\site-packages\\sklearn\\metrics\\_classification.py:1497: UndefinedMetricWarning: Precision is ill-defined and being set to 0.0 in labels with no predicted samples. Use `zero_division` parameter to control this behavior.\n",
      "  _warn_prf(average, modifier, f\"{metric.capitalize()} is\", len(result))\n"
     ]
    },
    {
     "name": "stdout",
     "output_type": "stream",
     "text": [
      "{'0': {'precision': 0.7762645914396887, 'recall': 0.9851851851851852, 'f1-score': 0.8683351468988031, 'support': 405.0}, '1': {'precision': 0.5882352941176471, 'recall': 0.19607843137254902, 'f1-score': 0.29411764705882354, 'support': 51.0}, '2': {'precision': 0.0, 'recall': 0.0, 'f1-score': 0.0, 'support': 6.0}, '3': {'precision': 1.0, 'recall': 0.014285714285714285, 'f1-score': 0.028169014084507043, 'support': 70.0}, 'accuracy': 0.7706766917293233, 'macro avg': {'precision': 0.591124971389334, 'recall': 0.2988873327108621, 'f1-score': 0.2976554520105334, 'support': 532.0}, 'weighted avg': {'precision': 0.7789232322050262, 'recall': 0.7706766917293233, 'f1-score': 0.6929465516540052, 'support': 532.0}} for parameters {'num_class': 4, 'alpha': 0.01, 'device': 'cuda', 'eta': 0.01, 'eval_metric': 'logloss', 'gamma': 0.05, 'grow_policy': 'depthwise', 'lambda': 0.1, 'max_depth': 3, 'num_parallel_tree': 10, 'objective': 'multi:softmax', 'sampling_method': 'uniform', 'subsample': 0.8, 'tree_method': 'hist'}\n"
     ]
    },
    {
     "name": "stderr",
     "output_type": "stream",
     "text": [
      "c:\\Users\\Moustapha\\AppData\\Local\\Programs\\Python\\Python312\\Lib\\site-packages\\sklearn\\metrics\\_classification.py:1497: UndefinedMetricWarning: Precision is ill-defined and being set to 0.0 in labels with no predicted samples. Use `zero_division` parameter to control this behavior.\n",
      "  _warn_prf(average, modifier, f\"{metric.capitalize()} is\", len(result))\n",
      "c:\\Users\\Moustapha\\AppData\\Local\\Programs\\Python\\Python312\\Lib\\site-packages\\sklearn\\metrics\\_classification.py:1497: UndefinedMetricWarning: Precision is ill-defined and being set to 0.0 in labels with no predicted samples. Use `zero_division` parameter to control this behavior.\n",
      "  _warn_prf(average, modifier, f\"{metric.capitalize()} is\", len(result))\n",
      "c:\\Users\\Moustapha\\AppData\\Local\\Programs\\Python\\Python312\\Lib\\site-packages\\sklearn\\metrics\\_classification.py:1497: UndefinedMetricWarning: Precision is ill-defined and being set to 0.0 in labels with no predicted samples. Use `zero_division` parameter to control this behavior.\n",
      "  _warn_prf(average, modifier, f\"{metric.capitalize()} is\", len(result))\n"
     ]
    },
    {
     "name": "stdout",
     "output_type": "stream",
     "text": [
      "{'0': {'precision': 0.776908023483366, 'recall': 0.9754299754299754, 'f1-score': 0.8649237472766884, 'support': 407.0}, '1': {'precision': 0.4090909090909091, 'recall': 0.21951219512195122, 'f1-score': 0.2857142857142857, 'support': 41.0}, '2': {'precision': 0.0, 'recall': 0.0, 'f1-score': 0.0, 'support': 10.0}, '3': {'precision': 0.0, 'recall': 0.0, 'f1-score': 0.0, 'support': 75.0}, 'accuracy': 0.7617260787992496, 'macro avg': {'precision': 0.29649973314356876, 'recall': 0.2987355426379817, 'f1-score': 0.28765950824774356, 'support': 533.0}, 'weighted avg': {'precision': 0.6247172473366928, 'recall': 0.7617260787992496, 'f1-score': 0.6824357426939923, 'support': 533.0}} for parameters {'num_class': 4, 'alpha': 0.01, 'device': 'cuda', 'eta': 0.01, 'eval_metric': 'logloss', 'gamma': 0.05, 'grow_policy': 'depthwise', 'lambda': 0.1, 'max_depth': 3, 'num_parallel_tree': 10, 'objective': 'multi:softmax', 'sampling_method': 'uniform', 'subsample': 0.8, 'tree_method': 'approx'}\n"
     ]
    },
    {
     "name": "stderr",
     "output_type": "stream",
     "text": [
      "c:\\Users\\Moustapha\\AppData\\Local\\Programs\\Python\\Python312\\Lib\\site-packages\\sklearn\\metrics\\_classification.py:1497: UndefinedMetricWarning: Precision is ill-defined and being set to 0.0 in labels with no predicted samples. Use `zero_division` parameter to control this behavior.\n",
      "  _warn_prf(average, modifier, f\"{metric.capitalize()} is\", len(result))\n",
      "c:\\Users\\Moustapha\\AppData\\Local\\Programs\\Python\\Python312\\Lib\\site-packages\\sklearn\\metrics\\_classification.py:1497: UndefinedMetricWarning: Precision is ill-defined and being set to 0.0 in labels with no predicted samples. Use `zero_division` parameter to control this behavior.\n",
      "  _warn_prf(average, modifier, f\"{metric.capitalize()} is\", len(result))\n",
      "c:\\Users\\Moustapha\\AppData\\Local\\Programs\\Python\\Python312\\Lib\\site-packages\\sklearn\\metrics\\_classification.py:1497: UndefinedMetricWarning: Precision is ill-defined and being set to 0.0 in labels with no predicted samples. Use `zero_division` parameter to control this behavior.\n",
      "  _warn_prf(average, modifier, f\"{metric.capitalize()} is\", len(result))\n"
     ]
    },
    {
     "name": "stdout",
     "output_type": "stream",
     "text": [
      "{'0': {'precision': 0.7466666666666667, 'recall': 0.9974554707379135, 'f1-score': 0.8540305010893247, 'support': 393.0}, '1': {'precision': 0.6666666666666666, 'recall': 0.06779661016949153, 'f1-score': 0.12307692307692308, 'support': 59.0}, '2': {'precision': 0.0, 'recall': 0.0, 'f1-score': 0.0, 'support': 5.0}, '3': {'precision': 0.0, 'recall': 0.0, 'f1-score': 0.0, 'support': 75.0}, 'accuracy': 0.7443609022556391, 'macro avg': {'precision': 0.35333333333333333, 'recall': 0.26631302022685127, 'f1-score': 0.24427685604156193, 'support': 532.0}, 'weighted avg': {'precision': 0.6255137844611528, 'recall': 0.7443609022556391, 'f1-score': 0.6445404612587275, 'support': 532.0}} for parameters {'num_class': 4, 'alpha': 0.01, 'device': 'cuda', 'eta': 0.01, 'eval_metric': 'logloss', 'gamma': 0.05, 'grow_policy': 'depthwise', 'lambda': 0.1, 'max_depth': 3, 'num_parallel_tree': 10, 'objective': 'multi:softmax', 'sampling_method': 'uniform', 'subsample': 0.8, 'tree_method': 'approx'}\n"
     ]
    },
    {
     "name": "stderr",
     "output_type": "stream",
     "text": [
      "c:\\Users\\Moustapha\\AppData\\Local\\Programs\\Python\\Python312\\Lib\\site-packages\\sklearn\\metrics\\_classification.py:1497: UndefinedMetricWarning: Precision is ill-defined and being set to 0.0 in labels with no predicted samples. Use `zero_division` parameter to control this behavior.\n",
      "  _warn_prf(average, modifier, f\"{metric.capitalize()} is\", len(result))\n",
      "c:\\Users\\Moustapha\\AppData\\Local\\Programs\\Python\\Python312\\Lib\\site-packages\\sklearn\\metrics\\_classification.py:1497: UndefinedMetricWarning: Precision is ill-defined and being set to 0.0 in labels with no predicted samples. Use `zero_division` parameter to control this behavior.\n",
      "  _warn_prf(average, modifier, f\"{metric.capitalize()} is\", len(result))\n",
      "c:\\Users\\Moustapha\\AppData\\Local\\Programs\\Python\\Python312\\Lib\\site-packages\\sklearn\\metrics\\_classification.py:1497: UndefinedMetricWarning: Precision is ill-defined and being set to 0.0 in labels with no predicted samples. Use `zero_division` parameter to control this behavior.\n",
      "  _warn_prf(average, modifier, f\"{metric.capitalize()} is\", len(result))\n"
     ]
    },
    {
     "name": "stdout",
     "output_type": "stream",
     "text": [
      "{'0': {'precision': 0.7769230769230769, 'recall': 0.9926289926289926, 'f1-score': 0.8716289104638619, 'support': 407.0}, '1': {'precision': 0.6923076923076923, 'recall': 0.2, 'f1-score': 0.3103448275862069, 'support': 45.0}, '2': {'precision': 0.0, 'recall': 0.0, 'f1-score': 0.0, 'support': 8.0}, '3': {'precision': 0.0, 'recall': 0.0, 'f1-score': 0.0, 'support': 73.0}, 'accuracy': 0.774859287054409, 'macro avg': {'precision': 0.36730769230769234, 'recall': 0.29815724815724814, 'f1-score': 0.2954934345125172, 'support': 533.0}, 'weighted avg': {'precision': 0.6517102034925674, 'recall': 0.774859287054409, 'f1-score': 0.6917795193248989, 'support': 533.0}} for parameters {'num_class': 4, 'alpha': 0.01, 'device': 'cuda', 'eta': 0.01, 'eval_metric': 'logloss', 'gamma': 0.05, 'grow_policy': 'depthwise', 'lambda': 0.1, 'max_depth': 3, 'num_parallel_tree': 10, 'objective': 'multi:softmax', 'sampling_method': 'gradient_based', 'subsample': 0.3, 'tree_method': 'hist'}\n"
     ]
    },
    {
     "name": "stderr",
     "output_type": "stream",
     "text": [
      "c:\\Users\\Moustapha\\AppData\\Local\\Programs\\Python\\Python312\\Lib\\site-packages\\sklearn\\metrics\\_classification.py:1497: UndefinedMetricWarning: Precision is ill-defined and being set to 0.0 in labels with no predicted samples. Use `zero_division` parameter to control this behavior.\n",
      "  _warn_prf(average, modifier, f\"{metric.capitalize()} is\", len(result))\n",
      "c:\\Users\\Moustapha\\AppData\\Local\\Programs\\Python\\Python312\\Lib\\site-packages\\sklearn\\metrics\\_classification.py:1497: UndefinedMetricWarning: Precision is ill-defined and being set to 0.0 in labels with no predicted samples. Use `zero_division` parameter to control this behavior.\n",
      "  _warn_prf(average, modifier, f\"{metric.capitalize()} is\", len(result))\n",
      "c:\\Users\\Moustapha\\AppData\\Local\\Programs\\Python\\Python312\\Lib\\site-packages\\sklearn\\metrics\\_classification.py:1497: UndefinedMetricWarning: Precision is ill-defined and being set to 0.0 in labels with no predicted samples. Use `zero_division` parameter to control this behavior.\n",
      "  _warn_prf(average, modifier, f\"{metric.capitalize()} is\", len(result))\n"
     ]
    },
    {
     "name": "stdout",
     "output_type": "stream",
     "text": [
      "{'0': {'precision': 0.7549019607843137, 'recall': 0.9796437659033079, 'f1-score': 0.8527131782945736, 'support': 393.0}, '1': {'precision': 0.4090909090909091, 'recall': 0.16363636363636364, 'f1-score': 0.23376623376623376, 'support': 55.0}, '2': {'precision': 0.0, 'recall': 0.0, 'f1-score': 0.0, 'support': 7.0}, '3': {'precision': 0.0, 'recall': 0.0, 'f1-score': 0.0, 'support': 77.0}, 'accuracy': 0.7406015037593985, 'macro avg': {'precision': 0.2909982174688057, 'recall': 0.2858200323849179, 'f1-score': 0.27161985301520186, 'support': 532.0}, 'weighted avg': {'precision': 0.5999557717823972, 'recall': 0.7406015037593985, 'f1-score': 0.6540853795618614, 'support': 532.0}} for parameters {'num_class': 4, 'alpha': 0.01, 'device': 'cuda', 'eta': 0.01, 'eval_metric': 'logloss', 'gamma': 0.05, 'grow_policy': 'depthwise', 'lambda': 0.1, 'max_depth': 3, 'num_parallel_tree': 10, 'objective': 'multi:softmax', 'sampling_method': 'gradient_based', 'subsample': 0.3, 'tree_method': 'hist'}\n"
     ]
    },
    {
     "name": "stderr",
     "output_type": "stream",
     "text": [
      "c:\\Users\\Moustapha\\AppData\\Local\\Programs\\Python\\Python312\\Lib\\site-packages\\sklearn\\metrics\\_classification.py:1497: UndefinedMetricWarning: Precision is ill-defined and being set to 0.0 in labels with no predicted samples. Use `zero_division` parameter to control this behavior.\n",
      "  _warn_prf(average, modifier, f\"{metric.capitalize()} is\", len(result))\n",
      "c:\\Users\\Moustapha\\AppData\\Local\\Programs\\Python\\Python312\\Lib\\site-packages\\sklearn\\metrics\\_classification.py:1497: UndefinedMetricWarning: Precision is ill-defined and being set to 0.0 in labels with no predicted samples. Use `zero_division` parameter to control this behavior.\n",
      "  _warn_prf(average, modifier, f\"{metric.capitalize()} is\", len(result))\n",
      "c:\\Users\\Moustapha\\AppData\\Local\\Programs\\Python\\Python312\\Lib\\site-packages\\sklearn\\metrics\\_classification.py:1497: UndefinedMetricWarning: Precision is ill-defined and being set to 0.0 in labels with no predicted samples. Use `zero_division` parameter to control this behavior.\n",
      "  _warn_prf(average, modifier, f\"{metric.capitalize()} is\", len(result))\n"
     ]
    },
    {
     "name": "stdout",
     "output_type": "stream",
     "text": [
      "{'0': {'precision': 0.7705544933078394, 'recall': 0.9950617283950617, 'f1-score': 0.8685344827586207, 'support': 405.0}, '1': {'precision': 0.75, 'recall': 0.10714285714285714, 'f1-score': 0.1875, 'support': 56.0}, '2': {'precision': 0.0, 'recall': 0.0, 'f1-score': 0.0, 'support': 8.0}, '3': {'precision': 0.0, 'recall': 0.0, 'f1-score': 0.0, 'support': 64.0}, 'accuracy': 0.7673545966228893, 'macro avg': {'precision': 0.38013862332695986, 'recall': 0.2755511463844797, 'f1-score': 0.26400862068965514, 'support': 533.0}, 'weighted avg': {'precision': 0.664305008986257, 'recall': 0.7673545966228893, 'f1-score': 0.6796556576308469, 'support': 533.0}} for parameters {'num_class': 4, 'alpha': 0.01, 'device': 'cuda', 'eta': 0.01, 'eval_metric': 'logloss', 'gamma': 0.05, 'grow_policy': 'depthwise', 'lambda': 0.1, 'max_depth': 3, 'num_parallel_tree': 10, 'objective': 'multi:softmax', 'sampling_method': 'gradient_based', 'subsample': 0.3, 'tree_method': 'approx'}\n"
     ]
    },
    {
     "name": "stderr",
     "output_type": "stream",
     "text": [
      "c:\\Users\\Moustapha\\AppData\\Local\\Programs\\Python\\Python312\\Lib\\site-packages\\sklearn\\metrics\\_classification.py:1497: UndefinedMetricWarning: Precision is ill-defined and being set to 0.0 in labels with no predicted samples. Use `zero_division` parameter to control this behavior.\n",
      "  _warn_prf(average, modifier, f\"{metric.capitalize()} is\", len(result))\n",
      "c:\\Users\\Moustapha\\AppData\\Local\\Programs\\Python\\Python312\\Lib\\site-packages\\sklearn\\metrics\\_classification.py:1497: UndefinedMetricWarning: Precision is ill-defined and being set to 0.0 in labels with no predicted samples. Use `zero_division` parameter to control this behavior.\n",
      "  _warn_prf(average, modifier, f\"{metric.capitalize()} is\", len(result))\n",
      "c:\\Users\\Moustapha\\AppData\\Local\\Programs\\Python\\Python312\\Lib\\site-packages\\sklearn\\metrics\\_classification.py:1497: UndefinedMetricWarning: Precision is ill-defined and being set to 0.0 in labels with no predicted samples. Use `zero_division` parameter to control this behavior.\n",
      "  _warn_prf(average, modifier, f\"{metric.capitalize()} is\", len(result))\n"
     ]
    },
    {
     "name": "stdout",
     "output_type": "stream",
     "text": [
      "{'0': {'precision': 0.7618110236220472, 'recall': 0.979746835443038, 'f1-score': 0.8571428571428571, 'support': 395.0}, '1': {'precision': 0.43478260869565216, 'recall': 0.22727272727272727, 'f1-score': 0.29850746268656714, 'support': 44.0}, '2': {'precision': 0.0, 'recall': 0.0, 'f1-score': 0.0, 'support': 7.0}, '3': {'precision': 0.0, 'recall': 0.0, 'f1-score': 0.0, 'support': 86.0}, 'accuracy': 0.7462406015037594, 'macro avg': {'precision': 0.29914840807942483, 'recall': 0.3017548906789413, 'f1-score': 0.2889125799573561, 'support': 532.0}, 'weighted avg': {'precision': 0.601589829160371, 'recall': 0.7462406015037594, 'f1-score': 0.6611010468602209, 'support': 532.0}} for parameters {'num_class': 4, 'alpha': 0.01, 'device': 'cuda', 'eta': 0.01, 'eval_metric': 'logloss', 'gamma': 0.05, 'grow_policy': 'depthwise', 'lambda': 0.1, 'max_depth': 3, 'num_parallel_tree': 10, 'objective': 'multi:softmax', 'sampling_method': 'gradient_based', 'subsample': 0.3, 'tree_method': 'approx'}\n"
     ]
    },
    {
     "name": "stderr",
     "output_type": "stream",
     "text": [
      "c:\\Users\\Moustapha\\AppData\\Local\\Programs\\Python\\Python312\\Lib\\site-packages\\sklearn\\metrics\\_classification.py:1497: UndefinedMetricWarning: Precision is ill-defined and being set to 0.0 in labels with no predicted samples. Use `zero_division` parameter to control this behavior.\n",
      "  _warn_prf(average, modifier, f\"{metric.capitalize()} is\", len(result))\n",
      "c:\\Users\\Moustapha\\AppData\\Local\\Programs\\Python\\Python312\\Lib\\site-packages\\sklearn\\metrics\\_classification.py:1497: UndefinedMetricWarning: Precision is ill-defined and being set to 0.0 in labels with no predicted samples. Use `zero_division` parameter to control this behavior.\n",
      "  _warn_prf(average, modifier, f\"{metric.capitalize()} is\", len(result))\n",
      "c:\\Users\\Moustapha\\AppData\\Local\\Programs\\Python\\Python312\\Lib\\site-packages\\sklearn\\metrics\\_classification.py:1497: UndefinedMetricWarning: Precision is ill-defined and being set to 0.0 in labels with no predicted samples. Use `zero_division` parameter to control this behavior.\n",
      "  _warn_prf(average, modifier, f\"{metric.capitalize()} is\", len(result))\n"
     ]
    },
    {
     "name": "stdout",
     "output_type": "stream",
     "text": [
      "{'0': {'precision': 0.7807692307692308, 'recall': 0.9926650366748166, 'f1-score': 0.8740581270182992, 'support': 409.0}, '1': {'precision': 0.6363636363636364, 'recall': 0.14583333333333334, 'f1-score': 0.23728813559322035, 'support': 48.0}, '2': {'precision': 0.0, 'recall': 0.0, 'f1-score': 0.0, 'support': 5.0}, '3': {'precision': 0.5, 'recall': 0.014084507042253521, 'f1-score': 0.0273972602739726, 'support': 71.0}, 'accuracy': 0.776735459662289, 'macro avg': {'precision': 0.4792832167832168, 'recall': 0.28814571926260085, 'f1-score': 0.284685880721373, 'support': 533.0}, 'weighted avg': {'precision': 0.7230395308256472, 'recall': 0.776735459662289, 'f1-score': 0.6957313507287262, 'support': 533.0}} for parameters {'num_class': 4, 'alpha': 0.01, 'device': 'cuda', 'eta': 0.01, 'eval_metric': 'logloss', 'gamma': 0.05, 'grow_policy': 'depthwise', 'lambda': 0.1, 'max_depth': 3, 'num_parallel_tree': 10, 'objective': 'multi:softmax', 'sampling_method': 'gradient_based', 'subsample': 0.5, 'tree_method': 'hist'}\n",
      "{'0': {'precision': 0.7461240310077519, 'recall': 0.9846547314578005, 'f1-score': 0.8489525909592062, 'support': 391.0}, '1': {'precision': 0.46153846153846156, 'recall': 0.11538461538461539, 'f1-score': 0.18461538461538463, 'support': 52.0}, '2': {'precision': 0.0, 'recall': 0.0, 'f1-score': 0.0, 'support': 10.0}, '3': {'precision': 0.0, 'recall': 0.0, 'f1-score': 0.0, 'support': 79.0}, 'accuracy': 0.7349624060150376, 'macro avg': {'precision': 0.3019156231365534, 'recall': 0.27500983671060397, 'f1-score': 0.2583919938936477, 'support': 532.0}, 'weighted avg': {'precision': 0.593485894969983, 'recall': 0.7349624060150376, 'f1-score': 0.6419933516260331, 'support': 532.0}} for parameters {'num_class': 4, 'alpha': 0.01, 'device': 'cuda', 'eta': 0.01, 'eval_metric': 'logloss', 'gamma': 0.05, 'grow_policy': 'depthwise', 'lambda': 0.1, 'max_depth': 3, 'num_parallel_tree': 10, 'objective': 'multi:softmax', 'sampling_method': 'gradient_based', 'subsample': 0.5, 'tree_method': 'hist'}\n"
     ]
    },
    {
     "name": "stderr",
     "output_type": "stream",
     "text": [
      "c:\\Users\\Moustapha\\AppData\\Local\\Programs\\Python\\Python312\\Lib\\site-packages\\sklearn\\metrics\\_classification.py:1497: UndefinedMetricWarning: Precision is ill-defined and being set to 0.0 in labels with no predicted samples. Use `zero_division` parameter to control this behavior.\n",
      "  _warn_prf(average, modifier, f\"{metric.capitalize()} is\", len(result))\n",
      "c:\\Users\\Moustapha\\AppData\\Local\\Programs\\Python\\Python312\\Lib\\site-packages\\sklearn\\metrics\\_classification.py:1497: UndefinedMetricWarning: Precision is ill-defined and being set to 0.0 in labels with no predicted samples. Use `zero_division` parameter to control this behavior.\n",
      "  _warn_prf(average, modifier, f\"{metric.capitalize()} is\", len(result))\n",
      "c:\\Users\\Moustapha\\AppData\\Local\\Programs\\Python\\Python312\\Lib\\site-packages\\sklearn\\metrics\\_classification.py:1497: UndefinedMetricWarning: Precision is ill-defined and being set to 0.0 in labels with no predicted samples. Use `zero_division` parameter to control this behavior.\n",
      "  _warn_prf(average, modifier, f\"{metric.capitalize()} is\", len(result))\n"
     ]
    },
    {
     "name": "stdout",
     "output_type": "stream",
     "text": [
      "{'0': {'precision': 0.7794970986460348, 'recall': 0.9926108374384236, 'f1-score': 0.8732394366197183, 'support': 406.0}, '1': {'precision': 0.6666666666666666, 'recall': 0.2127659574468085, 'f1-score': 0.3225806451612903, 'support': 47.0}, '2': {'precision': 0.0, 'recall': 0.0, 'f1-score': 0.0, 'support': 7.0}, '3': {'precision': 0.0, 'recall': 0.0, 'f1-score': 0.0, 'support': 73.0}, 'accuracy': 0.774859287054409, 'macro avg': {'precision': 0.3615409413281754, 'recall': 0.301344198721308, 'f1-score': 0.29895502044525213, 'support': 533.0}, 'weighted avg': {'precision': 0.6525500101006068, 'recall': 0.774859287054409, 'f1-score': 0.6936144495125447, 'support': 533.0}} for parameters {'num_class': 4, 'alpha': 0.01, 'device': 'cuda', 'eta': 0.01, 'eval_metric': 'logloss', 'gamma': 0.05, 'grow_policy': 'depthwise', 'lambda': 0.1, 'max_depth': 3, 'num_parallel_tree': 10, 'objective': 'multi:softmax', 'sampling_method': 'gradient_based', 'subsample': 0.5, 'tree_method': 'approx'}\n"
     ]
    },
    {
     "name": "stderr",
     "output_type": "stream",
     "text": [
      "c:\\Users\\Moustapha\\AppData\\Local\\Programs\\Python\\Python312\\Lib\\site-packages\\sklearn\\metrics\\_classification.py:1497: UndefinedMetricWarning: Precision is ill-defined and being set to 0.0 in labels with no predicted samples. Use `zero_division` parameter to control this behavior.\n",
      "  _warn_prf(average, modifier, f\"{metric.capitalize()} is\", len(result))\n",
      "c:\\Users\\Moustapha\\AppData\\Local\\Programs\\Python\\Python312\\Lib\\site-packages\\sklearn\\metrics\\_classification.py:1497: UndefinedMetricWarning: Precision is ill-defined and being set to 0.0 in labels with no predicted samples. Use `zero_division` parameter to control this behavior.\n",
      "  _warn_prf(average, modifier, f\"{metric.capitalize()} is\", len(result))\n",
      "c:\\Users\\Moustapha\\AppData\\Local\\Programs\\Python\\Python312\\Lib\\site-packages\\sklearn\\metrics\\_classification.py:1497: UndefinedMetricWarning: Precision is ill-defined and being set to 0.0 in labels with no predicted samples. Use `zero_division` parameter to control this behavior.\n",
      "  _warn_prf(average, modifier, f\"{metric.capitalize()} is\", len(result))\n"
     ]
    },
    {
     "name": "stdout",
     "output_type": "stream",
     "text": [
      "{'0': {'precision': 0.7563352826510721, 'recall': 0.9847715736040609, 'f1-score': 0.8555678059536935, 'support': 394.0}, '1': {'precision': 0.5555555555555556, 'recall': 0.18867924528301888, 'f1-score': 0.28169014084507044, 'support': 53.0}, '2': {'precision': 0.0, 'recall': 0.0, 'f1-score': 0.0, 'support': 8.0}, '3': {'precision': 0.0, 'recall': 0.0, 'f1-score': 0.0, 'support': 77.0}, 'accuracy': 0.7481203007518797, 'macro avg': {'precision': 0.3279727095516569, 'recall': 0.29336270472176995, 'f1-score': 0.284314486699691, 'support': 532.0}, 'weighted avg': {'precision': 0.6154897477612159, 'recall': 0.7481203007518797, 'f1-score': 0.6616979191927518, 'support': 532.0}} for parameters {'num_class': 4, 'alpha': 0.01, 'device': 'cuda', 'eta': 0.01, 'eval_metric': 'logloss', 'gamma': 0.05, 'grow_policy': 'depthwise', 'lambda': 0.1, 'max_depth': 3, 'num_parallel_tree': 10, 'objective': 'multi:softmax', 'sampling_method': 'gradient_based', 'subsample': 0.5, 'tree_method': 'approx'}\n"
     ]
    },
    {
     "name": "stderr",
     "output_type": "stream",
     "text": [
      "c:\\Users\\Moustapha\\AppData\\Local\\Programs\\Python\\Python312\\Lib\\site-packages\\sklearn\\metrics\\_classification.py:1497: UndefinedMetricWarning: Precision is ill-defined and being set to 0.0 in labels with no predicted samples. Use `zero_division` parameter to control this behavior.\n",
      "  _warn_prf(average, modifier, f\"{metric.capitalize()} is\", len(result))\n",
      "c:\\Users\\Moustapha\\AppData\\Local\\Programs\\Python\\Python312\\Lib\\site-packages\\sklearn\\metrics\\_classification.py:1497: UndefinedMetricWarning: Precision is ill-defined and being set to 0.0 in labels with no predicted samples. Use `zero_division` parameter to control this behavior.\n",
      "  _warn_prf(average, modifier, f\"{metric.capitalize()} is\", len(result))\n",
      "c:\\Users\\Moustapha\\AppData\\Local\\Programs\\Python\\Python312\\Lib\\site-packages\\sklearn\\metrics\\_classification.py:1497: UndefinedMetricWarning: Precision is ill-defined and being set to 0.0 in labels with no predicted samples. Use `zero_division` parameter to control this behavior.\n",
      "  _warn_prf(average, modifier, f\"{metric.capitalize()} is\", len(result))\n"
     ]
    },
    {
     "name": "stdout",
     "output_type": "stream",
     "text": [
      "{'0': {'precision': 0.758095238095238, 'recall': 1.0, 'f1-score': 0.8624052004333694, 'support': 398.0}, '1': {'precision': 0.875, 'recall': 0.1206896551724138, 'f1-score': 0.21212121212121213, 'support': 58.0}, '2': {'precision': 0.0, 'recall': 0.0, 'f1-score': 0.0, 'support': 10.0}, '3': {'precision': 0.0, 'recall': 0.0, 'f1-score': 0.0, 'support': 67.0}, 'accuracy': 0.7598499061913696, 'macro avg': {'precision': 0.40827380952380954, 'recall': 0.2801724137931034, 'f1-score': 0.26863160313864537, 'support': 533.0}, 'weighted avg': {'precision': 0.6612981327615474, 'recall': 0.7598499061913696, 'f1-score': 0.6670549719990833, 'support': 533.0}} for parameters {'num_class': 4, 'alpha': 0.01, 'device': 'cuda', 'eta': 0.01, 'eval_metric': 'logloss', 'gamma': 0.05, 'grow_policy': 'depthwise', 'lambda': 0.1, 'max_depth': 3, 'num_parallel_tree': 10, 'objective': 'multi:softmax', 'sampling_method': 'gradient_based', 'subsample': 0.8, 'tree_method': 'hist'}\n"
     ]
    },
    {
     "name": "stderr",
     "output_type": "stream",
     "text": [
      "c:\\Users\\Moustapha\\AppData\\Local\\Programs\\Python\\Python312\\Lib\\site-packages\\sklearn\\metrics\\_classification.py:1497: UndefinedMetricWarning: Precision is ill-defined and being set to 0.0 in labels with no predicted samples. Use `zero_division` parameter to control this behavior.\n",
      "  _warn_prf(average, modifier, f\"{metric.capitalize()} is\", len(result))\n",
      "c:\\Users\\Moustapha\\AppData\\Local\\Programs\\Python\\Python312\\Lib\\site-packages\\sklearn\\metrics\\_classification.py:1497: UndefinedMetricWarning: Precision is ill-defined and being set to 0.0 in labels with no predicted samples. Use `zero_division` parameter to control this behavior.\n",
      "  _warn_prf(average, modifier, f\"{metric.capitalize()} is\", len(result))\n",
      "c:\\Users\\Moustapha\\AppData\\Local\\Programs\\Python\\Python312\\Lib\\site-packages\\sklearn\\metrics\\_classification.py:1497: UndefinedMetricWarning: Precision is ill-defined and being set to 0.0 in labels with no predicted samples. Use `zero_division` parameter to control this behavior.\n",
      "  _warn_prf(average, modifier, f\"{metric.capitalize()} is\", len(result))\n"
     ]
    },
    {
     "name": "stdout",
     "output_type": "stream",
     "text": [
      "{'0': {'precision': 0.7762376237623763, 'recall': 0.9751243781094527, 'f1-score': 0.86438809261301, 'support': 402.0}, '1': {'precision': 0.44, 'recall': 0.2619047619047619, 'f1-score': 0.3283582089552239, 'support': 42.0}, '2': {'precision': 0.0, 'recall': 0.0, 'f1-score': 0.0, 'support': 5.0}, '3': {'precision': 0.5, 'recall': 0.012048192771084338, 'f1-score': 0.023529411764705882, 'support': 83.0}, 'accuracy': 0.7593984962406015, 'macro avg': {'precision': 0.42905940594059405, 'recall': 0.3122693331963247, 'f1-score': 0.3040689283332349, 'support': 532.0}, 'weighted avg': {'precision': 0.6992998585572844, 'recall': 0.7593984962406015, 'f1-score': 0.682759396960564, 'support': 532.0}} for parameters {'num_class': 4, 'alpha': 0.01, 'device': 'cuda', 'eta': 0.01, 'eval_metric': 'logloss', 'gamma': 0.05, 'grow_policy': 'depthwise', 'lambda': 0.1, 'max_depth': 3, 'num_parallel_tree': 10, 'objective': 'multi:softmax', 'sampling_method': 'gradient_based', 'subsample': 0.8, 'tree_method': 'hist'}\n"
     ]
    },
    {
     "name": "stderr",
     "output_type": "stream",
     "text": [
      "c:\\Users\\Moustapha\\AppData\\Local\\Programs\\Python\\Python312\\Lib\\site-packages\\sklearn\\metrics\\_classification.py:1497: UndefinedMetricWarning: Precision is ill-defined and being set to 0.0 in labels with no predicted samples. Use `zero_division` parameter to control this behavior.\n",
      "  _warn_prf(average, modifier, f\"{metric.capitalize()} is\", len(result))\n",
      "c:\\Users\\Moustapha\\AppData\\Local\\Programs\\Python\\Python312\\Lib\\site-packages\\sklearn\\metrics\\_classification.py:1497: UndefinedMetricWarning: Precision is ill-defined and being set to 0.0 in labels with no predicted samples. Use `zero_division` parameter to control this behavior.\n",
      "  _warn_prf(average, modifier, f\"{metric.capitalize()} is\", len(result))\n",
      "c:\\Users\\Moustapha\\AppData\\Local\\Programs\\Python\\Python312\\Lib\\site-packages\\sklearn\\metrics\\_classification.py:1497: UndefinedMetricWarning: Precision is ill-defined and being set to 0.0 in labels with no predicted samples. Use `zero_division` parameter to control this behavior.\n",
      "  _warn_prf(average, modifier, f\"{metric.capitalize()} is\", len(result))\n"
     ]
    },
    {
     "name": "stdout",
     "output_type": "stream",
     "text": [
      "{'0': {'precision': 0.7620889748549323, 'recall': 0.9949494949494949, 'f1-score': 0.8630887185104053, 'support': 396.0}, '1': {'precision': 0.5, 'recall': 0.1568627450980392, 'f1-score': 0.23880597014925373, 'support': 51.0}, '2': {'precision': 0.0, 'recall': 0.0, 'f1-score': 0.0, 'support': 7.0}, '3': {'precision': 0.0, 'recall': 0.0, 'f1-score': 0.0, 'support': 79.0}, 'accuracy': 0.7542213883677298, 'macro avg': {'precision': 0.31552224371373305, 'recall': 0.28795306001188353, 'f1-score': 0.27547367216491475, 'support': 533.0}, 'weighted avg': {'precision': 0.6140473434194245, 'recall': 0.7542213883677298, 'f1-score': 0.6640942532978095, 'support': 533.0}} for parameters {'num_class': 4, 'alpha': 0.01, 'device': 'cuda', 'eta': 0.01, 'eval_metric': 'logloss', 'gamma': 0.05, 'grow_policy': 'depthwise', 'lambda': 0.1, 'max_depth': 3, 'num_parallel_tree': 10, 'objective': 'multi:softmax', 'sampling_method': 'gradient_based', 'subsample': 0.8, 'tree_method': 'approx'}\n",
      "{'0': {'precision': 0.7797619047619048, 'recall': 0.9727722772277227, 'f1-score': 0.8656387665198237, 'support': 404.0}, '1': {'precision': 0.4782608695652174, 'recall': 0.22448979591836735, 'f1-score': 0.3055555555555556, 'support': 49.0}, '2': {'precision': 0.0, 'recall': 0.0, 'f1-score': 0.0, 'support': 8.0}, '3': {'precision': 0.25, 'recall': 0.014084507042253521, 'f1-score': 0.02666666666666667, 'support': 71.0}, 'accuracy': 0.7612781954887218, 'macro avg': {'precision': 0.37700569358178054, 'recall': 0.3028366450470859, 'f1-score': 0.2994652471855115, 'support': 532.0}, 'weighted avg': {'precision': 0.6695650228054608, 'recall': 0.7612781954887218, 'f1-score': 0.6890669496796321, 'support': 532.0}} for parameters {'num_class': 4, 'alpha': 0.01, 'device': 'cuda', 'eta': 0.01, 'eval_metric': 'logloss', 'gamma': 0.05, 'grow_policy': 'depthwise', 'lambda': 0.1, 'max_depth': 3, 'num_parallel_tree': 10, 'objective': 'multi:softmax', 'sampling_method': 'gradient_based', 'subsample': 0.8, 'tree_method': 'approx'}\n"
     ]
    },
    {
     "name": "stderr",
     "output_type": "stream",
     "text": [
      "c:\\Users\\Moustapha\\AppData\\Local\\Programs\\Python\\Python312\\Lib\\site-packages\\sklearn\\metrics\\_classification.py:1497: UndefinedMetricWarning: Precision is ill-defined and being set to 0.0 in labels with no predicted samples. Use `zero_division` parameter to control this behavior.\n",
      "  _warn_prf(average, modifier, f\"{metric.capitalize()} is\", len(result))\n",
      "c:\\Users\\Moustapha\\AppData\\Local\\Programs\\Python\\Python312\\Lib\\site-packages\\sklearn\\metrics\\_classification.py:1497: UndefinedMetricWarning: Precision is ill-defined and being set to 0.0 in labels with no predicted samples. Use `zero_division` parameter to control this behavior.\n",
      "  _warn_prf(average, modifier, f\"{metric.capitalize()} is\", len(result))\n",
      "c:\\Users\\Moustapha\\AppData\\Local\\Programs\\Python\\Python312\\Lib\\site-packages\\sklearn\\metrics\\_classification.py:1497: UndefinedMetricWarning: Precision is ill-defined and being set to 0.0 in labels with no predicted samples. Use `zero_division` parameter to control this behavior.\n",
      "  _warn_prf(average, modifier, f\"{metric.capitalize()} is\", len(result))\n"
     ]
    },
    {
     "name": "stdout",
     "output_type": "stream",
     "text": [
      "{'0': {'precision': 0.7754716981132076, 'recall': 0.9975728155339806, 'f1-score': 0.8726114649681529, 'support': 412.0}, '1': {'precision': 1.0, 'recall': 0.045454545454545456, 'f1-score': 0.08695652173913043, 'support': 44.0}, '2': {'precision': 0.0, 'recall': 0.0, 'f1-score': 0.0, 'support': 9.0}, '3': {'precision': 0.0, 'recall': 0.0, 'f1-score': 0.0, 'support': 68.0}, 'accuracy': 0.774859287054409, 'macro avg': {'precision': 0.4438679245283019, 'recall': 0.2607568402471315, 'f1-score': 0.23989199667682082, 'support': 533.0}, 'weighted avg': {'precision': 0.6819781231194024, 'recall': 0.774859287054409, 'f1-score': 0.6816923274360239, 'support': 533.0}} for parameters {'num_class': 4, 'alpha': 0.01, 'device': 'cuda', 'eta': 0.01, 'eval_metric': 'logloss', 'gamma': 0.05, 'grow_policy': 'depthwise', 'lambda': 0.1, 'max_depth': 3, 'num_parallel_tree': 30, 'objective': 'multi:softmax', 'sampling_method': 'uniform', 'subsample': 0.3, 'tree_method': 'hist'}\n"
     ]
    },
    {
     "name": "stderr",
     "output_type": "stream",
     "text": [
      "c:\\Users\\Moustapha\\AppData\\Local\\Programs\\Python\\Python312\\Lib\\site-packages\\sklearn\\metrics\\_classification.py:1497: UndefinedMetricWarning: Precision is ill-defined and being set to 0.0 in labels with no predicted samples. Use `zero_division` parameter to control this behavior.\n",
      "  _warn_prf(average, modifier, f\"{metric.capitalize()} is\", len(result))\n",
      "c:\\Users\\Moustapha\\AppData\\Local\\Programs\\Python\\Python312\\Lib\\site-packages\\sklearn\\metrics\\_classification.py:1497: UndefinedMetricWarning: Precision is ill-defined and being set to 0.0 in labels with no predicted samples. Use `zero_division` parameter to control this behavior.\n",
      "  _warn_prf(average, modifier, f\"{metric.capitalize()} is\", len(result))\n",
      "c:\\Users\\Moustapha\\AppData\\Local\\Programs\\Python\\Python312\\Lib\\site-packages\\sklearn\\metrics\\_classification.py:1497: UndefinedMetricWarning: Precision is ill-defined and being set to 0.0 in labels with no predicted samples. Use `zero_division` parameter to control this behavior.\n",
      "  _warn_prf(average, modifier, f\"{metric.capitalize()} is\", len(result))\n"
     ]
    },
    {
     "name": "stdout",
     "output_type": "stream",
     "text": [
      "{'0': {'precision': 0.735632183908046, 'recall': 0.9896907216494846, 'f1-score': 0.843956043956044, 'support': 388.0}, '1': {'precision': 0.5, 'recall': 0.08928571428571429, 'f1-score': 0.15151515151515152, 'support': 56.0}, '2': {'precision': 0.0, 'recall': 0.0, 'f1-score': 0.0, 'support': 6.0}, '3': {'precision': 0.0, 'recall': 0.0, 'f1-score': 0.0, 'support': 82.0}, 'accuracy': 0.731203007518797, 'macro avg': {'precision': 0.3089080459770115, 'recall': 0.2697441089837997, 'f1-score': 0.24886779886779886, 'support': 532.0}, 'weighted avg': {'precision': 0.5891452769855674, 'recall': 0.731203007518797, 'f1-score': 0.631465777330439, 'support': 532.0}} for parameters {'num_class': 4, 'alpha': 0.01, 'device': 'cuda', 'eta': 0.01, 'eval_metric': 'logloss', 'gamma': 0.05, 'grow_policy': 'depthwise', 'lambda': 0.1, 'max_depth': 3, 'num_parallel_tree': 30, 'objective': 'multi:softmax', 'sampling_method': 'uniform', 'subsample': 0.3, 'tree_method': 'hist'}\n"
     ]
    },
    {
     "name": "stderr",
     "output_type": "stream",
     "text": [
      "c:\\Users\\Moustapha\\AppData\\Local\\Programs\\Python\\Python312\\Lib\\site-packages\\sklearn\\metrics\\_classification.py:1497: UndefinedMetricWarning: Precision is ill-defined and being set to 0.0 in labels with no predicted samples. Use `zero_division` parameter to control this behavior.\n",
      "  _warn_prf(average, modifier, f\"{metric.capitalize()} is\", len(result))\n",
      "c:\\Users\\Moustapha\\AppData\\Local\\Programs\\Python\\Python312\\Lib\\site-packages\\sklearn\\metrics\\_classification.py:1497: UndefinedMetricWarning: Precision is ill-defined and being set to 0.0 in labels with no predicted samples. Use `zero_division` parameter to control this behavior.\n",
      "  _warn_prf(average, modifier, f\"{metric.capitalize()} is\", len(result))\n",
      "c:\\Users\\Moustapha\\AppData\\Local\\Programs\\Python\\Python312\\Lib\\site-packages\\sklearn\\metrics\\_classification.py:1497: UndefinedMetricWarning: Precision is ill-defined and being set to 0.0 in labels with no predicted samples. Use `zero_division` parameter to control this behavior.\n",
      "  _warn_prf(average, modifier, f\"{metric.capitalize()} is\", len(result))\n"
     ]
    },
    {
     "name": "stdout",
     "output_type": "stream",
     "text": [
      "{'0': {'precision': 0.7628083491461101, 'recall': 0.995049504950495, 'f1-score': 0.8635875402792696, 'support': 404.0}, '1': {'precision': 0.8, 'recall': 0.08163265306122448, 'f1-score': 0.14814814814814814, 'support': 49.0}, '2': {'precision': 0.0, 'recall': 0.0, 'f1-score': 0.0, 'support': 8.0}, '3': {'precision': 0.0, 'recall': 0.0, 'f1-score': 0.0, 'support': 72.0}, 'accuracy': 0.7617260787992496, 'macro avg': {'precision': 0.39070208728652756, 'recall': 0.2691705395029299, 'f1-score': 0.25293392210685445, 'support': 533.0}, 'weighted avg': {'precision': 0.6517346586398283, 'recall': 0.7617260787992496, 'f1-score': 0.6681962955573811, 'support': 533.0}} for parameters {'num_class': 4, 'alpha': 0.01, 'device': 'cuda', 'eta': 0.01, 'eval_metric': 'logloss', 'gamma': 0.05, 'grow_policy': 'depthwise', 'lambda': 0.1, 'max_depth': 3, 'num_parallel_tree': 30, 'objective': 'multi:softmax', 'sampling_method': 'uniform', 'subsample': 0.3, 'tree_method': 'approx'}\n"
     ]
    },
    {
     "name": "stderr",
     "output_type": "stream",
     "text": [
      "c:\\Users\\Moustapha\\AppData\\Local\\Programs\\Python\\Python312\\Lib\\site-packages\\sklearn\\metrics\\_classification.py:1497: UndefinedMetricWarning: Precision is ill-defined and being set to 0.0 in labels with no predicted samples. Use `zero_division` parameter to control this behavior.\n",
      "  _warn_prf(average, modifier, f\"{metric.capitalize()} is\", len(result))\n",
      "c:\\Users\\Moustapha\\AppData\\Local\\Programs\\Python\\Python312\\Lib\\site-packages\\sklearn\\metrics\\_classification.py:1497: UndefinedMetricWarning: Precision is ill-defined and being set to 0.0 in labels with no predicted samples. Use `zero_division` parameter to control this behavior.\n",
      "  _warn_prf(average, modifier, f\"{metric.capitalize()} is\", len(result))\n",
      "c:\\Users\\Moustapha\\AppData\\Local\\Programs\\Python\\Python312\\Lib\\site-packages\\sklearn\\metrics\\_classification.py:1497: UndefinedMetricWarning: Precision is ill-defined and being set to 0.0 in labels with no predicted samples. Use `zero_division` parameter to control this behavior.\n",
      "  _warn_prf(average, modifier, f\"{metric.capitalize()} is\", len(result))\n"
     ]
    },
    {
     "name": "stdout",
     "output_type": "stream",
     "text": [
      "{'0': {'precision': 0.7448015122873346, 'recall': 0.9949494949494949, 'f1-score': 0.8518918918918919, 'support': 396.0}, '1': {'precision': 0.3333333333333333, 'recall': 0.0196078431372549, 'f1-score': 0.037037037037037035, 'support': 51.0}, '2': {'precision': 0.0, 'recall': 0.0, 'f1-score': 0.0, 'support': 7.0}, '3': {'precision': 0.0, 'recall': 0.0, 'f1-score': 0.0, 'support': 78.0}, 'accuracy': 0.7424812030075187, 'macro avg': {'precision': 0.26953371140516696, 'recall': 0.25363933452168747, 'f1-score': 0.2222322322322322, 'support': 532.0}, 'weighted avg': {'precision': 0.5863560129056099, 'recall': 0.7424812030075187, 'f1-score': 0.6376655602971393, 'support': 532.0}} for parameters {'num_class': 4, 'alpha': 0.01, 'device': 'cuda', 'eta': 0.01, 'eval_metric': 'logloss', 'gamma': 0.05, 'grow_policy': 'depthwise', 'lambda': 0.1, 'max_depth': 3, 'num_parallel_tree': 30, 'objective': 'multi:softmax', 'sampling_method': 'uniform', 'subsample': 0.3, 'tree_method': 'approx'}\n"
     ]
    },
    {
     "name": "stderr",
     "output_type": "stream",
     "text": [
      "c:\\Users\\Moustapha\\AppData\\Local\\Programs\\Python\\Python312\\Lib\\site-packages\\sklearn\\metrics\\_classification.py:1497: UndefinedMetricWarning: Precision is ill-defined and being set to 0.0 in labels with no predicted samples. Use `zero_division` parameter to control this behavior.\n",
      "  _warn_prf(average, modifier, f\"{metric.capitalize()} is\", len(result))\n",
      "c:\\Users\\Moustapha\\AppData\\Local\\Programs\\Python\\Python312\\Lib\\site-packages\\sklearn\\metrics\\_classification.py:1497: UndefinedMetricWarning: Precision is ill-defined and being set to 0.0 in labels with no predicted samples. Use `zero_division` parameter to control this behavior.\n",
      "  _warn_prf(average, modifier, f\"{metric.capitalize()} is\", len(result))\n",
      "c:\\Users\\Moustapha\\AppData\\Local\\Programs\\Python\\Python312\\Lib\\site-packages\\sklearn\\metrics\\_classification.py:1497: UndefinedMetricWarning: Precision is ill-defined and being set to 0.0 in labels with no predicted samples. Use `zero_division` parameter to control this behavior.\n",
      "  _warn_prf(average, modifier, f\"{metric.capitalize()} is\", len(result))\n"
     ]
    },
    {
     "name": "stdout",
     "output_type": "stream",
     "text": [
      "{'0': {'precision': 0.806, 'recall': 0.96875, 'f1-score': 0.8799126637554585, 'support': 416.0}, '1': {'precision': 0.3939393939393939, 'recall': 0.3333333333333333, 'f1-score': 0.3611111111111111, 'support': 39.0}, '2': {'precision': 0.0, 'recall': 0.0, 'f1-score': 0.0, 'support': 8.0}, '3': {'precision': 0.0, 'recall': 0.0, 'f1-score': 0.0, 'support': 70.0}, 'accuracy': 0.7804878048780488, 'macro avg': {'precision': 0.2999848484848485, 'recall': 0.3255208333333333, 'f1-score': 0.3102559437166424, 'support': 533.0}, 'weighted avg': {'precision': 0.6578980044345899, 'recall': 0.7804878048780488, 'f1-score': 0.7131838676465366, 'support': 533.0}} for parameters {'num_class': 4, 'alpha': 0.01, 'device': 'cuda', 'eta': 0.01, 'eval_metric': 'logloss', 'gamma': 0.05, 'grow_policy': 'depthwise', 'lambda': 0.1, 'max_depth': 3, 'num_parallel_tree': 30, 'objective': 'multi:softmax', 'sampling_method': 'uniform', 'subsample': 0.5, 'tree_method': 'hist'}\n"
     ]
    },
    {
     "name": "stderr",
     "output_type": "stream",
     "text": [
      "c:\\Users\\Moustapha\\AppData\\Local\\Programs\\Python\\Python312\\Lib\\site-packages\\sklearn\\metrics\\_classification.py:1497: UndefinedMetricWarning: Precision is ill-defined and being set to 0.0 in labels with no predicted samples. Use `zero_division` parameter to control this behavior.\n",
      "  _warn_prf(average, modifier, f\"{metric.capitalize()} is\", len(result))\n",
      "c:\\Users\\Moustapha\\AppData\\Local\\Programs\\Python\\Python312\\Lib\\site-packages\\sklearn\\metrics\\_classification.py:1497: UndefinedMetricWarning: Precision is ill-defined and being set to 0.0 in labels with no predicted samples. Use `zero_division` parameter to control this behavior.\n",
      "  _warn_prf(average, modifier, f\"{metric.capitalize()} is\", len(result))\n",
      "c:\\Users\\Moustapha\\AppData\\Local\\Programs\\Python\\Python312\\Lib\\site-packages\\sklearn\\metrics\\_classification.py:1497: UndefinedMetricWarning: Precision is ill-defined and being set to 0.0 in labels with no predicted samples. Use `zero_division` parameter to control this behavior.\n",
      "  _warn_prf(average, modifier, f\"{metric.capitalize()} is\", len(result))\n"
     ]
    },
    {
     "name": "stdout",
     "output_type": "stream",
     "text": [
      "{'0': {'precision': 0.7218045112781954, 'recall': 1.0, 'f1-score': 0.8384279475982532, 'support': 384.0}, '1': {'precision': 0.0, 'recall': 0.0, 'f1-score': 0.0, 'support': 61.0}, '2': {'precision': 0.0, 'recall': 0.0, 'f1-score': 0.0, 'support': 7.0}, '3': {'precision': 0.0, 'recall': 0.0, 'f1-score': 0.0, 'support': 80.0}, 'accuracy': 0.7218045112781954, 'macro avg': {'precision': 0.18045112781954886, 'recall': 0.25, 'f1-score': 0.2096069868995633, 'support': 532.0}, 'weighted avg': {'precision': 0.5210017525015546, 'recall': 0.7218045112781954, 'f1-score': 0.6051810749581377, 'support': 532.0}} for parameters {'num_class': 4, 'alpha': 0.01, 'device': 'cuda', 'eta': 0.01, 'eval_metric': 'logloss', 'gamma': 0.05, 'grow_policy': 'depthwise', 'lambda': 0.1, 'max_depth': 3, 'num_parallel_tree': 30, 'objective': 'multi:softmax', 'sampling_method': 'uniform', 'subsample': 0.5, 'tree_method': 'hist'}\n"
     ]
    },
    {
     "name": "stderr",
     "output_type": "stream",
     "text": [
      "c:\\Users\\Moustapha\\AppData\\Local\\Programs\\Python\\Python312\\Lib\\site-packages\\sklearn\\metrics\\_classification.py:1497: UndefinedMetricWarning: Precision is ill-defined and being set to 0.0 in labels with no predicted samples. Use `zero_division` parameter to control this behavior.\n",
      "  _warn_prf(average, modifier, f\"{metric.capitalize()} is\", len(result))\n",
      "c:\\Users\\Moustapha\\AppData\\Local\\Programs\\Python\\Python312\\Lib\\site-packages\\sklearn\\metrics\\_classification.py:1497: UndefinedMetricWarning: Precision is ill-defined and being set to 0.0 in labels with no predicted samples. Use `zero_division` parameter to control this behavior.\n",
      "  _warn_prf(average, modifier, f\"{metric.capitalize()} is\", len(result))\n",
      "c:\\Users\\Moustapha\\AppData\\Local\\Programs\\Python\\Python312\\Lib\\site-packages\\sklearn\\metrics\\_classification.py:1497: UndefinedMetricWarning: Precision is ill-defined and being set to 0.0 in labels with no predicted samples. Use `zero_division` parameter to control this behavior.\n",
      "  _warn_prf(average, modifier, f\"{metric.capitalize()} is\", len(result))\n"
     ]
    },
    {
     "name": "stdout",
     "output_type": "stream",
     "text": [
      "{'0': {'precision': 0.7391304347826086, 'recall': 1.0, 'f1-score': 0.85, 'support': 391.0}, '1': {'precision': 1.0, 'recall': 0.07547169811320754, 'f1-score': 0.14035087719298245, 'support': 53.0}, '2': {'precision': 0.0, 'recall': 0.0, 'f1-score': 0.0, 'support': 7.0}, '3': {'precision': 0.0, 'recall': 0.0, 'f1-score': 0.0, 'support': 82.0}, 'accuracy': 0.7410881801125704, 'macro avg': {'precision': 0.43478260869565216, 'recall': 0.2688679245283019, 'f1-score': 0.2475877192982456, 'support': 533.0}, 'weighted avg': {'precision': 0.6416510318949343, 'recall': 0.7410881801125704, 'f1-score': 0.6375020572068067, 'support': 533.0}} for parameters {'num_class': 4, 'alpha': 0.01, 'device': 'cuda', 'eta': 0.01, 'eval_metric': 'logloss', 'gamma': 0.05, 'grow_policy': 'depthwise', 'lambda': 0.1, 'max_depth': 3, 'num_parallel_tree': 30, 'objective': 'multi:softmax', 'sampling_method': 'uniform', 'subsample': 0.5, 'tree_method': 'approx'}\n"
     ]
    },
    {
     "name": "stderr",
     "output_type": "stream",
     "text": [
      "c:\\Users\\Moustapha\\AppData\\Local\\Programs\\Python\\Python312\\Lib\\site-packages\\sklearn\\metrics\\_classification.py:1497: UndefinedMetricWarning: Precision is ill-defined and being set to 0.0 in labels with no predicted samples. Use `zero_division` parameter to control this behavior.\n",
      "  _warn_prf(average, modifier, f\"{metric.capitalize()} is\", len(result))\n",
      "c:\\Users\\Moustapha\\AppData\\Local\\Programs\\Python\\Python312\\Lib\\site-packages\\sklearn\\metrics\\_classification.py:1497: UndefinedMetricWarning: Precision is ill-defined and being set to 0.0 in labels with no predicted samples. Use `zero_division` parameter to control this behavior.\n",
      "  _warn_prf(average, modifier, f\"{metric.capitalize()} is\", len(result))\n",
      "c:\\Users\\Moustapha\\AppData\\Local\\Programs\\Python\\Python312\\Lib\\site-packages\\sklearn\\metrics\\_classification.py:1497: UndefinedMetricWarning: Precision is ill-defined and being set to 0.0 in labels with no predicted samples. Use `zero_division` parameter to control this behavior.\n",
      "  _warn_prf(average, modifier, f\"{metric.capitalize()} is\", len(result))\n"
     ]
    },
    {
     "name": "stdout",
     "output_type": "stream",
     "text": [
      "{'0': {'precision': 0.7818532818532818, 'recall': 0.9902200488997555, 'f1-score': 0.8737864077669902, 'support': 409.0}, '1': {'precision': 0.5, 'recall': 0.14893617021276595, 'f1-score': 0.22950819672131148, 'support': 47.0}, '2': {'precision': 0.0, 'recall': 0.0, 'f1-score': 0.0, 'support': 8.0}, '3': {'precision': 0.0, 'recall': 0.0, 'f1-score': 0.0, 'support': 68.0}, 'accuracy': 0.7744360902255639, 'macro avg': {'precision': 0.3204633204633205, 'recall': 0.2847890547781303, 'f1-score': 0.2758236511220754, 'support': 532.0}, 'weighted avg': {'precision': 0.6452593839811884, 'recall': 0.7744360902255639, 'f1-score': 0.6920404624484975, 'support': 532.0}} for parameters {'num_class': 4, 'alpha': 0.01, 'device': 'cuda', 'eta': 0.01, 'eval_metric': 'logloss', 'gamma': 0.05, 'grow_policy': 'depthwise', 'lambda': 0.1, 'max_depth': 3, 'num_parallel_tree': 30, 'objective': 'multi:softmax', 'sampling_method': 'uniform', 'subsample': 0.5, 'tree_method': 'approx'}\n"
     ]
    },
    {
     "name": "stderr",
     "output_type": "stream",
     "text": [
      "c:\\Users\\Moustapha\\AppData\\Local\\Programs\\Python\\Python312\\Lib\\site-packages\\sklearn\\metrics\\_classification.py:1497: UndefinedMetricWarning: Precision is ill-defined and being set to 0.0 in labels with no predicted samples. Use `zero_division` parameter to control this behavior.\n",
      "  _warn_prf(average, modifier, f\"{metric.capitalize()} is\", len(result))\n",
      "c:\\Users\\Moustapha\\AppData\\Local\\Programs\\Python\\Python312\\Lib\\site-packages\\sklearn\\metrics\\_classification.py:1497: UndefinedMetricWarning: Precision is ill-defined and being set to 0.0 in labels with no predicted samples. Use `zero_division` parameter to control this behavior.\n",
      "  _warn_prf(average, modifier, f\"{metric.capitalize()} is\", len(result))\n",
      "c:\\Users\\Moustapha\\AppData\\Local\\Programs\\Python\\Python312\\Lib\\site-packages\\sklearn\\metrics\\_classification.py:1497: UndefinedMetricWarning: Precision is ill-defined and being set to 0.0 in labels with no predicted samples. Use `zero_division` parameter to control this behavior.\n",
      "  _warn_prf(average, modifier, f\"{metric.capitalize()} is\", len(result))\n"
     ]
    },
    {
     "name": "stdout",
     "output_type": "stream",
     "text": [
      "{'0': {'precision': 0.7714285714285715, 'recall': 0.995085995085995, 'f1-score': 0.869098712446352, 'support': 407.0}, '1': {'precision': 0.7142857142857143, 'recall': 0.1, 'f1-score': 0.17543859649122806, 'support': 50.0}, '2': {'precision': 0.0, 'recall': 0.0, 'f1-score': 0.0, 'support': 6.0}, '3': {'precision': 0.0, 'recall': 0.0, 'f1-score': 0.0, 'support': 70.0}, 'accuracy': 0.7692307692307693, 'macro avg': {'precision': 0.37142857142857144, 'recall': 0.27377149877149876, 'f1-score': 0.261134327234395, 'support': 533.0}, 'weighted avg': {'precision': 0.6560707585097829, 'recall': 0.7692307692307693, 'f1-score': 0.6801033879741588, 'support': 533.0}} for parameters {'num_class': 4, 'alpha': 0.01, 'device': 'cuda', 'eta': 0.01, 'eval_metric': 'logloss', 'gamma': 0.05, 'grow_policy': 'depthwise', 'lambda': 0.1, 'max_depth': 3, 'num_parallel_tree': 30, 'objective': 'multi:softmax', 'sampling_method': 'uniform', 'subsample': 0.8, 'tree_method': 'hist'}\n"
     ]
    },
    {
     "name": "stderr",
     "output_type": "stream",
     "text": [
      "c:\\Users\\Moustapha\\AppData\\Local\\Programs\\Python\\Python312\\Lib\\site-packages\\sklearn\\metrics\\_classification.py:1497: UndefinedMetricWarning: Precision is ill-defined and being set to 0.0 in labels with no predicted samples. Use `zero_division` parameter to control this behavior.\n",
      "  _warn_prf(average, modifier, f\"{metric.capitalize()} is\", len(result))\n",
      "c:\\Users\\Moustapha\\AppData\\Local\\Programs\\Python\\Python312\\Lib\\site-packages\\sklearn\\metrics\\_classification.py:1497: UndefinedMetricWarning: Precision is ill-defined and being set to 0.0 in labels with no predicted samples. Use `zero_division` parameter to control this behavior.\n",
      "  _warn_prf(average, modifier, f\"{metric.capitalize()} is\", len(result))\n",
      "c:\\Users\\Moustapha\\AppData\\Local\\Programs\\Python\\Python312\\Lib\\site-packages\\sklearn\\metrics\\_classification.py:1497: UndefinedMetricWarning: Precision is ill-defined and being set to 0.0 in labels with no predicted samples. Use `zero_division` parameter to control this behavior.\n",
      "  _warn_prf(average, modifier, f\"{metric.capitalize()} is\", len(result))\n"
     ]
    },
    {
     "name": "stdout",
     "output_type": "stream",
     "text": [
      "{'0': {'precision': 0.7544204322200393, 'recall': 0.9770992366412213, 'f1-score': 0.8514412416851441, 'support': 393.0}, '1': {'precision': 0.391304347826087, 'recall': 0.18, 'f1-score': 0.2465753424657534, 'support': 50.0}, '2': {'precision': 0.0, 'recall': 0.0, 'f1-score': 0.0, 'support': 9.0}, '3': {'precision': 0.0, 'recall': 0.0, 'f1-score': 0.0, 'support': 80.0}, 'accuracy': 0.7387218045112782, 'macro avg': {'precision': 0.2864311950115316, 'recall': 0.28927480916030535, 'f1-score': 0.2745041460377244, 'support': 532.0}, 'weighted avg': {'precision': 0.5940835474695109, 'recall': 0.7387218045112782, 'f1-score': 0.6521525847848672, 'support': 532.0}} for parameters {'num_class': 4, 'alpha': 0.01, 'device': 'cuda', 'eta': 0.01, 'eval_metric': 'logloss', 'gamma': 0.05, 'grow_policy': 'depthwise', 'lambda': 0.1, 'max_depth': 3, 'num_parallel_tree': 30, 'objective': 'multi:softmax', 'sampling_method': 'uniform', 'subsample': 0.8, 'tree_method': 'hist'}\n"
     ]
    },
    {
     "name": "stderr",
     "output_type": "stream",
     "text": [
      "c:\\Users\\Moustapha\\AppData\\Local\\Programs\\Python\\Python312\\Lib\\site-packages\\sklearn\\metrics\\_classification.py:1497: UndefinedMetricWarning: Precision is ill-defined and being set to 0.0 in labels with no predicted samples. Use `zero_division` parameter to control this behavior.\n",
      "  _warn_prf(average, modifier, f\"{metric.capitalize()} is\", len(result))\n",
      "c:\\Users\\Moustapha\\AppData\\Local\\Programs\\Python\\Python312\\Lib\\site-packages\\sklearn\\metrics\\_classification.py:1497: UndefinedMetricWarning: Precision is ill-defined and being set to 0.0 in labels with no predicted samples. Use `zero_division` parameter to control this behavior.\n",
      "  _warn_prf(average, modifier, f\"{metric.capitalize()} is\", len(result))\n",
      "c:\\Users\\Moustapha\\AppData\\Local\\Programs\\Python\\Python312\\Lib\\site-packages\\sklearn\\metrics\\_classification.py:1497: UndefinedMetricWarning: Precision is ill-defined and being set to 0.0 in labels with no predicted samples. Use `zero_division` parameter to control this behavior.\n",
      "  _warn_prf(average, modifier, f\"{metric.capitalize()} is\", len(result))\n"
     ]
    },
    {
     "name": "stdout",
     "output_type": "stream",
     "text": [
      "{'0': {'precision': 0.7757936507936508, 'recall': 0.972636815920398, 'f1-score': 0.8631346578366446, 'support': 402.0}, '1': {'precision': 0.41379310344827586, 'recall': 0.27906976744186046, 'f1-score': 0.3333333333333333, 'support': 43.0}, '2': {'precision': 0.0, 'recall': 0.0, 'f1-score': 0.0, 'support': 8.0}, '3': {'precision': 0.0, 'recall': 0.0, 'f1-score': 0.0, 'support': 80.0}, 'accuracy': 0.7560975609756098, 'macro avg': {'precision': 0.2973966885604817, 'recall': 0.3129266458405646, 'f1-score': 0.29911699779249445, 'support': 533.0}, 'weighted avg': {'precision': 0.6185030976872862, 'recall': 0.7560975609756098, 'f1-score': 0.6778864273614716, 'support': 533.0}} for parameters {'num_class': 4, 'alpha': 0.01, 'device': 'cuda', 'eta': 0.01, 'eval_metric': 'logloss', 'gamma': 0.05, 'grow_policy': 'depthwise', 'lambda': 0.1, 'max_depth': 3, 'num_parallel_tree': 30, 'objective': 'multi:softmax', 'sampling_method': 'uniform', 'subsample': 0.8, 'tree_method': 'approx'}\n"
     ]
    },
    {
     "name": "stderr",
     "output_type": "stream",
     "text": [
      "c:\\Users\\Moustapha\\AppData\\Local\\Programs\\Python\\Python312\\Lib\\site-packages\\sklearn\\metrics\\_classification.py:1497: UndefinedMetricWarning: Precision is ill-defined and being set to 0.0 in labels with no predicted samples. Use `zero_division` parameter to control this behavior.\n",
      "  _warn_prf(average, modifier, f\"{metric.capitalize()} is\", len(result))\n",
      "c:\\Users\\Moustapha\\AppData\\Local\\Programs\\Python\\Python312\\Lib\\site-packages\\sklearn\\metrics\\_classification.py:1497: UndefinedMetricWarning: Precision is ill-defined and being set to 0.0 in labels with no predicted samples. Use `zero_division` parameter to control this behavior.\n",
      "  _warn_prf(average, modifier, f\"{metric.capitalize()} is\", len(result))\n",
      "c:\\Users\\Moustapha\\AppData\\Local\\Programs\\Python\\Python312\\Lib\\site-packages\\sklearn\\metrics\\_classification.py:1497: UndefinedMetricWarning: Precision is ill-defined and being set to 0.0 in labels with no predicted samples. Use `zero_division` parameter to control this behavior.\n",
      "  _warn_prf(average, modifier, f\"{metric.capitalize()} is\", len(result))\n"
     ]
    },
    {
     "name": "stdout",
     "output_type": "stream",
     "text": [
      "{'0': {'precision': 0.7704280155642024, 'recall': 0.9949748743718593, 'f1-score': 0.868421052631579, 'support': 398.0}, '1': {'precision': 0.5, 'recall': 0.15789473684210525, 'f1-score': 0.24, 'support': 57.0}, '2': {'precision': 0.0, 'recall': 0.0, 'f1-score': 0.0, 'support': 7.0}, '3': {'precision': 0.0, 'recall': 0.0, 'f1-score': 0.0, 'support': 70.0}, 'accuracy': 0.7612781954887218, 'macro avg': {'precision': 0.31760700389105057, 'recall': 0.2882174028034911, 'f1-score': 0.27710526315789474, 'support': 532.0}, 'weighted avg': {'precision': 0.6299442672829935, 'recall': 0.7612781954887218, 'f1-score': 0.6753977047882865, 'support': 532.0}} for parameters {'num_class': 4, 'alpha': 0.01, 'device': 'cuda', 'eta': 0.01, 'eval_metric': 'logloss', 'gamma': 0.05, 'grow_policy': 'depthwise', 'lambda': 0.1, 'max_depth': 3, 'num_parallel_tree': 30, 'objective': 'multi:softmax', 'sampling_method': 'uniform', 'subsample': 0.8, 'tree_method': 'approx'}\n"
     ]
    },
    {
     "name": "stderr",
     "output_type": "stream",
     "text": [
      "c:\\Users\\Moustapha\\AppData\\Local\\Programs\\Python\\Python312\\Lib\\site-packages\\sklearn\\metrics\\_classification.py:1497: UndefinedMetricWarning: Precision is ill-defined and being set to 0.0 in labels with no predicted samples. Use `zero_division` parameter to control this behavior.\n",
      "  _warn_prf(average, modifier, f\"{metric.capitalize()} is\", len(result))\n",
      "c:\\Users\\Moustapha\\AppData\\Local\\Programs\\Python\\Python312\\Lib\\site-packages\\sklearn\\metrics\\_classification.py:1497: UndefinedMetricWarning: Precision is ill-defined and being set to 0.0 in labels with no predicted samples. Use `zero_division` parameter to control this behavior.\n",
      "  _warn_prf(average, modifier, f\"{metric.capitalize()} is\", len(result))\n",
      "c:\\Users\\Moustapha\\AppData\\Local\\Programs\\Python\\Python312\\Lib\\site-packages\\sklearn\\metrics\\_classification.py:1497: UndefinedMetricWarning: Precision is ill-defined and being set to 0.0 in labels with no predicted samples. Use `zero_division` parameter to control this behavior.\n",
      "  _warn_prf(average, modifier, f\"{metric.capitalize()} is\", len(result))\n"
     ]
    },
    {
     "name": "stdout",
     "output_type": "stream",
     "text": [
      "{'0': {'precision': 0.7310606060606061, 'recall': 0.9974160206718347, 'f1-score': 0.8437158469945355, 'support': 387.0}, '1': {'precision': 0.8, 'recall': 0.07142857142857142, 'f1-score': 0.13114754098360656, 'support': 56.0}, '2': {'precision': 0.0, 'recall': 0.0, 'f1-score': 0.0, 'support': 8.0}, '3': {'precision': 0.0, 'recall': 0.0, 'f1-score': 0.0, 'support': 82.0}, 'accuracy': 0.7317073170731707, 'macro avg': {'precision': 0.38276515151515156, 'recall': 0.26721114802510154, 'f1-score': 0.24371584699453552, 'support': 533.0}, 'weighted avg': {'precision': 0.6148601398601399, 'recall': 0.7317073170731707, 'f1-score': 0.6263832928367115, 'support': 533.0}} for parameters {'num_class': 4, 'alpha': 0.01, 'device': 'cuda', 'eta': 0.01, 'eval_metric': 'logloss', 'gamma': 0.05, 'grow_policy': 'depthwise', 'lambda': 0.1, 'max_depth': 3, 'num_parallel_tree': 30, 'objective': 'multi:softmax', 'sampling_method': 'gradient_based', 'subsample': 0.3, 'tree_method': 'hist'}\n"
     ]
    },
    {
     "name": "stderr",
     "output_type": "stream",
     "text": [
      "c:\\Users\\Moustapha\\AppData\\Local\\Programs\\Python\\Python312\\Lib\\site-packages\\sklearn\\metrics\\_classification.py:1497: UndefinedMetricWarning: Precision is ill-defined and being set to 0.0 in labels with no predicted samples. Use `zero_division` parameter to control this behavior.\n",
      "  _warn_prf(average, modifier, f\"{metric.capitalize()} is\", len(result))\n",
      "c:\\Users\\Moustapha\\AppData\\Local\\Programs\\Python\\Python312\\Lib\\site-packages\\sklearn\\metrics\\_classification.py:1497: UndefinedMetricWarning: Precision is ill-defined and being set to 0.0 in labels with no predicted samples. Use `zero_division` parameter to control this behavior.\n",
      "  _warn_prf(average, modifier, f\"{metric.capitalize()} is\", len(result))\n",
      "c:\\Users\\Moustapha\\AppData\\Local\\Programs\\Python\\Python312\\Lib\\site-packages\\sklearn\\metrics\\_classification.py:1497: UndefinedMetricWarning: Precision is ill-defined and being set to 0.0 in labels with no predicted samples. Use `zero_division` parameter to control this behavior.\n",
      "  _warn_prf(average, modifier, f\"{metric.capitalize()} is\", len(result))\n"
     ]
    },
    {
     "name": "stdout",
     "output_type": "stream",
     "text": [
      "{'0': {'precision': 0.8, 'recall': 0.9685230024213075, 'f1-score': 0.8762322015334063, 'support': 413.0}, '1': {'precision': 0.3125, 'recall': 0.22727272727272727, 'f1-score': 0.2631578947368421, 'support': 44.0}, '2': {'precision': 0.0, 'recall': 0.0, 'f1-score': 0.0, 'support': 7.0}, '3': {'precision': 0.0, 'recall': 0.0, 'f1-score': 0.0, 'support': 68.0}, 'accuracy': 0.7706766917293233, 'macro avg': {'precision': 0.278125, 'recall': 0.2989489324235087, 'f1-score': 0.2848475240675621, 'support': 532.0}, 'weighted avg': {'precision': 0.6468984962406016, 'recall': 0.7706766917293233, 'f1-score': 0.7019978319581163, 'support': 532.0}} for parameters {'num_class': 4, 'alpha': 0.01, 'device': 'cuda', 'eta': 0.01, 'eval_metric': 'logloss', 'gamma': 0.05, 'grow_policy': 'depthwise', 'lambda': 0.1, 'max_depth': 3, 'num_parallel_tree': 30, 'objective': 'multi:softmax', 'sampling_method': 'gradient_based', 'subsample': 0.3, 'tree_method': 'hist'}\n"
     ]
    },
    {
     "name": "stderr",
     "output_type": "stream",
     "text": [
      "c:\\Users\\Moustapha\\AppData\\Local\\Programs\\Python\\Python312\\Lib\\site-packages\\sklearn\\metrics\\_classification.py:1497: UndefinedMetricWarning: Precision is ill-defined and being set to 0.0 in labels with no predicted samples. Use `zero_division` parameter to control this behavior.\n",
      "  _warn_prf(average, modifier, f\"{metric.capitalize()} is\", len(result))\n",
      "c:\\Users\\Moustapha\\AppData\\Local\\Programs\\Python\\Python312\\Lib\\site-packages\\sklearn\\metrics\\_classification.py:1497: UndefinedMetricWarning: Precision is ill-defined and being set to 0.0 in labels with no predicted samples. Use `zero_division` parameter to control this behavior.\n",
      "  _warn_prf(average, modifier, f\"{metric.capitalize()} is\", len(result))\n",
      "c:\\Users\\Moustapha\\AppData\\Local\\Programs\\Python\\Python312\\Lib\\site-packages\\sklearn\\metrics\\_classification.py:1497: UndefinedMetricWarning: Precision is ill-defined and being set to 0.0 in labels with no predicted samples. Use `zero_division` parameter to control this behavior.\n",
      "  _warn_prf(average, modifier, f\"{metric.capitalize()} is\", len(result))\n"
     ]
    },
    {
     "name": "stdout",
     "output_type": "stream",
     "text": [
      "{'0': {'precision': 0.7414448669201521, 'recall': 0.9948979591836735, 'f1-score': 0.8496732026143791, 'support': 392.0}, '1': {'precision': 0.6, 'recall': 0.057692307692307696, 'f1-score': 0.10526315789473684, 'support': 52.0}, '2': {'precision': 0.0, 'recall': 0.0, 'f1-score': 0.0, 'support': 8.0}, '3': {'precision': 0.0, 'recall': 0.0, 'f1-score': 0.0, 'support': 81.0}, 'accuracy': 0.7373358348968105, 'macro avg': {'precision': 0.33536121673003805, 'recall': 0.2631475667189953, 'f1-score': 0.23873409012727898, 'support': 533.0}, 'weighted avg': {'precision': 0.6038393767968098, 'recall': 0.7373358348968105, 'f1-score': 0.6351699430306996, 'support': 533.0}} for parameters {'num_class': 4, 'alpha': 0.01, 'device': 'cuda', 'eta': 0.01, 'eval_metric': 'logloss', 'gamma': 0.05, 'grow_policy': 'depthwise', 'lambda': 0.1, 'max_depth': 3, 'num_parallel_tree': 30, 'objective': 'multi:softmax', 'sampling_method': 'gradient_based', 'subsample': 0.3, 'tree_method': 'approx'}\n"
     ]
    },
    {
     "name": "stderr",
     "output_type": "stream",
     "text": [
      "c:\\Users\\Moustapha\\AppData\\Local\\Programs\\Python\\Python312\\Lib\\site-packages\\sklearn\\metrics\\_classification.py:1497: UndefinedMetricWarning: Precision is ill-defined and being set to 0.0 in labels with no predicted samples. Use `zero_division` parameter to control this behavior.\n",
      "  _warn_prf(average, modifier, f\"{metric.capitalize()} is\", len(result))\n",
      "c:\\Users\\Moustapha\\AppData\\Local\\Programs\\Python\\Python312\\Lib\\site-packages\\sklearn\\metrics\\_classification.py:1497: UndefinedMetricWarning: Precision is ill-defined and being set to 0.0 in labels with no predicted samples. Use `zero_division` parameter to control this behavior.\n",
      "  _warn_prf(average, modifier, f\"{metric.capitalize()} is\", len(result))\n",
      "c:\\Users\\Moustapha\\AppData\\Local\\Programs\\Python\\Python312\\Lib\\site-packages\\sklearn\\metrics\\_classification.py:1497: UndefinedMetricWarning: Precision is ill-defined and being set to 0.0 in labels with no predicted samples. Use `zero_division` parameter to control this behavior.\n",
      "  _warn_prf(average, modifier, f\"{metric.capitalize()} is\", len(result))\n"
     ]
    },
    {
     "name": "stdout",
     "output_type": "stream",
     "text": [
      "{'0': {'precision': 0.7900990099009901, 'recall': 0.9779411764705882, 'f1-score': 0.8740416210295728, 'support': 408.0}, '1': {'precision': 0.46153846153846156, 'recall': 0.25, 'f1-score': 0.32432432432432434, 'support': 48.0}, '2': {'precision': 0.0, 'recall': 0.0, 'f1-score': 0.0, 'support': 7.0}, '3': {'precision': 0.0, 'recall': 0.0, 'f1-score': 0.0, 'support': 69.0}, 'accuracy': 0.7725563909774437, 'macro avg': {'precision': 0.3129093678598629, 'recall': 0.3069852941176471, 'f1-score': 0.2995914863384743, 'support': 532.0}, 'weighted avg': {'precision': 0.6475831620177633, 'recall': 0.7725563909774437, 'f1-score': 0.6995799792248746, 'support': 532.0}} for parameters {'num_class': 4, 'alpha': 0.01, 'device': 'cuda', 'eta': 0.01, 'eval_metric': 'logloss', 'gamma': 0.05, 'grow_policy': 'depthwise', 'lambda': 0.1, 'max_depth': 3, 'num_parallel_tree': 30, 'objective': 'multi:softmax', 'sampling_method': 'gradient_based', 'subsample': 0.3, 'tree_method': 'approx'}\n"
     ]
    },
    {
     "name": "stderr",
     "output_type": "stream",
     "text": [
      "c:\\Users\\Moustapha\\AppData\\Local\\Programs\\Python\\Python312\\Lib\\site-packages\\sklearn\\metrics\\_classification.py:1497: UndefinedMetricWarning: Precision is ill-defined and being set to 0.0 in labels with no predicted samples. Use `zero_division` parameter to control this behavior.\n",
      "  _warn_prf(average, modifier, f\"{metric.capitalize()} is\", len(result))\n",
      "c:\\Users\\Moustapha\\AppData\\Local\\Programs\\Python\\Python312\\Lib\\site-packages\\sklearn\\metrics\\_classification.py:1497: UndefinedMetricWarning: Precision is ill-defined and being set to 0.0 in labels with no predicted samples. Use `zero_division` parameter to control this behavior.\n",
      "  _warn_prf(average, modifier, f\"{metric.capitalize()} is\", len(result))\n",
      "c:\\Users\\Moustapha\\AppData\\Local\\Programs\\Python\\Python312\\Lib\\site-packages\\sklearn\\metrics\\_classification.py:1497: UndefinedMetricWarning: Precision is ill-defined and being set to 0.0 in labels with no predicted samples. Use `zero_division` parameter to control this behavior.\n",
      "  _warn_prf(average, modifier, f\"{metric.capitalize()} is\", len(result))\n"
     ]
    },
    {
     "name": "stdout",
     "output_type": "stream",
     "text": [
      "{'0': {'precision': 0.7788649706457925, 'recall': 0.9802955665024631, 'f1-score': 0.8680479825517994, 'support': 406.0}, '1': {'precision': 0.5714285714285714, 'recall': 0.23076923076923078, 'f1-score': 0.3287671232876712, 'support': 52.0}, '2': {'precision': 0.0, 'recall': 0.0, 'f1-score': 0.0, 'support': 3.0}, '3': {'precision': 0.0, 'recall': 0.0, 'f1-score': 0.0, 'support': 72.0}, 'accuracy': 0.7692307692307693, 'macro avg': {'precision': 0.33757338551859095, 'recall': 0.3027661993179235, 'f1-score': 0.2992037764598676, 'support': 533.0}, 'weighted avg': {'precision': 0.6490308889239728, 'recall': 0.7692307692307693, 'f1-score': 0.6932896272551398, 'support': 533.0}} for parameters {'num_class': 4, 'alpha': 0.01, 'device': 'cuda', 'eta': 0.01, 'eval_metric': 'logloss', 'gamma': 0.05, 'grow_policy': 'depthwise', 'lambda': 0.1, 'max_depth': 3, 'num_parallel_tree': 30, 'objective': 'multi:softmax', 'sampling_method': 'gradient_based', 'subsample': 0.5, 'tree_method': 'hist'}\n"
     ]
    },
    {
     "name": "stderr",
     "output_type": "stream",
     "text": [
      "c:\\Users\\Moustapha\\AppData\\Local\\Programs\\Python\\Python312\\Lib\\site-packages\\sklearn\\metrics\\_classification.py:1497: UndefinedMetricWarning: Precision is ill-defined and being set to 0.0 in labels with no predicted samples. Use `zero_division` parameter to control this behavior.\n",
      "  _warn_prf(average, modifier, f\"{metric.capitalize()} is\", len(result))\n",
      "c:\\Users\\Moustapha\\AppData\\Local\\Programs\\Python\\Python312\\Lib\\site-packages\\sklearn\\metrics\\_classification.py:1497: UndefinedMetricWarning: Precision is ill-defined and being set to 0.0 in labels with no predicted samples. Use `zero_division` parameter to control this behavior.\n",
      "  _warn_prf(average, modifier, f\"{metric.capitalize()} is\", len(result))\n",
      "c:\\Users\\Moustapha\\AppData\\Local\\Programs\\Python\\Python312\\Lib\\site-packages\\sklearn\\metrics\\_classification.py:1497: UndefinedMetricWarning: Precision is ill-defined and being set to 0.0 in labels with no predicted samples. Use `zero_division` parameter to control this behavior.\n",
      "  _warn_prf(average, modifier, f\"{metric.capitalize()} is\", len(result))\n"
     ]
    },
    {
     "name": "stdout",
     "output_type": "stream",
     "text": [
      "{'0': {'precision': 0.751434034416826, 'recall': 0.9974619289340102, 'f1-score': 0.8571428571428571, 'support': 394.0}, '1': {'precision': 0.6666666666666666, 'recall': 0.125, 'f1-score': 0.21052631578947367, 'support': 48.0}, '2': {'precision': 0.0, 'recall': 0.0, 'f1-score': 0.0, 'support': 12.0}, '3': {'precision': 0.0, 'recall': 0.0, 'f1-score': 0.0, 'support': 78.0}, 'accuracy': 0.75, 'macro avg': {'precision': 0.3545251752708731, 'recall': 0.2806154822335025, 'f1-score': 0.26691729323308266, 'support': 532.0}, 'weighted avg': {'precision': 0.6166635518049426, 'recall': 0.75, 'f1-score': 0.6537961444965799, 'support': 532.0}} for parameters {'num_class': 4, 'alpha': 0.01, 'device': 'cuda', 'eta': 0.01, 'eval_metric': 'logloss', 'gamma': 0.05, 'grow_policy': 'depthwise', 'lambda': 0.1, 'max_depth': 3, 'num_parallel_tree': 30, 'objective': 'multi:softmax', 'sampling_method': 'gradient_based', 'subsample': 0.5, 'tree_method': 'hist'}\n"
     ]
    },
    {
     "name": "stderr",
     "output_type": "stream",
     "text": [
      "c:\\Users\\Moustapha\\AppData\\Local\\Programs\\Python\\Python312\\Lib\\site-packages\\sklearn\\metrics\\_classification.py:1497: UndefinedMetricWarning: Precision is ill-defined and being set to 0.0 in labels with no predicted samples. Use `zero_division` parameter to control this behavior.\n",
      "  _warn_prf(average, modifier, f\"{metric.capitalize()} is\", len(result))\n",
      "c:\\Users\\Moustapha\\AppData\\Local\\Programs\\Python\\Python312\\Lib\\site-packages\\sklearn\\metrics\\_classification.py:1497: UndefinedMetricWarning: Precision is ill-defined and being set to 0.0 in labels with no predicted samples. Use `zero_division` parameter to control this behavior.\n",
      "  _warn_prf(average, modifier, f\"{metric.capitalize()} is\", len(result))\n",
      "c:\\Users\\Moustapha\\AppData\\Local\\Programs\\Python\\Python312\\Lib\\site-packages\\sklearn\\metrics\\_classification.py:1497: UndefinedMetricWarning: Precision is ill-defined and being set to 0.0 in labels with no predicted samples. Use `zero_division` parameter to control this behavior.\n",
      "  _warn_prf(average, modifier, f\"{metric.capitalize()} is\", len(result))\n"
     ]
    },
    {
     "name": "stdout",
     "output_type": "stream",
     "text": [
      "{'0': {'precision': 0.7591522157996147, 'recall': 0.985, 'f1-score': 0.8574537540805223, 'support': 400.0}, '1': {'precision': 0.35714285714285715, 'recall': 0.10204081632653061, 'f1-score': 0.15873015873015872, 'support': 49.0}, '2': {'precision': 0.0, 'recall': 0.0, 'f1-score': 0.0, 'support': 5.0}, '3': {'precision': 0.0, 'recall': 0.0, 'f1-score': 0.0, 'support': 79.0}, 'accuracy': 0.7485928705440901, 'macro avg': {'precision': 0.27907376823561797, 'recall': 0.27176020408163265, 'f1-score': 0.2540459782026703, 'support': 533.0}, 'weighted avg': {'precision': 0.6025532576357333, 'recall': 0.7485928705440901, 'f1-score': 0.658084951988718, 'support': 533.0}} for parameters {'num_class': 4, 'alpha': 0.01, 'device': 'cuda', 'eta': 0.01, 'eval_metric': 'logloss', 'gamma': 0.05, 'grow_policy': 'depthwise', 'lambda': 0.1, 'max_depth': 3, 'num_parallel_tree': 30, 'objective': 'multi:softmax', 'sampling_method': 'gradient_based', 'subsample': 0.5, 'tree_method': 'approx'}\n"
     ]
    },
    {
     "name": "stderr",
     "output_type": "stream",
     "text": [
      "c:\\Users\\Moustapha\\AppData\\Local\\Programs\\Python\\Python312\\Lib\\site-packages\\sklearn\\metrics\\_classification.py:1497: UndefinedMetricWarning: Precision is ill-defined and being set to 0.0 in labels with no predicted samples. Use `zero_division` parameter to control this behavior.\n",
      "  _warn_prf(average, modifier, f\"{metric.capitalize()} is\", len(result))\n",
      "c:\\Users\\Moustapha\\AppData\\Local\\Programs\\Python\\Python312\\Lib\\site-packages\\sklearn\\metrics\\_classification.py:1497: UndefinedMetricWarning: Precision is ill-defined and being set to 0.0 in labels with no predicted samples. Use `zero_division` parameter to control this behavior.\n",
      "  _warn_prf(average, modifier, f\"{metric.capitalize()} is\", len(result))\n",
      "c:\\Users\\Moustapha\\AppData\\Local\\Programs\\Python\\Python312\\Lib\\site-packages\\sklearn\\metrics\\_classification.py:1497: UndefinedMetricWarning: Precision is ill-defined and being set to 0.0 in labels with no predicted samples. Use `zero_division` parameter to control this behavior.\n",
      "  _warn_prf(average, modifier, f\"{metric.capitalize()} is\", len(result))\n"
     ]
    },
    {
     "name": "stdout",
     "output_type": "stream",
     "text": [
      "{'0': {'precision': 0.7595419847328244, 'recall': 0.995, 'f1-score': 0.8614718614718615, 'support': 400.0}, '1': {'precision': 0.5714285714285714, 'recall': 0.0784313725490196, 'f1-score': 0.13793103448275862, 'support': 51.0}, '2': {'precision': 0.0, 'recall': 0.0, 'f1-score': 0.0, 'support': 10.0}, '3': {'precision': 1.0, 'recall': 0.014084507042253521, 'f1-score': 0.027777777777777776, 'support': 71.0}, 'accuracy': 0.7575187969924813, 'macro avg': {'precision': 0.582742639040349, 'recall': 0.2718789698978183, 'f1-score': 0.25679516843309946, 'support': 532.0}, 'weighted avg': {'precision': 0.7593226523232838, 'recall': 0.7575187969924813, 'f1-score': 0.6646531006947134, 'support': 532.0}} for parameters {'num_class': 4, 'alpha': 0.01, 'device': 'cuda', 'eta': 0.01, 'eval_metric': 'logloss', 'gamma': 0.05, 'grow_policy': 'depthwise', 'lambda': 0.1, 'max_depth': 3, 'num_parallel_tree': 30, 'objective': 'multi:softmax', 'sampling_method': 'gradient_based', 'subsample': 0.5, 'tree_method': 'approx'}\n"
     ]
    },
    {
     "name": "stderr",
     "output_type": "stream",
     "text": [
      "c:\\Users\\Moustapha\\AppData\\Local\\Programs\\Python\\Python312\\Lib\\site-packages\\sklearn\\metrics\\_classification.py:1497: UndefinedMetricWarning: Precision is ill-defined and being set to 0.0 in labels with no predicted samples. Use `zero_division` parameter to control this behavior.\n",
      "  _warn_prf(average, modifier, f\"{metric.capitalize()} is\", len(result))\n",
      "c:\\Users\\Moustapha\\AppData\\Local\\Programs\\Python\\Python312\\Lib\\site-packages\\sklearn\\metrics\\_classification.py:1497: UndefinedMetricWarning: Precision is ill-defined and being set to 0.0 in labels with no predicted samples. Use `zero_division` parameter to control this behavior.\n",
      "  _warn_prf(average, modifier, f\"{metric.capitalize()} is\", len(result))\n",
      "c:\\Users\\Moustapha\\AppData\\Local\\Programs\\Python\\Python312\\Lib\\site-packages\\sklearn\\metrics\\_classification.py:1497: UndefinedMetricWarning: Precision is ill-defined and being set to 0.0 in labels with no predicted samples. Use `zero_division` parameter to control this behavior.\n",
      "  _warn_prf(average, modifier, f\"{metric.capitalize()} is\", len(result))\n"
     ]
    },
    {
     "name": "stdout",
     "output_type": "stream",
     "text": [
      "{'0': {'precision': 0.7635658914728682, 'recall': 0.9899497487437185, 'f1-score': 0.862144420131291, 'support': 398.0}, '1': {'precision': 0.5294117647058824, 'recall': 0.18, 'f1-score': 0.26865671641791045, 'support': 50.0}, '2': {'precision': 0.0, 'recall': 0.0, 'f1-score': 0.0, 'support': 7.0}, '3': {'precision': 0.0, 'recall': 0.0, 'f1-score': 0.0, 'support': 78.0}, 'accuracy': 0.7560975609756098, 'macro avg': {'precision': 0.3232444140446876, 'recall': 0.2924874371859296, 'f1-score': 0.28270028413730036, 'support': 533.0}, 'weighted avg': {'precision': 0.6198307936988663, 'recall': 0.7560975609756098, 'f1-score': 0.6689799531578787, 'support': 533.0}} for parameters {'num_class': 4, 'alpha': 0.01, 'device': 'cuda', 'eta': 0.01, 'eval_metric': 'logloss', 'gamma': 0.05, 'grow_policy': 'depthwise', 'lambda': 0.1, 'max_depth': 3, 'num_parallel_tree': 30, 'objective': 'multi:softmax', 'sampling_method': 'gradient_based', 'subsample': 0.8, 'tree_method': 'hist'}\n",
      "{'0': {'precision': 0.7680311890838206, 'recall': 0.9800995024875622, 'f1-score': 0.8612021857923498, 'support': 402.0}, '1': {'precision': 0.47058823529411764, 'recall': 0.16, 'f1-score': 0.23880597014925373, 'support': 50.0}, '2': {'precision': 0.0, 'recall': 0.0, 'f1-score': 0.0, 'support': 8.0}, '3': {'precision': 1.0, 'recall': 0.013888888888888888, 'f1-score': 0.0273972602739726, 'support': 72.0}, 'accuracy': 0.7575187969924813, 'macro avg': {'precision': 0.5596548560944845, 'recall': 0.28849709784411276, 'f1-score': 0.28185135405389405, 'support': 532.0}, 'weighted avg': {'precision': 0.759920958226319, 'recall': 0.7575187969924813, 'f1-score': 0.6769101126611152, 'support': 532.0}} for parameters {'num_class': 4, 'alpha': 0.01, 'device': 'cuda', 'eta': 0.01, 'eval_metric': 'logloss', 'gamma': 0.05, 'grow_policy': 'depthwise', 'lambda': 0.1, 'max_depth': 3, 'num_parallel_tree': 30, 'objective': 'multi:softmax', 'sampling_method': 'gradient_based', 'subsample': 0.8, 'tree_method': 'hist'}\n"
     ]
    },
    {
     "name": "stderr",
     "output_type": "stream",
     "text": [
      "c:\\Users\\Moustapha\\AppData\\Local\\Programs\\Python\\Python312\\Lib\\site-packages\\sklearn\\metrics\\_classification.py:1497: UndefinedMetricWarning: Precision is ill-defined and being set to 0.0 in labels with no predicted samples. Use `zero_division` parameter to control this behavior.\n",
      "  _warn_prf(average, modifier, f\"{metric.capitalize()} is\", len(result))\n",
      "c:\\Users\\Moustapha\\AppData\\Local\\Programs\\Python\\Python312\\Lib\\site-packages\\sklearn\\metrics\\_classification.py:1497: UndefinedMetricWarning: Precision is ill-defined and being set to 0.0 in labels with no predicted samples. Use `zero_division` parameter to control this behavior.\n",
      "  _warn_prf(average, modifier, f\"{metric.capitalize()} is\", len(result))\n",
      "c:\\Users\\Moustapha\\AppData\\Local\\Programs\\Python\\Python312\\Lib\\site-packages\\sklearn\\metrics\\_classification.py:1497: UndefinedMetricWarning: Precision is ill-defined and being set to 0.0 in labels with no predicted samples. Use `zero_division` parameter to control this behavior.\n",
      "  _warn_prf(average, modifier, f\"{metric.capitalize()} is\", len(result))\n"
     ]
    },
    {
     "name": "stdout",
     "output_type": "stream",
     "text": [
      "{'0': {'precision': 0.7904191616766467, 'recall': 0.9777777777777777, 'f1-score': 0.8741721854304636, 'support': 405.0}, '1': {'precision': 0.5161290322580645, 'recall': 0.3333333333333333, 'f1-score': 0.4050632911392405, 'support': 48.0}, '2': {'precision': 0.0, 'recall': 0.0, 'f1-score': 0.0, 'support': 8.0}, '3': {'precision': 1.0, 'recall': 0.013888888888888888, 'f1-score': 0.0273972602739726, 'support': 72.0}, 'accuracy': 0.774859287054409, 'macro avg': {'precision': 0.5766370484836778, 'recall': 0.33125, 'f1-score': 0.3266581842109192, 'support': 533.0}, 'weighted avg': {'precision': 0.782165016937015, 'recall': 0.774859287054409, 'f1-score': 0.7044190915830156, 'support': 533.0}} for parameters {'num_class': 4, 'alpha': 0.01, 'device': 'cuda', 'eta': 0.01, 'eval_metric': 'logloss', 'gamma': 0.05, 'grow_policy': 'depthwise', 'lambda': 0.1, 'max_depth': 3, 'num_parallel_tree': 30, 'objective': 'multi:softmax', 'sampling_method': 'gradient_based', 'subsample': 0.8, 'tree_method': 'approx'}\n"
     ]
    },
    {
     "name": "stderr",
     "output_type": "stream",
     "text": [
      "c:\\Users\\Moustapha\\AppData\\Local\\Programs\\Python\\Python312\\Lib\\site-packages\\sklearn\\metrics\\_classification.py:1497: UndefinedMetricWarning: Precision is ill-defined and being set to 0.0 in labels with no predicted samples. Use `zero_division` parameter to control this behavior.\n",
      "  _warn_prf(average, modifier, f\"{metric.capitalize()} is\", len(result))\n",
      "c:\\Users\\Moustapha\\AppData\\Local\\Programs\\Python\\Python312\\Lib\\site-packages\\sklearn\\metrics\\_classification.py:1497: UndefinedMetricWarning: Precision is ill-defined and being set to 0.0 in labels with no predicted samples. Use `zero_division` parameter to control this behavior.\n",
      "  _warn_prf(average, modifier, f\"{metric.capitalize()} is\", len(result))\n",
      "c:\\Users\\Moustapha\\AppData\\Local\\Programs\\Python\\Python312\\Lib\\site-packages\\sklearn\\metrics\\_classification.py:1497: UndefinedMetricWarning: Precision is ill-defined and being set to 0.0 in labels with no predicted samples. Use `zero_division` parameter to control this behavior.\n",
      "  _warn_prf(average, modifier, f\"{metric.capitalize()} is\", len(result))\n"
     ]
    },
    {
     "name": "stdout",
     "output_type": "stream",
     "text": [
      "{'0': {'precision': 0.7578125, 'recall': 0.9822784810126582, 'f1-score': 0.8555678059536935, 'support': 395.0}, '1': {'precision': 0.6153846153846154, 'recall': 0.15384615384615385, 'f1-score': 0.24615384615384617, 'support': 52.0}, '2': {'precision': 0.14285714285714285, 'recall': 0.14285714285714285, 'f1-score': 0.14285714285714285, 'support': 7.0}, '3': {'precision': 0.0, 'recall': 0.0, 'f1-score': 0.0, 'support': 78.0}, 'accuracy': 0.7462406015037594, 'macro avg': {'precision': 0.37901356456043955, 'recall': 0.3197454444289887, 'f1-score': 0.3111446987411706, 'support': 532.0}, 'weighted avg': {'precision': 0.6246916118421053, 'recall': 0.7462406015037594, 'f1-score': 0.661182863443062, 'support': 532.0}} for parameters {'num_class': 4, 'alpha': 0.01, 'device': 'cuda', 'eta': 0.01, 'eval_metric': 'logloss', 'gamma': 0.05, 'grow_policy': 'depthwise', 'lambda': 0.1, 'max_depth': 3, 'num_parallel_tree': 30, 'objective': 'multi:softmax', 'sampling_method': 'gradient_based', 'subsample': 0.8, 'tree_method': 'approx'}\n"
     ]
    },
    {
     "name": "stderr",
     "output_type": "stream",
     "text": [
      "c:\\Users\\Moustapha\\AppData\\Local\\Programs\\Python\\Python312\\Lib\\site-packages\\sklearn\\metrics\\_classification.py:1497: UndefinedMetricWarning: Precision is ill-defined and being set to 0.0 in labels with no predicted samples. Use `zero_division` parameter to control this behavior.\n",
      "  _warn_prf(average, modifier, f\"{metric.capitalize()} is\", len(result))\n",
      "c:\\Users\\Moustapha\\AppData\\Local\\Programs\\Python\\Python312\\Lib\\site-packages\\sklearn\\metrics\\_classification.py:1497: UndefinedMetricWarning: Precision is ill-defined and being set to 0.0 in labels with no predicted samples. Use `zero_division` parameter to control this behavior.\n",
      "  _warn_prf(average, modifier, f\"{metric.capitalize()} is\", len(result))\n",
      "c:\\Users\\Moustapha\\AppData\\Local\\Programs\\Python\\Python312\\Lib\\site-packages\\sklearn\\metrics\\_classification.py:1497: UndefinedMetricWarning: Precision is ill-defined and being set to 0.0 in labels with no predicted samples. Use `zero_division` parameter to control this behavior.\n",
      "  _warn_prf(average, modifier, f\"{metric.capitalize()} is\", len(result))\n"
     ]
    },
    {
     "name": "stdout",
     "output_type": "stream",
     "text": [
      "{'0': {'precision': 0.7396226415094339, 'recall': 1.0, 'f1-score': 0.8503253796095445, 'support': 392.0}, '1': {'precision': 0.6666666666666666, 'recall': 0.03773584905660377, 'f1-score': 0.07142857142857142, 'support': 53.0}, '2': {'precision': 0.0, 'recall': 0.0, 'f1-score': 0.0, 'support': 8.0}, '3': {'precision': 0.0, 'recall': 0.0, 'f1-score': 0.0, 'support': 80.0}, 'accuracy': 0.7392120075046904, 'macro avg': {'precision': 0.35157232704402513, 'recall': 0.25943396226415094, 'f1-score': 0.23043848775952896, 'support': 533.0}, 'weighted avg': {'precision': 0.6102540502908658, 'recall': 0.7392120075046904, 'f1-score': 0.632482669967459, 'support': 533.0}} for parameters {'num_class': 4, 'alpha': 0.01, 'device': 'cuda', 'eta': 0.01, 'eval_metric': 'logloss', 'gamma': 0.05, 'grow_policy': 'depthwise', 'lambda': 0.1, 'max_depth': 3, 'num_parallel_tree': 3, 'objective': 'multi:softmax', 'sampling_method': 'uniform', 'subsample': 0.3, 'tree_method': 'hist'}\n"
     ]
    },
    {
     "name": "stderr",
     "output_type": "stream",
     "text": [
      "c:\\Users\\Moustapha\\AppData\\Local\\Programs\\Python\\Python312\\Lib\\site-packages\\sklearn\\metrics\\_classification.py:1497: UndefinedMetricWarning: Precision is ill-defined and being set to 0.0 in labels with no predicted samples. Use `zero_division` parameter to control this behavior.\n",
      "  _warn_prf(average, modifier, f\"{metric.capitalize()} is\", len(result))\n",
      "c:\\Users\\Moustapha\\AppData\\Local\\Programs\\Python\\Python312\\Lib\\site-packages\\sklearn\\metrics\\_classification.py:1497: UndefinedMetricWarning: Precision is ill-defined and being set to 0.0 in labels with no predicted samples. Use `zero_division` parameter to control this behavior.\n",
      "  _warn_prf(average, modifier, f\"{metric.capitalize()} is\", len(result))\n",
      "c:\\Users\\Moustapha\\AppData\\Local\\Programs\\Python\\Python312\\Lib\\site-packages\\sklearn\\metrics\\_classification.py:1497: UndefinedMetricWarning: Precision is ill-defined and being set to 0.0 in labels with no predicted samples. Use `zero_division` parameter to control this behavior.\n",
      "  _warn_prf(average, modifier, f\"{metric.capitalize()} is\", len(result))\n"
     ]
    },
    {
     "name": "stdout",
     "output_type": "stream",
     "text": [
      "{'0': {'precision': 0.7714285714285715, 'recall': 0.9926470588235294, 'f1-score': 0.8681672025723473, 'support': 408.0}, '1': {'precision': 0.5714285714285714, 'recall': 0.0851063829787234, 'f1-score': 0.14814814814814814, 'support': 47.0}, '2': {'precision': 0.0, 'recall': 0.0, 'f1-score': 0.0, 'support': 7.0}, '3': {'precision': 0.0, 'recall': 0.0, 'f1-score': 0.0, 'support': 70.0}, 'accuracy': 0.768796992481203, 'macro avg': {'precision': 0.33571428571428574, 'recall': 0.2694383604505632, 'f1-score': 0.25407883768012385, 'support': 532.0}, 'weighted avg': {'precision': 0.6421052631578946, 'recall': 0.768796992481203, 'f1-score': 0.678900717316693, 'support': 532.0}} for parameters {'num_class': 4, 'alpha': 0.01, 'device': 'cuda', 'eta': 0.01, 'eval_metric': 'logloss', 'gamma': 0.05, 'grow_policy': 'depthwise', 'lambda': 0.1, 'max_depth': 3, 'num_parallel_tree': 3, 'objective': 'multi:softmax', 'sampling_method': 'uniform', 'subsample': 0.3, 'tree_method': 'hist'}\n"
     ]
    },
    {
     "name": "stderr",
     "output_type": "stream",
     "text": [
      "c:\\Users\\Moustapha\\AppData\\Local\\Programs\\Python\\Python312\\Lib\\site-packages\\sklearn\\metrics\\_classification.py:1497: UndefinedMetricWarning: Precision is ill-defined and being set to 0.0 in labels with no predicted samples. Use `zero_division` parameter to control this behavior.\n",
      "  _warn_prf(average, modifier, f\"{metric.capitalize()} is\", len(result))\n",
      "c:\\Users\\Moustapha\\AppData\\Local\\Programs\\Python\\Python312\\Lib\\site-packages\\sklearn\\metrics\\_classification.py:1497: UndefinedMetricWarning: Precision is ill-defined and being set to 0.0 in labels with no predicted samples. Use `zero_division` parameter to control this behavior.\n",
      "  _warn_prf(average, modifier, f\"{metric.capitalize()} is\", len(result))\n",
      "c:\\Users\\Moustapha\\AppData\\Local\\Programs\\Python\\Python312\\Lib\\site-packages\\sklearn\\metrics\\_classification.py:1497: UndefinedMetricWarning: Precision is ill-defined and being set to 0.0 in labels with no predicted samples. Use `zero_division` parameter to control this behavior.\n",
      "  _warn_prf(average, modifier, f\"{metric.capitalize()} is\", len(result))\n"
     ]
    },
    {
     "name": "stdout",
     "output_type": "stream",
     "text": [
      "{'0': {'precision': 0.766798418972332, 'recall': 0.9627791563275434, 'f1-score': 0.8536853685368537, 'support': 403.0}, '1': {'precision': 0.3076923076923077, 'recall': 0.16666666666666666, 'f1-score': 0.21621621621621623, 'support': 48.0}, '2': {'precision': 0.0, 'recall': 0.0, 'f1-score': 0.0, 'support': 7.0}, '3': {'precision': 0.0, 'recall': 0.0, 'f1-score': 0.0, 'support': 75.0}, 'accuracy': 0.7429643527204502, 'macro avg': {'precision': 0.26862268166615993, 'recall': 0.28236145574855254, 'f1-score': 0.2674753961882675, 'support': 533.0}, 'weighted avg': {'precision': 0.6074840405536222, 'recall': 0.7429643527204502, 'f1-score': 0.6649410542190065, 'support': 533.0}} for parameters {'num_class': 4, 'alpha': 0.01, 'device': 'cuda', 'eta': 0.01, 'eval_metric': 'logloss', 'gamma': 0.05, 'grow_policy': 'depthwise', 'lambda': 0.1, 'max_depth': 3, 'num_parallel_tree': 3, 'objective': 'multi:softmax', 'sampling_method': 'uniform', 'subsample': 0.3, 'tree_method': 'approx'}\n"
     ]
    },
    {
     "name": "stderr",
     "output_type": "stream",
     "text": [
      "c:\\Users\\Moustapha\\AppData\\Local\\Programs\\Python\\Python312\\Lib\\site-packages\\sklearn\\metrics\\_classification.py:1497: UndefinedMetricWarning: Precision is ill-defined and being set to 0.0 in labels with no predicted samples. Use `zero_division` parameter to control this behavior.\n",
      "  _warn_prf(average, modifier, f\"{metric.capitalize()} is\", len(result))\n",
      "c:\\Users\\Moustapha\\AppData\\Local\\Programs\\Python\\Python312\\Lib\\site-packages\\sklearn\\metrics\\_classification.py:1497: UndefinedMetricWarning: Precision is ill-defined and being set to 0.0 in labels with no predicted samples. Use `zero_division` parameter to control this behavior.\n",
      "  _warn_prf(average, modifier, f\"{metric.capitalize()} is\", len(result))\n",
      "c:\\Users\\Moustapha\\AppData\\Local\\Programs\\Python\\Python312\\Lib\\site-packages\\sklearn\\metrics\\_classification.py:1497: UndefinedMetricWarning: Precision is ill-defined and being set to 0.0 in labels with no predicted samples. Use `zero_division` parameter to control this behavior.\n",
      "  _warn_prf(average, modifier, f\"{metric.capitalize()} is\", len(result))\n"
     ]
    },
    {
     "name": "stdout",
     "output_type": "stream",
     "text": [
      "{'0': {'precision': 0.7490494296577946, 'recall': 0.9924433249370277, 'f1-score': 0.8537378114842904, 'support': 397.0}, '1': {'precision': 0.3333333333333333, 'recall': 0.038461538461538464, 'f1-score': 0.06896551724137931, 'support': 52.0}, '2': {'precision': 0.0, 'recall': 0.0, 'f1-score': 0.0, 'support': 8.0}, '3': {'precision': 0.0, 'recall': 0.0, 'f1-score': 0.0, 'support': 75.0}, 'accuracy': 0.7443609022556391, 'macro avg': {'precision': 0.270595690747782, 'recall': 0.25772621584964156, 'f1-score': 0.23067583218141743, 'support': 532.0}, 'weighted avg': {'precision': 0.5915525505779657, 'recall': 0.7443609022556391, 'f1-score': 0.6438348083755921, 'support': 532.0}} for parameters {'num_class': 4, 'alpha': 0.01, 'device': 'cuda', 'eta': 0.01, 'eval_metric': 'logloss', 'gamma': 0.05, 'grow_policy': 'depthwise', 'lambda': 0.1, 'max_depth': 3, 'num_parallel_tree': 3, 'objective': 'multi:softmax', 'sampling_method': 'uniform', 'subsample': 0.3, 'tree_method': 'approx'}\n"
     ]
    },
    {
     "name": "stderr",
     "output_type": "stream",
     "text": [
      "c:\\Users\\Moustapha\\AppData\\Local\\Programs\\Python\\Python312\\Lib\\site-packages\\sklearn\\metrics\\_classification.py:1497: UndefinedMetricWarning: Precision is ill-defined and being set to 0.0 in labels with no predicted samples. Use `zero_division` parameter to control this behavior.\n",
      "  _warn_prf(average, modifier, f\"{metric.capitalize()} is\", len(result))\n",
      "c:\\Users\\Moustapha\\AppData\\Local\\Programs\\Python\\Python312\\Lib\\site-packages\\sklearn\\metrics\\_classification.py:1497: UndefinedMetricWarning: Precision is ill-defined and being set to 0.0 in labels with no predicted samples. Use `zero_division` parameter to control this behavior.\n",
      "  _warn_prf(average, modifier, f\"{metric.capitalize()} is\", len(result))\n",
      "c:\\Users\\Moustapha\\AppData\\Local\\Programs\\Python\\Python312\\Lib\\site-packages\\sklearn\\metrics\\_classification.py:1497: UndefinedMetricWarning: Precision is ill-defined and being set to 0.0 in labels with no predicted samples. Use `zero_division` parameter to control this behavior.\n",
      "  _warn_prf(average, modifier, f\"{metric.capitalize()} is\", len(result))\n"
     ]
    },
    {
     "name": "stdout",
     "output_type": "stream",
     "text": [
      "{'0': {'precision': 0.7737642585551331, 'recall': 0.9975490196078431, 'f1-score': 0.8715203426124197, 'support': 408.0}, '1': {'precision': 0.5714285714285714, 'recall': 0.08888888888888889, 'f1-score': 0.15384615384615385, 'support': 45.0}, '2': {'precision': 0.0, 'recall': 0.0, 'f1-score': 0.0, 'support': 11.0}, '3': {'precision': 0.0, 'recall': 0.0, 'f1-score': 0.0, 'support': 69.0}, 'accuracy': 0.7711069418386491, 'macro avg': {'precision': 0.3362982074959261, 'recall': 0.271609477124183, 'f1-score': 0.2563416241146434, 'support': 533.0}, 'weighted avg': {'precision': 0.6405442836862664, 'recall': 0.7711069418386491, 'f1-score': 0.6801189056452985, 'support': 533.0}} for parameters {'num_class': 4, 'alpha': 0.01, 'device': 'cuda', 'eta': 0.01, 'eval_metric': 'logloss', 'gamma': 0.05, 'grow_policy': 'depthwise', 'lambda': 0.1, 'max_depth': 3, 'num_parallel_tree': 3, 'objective': 'multi:softmax', 'sampling_method': 'uniform', 'subsample': 0.5, 'tree_method': 'hist'}\n"
     ]
    },
    {
     "name": "stderr",
     "output_type": "stream",
     "text": [
      "c:\\Users\\Moustapha\\AppData\\Local\\Programs\\Python\\Python312\\Lib\\site-packages\\sklearn\\metrics\\_classification.py:1497: UndefinedMetricWarning: Precision is ill-defined and being set to 0.0 in labels with no predicted samples. Use `zero_division` parameter to control this behavior.\n",
      "  _warn_prf(average, modifier, f\"{metric.capitalize()} is\", len(result))\n",
      "c:\\Users\\Moustapha\\AppData\\Local\\Programs\\Python\\Python312\\Lib\\site-packages\\sklearn\\metrics\\_classification.py:1497: UndefinedMetricWarning: Precision is ill-defined and being set to 0.0 in labels with no predicted samples. Use `zero_division` parameter to control this behavior.\n",
      "  _warn_prf(average, modifier, f\"{metric.capitalize()} is\", len(result))\n",
      "c:\\Users\\Moustapha\\AppData\\Local\\Programs\\Python\\Python312\\Lib\\site-packages\\sklearn\\metrics\\_classification.py:1497: UndefinedMetricWarning: Precision is ill-defined and being set to 0.0 in labels with no predicted samples. Use `zero_division` parameter to control this behavior.\n",
      "  _warn_prf(average, modifier, f\"{metric.capitalize()} is\", len(result))\n"
     ]
    },
    {
     "name": "stdout",
     "output_type": "stream",
     "text": [
      "{'0': {'precision': 0.7461832061068703, 'recall': 0.9974489795918368, 'f1-score': 0.8537117903930131, 'support': 392.0}, '1': {'precision': 0.625, 'recall': 0.09090909090909091, 'f1-score': 0.15873015873015872, 'support': 55.0}, '2': {'precision': 0.0, 'recall': 0.0, 'f1-score': 0.0, 'support': 4.0}, '3': {'precision': 0.0, 'recall': 0.0, 'f1-score': 0.0, 'support': 81.0}, 'accuracy': 0.7443609022556391, 'macro avg': {'precision': 0.34279580152671757, 'recall': 0.2720895176252319, 'f1-score': 0.253110487280793, 'support': 532.0}, 'weighted avg': {'precision': 0.6144338661539345, 'recall': 0.7443609022556391, 'f1-score': 0.6454608657222178, 'support': 532.0}} for parameters {'num_class': 4, 'alpha': 0.01, 'device': 'cuda', 'eta': 0.01, 'eval_metric': 'logloss', 'gamma': 0.05, 'grow_policy': 'depthwise', 'lambda': 0.1, 'max_depth': 3, 'num_parallel_tree': 3, 'objective': 'multi:softmax', 'sampling_method': 'uniform', 'subsample': 0.5, 'tree_method': 'hist'}\n"
     ]
    },
    {
     "name": "stderr",
     "output_type": "stream",
     "text": [
      "c:\\Users\\Moustapha\\AppData\\Local\\Programs\\Python\\Python312\\Lib\\site-packages\\sklearn\\metrics\\_classification.py:1497: UndefinedMetricWarning: Precision is ill-defined and being set to 0.0 in labels with no predicted samples. Use `zero_division` parameter to control this behavior.\n",
      "  _warn_prf(average, modifier, f\"{metric.capitalize()} is\", len(result))\n",
      "c:\\Users\\Moustapha\\AppData\\Local\\Programs\\Python\\Python312\\Lib\\site-packages\\sklearn\\metrics\\_classification.py:1497: UndefinedMetricWarning: Precision is ill-defined and being set to 0.0 in labels with no predicted samples. Use `zero_division` parameter to control this behavior.\n",
      "  _warn_prf(average, modifier, f\"{metric.capitalize()} is\", len(result))\n",
      "c:\\Users\\Moustapha\\AppData\\Local\\Programs\\Python\\Python312\\Lib\\site-packages\\sklearn\\metrics\\_classification.py:1497: UndefinedMetricWarning: Precision is ill-defined and being set to 0.0 in labels with no predicted samples. Use `zero_division` parameter to control this behavior.\n",
      "  _warn_prf(average, modifier, f\"{metric.capitalize()} is\", len(result))\n"
     ]
    },
    {
     "name": "stdout",
     "output_type": "stream",
     "text": [
      "{'0': {'precision': 0.7495291902071564, 'recall': 1.0, 'f1-score': 0.8568353067814855, 'support': 398.0}, '1': {'precision': 0.5, 'recall': 0.0196078431372549, 'f1-score': 0.03773584905660377, 'support': 51.0}, '2': {'precision': 0.0, 'recall': 0.0, 'f1-score': 0.0, 'support': 8.0}, '3': {'precision': 0.0, 'recall': 0.0, 'f1-score': 0.0, 'support': 76.0}, 'accuracy': 0.7485928705440901, 'macro avg': {'precision': 0.3123822975517891, 'recall': 0.2549019607843137, 'f1-score': 0.2236427889595223, 'support': 533.0}, 'weighted avg': {'precision': 0.6075283634192274, 'recall': 0.7485928705440901, 'f1-score': 0.64342397823812, 'support': 533.0}} for parameters {'num_class': 4, 'alpha': 0.01, 'device': 'cuda', 'eta': 0.01, 'eval_metric': 'logloss', 'gamma': 0.05, 'grow_policy': 'depthwise', 'lambda': 0.1, 'max_depth': 3, 'num_parallel_tree': 3, 'objective': 'multi:softmax', 'sampling_method': 'uniform', 'subsample': 0.5, 'tree_method': 'approx'}\n"
     ]
    },
    {
     "name": "stderr",
     "output_type": "stream",
     "text": [
      "c:\\Users\\Moustapha\\AppData\\Local\\Programs\\Python\\Python312\\Lib\\site-packages\\sklearn\\metrics\\_classification.py:1497: UndefinedMetricWarning: Precision is ill-defined and being set to 0.0 in labels with no predicted samples. Use `zero_division` parameter to control this behavior.\n",
      "  _warn_prf(average, modifier, f\"{metric.capitalize()} is\", len(result))\n",
      "c:\\Users\\Moustapha\\AppData\\Local\\Programs\\Python\\Python312\\Lib\\site-packages\\sklearn\\metrics\\_classification.py:1497: UndefinedMetricWarning: Precision is ill-defined and being set to 0.0 in labels with no predicted samples. Use `zero_division` parameter to control this behavior.\n",
      "  _warn_prf(average, modifier, f\"{metric.capitalize()} is\", len(result))\n",
      "c:\\Users\\Moustapha\\AppData\\Local\\Programs\\Python\\Python312\\Lib\\site-packages\\sklearn\\metrics\\_classification.py:1497: UndefinedMetricWarning: Precision is ill-defined and being set to 0.0 in labels with no predicted samples. Use `zero_division` parameter to control this behavior.\n",
      "  _warn_prf(average, modifier, f\"{metric.capitalize()} is\", len(result))\n"
     ]
    },
    {
     "name": "stdout",
     "output_type": "stream",
     "text": [
      "{'0': {'precision': 0.7699805068226121, 'recall': 0.9825870646766169, 'f1-score': 0.8633879781420765, 'support': 402.0}, '1': {'precision': 0.47368421052631576, 'recall': 0.1836734693877551, 'f1-score': 0.2647058823529412, 'support': 49.0}, '2': {'precision': 0.0, 'recall': 0.0, 'f1-score': 0.0, 'support': 7.0}, '3': {'precision': 0.0, 'recall': 0.0, 'f1-score': 0.0, 'support': 74.0}, 'accuracy': 0.7593984962406015, 'macro avg': {'precision': 0.310916179337232, 'recall': 0.29156513351609303, 'f1-score': 0.2820234651237544, 'support': 532.0}, 'weighted avg': {'precision': 0.6254561843204502, 'recall': 0.7593984962406015, 'f1-score': 0.6767905177601671, 'support': 532.0}} for parameters {'num_class': 4, 'alpha': 0.01, 'device': 'cuda', 'eta': 0.01, 'eval_metric': 'logloss', 'gamma': 0.05, 'grow_policy': 'depthwise', 'lambda': 0.1, 'max_depth': 3, 'num_parallel_tree': 3, 'objective': 'multi:softmax', 'sampling_method': 'uniform', 'subsample': 0.5, 'tree_method': 'approx'}\n"
     ]
    },
    {
     "name": "stderr",
     "output_type": "stream",
     "text": [
      "c:\\Users\\Moustapha\\AppData\\Local\\Programs\\Python\\Python312\\Lib\\site-packages\\sklearn\\metrics\\_classification.py:1497: UndefinedMetricWarning: Precision is ill-defined and being set to 0.0 in labels with no predicted samples. Use `zero_division` parameter to control this behavior.\n",
      "  _warn_prf(average, modifier, f\"{metric.capitalize()} is\", len(result))\n",
      "c:\\Users\\Moustapha\\AppData\\Local\\Programs\\Python\\Python312\\Lib\\site-packages\\sklearn\\metrics\\_classification.py:1497: UndefinedMetricWarning: Precision is ill-defined and being set to 0.0 in labels with no predicted samples. Use `zero_division` parameter to control this behavior.\n",
      "  _warn_prf(average, modifier, f\"{metric.capitalize()} is\", len(result))\n",
      "c:\\Users\\Moustapha\\AppData\\Local\\Programs\\Python\\Python312\\Lib\\site-packages\\sklearn\\metrics\\_classification.py:1497: UndefinedMetricWarning: Precision is ill-defined and being set to 0.0 in labels with no predicted samples. Use `zero_division` parameter to control this behavior.\n",
      "  _warn_prf(average, modifier, f\"{metric.capitalize()} is\", len(result))\n"
     ]
    },
    {
     "name": "stdout",
     "output_type": "stream",
     "text": [
      "{'0': {'precision': 0.7681992337164751, 'recall': 0.9925742574257426, 'f1-score': 0.8660907127429806, 'support': 404.0}, '1': {'precision': 0.5, 'recall': 0.1111111111111111, 'f1-score': 0.18181818181818182, 'support': 45.0}, '2': {'precision': 0.0, 'recall': 0.0, 'f1-score': 0.0, 'support': 9.0}, '3': {'precision': 0.0, 'recall': 0.0, 'f1-score': 0.0, 'support': 75.0}, 'accuracy': 0.7617260787992496, 'macro avg': {'precision': 0.3170498084291188, 'recall': 0.27592134213421343, 'f1-score': 0.2619772236402906, 'support': 533.0}, 'weighted avg': {'precision': 0.6244887249933507, 'recall': 0.7617260787992496, 'f1-score': 0.6718245143151639, 'support': 533.0}} for parameters {'num_class': 4, 'alpha': 0.01, 'device': 'cuda', 'eta': 0.01, 'eval_metric': 'logloss', 'gamma': 0.05, 'grow_policy': 'depthwise', 'lambda': 0.1, 'max_depth': 3, 'num_parallel_tree': 3, 'objective': 'multi:softmax', 'sampling_method': 'uniform', 'subsample': 0.8, 'tree_method': 'hist'}\n"
     ]
    },
    {
     "name": "stderr",
     "output_type": "stream",
     "text": [
      "c:\\Users\\Moustapha\\AppData\\Local\\Programs\\Python\\Python312\\Lib\\site-packages\\sklearn\\metrics\\_classification.py:1497: UndefinedMetricWarning: Precision is ill-defined and being set to 0.0 in labels with no predicted samples. Use `zero_division` parameter to control this behavior.\n",
      "  _warn_prf(average, modifier, f\"{metric.capitalize()} is\", len(result))\n",
      "c:\\Users\\Moustapha\\AppData\\Local\\Programs\\Python\\Python312\\Lib\\site-packages\\sklearn\\metrics\\_classification.py:1497: UndefinedMetricWarning: Precision is ill-defined and being set to 0.0 in labels with no predicted samples. Use `zero_division` parameter to control this behavior.\n",
      "  _warn_prf(average, modifier, f\"{metric.capitalize()} is\", len(result))\n",
      "c:\\Users\\Moustapha\\AppData\\Local\\Programs\\Python\\Python312\\Lib\\site-packages\\sklearn\\metrics\\_classification.py:1497: UndefinedMetricWarning: Precision is ill-defined and being set to 0.0 in labels with no predicted samples. Use `zero_division` parameter to control this behavior.\n",
      "  _warn_prf(average, modifier, f\"{metric.capitalize()} is\", len(result))\n"
     ]
    },
    {
     "name": "stdout",
     "output_type": "stream",
     "text": [
      "{'0': {'precision': 0.7640232108317214, 'recall': 0.9974747474747475, 'f1-score': 0.8652792990142387, 'support': 396.0}, '1': {'precision': 0.6666666666666666, 'recall': 0.18181818181818182, 'f1-score': 0.2857142857142857, 'support': 55.0}, '2': {'precision': 0.0, 'recall': 0.0, 'f1-score': 0.0, 'support': 6.0}, '3': {'precision': 0.0, 'recall': 0.0, 'f1-score': 0.0, 'support': 75.0}, 'accuracy': 0.7612781954887218, 'macro avg': {'precision': 0.357672469374597, 'recall': 0.2948232323232323, 'f1-score': 0.2877483961821311, 'support': 532.0}, 'weighted avg': {'precision': 0.6376313123233616, 'recall': 0.7612781954887218, 'f1-score': 0.6736182107592561, 'support': 532.0}} for parameters {'num_class': 4, 'alpha': 0.01, 'device': 'cuda', 'eta': 0.01, 'eval_metric': 'logloss', 'gamma': 0.05, 'grow_policy': 'depthwise', 'lambda': 0.1, 'max_depth': 3, 'num_parallel_tree': 3, 'objective': 'multi:softmax', 'sampling_method': 'uniform', 'subsample': 0.8, 'tree_method': 'hist'}\n"
     ]
    },
    {
     "name": "stderr",
     "output_type": "stream",
     "text": [
      "c:\\Users\\Moustapha\\AppData\\Local\\Programs\\Python\\Python312\\Lib\\site-packages\\sklearn\\metrics\\_classification.py:1497: UndefinedMetricWarning: Precision is ill-defined and being set to 0.0 in labels with no predicted samples. Use `zero_division` parameter to control this behavior.\n",
      "  _warn_prf(average, modifier, f\"{metric.capitalize()} is\", len(result))\n",
      "c:\\Users\\Moustapha\\AppData\\Local\\Programs\\Python\\Python312\\Lib\\site-packages\\sklearn\\metrics\\_classification.py:1497: UndefinedMetricWarning: Precision is ill-defined and being set to 0.0 in labels with no predicted samples. Use `zero_division` parameter to control this behavior.\n",
      "  _warn_prf(average, modifier, f\"{metric.capitalize()} is\", len(result))\n",
      "c:\\Users\\Moustapha\\AppData\\Local\\Programs\\Python\\Python312\\Lib\\site-packages\\sklearn\\metrics\\_classification.py:1497: UndefinedMetricWarning: Precision is ill-defined and being set to 0.0 in labels with no predicted samples. Use `zero_division` parameter to control this behavior.\n",
      "  _warn_prf(average, modifier, f\"{metric.capitalize()} is\", len(result))\n"
     ]
    },
    {
     "name": "stdout",
     "output_type": "stream",
     "text": [
      "{'0': {'precision': 0.7696850393700787, 'recall': 0.9750623441396509, 'f1-score': 0.8602860286028603, 'support': 401.0}, '1': {'precision': 0.4166666666666667, 'recall': 0.17857142857142858, 'f1-score': 0.25, 'support': 56.0}, '2': {'precision': 0.0, 'recall': 0.0, 'f1-score': 0.0, 'support': 9.0}, '3': {'precision': 0.0, 'recall': 0.0, 'f1-score': 0.0, 'support': 67.0}, 'accuracy': 0.7523452157598499, 'macro avg': {'precision': 0.29658792650918636, 'recall': 0.28840844317776987, 'f1-score': 0.2775715071507151, 'support': 533.0}, 'weighted avg': {'precision': 0.6228462178625419, 'recall': 0.7523452157598499, 'f1-score': 0.6734984943147222, 'support': 533.0}} for parameters {'num_class': 4, 'alpha': 0.01, 'device': 'cuda', 'eta': 0.01, 'eval_metric': 'logloss', 'gamma': 0.05, 'grow_policy': 'depthwise', 'lambda': 0.1, 'max_depth': 3, 'num_parallel_tree': 3, 'objective': 'multi:softmax', 'sampling_method': 'uniform', 'subsample': 0.8, 'tree_method': 'approx'}\n"
     ]
    },
    {
     "name": "stderr",
     "output_type": "stream",
     "text": [
      "c:\\Users\\Moustapha\\AppData\\Local\\Programs\\Python\\Python312\\Lib\\site-packages\\sklearn\\metrics\\_classification.py:1497: UndefinedMetricWarning: Precision is ill-defined and being set to 0.0 in labels with no predicted samples. Use `zero_division` parameter to control this behavior.\n",
      "  _warn_prf(average, modifier, f\"{metric.capitalize()} is\", len(result))\n",
      "c:\\Users\\Moustapha\\AppData\\Local\\Programs\\Python\\Python312\\Lib\\site-packages\\sklearn\\metrics\\_classification.py:1497: UndefinedMetricWarning: Precision is ill-defined and being set to 0.0 in labels with no predicted samples. Use `zero_division` parameter to control this behavior.\n",
      "  _warn_prf(average, modifier, f\"{metric.capitalize()} is\", len(result))\n",
      "c:\\Users\\Moustapha\\AppData\\Local\\Programs\\Python\\Python312\\Lib\\site-packages\\sklearn\\metrics\\_classification.py:1497: UndefinedMetricWarning: Precision is ill-defined and being set to 0.0 in labels with no predicted samples. Use `zero_division` parameter to control this behavior.\n",
      "  _warn_prf(average, modifier, f\"{metric.capitalize()} is\", len(result))\n"
     ]
    },
    {
     "name": "stdout",
     "output_type": "stream",
     "text": [
      "{'0': {'precision': 0.7658349328214972, 'recall': 1.0, 'f1-score': 0.8673913043478261, 'support': 399.0}, '1': {'precision': 0.8181818181818182, 'recall': 0.20454545454545456, 'f1-score': 0.32727272727272727, 'support': 44.0}, '2': {'precision': 0.0, 'recall': 0.0, 'f1-score': 0.0, 'support': 6.0}, '3': {'precision': 0.0, 'recall': 0.0, 'f1-score': 0.0, 'support': 83.0}, 'accuracy': 0.7669172932330827, 'macro avg': {'precision': 0.39600418775082885, 'recall': 0.30113636363636365, 'f1-score': 0.2986660079051383, 'support': 532.0}, 'weighted avg': {'precision': 0.6420453725484536, 'recall': 0.7669172932330827, 'f1-score': 0.6776111474338018, 'support': 532.0}} for parameters {'num_class': 4, 'alpha': 0.01, 'device': 'cuda', 'eta': 0.01, 'eval_metric': 'logloss', 'gamma': 0.05, 'grow_policy': 'depthwise', 'lambda': 0.1, 'max_depth': 3, 'num_parallel_tree': 3, 'objective': 'multi:softmax', 'sampling_method': 'uniform', 'subsample': 0.8, 'tree_method': 'approx'}\n"
     ]
    },
    {
     "name": "stderr",
     "output_type": "stream",
     "text": [
      "c:\\Users\\Moustapha\\AppData\\Local\\Programs\\Python\\Python312\\Lib\\site-packages\\sklearn\\metrics\\_classification.py:1497: UndefinedMetricWarning: Precision is ill-defined and being set to 0.0 in labels with no predicted samples. Use `zero_division` parameter to control this behavior.\n",
      "  _warn_prf(average, modifier, f\"{metric.capitalize()} is\", len(result))\n",
      "c:\\Users\\Moustapha\\AppData\\Local\\Programs\\Python\\Python312\\Lib\\site-packages\\sklearn\\metrics\\_classification.py:1497: UndefinedMetricWarning: Precision is ill-defined and being set to 0.0 in labels with no predicted samples. Use `zero_division` parameter to control this behavior.\n",
      "  _warn_prf(average, modifier, f\"{metric.capitalize()} is\", len(result))\n",
      "c:\\Users\\Moustapha\\AppData\\Local\\Programs\\Python\\Python312\\Lib\\site-packages\\sklearn\\metrics\\_classification.py:1497: UndefinedMetricWarning: Precision is ill-defined and being set to 0.0 in labels with no predicted samples. Use `zero_division` parameter to control this behavior.\n",
      "  _warn_prf(average, modifier, f\"{metric.capitalize()} is\", len(result))\n"
     ]
    },
    {
     "name": "stdout",
     "output_type": "stream",
     "text": [
      "{'0': {'precision': 0.7577519379844961, 'recall': 0.9923857868020305, 'f1-score': 0.8593406593406593, 'support': 394.0}, '1': {'precision': 0.7647058823529411, 'recall': 0.25, 'f1-score': 0.37681159420289856, 'support': 52.0}, '2': {'precision': 0.0, 'recall': 0.0, 'f1-score': 0.0, 'support': 9.0}, '3': {'precision': 0.0, 'recall': 0.0, 'f1-score': 0.0, 'support': 78.0}, 'accuracy': 0.7579737335834896, 'macro avg': {'precision': 0.3806144550843593, 'recall': 0.3105964467005076, 'f1-score': 0.30903806338588946, 'support': 533.0}, 'weighted avg': {'precision': 0.6347447832049613, 'recall': 0.7579737335834896, 'f1-score': 0.6719970406731154, 'support': 533.0}} for parameters {'num_class': 4, 'alpha': 0.01, 'device': 'cuda', 'eta': 0.01, 'eval_metric': 'logloss', 'gamma': 0.05, 'grow_policy': 'depthwise', 'lambda': 0.1, 'max_depth': 3, 'num_parallel_tree': 3, 'objective': 'multi:softmax', 'sampling_method': 'gradient_based', 'subsample': 0.3, 'tree_method': 'hist'}\n"
     ]
    },
    {
     "name": "stderr",
     "output_type": "stream",
     "text": [
      "c:\\Users\\Moustapha\\AppData\\Local\\Programs\\Python\\Python312\\Lib\\site-packages\\sklearn\\metrics\\_classification.py:1497: UndefinedMetricWarning: Precision is ill-defined and being set to 0.0 in labels with no predicted samples. Use `zero_division` parameter to control this behavior.\n",
      "  _warn_prf(average, modifier, f\"{metric.capitalize()} is\", len(result))\n",
      "c:\\Users\\Moustapha\\AppData\\Local\\Programs\\Python\\Python312\\Lib\\site-packages\\sklearn\\metrics\\_classification.py:1497: UndefinedMetricWarning: Precision is ill-defined and being set to 0.0 in labels with no predicted samples. Use `zero_division` parameter to control this behavior.\n",
      "  _warn_prf(average, modifier, f\"{metric.capitalize()} is\", len(result))\n",
      "c:\\Users\\Moustapha\\AppData\\Local\\Programs\\Python\\Python312\\Lib\\site-packages\\sklearn\\metrics\\_classification.py:1497: UndefinedMetricWarning: Precision is ill-defined and being set to 0.0 in labels with no predicted samples. Use `zero_division` parameter to control this behavior.\n",
      "  _warn_prf(average, modifier, f\"{metric.capitalize()} is\", len(result))\n"
     ]
    },
    {
     "name": "stdout",
     "output_type": "stream",
     "text": [
      "{'0': {'precision': 0.779296875, 'recall': 0.9827586206896551, 'f1-score': 0.869281045751634, 'support': 406.0}, '1': {'precision': 0.5555555555555556, 'recall': 0.20833333333333334, 'f1-score': 0.30303030303030304, 'support': 48.0}, '2': {'precision': 0.0, 'recall': 0.0, 'f1-score': 0.0, 'support': 6.0}, '3': {'precision': 0.0, 'recall': 0.0, 'f1-score': 0.0, 'support': 72.0}, 'accuracy': 0.768796992481203, 'macro avg': {'precision': 0.3337131076388889, 'recall': 0.2977729885057471, 'f1-score': 0.29307783719548425, 'support': 532.0}, 'weighted avg': {'precision': 0.644851875783208, 'recall': 0.768796992481203, 'f1-score': 0.6907397727831165, 'support': 532.0}} for parameters {'num_class': 4, 'alpha': 0.01, 'device': 'cuda', 'eta': 0.01, 'eval_metric': 'logloss', 'gamma': 0.05, 'grow_policy': 'depthwise', 'lambda': 0.1, 'max_depth': 3, 'num_parallel_tree': 3, 'objective': 'multi:softmax', 'sampling_method': 'gradient_based', 'subsample': 0.3, 'tree_method': 'hist'}\n"
     ]
    },
    {
     "name": "stderr",
     "output_type": "stream",
     "text": [
      "c:\\Users\\Moustapha\\AppData\\Local\\Programs\\Python\\Python312\\Lib\\site-packages\\sklearn\\metrics\\_classification.py:1497: UndefinedMetricWarning: Precision is ill-defined and being set to 0.0 in labels with no predicted samples. Use `zero_division` parameter to control this behavior.\n",
      "  _warn_prf(average, modifier, f\"{metric.capitalize()} is\", len(result))\n",
      "c:\\Users\\Moustapha\\AppData\\Local\\Programs\\Python\\Python312\\Lib\\site-packages\\sklearn\\metrics\\_classification.py:1497: UndefinedMetricWarning: Precision is ill-defined and being set to 0.0 in labels with no predicted samples. Use `zero_division` parameter to control this behavior.\n",
      "  _warn_prf(average, modifier, f\"{metric.capitalize()} is\", len(result))\n",
      "c:\\Users\\Moustapha\\AppData\\Local\\Programs\\Python\\Python312\\Lib\\site-packages\\sklearn\\metrics\\_classification.py:1497: UndefinedMetricWarning: Precision is ill-defined and being set to 0.0 in labels with no predicted samples. Use `zero_division` parameter to control this behavior.\n",
      "  _warn_prf(average, modifier, f\"{metric.capitalize()} is\", len(result))\n"
     ]
    },
    {
     "name": "stdout",
     "output_type": "stream",
     "text": [
      "{'0': {'precision': 0.7461538461538462, 'recall': 0.9897959183673469, 'f1-score': 0.8508771929824561, 'support': 392.0}, '1': {'precision': 0.6153846153846154, 'recall': 0.16326530612244897, 'f1-score': 0.25806451612903225, 'support': 49.0}, '2': {'precision': 0.0, 'recall': 0.0, 'f1-score': 0.0, 'support': 6.0}, '3': {'precision': 0.0, 'recall': 0.0, 'f1-score': 0.0, 'support': 86.0}, 'accuracy': 0.7429643527204502, 'macro avg': {'precision': 0.3403846153846154, 'recall': 0.288265306122449, 'f1-score': 0.2772354272778721, 'support': 533.0}, 'weighted avg': {'precision': 0.6053398758839659, 'recall': 0.7429643527204502, 'f1-score': 0.6495103582353572, 'support': 533.0}} for parameters {'num_class': 4, 'alpha': 0.01, 'device': 'cuda', 'eta': 0.01, 'eval_metric': 'logloss', 'gamma': 0.05, 'grow_policy': 'depthwise', 'lambda': 0.1, 'max_depth': 3, 'num_parallel_tree': 3, 'objective': 'multi:softmax', 'sampling_method': 'gradient_based', 'subsample': 0.3, 'tree_method': 'approx'}\n"
     ]
    },
    {
     "name": "stderr",
     "output_type": "stream",
     "text": [
      "c:\\Users\\Moustapha\\AppData\\Local\\Programs\\Python\\Python312\\Lib\\site-packages\\sklearn\\metrics\\_classification.py:1497: UndefinedMetricWarning: Precision is ill-defined and being set to 0.0 in labels with no predicted samples. Use `zero_division` parameter to control this behavior.\n",
      "  _warn_prf(average, modifier, f\"{metric.capitalize()} is\", len(result))\n",
      "c:\\Users\\Moustapha\\AppData\\Local\\Programs\\Python\\Python312\\Lib\\site-packages\\sklearn\\metrics\\_classification.py:1497: UndefinedMetricWarning: Precision is ill-defined and being set to 0.0 in labels with no predicted samples. Use `zero_division` parameter to control this behavior.\n",
      "  _warn_prf(average, modifier, f\"{metric.capitalize()} is\", len(result))\n",
      "c:\\Users\\Moustapha\\AppData\\Local\\Programs\\Python\\Python312\\Lib\\site-packages\\sklearn\\metrics\\_classification.py:1497: UndefinedMetricWarning: Precision is ill-defined and being set to 0.0 in labels with no predicted samples. Use `zero_division` parameter to control this behavior.\n",
      "  _warn_prf(average, modifier, f\"{metric.capitalize()} is\", len(result))\n"
     ]
    },
    {
     "name": "stdout",
     "output_type": "stream",
     "text": [
      "{'0': {'precision': 0.78125, 'recall': 0.9803921568627451, 'f1-score': 0.8695652173913043, 'support': 408.0}, '1': {'precision': 0.6, 'recall': 0.17647058823529413, 'f1-score': 0.2727272727272727, 'support': 51.0}, '2': {'precision': 0.0, 'recall': 0.0, 'f1-score': 0.0, 'support': 9.0}, '3': {'precision': 0.0, 'recall': 0.0, 'f1-score': 0.0, 'support': 64.0}, 'accuracy': 0.768796992481203, 'macro avg': {'precision': 0.3453125, 'recall': 0.2892156862745098, 'f1-score': 0.2855731225296443, 'support': 532.0}, 'weighted avg': {'precision': 0.6566729323308271, 'recall': 0.768796992481203, 'f1-score': 0.6930295105352314, 'support': 532.0}} for parameters {'num_class': 4, 'alpha': 0.01, 'device': 'cuda', 'eta': 0.01, 'eval_metric': 'logloss', 'gamma': 0.05, 'grow_policy': 'depthwise', 'lambda': 0.1, 'max_depth': 3, 'num_parallel_tree': 3, 'objective': 'multi:softmax', 'sampling_method': 'gradient_based', 'subsample': 0.3, 'tree_method': 'approx'}\n"
     ]
    },
    {
     "name": "stderr",
     "output_type": "stream",
     "text": [
      "c:\\Users\\Moustapha\\AppData\\Local\\Programs\\Python\\Python312\\Lib\\site-packages\\sklearn\\metrics\\_classification.py:1497: UndefinedMetricWarning: Precision is ill-defined and being set to 0.0 in labels with no predicted samples. Use `zero_division` parameter to control this behavior.\n",
      "  _warn_prf(average, modifier, f\"{metric.capitalize()} is\", len(result))\n",
      "c:\\Users\\Moustapha\\AppData\\Local\\Programs\\Python\\Python312\\Lib\\site-packages\\sklearn\\metrics\\_classification.py:1497: UndefinedMetricWarning: Precision is ill-defined and being set to 0.0 in labels with no predicted samples. Use `zero_division` parameter to control this behavior.\n",
      "  _warn_prf(average, modifier, f\"{metric.capitalize()} is\", len(result))\n",
      "c:\\Users\\Moustapha\\AppData\\Local\\Programs\\Python\\Python312\\Lib\\site-packages\\sklearn\\metrics\\_classification.py:1497: UndefinedMetricWarning: Precision is ill-defined and being set to 0.0 in labels with no predicted samples. Use `zero_division` parameter to control this behavior.\n",
      "  _warn_prf(average, modifier, f\"{metric.capitalize()} is\", len(result))\n"
     ]
    },
    {
     "name": "stdout",
     "output_type": "stream",
     "text": [
      "{'0': {'precision': 0.7495219885277247, 'recall': 0.9974554707379135, 'f1-score': 0.8558951965065502, 'support': 393.0}, '1': {'precision': 0.5, 'recall': 0.08928571428571429, 'f1-score': 0.15151515151515152, 'support': 56.0}, '2': {'precision': 0.0, 'recall': 0.0, 'f1-score': 0.0, 'support': 8.0}, '3': {'precision': 0.0, 'recall': 0.0, 'f1-score': 0.0, 'support': 76.0}, 'accuracy': 0.7448405253283302, 'macro avg': {'precision': 0.31238049713193117, 'recall': 0.2716852962559069, 'f1-score': 0.25185258700542545, 'support': 533.0}, 'weighted avg': {'precision': 0.6051822542052454, 'recall': 0.7448405253283302, 'f1-score': 0.6470012396096112, 'support': 533.0}} for parameters {'num_class': 4, 'alpha': 0.01, 'device': 'cuda', 'eta': 0.01, 'eval_metric': 'logloss', 'gamma': 0.05, 'grow_policy': 'depthwise', 'lambda': 0.1, 'max_depth': 3, 'num_parallel_tree': 3, 'objective': 'multi:softmax', 'sampling_method': 'gradient_based', 'subsample': 0.5, 'tree_method': 'hist'}\n"
     ]
    },
    {
     "name": "stderr",
     "output_type": "stream",
     "text": [
      "c:\\Users\\Moustapha\\AppData\\Local\\Programs\\Python\\Python312\\Lib\\site-packages\\sklearn\\metrics\\_classification.py:1497: UndefinedMetricWarning: Precision is ill-defined and being set to 0.0 in labels with no predicted samples. Use `zero_division` parameter to control this behavior.\n",
      "  _warn_prf(average, modifier, f\"{metric.capitalize()} is\", len(result))\n",
      "c:\\Users\\Moustapha\\AppData\\Local\\Programs\\Python\\Python312\\Lib\\site-packages\\sklearn\\metrics\\_classification.py:1497: UndefinedMetricWarning: Precision is ill-defined and being set to 0.0 in labels with no predicted samples. Use `zero_division` parameter to control this behavior.\n",
      "  _warn_prf(average, modifier, f\"{metric.capitalize()} is\", len(result))\n",
      "c:\\Users\\Moustapha\\AppData\\Local\\Programs\\Python\\Python312\\Lib\\site-packages\\sklearn\\metrics\\_classification.py:1497: UndefinedMetricWarning: Precision is ill-defined and being set to 0.0 in labels with no predicted samples. Use `zero_division` parameter to control this behavior.\n",
      "  _warn_prf(average, modifier, f\"{metric.capitalize()} is\", len(result))\n"
     ]
    },
    {
     "name": "stdout",
     "output_type": "stream",
     "text": [
      "{'0': {'precision': 0.7823529411764706, 'recall': 0.9803439803439803, 'f1-score': 0.8702290076335878, 'support': 407.0}, '1': {'precision': 0.45454545454545453, 'recall': 0.22727272727272727, 'f1-score': 0.30303030303030304, 'support': 44.0}, '2': {'precision': 0.0, 'recall': 0.0, 'f1-score': 0.0, 'support': 7.0}, '3': {'precision': 0.0, 'recall': 0.0, 'f1-score': 0.0, 'support': 74.0}, 'accuracy': 0.768796992481203, 'macro avg': {'precision': 0.30922459893048126, 'recall': 0.30190417690417687, 'f1-score': 0.2933148276659727, 'support': 532.0}, 'weighted avg': {'precision': 0.6361233967271119, 'recall': 0.768796992481203, 'f1-score': 0.6908205628575255, 'support': 532.0}} for parameters {'num_class': 4, 'alpha': 0.01, 'device': 'cuda', 'eta': 0.01, 'eval_metric': 'logloss', 'gamma': 0.05, 'grow_policy': 'depthwise', 'lambda': 0.1, 'max_depth': 3, 'num_parallel_tree': 3, 'objective': 'multi:softmax', 'sampling_method': 'gradient_based', 'subsample': 0.5, 'tree_method': 'hist'}\n"
     ]
    },
    {
     "name": "stderr",
     "output_type": "stream",
     "text": [
      "c:\\Users\\Moustapha\\AppData\\Local\\Programs\\Python\\Python312\\Lib\\site-packages\\sklearn\\metrics\\_classification.py:1497: UndefinedMetricWarning: Precision is ill-defined and being set to 0.0 in labels with no predicted samples. Use `zero_division` parameter to control this behavior.\n",
      "  _warn_prf(average, modifier, f\"{metric.capitalize()} is\", len(result))\n",
      "c:\\Users\\Moustapha\\AppData\\Local\\Programs\\Python\\Python312\\Lib\\site-packages\\sklearn\\metrics\\_classification.py:1497: UndefinedMetricWarning: Precision is ill-defined and being set to 0.0 in labels with no predicted samples. Use `zero_division` parameter to control this behavior.\n",
      "  _warn_prf(average, modifier, f\"{metric.capitalize()} is\", len(result))\n",
      "c:\\Users\\Moustapha\\AppData\\Local\\Programs\\Python\\Python312\\Lib\\site-packages\\sklearn\\metrics\\_classification.py:1497: UndefinedMetricWarning: Precision is ill-defined and being set to 0.0 in labels with no predicted samples. Use `zero_division` parameter to control this behavior.\n",
      "  _warn_prf(average, modifier, f\"{metric.capitalize()} is\", len(result))\n"
     ]
    },
    {
     "name": "stdout",
     "output_type": "stream",
     "text": [
      "{'0': {'precision': 0.7926356589147286, 'recall': 0.9927184466019418, 'f1-score': 0.8814655172413793, 'support': 412.0}, '1': {'precision': 0.4117647058823529, 'recall': 0.18421052631578946, 'f1-score': 0.2545454545454545, 'support': 38.0}, '2': {'precision': 0.0, 'recall': 0.0, 'f1-score': 0.0, 'support': 8.0}, '3': {'precision': 0.0, 'recall': 0.0, 'f1-score': 0.0, 'support': 75.0}, 'accuracy': 0.7804878048780488, 'macro avg': {'precision': 0.3011000911992704, 'recall': 0.2942322432294328, 'f1-score': 0.28400274294670846, 'support': 533.0}, 'weighted avg': {'precision': 0.6420505634078754, 'recall': 0.7804878048780488, 'f1-score': 0.6995056667470462, 'support': 533.0}} for parameters {'num_class': 4, 'alpha': 0.01, 'device': 'cuda', 'eta': 0.01, 'eval_metric': 'logloss', 'gamma': 0.05, 'grow_policy': 'depthwise', 'lambda': 0.1, 'max_depth': 3, 'num_parallel_tree': 3, 'objective': 'multi:softmax', 'sampling_method': 'gradient_based', 'subsample': 0.5, 'tree_method': 'approx'}\n"
     ]
    },
    {
     "name": "stderr",
     "output_type": "stream",
     "text": [
      "c:\\Users\\Moustapha\\AppData\\Local\\Programs\\Python\\Python312\\Lib\\site-packages\\sklearn\\metrics\\_classification.py:1497: UndefinedMetricWarning: Precision is ill-defined and being set to 0.0 in labels with no predicted samples. Use `zero_division` parameter to control this behavior.\n",
      "  _warn_prf(average, modifier, f\"{metric.capitalize()} is\", len(result))\n",
      "c:\\Users\\Moustapha\\AppData\\Local\\Programs\\Python\\Python312\\Lib\\site-packages\\sklearn\\metrics\\_classification.py:1497: UndefinedMetricWarning: Precision is ill-defined and being set to 0.0 in labels with no predicted samples. Use `zero_division` parameter to control this behavior.\n",
      "  _warn_prf(average, modifier, f\"{metric.capitalize()} is\", len(result))\n",
      "c:\\Users\\Moustapha\\AppData\\Local\\Programs\\Python\\Python312\\Lib\\site-packages\\sklearn\\metrics\\_classification.py:1497: UndefinedMetricWarning: Precision is ill-defined and being set to 0.0 in labels with no predicted samples. Use `zero_division` parameter to control this behavior.\n",
      "  _warn_prf(average, modifier, f\"{metric.capitalize()} is\", len(result))\n"
     ]
    },
    {
     "name": "stdout",
     "output_type": "stream",
     "text": [
      "{'0': {'precision': 0.7408123791102514, 'recall': 0.9871134020618557, 'f1-score': 0.8464088397790055, 'support': 388.0}, '1': {'precision': 0.5714285714285714, 'recall': 0.12903225806451613, 'f1-score': 0.21052631578947367, 'support': 62.0}, '2': {'precision': 0.0, 'recall': 0.0, 'f1-score': 0.0, 'support': 7.0}, '3': {'precision': 0.0, 'recall': 0.0, 'f1-score': 0.0, 'support': 75.0}, 'accuracy': 0.7349624060150376, 'macro avg': {'precision': 0.3280602376347057, 'recall': 0.27903641503159293, 'f1-score': 0.2642337888921198, 'support': 532.0}, 'weighted avg': {'precision': 0.6068867942168213, 'recall': 0.7349624060150376, 'f1-score': 0.6418407169421081, 'support': 532.0}} for parameters {'num_class': 4, 'alpha': 0.01, 'device': 'cuda', 'eta': 0.01, 'eval_metric': 'logloss', 'gamma': 0.05, 'grow_policy': 'depthwise', 'lambda': 0.1, 'max_depth': 3, 'num_parallel_tree': 3, 'objective': 'multi:softmax', 'sampling_method': 'gradient_based', 'subsample': 0.5, 'tree_method': 'approx'}\n"
     ]
    },
    {
     "name": "stderr",
     "output_type": "stream",
     "text": [
      "c:\\Users\\Moustapha\\AppData\\Local\\Programs\\Python\\Python312\\Lib\\site-packages\\sklearn\\metrics\\_classification.py:1497: UndefinedMetricWarning: Precision is ill-defined and being set to 0.0 in labels with no predicted samples. Use `zero_division` parameter to control this behavior.\n",
      "  _warn_prf(average, modifier, f\"{metric.capitalize()} is\", len(result))\n",
      "c:\\Users\\Moustapha\\AppData\\Local\\Programs\\Python\\Python312\\Lib\\site-packages\\sklearn\\metrics\\_classification.py:1497: UndefinedMetricWarning: Precision is ill-defined and being set to 0.0 in labels with no predicted samples. Use `zero_division` parameter to control this behavior.\n",
      "  _warn_prf(average, modifier, f\"{metric.capitalize()} is\", len(result))\n",
      "c:\\Users\\Moustapha\\AppData\\Local\\Programs\\Python\\Python312\\Lib\\site-packages\\sklearn\\metrics\\_classification.py:1497: UndefinedMetricWarning: Precision is ill-defined and being set to 0.0 in labels with no predicted samples. Use `zero_division` parameter to control this behavior.\n",
      "  _warn_prf(average, modifier, f\"{metric.capitalize()} is\", len(result))\n"
     ]
    },
    {
     "name": "stdout",
     "output_type": "stream",
     "text": [
      "{'0': {'precision': 0.7645914396887159, 'recall': 0.9849624060150376, 'f1-score': 0.8608981380065718, 'support': 399.0}, '1': {'precision': 0.42105263157894735, 'recall': 0.18604651162790697, 'f1-score': 0.25806451612903225, 'support': 43.0}, '2': {'precision': 0.0, 'recall': 0.0, 'f1-score': 0.0, 'support': 8.0}, '3': {'precision': 0.0, 'recall': 0.0, 'f1-score': 0.0, 'support': 83.0}, 'accuracy': 0.7523452157598499, 'macro avg': {'precision': 0.2964110178169158, 'recall': 0.29275222941073614, 'f1-score': 0.27974066353390104, 'support': 533.0}, 'weighted avg': {'precision': 0.606336299425314, 'recall': 0.7523452157598499, 'f1-score': 0.6652816721541661, 'support': 533.0}} for parameters {'num_class': 4, 'alpha': 0.01, 'device': 'cuda', 'eta': 0.01, 'eval_metric': 'logloss', 'gamma': 0.05, 'grow_policy': 'depthwise', 'lambda': 0.1, 'max_depth': 3, 'num_parallel_tree': 3, 'objective': 'multi:softmax', 'sampling_method': 'gradient_based', 'subsample': 0.8, 'tree_method': 'hist'}\n",
      "{'0': {'precision': 0.7673076923076924, 'recall': 0.9950124688279302, 'f1-score': 0.8664495114006515, 'support': 401.0}, '1': {'precision': 0.6, 'recall': 0.10526315789473684, 'f1-score': 0.1791044776119403, 'support': 57.0}, '2': {'precision': 0.0, 'recall': 0.0, 'f1-score': 0.0, 'support': 7.0}, '3': {'precision': 0.0, 'recall': 0.0, 'f1-score': 0.0, 'support': 67.0}, 'accuracy': 0.7612781954887218, 'macro avg': {'precision': 0.3418269230769231, 'recall': 0.27506890668066675, 'f1-score': 0.26138849725314794, 'support': 532.0}, 'weighted avg': {'precision': 0.642651098901099, 'recall': 0.7612781954887218, 'f1-score': 0.6722842279991388, 'support': 532.0}} for parameters {'num_class': 4, 'alpha': 0.01, 'device': 'cuda', 'eta': 0.01, 'eval_metric': 'logloss', 'gamma': 0.05, 'grow_policy': 'depthwise', 'lambda': 0.1, 'max_depth': 3, 'num_parallel_tree': 3, 'objective': 'multi:softmax', 'sampling_method': 'gradient_based', 'subsample': 0.8, 'tree_method': 'hist'}\n"
     ]
    },
    {
     "name": "stderr",
     "output_type": "stream",
     "text": [
      "c:\\Users\\Moustapha\\AppData\\Local\\Programs\\Python\\Python312\\Lib\\site-packages\\sklearn\\metrics\\_classification.py:1497: UndefinedMetricWarning: Precision is ill-defined and being set to 0.0 in labels with no predicted samples. Use `zero_division` parameter to control this behavior.\n",
      "  _warn_prf(average, modifier, f\"{metric.capitalize()} is\", len(result))\n",
      "c:\\Users\\Moustapha\\AppData\\Local\\Programs\\Python\\Python312\\Lib\\site-packages\\sklearn\\metrics\\_classification.py:1497: UndefinedMetricWarning: Precision is ill-defined and being set to 0.0 in labels with no predicted samples. Use `zero_division` parameter to control this behavior.\n",
      "  _warn_prf(average, modifier, f\"{metric.capitalize()} is\", len(result))\n",
      "c:\\Users\\Moustapha\\AppData\\Local\\Programs\\Python\\Python312\\Lib\\site-packages\\sklearn\\metrics\\_classification.py:1497: UndefinedMetricWarning: Precision is ill-defined and being set to 0.0 in labels with no predicted samples. Use `zero_division` parameter to control this behavior.\n",
      "  _warn_prf(average, modifier, f\"{metric.capitalize()} is\", len(result))\n"
     ]
    },
    {
     "name": "stdout",
     "output_type": "stream",
     "text": [
      "{'0': {'precision': 0.7519230769230769, 'recall': 0.9848866498740554, 'f1-score': 0.8527808069792803, 'support': 397.0}, '1': {'precision': 0.38461538461538464, 'recall': 0.10204081632653061, 'f1-score': 0.16129032258064516, 'support': 49.0}, '2': {'precision': 0.0, 'recall': 0.0, 'f1-score': 0.0, 'support': 8.0}, '3': {'precision': 0.0, 'recall': 0.0, 'f1-score': 0.0, 'support': 79.0}, 'accuracy': 0.7429643527204502, 'macro avg': {'precision': 0.2841346153846154, 'recall': 0.2717318665501465, 'f1-score': 0.25351778238998135, 'support': 533.0}, 'weighted avg': {'precision': 0.5954214172319238, 'recall': 0.7429643527204502, 'f1-score': 0.6500135200323186, 'support': 533.0}} for parameters {'num_class': 4, 'alpha': 0.01, 'device': 'cuda', 'eta': 0.01, 'eval_metric': 'logloss', 'gamma': 0.05, 'grow_policy': 'depthwise', 'lambda': 0.1, 'max_depth': 3, 'num_parallel_tree': 3, 'objective': 'multi:softmax', 'sampling_method': 'gradient_based', 'subsample': 0.8, 'tree_method': 'approx'}\n",
      "{'0': {'precision': 0.7689320388349514, 'recall': 0.9826302729528535, 'f1-score': 0.8627450980392157, 'support': 403.0}, '1': {'precision': 0.5, 'recall': 0.13725490196078433, 'f1-score': 0.2153846153846154, 'support': 51.0}, '2': {'precision': 0.0, 'recall': 0.0, 'f1-score': 0.0, 'support': 7.0}, '3': {'precision': 0.5, 'recall': 0.014084507042253521, 'f1-score': 0.0273972602739726, 'support': 71.0}, 'accuracy': 0.7593984962406015, 'macro avg': {'precision': 0.44223300970873786, 'recall': 0.28349242048897283, 'f1-score': 0.276381743424451, 'support': 532.0}, 'weighted avg': {'precision': 0.6971421271625665, 'recall': 0.7593984962406015, 'f1-score': 0.6778498033343446, 'support': 532.0}} for parameters {'num_class': 4, 'alpha': 0.01, 'device': 'cuda', 'eta': 0.01, 'eval_metric': 'logloss', 'gamma': 0.05, 'grow_policy': 'depthwise', 'lambda': 0.1, 'max_depth': 3, 'num_parallel_tree': 3, 'objective': 'multi:softmax', 'sampling_method': 'gradient_based', 'subsample': 0.8, 'tree_method': 'approx'}\n"
     ]
    },
    {
     "name": "stderr",
     "output_type": "stream",
     "text": [
      "c:\\Users\\Moustapha\\AppData\\Local\\Programs\\Python\\Python312\\Lib\\site-packages\\sklearn\\metrics\\_classification.py:1497: UndefinedMetricWarning: Precision is ill-defined and being set to 0.0 in labels with no predicted samples. Use `zero_division` parameter to control this behavior.\n",
      "  _warn_prf(average, modifier, f\"{metric.capitalize()} is\", len(result))\n",
      "c:\\Users\\Moustapha\\AppData\\Local\\Programs\\Python\\Python312\\Lib\\site-packages\\sklearn\\metrics\\_classification.py:1497: UndefinedMetricWarning: Precision is ill-defined and being set to 0.0 in labels with no predicted samples. Use `zero_division` parameter to control this behavior.\n",
      "  _warn_prf(average, modifier, f\"{metric.capitalize()} is\", len(result))\n",
      "c:\\Users\\Moustapha\\AppData\\Local\\Programs\\Python\\Python312\\Lib\\site-packages\\sklearn\\metrics\\_classification.py:1497: UndefinedMetricWarning: Precision is ill-defined and being set to 0.0 in labels with no predicted samples. Use `zero_division` parameter to control this behavior.\n",
      "  _warn_prf(average, modifier, f\"{metric.capitalize()} is\", len(result))\n"
     ]
    },
    {
     "name": "stdout",
     "output_type": "stream",
     "text": [
      "{'0': {'precision': 0.7438330170777988, 'recall': 0.9974554707379135, 'f1-score': 0.8521739130434782, 'support': 393.0}, '1': {'precision': 0.6666666666666666, 'recall': 0.08, 'f1-score': 0.14285714285714285, 'support': 50.0}, '2': {'precision': 0.0, 'recall': 0.0, 'f1-score': 0.0, 'support': 10.0}, '3': {'precision': 0.0, 'recall': 0.0, 'f1-score': 0.0, 'support': 80.0}, 'accuracy': 0.7429643527204502, 'macro avg': {'precision': 0.35262492093611636, 'recall': 0.2693638676844784, 'f1-score': 0.24875776397515525, 'support': 533.0}, 'weighted avg': {'precision': 0.6109938256002031, 'recall': 0.7429643527204502, 'f1-score': 0.6417395965646231, 'support': 533.0}} for parameters {'num_class': 4, 'alpha': 0.01, 'device': 'cuda', 'eta': 0.01, 'eval_metric': 'logloss', 'gamma': 0.05, 'grow_policy': 'depthwise', 'lambda': 0.1, 'max_depth': 3, 'num_parallel_tree': 10, 'objective': 'multi:softmax', 'sampling_method': 'uniform', 'subsample': 0.3, 'tree_method': 'hist'}\n"
     ]
    },
    {
     "name": "stderr",
     "output_type": "stream",
     "text": [
      "c:\\Users\\Moustapha\\AppData\\Local\\Programs\\Python\\Python312\\Lib\\site-packages\\sklearn\\metrics\\_classification.py:1497: UndefinedMetricWarning: Precision is ill-defined and being set to 0.0 in labels with no predicted samples. Use `zero_division` parameter to control this behavior.\n",
      "  _warn_prf(average, modifier, f\"{metric.capitalize()} is\", len(result))\n",
      "c:\\Users\\Moustapha\\AppData\\Local\\Programs\\Python\\Python312\\Lib\\site-packages\\sklearn\\metrics\\_classification.py:1497: UndefinedMetricWarning: Precision is ill-defined and being set to 0.0 in labels with no predicted samples. Use `zero_division` parameter to control this behavior.\n",
      "  _warn_prf(average, modifier, f\"{metric.capitalize()} is\", len(result))\n",
      "c:\\Users\\Moustapha\\AppData\\Local\\Programs\\Python\\Python312\\Lib\\site-packages\\sklearn\\metrics\\_classification.py:1497: UndefinedMetricWarning: Precision is ill-defined and being set to 0.0 in labels with no predicted samples. Use `zero_division` parameter to control this behavior.\n",
      "  _warn_prf(average, modifier, f\"{metric.capitalize()} is\", len(result))\n"
     ]
    },
    {
     "name": "stdout",
     "output_type": "stream",
     "text": [
      "{'0': {'precision': 0.7685009487666035, 'recall': 0.995085995085995, 'f1-score': 0.867237687366167, 'support': 407.0}, '1': {'precision': 0.6, 'recall': 0.06, 'f1-score': 0.10909090909090909, 'support': 50.0}, '2': {'precision': 0.0, 'recall': 0.0, 'f1-score': 0.0, 'support': 5.0}, '3': {'precision': 0.0, 'recall': 0.0, 'f1-score': 0.0, 'support': 70.0}, 'accuracy': 0.7669172932330827, 'macro avg': {'precision': 0.3421252371916509, 'recall': 0.26377149877149875, 'f1-score': 0.24408214911426904, 'support': 532.0}, 'weighted avg': {'precision': 0.6443230942631722, 'recall': 0.7669172932330827, 'f1-score': 0.6737223387454425, 'support': 532.0}} for parameters {'num_class': 4, 'alpha': 0.01, 'device': 'cuda', 'eta': 0.01, 'eval_metric': 'logloss', 'gamma': 0.05, 'grow_policy': 'depthwise', 'lambda': 0.1, 'max_depth': 3, 'num_parallel_tree': 10, 'objective': 'multi:softmax', 'sampling_method': 'uniform', 'subsample': 0.3, 'tree_method': 'hist'}\n"
     ]
    },
    {
     "name": "stderr",
     "output_type": "stream",
     "text": [
      "c:\\Users\\Moustapha\\AppData\\Local\\Programs\\Python\\Python312\\Lib\\site-packages\\sklearn\\metrics\\_classification.py:1497: UndefinedMetricWarning: Precision is ill-defined and being set to 0.0 in labels with no predicted samples. Use `zero_division` parameter to control this behavior.\n",
      "  _warn_prf(average, modifier, f\"{metric.capitalize()} is\", len(result))\n",
      "c:\\Users\\Moustapha\\AppData\\Local\\Programs\\Python\\Python312\\Lib\\site-packages\\sklearn\\metrics\\_classification.py:1497: UndefinedMetricWarning: Precision is ill-defined and being set to 0.0 in labels with no predicted samples. Use `zero_division` parameter to control this behavior.\n",
      "  _warn_prf(average, modifier, f\"{metric.capitalize()} is\", len(result))\n",
      "c:\\Users\\Moustapha\\AppData\\Local\\Programs\\Python\\Python312\\Lib\\site-packages\\sklearn\\metrics\\_classification.py:1497: UndefinedMetricWarning: Precision is ill-defined and being set to 0.0 in labels with no predicted samples. Use `zero_division` parameter to control this behavior.\n",
      "  _warn_prf(average, modifier, f\"{metric.capitalize()} is\", len(result))\n"
     ]
    },
    {
     "name": "stdout",
     "output_type": "stream",
     "text": [
      "{'0': {'precision': 0.7481060606060606, 'recall': 0.9974747474747475, 'f1-score': 0.854978354978355, 'support': 396.0}, '1': {'precision': 0.8, 'recall': 0.0784313725490196, 'f1-score': 0.14285714285714285, 'support': 51.0}, '2': {'precision': 0.0, 'recall': 0.0, 'f1-score': 0.0, 'support': 11.0}, '3': {'precision': 0.0, 'recall': 0.0, 'f1-score': 0.0, 'support': 75.0}, 'accuracy': 0.7485928705440901, 'macro avg': {'precision': 0.38702651515151515, 'recall': 0.2689765300059418, 'f1-score': 0.24945887445887444, 'support': 533.0}, 'weighted avg': {'precision': 0.6323639774859288, 'recall': 0.7485928705440901, 'f1-score': 0.6488876976681854, 'support': 533.0}} for parameters {'num_class': 4, 'alpha': 0.01, 'device': 'cuda', 'eta': 0.01, 'eval_metric': 'logloss', 'gamma': 0.05, 'grow_policy': 'depthwise', 'lambda': 0.1, 'max_depth': 3, 'num_parallel_tree': 10, 'objective': 'multi:softmax', 'sampling_method': 'uniform', 'subsample': 0.3, 'tree_method': 'approx'}\n"
     ]
    },
    {
     "name": "stderr",
     "output_type": "stream",
     "text": [
      "c:\\Users\\Moustapha\\AppData\\Local\\Programs\\Python\\Python312\\Lib\\site-packages\\sklearn\\metrics\\_classification.py:1497: UndefinedMetricWarning: Precision is ill-defined and being set to 0.0 in labels with no predicted samples. Use `zero_division` parameter to control this behavior.\n",
      "  _warn_prf(average, modifier, f\"{metric.capitalize()} is\", len(result))\n",
      "c:\\Users\\Moustapha\\AppData\\Local\\Programs\\Python\\Python312\\Lib\\site-packages\\sklearn\\metrics\\_classification.py:1497: UndefinedMetricWarning: Precision is ill-defined and being set to 0.0 in labels with no predicted samples. Use `zero_division` parameter to control this behavior.\n",
      "  _warn_prf(average, modifier, f\"{metric.capitalize()} is\", len(result))\n",
      "c:\\Users\\Moustapha\\AppData\\Local\\Programs\\Python\\Python312\\Lib\\site-packages\\sklearn\\metrics\\_classification.py:1497: UndefinedMetricWarning: Precision is ill-defined and being set to 0.0 in labels with no predicted samples. Use `zero_division` parameter to control this behavior.\n",
      "  _warn_prf(average, modifier, f\"{metric.capitalize()} is\", len(result))\n"
     ]
    },
    {
     "name": "stdout",
     "output_type": "stream",
     "text": [
      "{'0': {'precision': 0.7632575757575758, 'recall': 0.9975247524752475, 'f1-score': 0.8648068669527897, 'support': 404.0}, '1': {'precision': 0.75, 'recall': 0.061224489795918366, 'f1-score': 0.11320754716981132, 'support': 49.0}, '2': {'precision': 0.0, 'recall': 0.0, 'f1-score': 0.0, 'support': 4.0}, '3': {'precision': 0.0, 'recall': 0.0, 'f1-score': 0.0, 'support': 75.0}, 'accuracy': 0.7631578947368421, 'macro avg': {'precision': 0.3783143939393939, 'recall': 0.2646873105677915, 'f1-score': 0.24450360353065026, 'support': 532.0}, 'weighted avg': {'precision': 0.6486956026429711, 'recall': 0.7631578947368421, 'f1-score': 0.6671600452260298, 'support': 532.0}} for parameters {'num_class': 4, 'alpha': 0.01, 'device': 'cuda', 'eta': 0.01, 'eval_metric': 'logloss', 'gamma': 0.05, 'grow_policy': 'depthwise', 'lambda': 0.1, 'max_depth': 3, 'num_parallel_tree': 10, 'objective': 'multi:softmax', 'sampling_method': 'uniform', 'subsample': 0.3, 'tree_method': 'approx'}\n"
     ]
    },
    {
     "name": "stderr",
     "output_type": "stream",
     "text": [
      "c:\\Users\\Moustapha\\AppData\\Local\\Programs\\Python\\Python312\\Lib\\site-packages\\sklearn\\metrics\\_classification.py:1497: UndefinedMetricWarning: Precision is ill-defined and being set to 0.0 in labels with no predicted samples. Use `zero_division` parameter to control this behavior.\n",
      "  _warn_prf(average, modifier, f\"{metric.capitalize()} is\", len(result))\n",
      "c:\\Users\\Moustapha\\AppData\\Local\\Programs\\Python\\Python312\\Lib\\site-packages\\sklearn\\metrics\\_classification.py:1497: UndefinedMetricWarning: Precision is ill-defined and being set to 0.0 in labels with no predicted samples. Use `zero_division` parameter to control this behavior.\n",
      "  _warn_prf(average, modifier, f\"{metric.capitalize()} is\", len(result))\n",
      "c:\\Users\\Moustapha\\AppData\\Local\\Programs\\Python\\Python312\\Lib\\site-packages\\sklearn\\metrics\\_classification.py:1497: UndefinedMetricWarning: Precision is ill-defined and being set to 0.0 in labels with no predicted samples. Use `zero_division` parameter to control this behavior.\n",
      "  _warn_prf(average, modifier, f\"{metric.capitalize()} is\", len(result))\n"
     ]
    },
    {
     "name": "stdout",
     "output_type": "stream",
     "text": [
      "{'0': {'precision': 0.7634615384615384, 'recall': 0.9900249376558603, 'f1-score': 0.8621064060803475, 'support': 401.0}, '1': {'precision': 0.3076923076923077, 'recall': 0.10256410256410256, 'f1-score': 0.15384615384615385, 'support': 39.0}, '2': {'precision': 0.0, 'recall': 0.0, 'f1-score': 0.0, 'support': 12.0}, '3': {'precision': 0.0, 'recall': 0.0, 'f1-score': 0.0, 'support': 81.0}, 'accuracy': 0.7523452157598499, 'macro avg': {'precision': 0.26778846153846153, 'recall': 0.27314726005499074, 'f1-score': 0.25398813998162534, 'support': 533.0}, 'weighted avg': {'precision': 0.5969007071727522, 'recall': 0.7523452157598499, 'f1-score': 0.6598586657377473, 'support': 533.0}} for parameters {'num_class': 4, 'alpha': 0.01, 'device': 'cuda', 'eta': 0.01, 'eval_metric': 'logloss', 'gamma': 0.05, 'grow_policy': 'depthwise', 'lambda': 0.1, 'max_depth': 3, 'num_parallel_tree': 10, 'objective': 'multi:softmax', 'sampling_method': 'uniform', 'subsample': 0.5, 'tree_method': 'hist'}\n"
     ]
    },
    {
     "name": "stderr",
     "output_type": "stream",
     "text": [
      "c:\\Users\\Moustapha\\AppData\\Local\\Programs\\Python\\Python312\\Lib\\site-packages\\sklearn\\metrics\\_classification.py:1497: UndefinedMetricWarning: Precision is ill-defined and being set to 0.0 in labels with no predicted samples. Use `zero_division` parameter to control this behavior.\n",
      "  _warn_prf(average, modifier, f\"{metric.capitalize()} is\", len(result))\n",
      "c:\\Users\\Moustapha\\AppData\\Local\\Programs\\Python\\Python312\\Lib\\site-packages\\sklearn\\metrics\\_classification.py:1497: UndefinedMetricWarning: Precision is ill-defined and being set to 0.0 in labels with no predicted samples. Use `zero_division` parameter to control this behavior.\n",
      "  _warn_prf(average, modifier, f\"{metric.capitalize()} is\", len(result))\n",
      "c:\\Users\\Moustapha\\AppData\\Local\\Programs\\Python\\Python312\\Lib\\site-packages\\sklearn\\metrics\\_classification.py:1497: UndefinedMetricWarning: Precision is ill-defined and being set to 0.0 in labels with no predicted samples. Use `zero_division` parameter to control this behavior.\n",
      "  _warn_prf(average, modifier, f\"{metric.capitalize()} is\", len(result))\n"
     ]
    },
    {
     "name": "stdout",
     "output_type": "stream",
     "text": [
      "{'0': {'precision': 0.7523629489603024, 'recall': 0.9974937343358395, 'f1-score': 0.8577586206896551, 'support': 399.0}, '1': {'precision': 1.0, 'recall': 0.03278688524590164, 'f1-score': 0.06349206349206349, 'support': 61.0}, '2': {'precision': 0.0, 'recall': 0.0, 'f1-score': 0.0, 'support': 3.0}, '3': {'precision': 0.0, 'recall': 0.0, 'f1-score': 0.0, 'support': 69.0}, 'accuracy': 0.7518796992481203, 'macro avg': {'precision': 0.43809073724007563, 'recall': 0.2575701548954353, 'f1-score': 0.23031267104542966, 'support': 532.0}, 'weighted avg': {'precision': 0.6789338658555651, 'recall': 0.7518796992481203, 'f1-score': 0.6505990705417072, 'support': 532.0}} for parameters {'num_class': 4, 'alpha': 0.01, 'device': 'cuda', 'eta': 0.01, 'eval_metric': 'logloss', 'gamma': 0.05, 'grow_policy': 'depthwise', 'lambda': 0.1, 'max_depth': 3, 'num_parallel_tree': 10, 'objective': 'multi:softmax', 'sampling_method': 'uniform', 'subsample': 0.5, 'tree_method': 'hist'}\n"
     ]
    },
    {
     "name": "stderr",
     "output_type": "stream",
     "text": [
      "c:\\Users\\Moustapha\\AppData\\Local\\Programs\\Python\\Python312\\Lib\\site-packages\\sklearn\\metrics\\_classification.py:1497: UndefinedMetricWarning: Precision is ill-defined and being set to 0.0 in labels with no predicted samples. Use `zero_division` parameter to control this behavior.\n",
      "  _warn_prf(average, modifier, f\"{metric.capitalize()} is\", len(result))\n",
      "c:\\Users\\Moustapha\\AppData\\Local\\Programs\\Python\\Python312\\Lib\\site-packages\\sklearn\\metrics\\_classification.py:1497: UndefinedMetricWarning: Precision is ill-defined and being set to 0.0 in labels with no predicted samples. Use `zero_division` parameter to control this behavior.\n",
      "  _warn_prf(average, modifier, f\"{metric.capitalize()} is\", len(result))\n",
      "c:\\Users\\Moustapha\\AppData\\Local\\Programs\\Python\\Python312\\Lib\\site-packages\\sklearn\\metrics\\_classification.py:1497: UndefinedMetricWarning: Precision is ill-defined and being set to 0.0 in labels with no predicted samples. Use `zero_division` parameter to control this behavior.\n",
      "  _warn_prf(average, modifier, f\"{metric.capitalize()} is\", len(result))\n"
     ]
    },
    {
     "name": "stdout",
     "output_type": "stream",
     "text": [
      "{'0': {'precision': 0.7348484848484849, 'recall': 0.9974293059125964, 'f1-score': 0.8462377317339149, 'support': 389.0}, '1': {'precision': 0.6, 'recall': 0.058823529411764705, 'f1-score': 0.10714285714285714, 'support': 51.0}, '2': {'precision': 0.0, 'recall': 0.0, 'f1-score': 0.0, 'support': 8.0}, '3': {'precision': 0.0, 'recall': 0.0, 'f1-score': 0.0, 'support': 85.0}, 'accuracy': 0.7335834896810507, 'macro avg': {'precision': 0.33371212121212124, 'recall': 0.26406320883109025, 'f1-score': 0.238345147219193, 'support': 533.0}, 'weighted avg': {'precision': 0.5937261925066804, 'recall': 0.7335834896810507, 'f1-score': 0.6278625954198473, 'support': 533.0}} for parameters {'num_class': 4, 'alpha': 0.01, 'device': 'cuda', 'eta': 0.01, 'eval_metric': 'logloss', 'gamma': 0.05, 'grow_policy': 'depthwise', 'lambda': 0.1, 'max_depth': 3, 'num_parallel_tree': 10, 'objective': 'multi:softmax', 'sampling_method': 'uniform', 'subsample': 0.5, 'tree_method': 'approx'}\n"
     ]
    },
    {
     "name": "stderr",
     "output_type": "stream",
     "text": [
      "c:\\Users\\Moustapha\\AppData\\Local\\Programs\\Python\\Python312\\Lib\\site-packages\\sklearn\\metrics\\_classification.py:1497: UndefinedMetricWarning: Precision is ill-defined and being set to 0.0 in labels with no predicted samples. Use `zero_division` parameter to control this behavior.\n",
      "  _warn_prf(average, modifier, f\"{metric.capitalize()} is\", len(result))\n",
      "c:\\Users\\Moustapha\\AppData\\Local\\Programs\\Python\\Python312\\Lib\\site-packages\\sklearn\\metrics\\_classification.py:1497: UndefinedMetricWarning: Precision is ill-defined and being set to 0.0 in labels with no predicted samples. Use `zero_division` parameter to control this behavior.\n",
      "  _warn_prf(average, modifier, f\"{metric.capitalize()} is\", len(result))\n",
      "c:\\Users\\Moustapha\\AppData\\Local\\Programs\\Python\\Python312\\Lib\\site-packages\\sklearn\\metrics\\_classification.py:1497: UndefinedMetricWarning: Precision is ill-defined and being set to 0.0 in labels with no predicted samples. Use `zero_division` parameter to control this behavior.\n",
      "  _warn_prf(average, modifier, f\"{metric.capitalize()} is\", len(result))\n"
     ]
    },
    {
     "name": "stdout",
     "output_type": "stream",
     "text": [
      "{'0': {'precision': 0.7864077669902912, 'recall': 0.9854014598540146, 'f1-score': 0.8747300215982722, 'support': 411.0}, '1': {'precision': 0.5714285714285714, 'recall': 0.16326530612244897, 'f1-score': 0.25396825396825395, 'support': 49.0}, '2': {'precision': 0.0, 'recall': 0.0, 'f1-score': 0.0, 'support': 7.0}, '3': {'precision': 0.3333333333333333, 'recall': 0.015384615384615385, 'f1-score': 0.029411764705882353, 'support': 65.0}, 'accuracy': 0.7781954887218046, 'macro avg': {'precision': 0.42279241793804895, 'recall': 0.2910128453402697, 'f1-score': 0.28952751006810207, 'support': 532.0}, 'weighted avg': {'precision': 0.7009027422926248, 'recall': 0.7781954887218046, 'f1-score': 0.7027636241113095, 'support': 532.0}} for parameters {'num_class': 4, 'alpha': 0.01, 'device': 'cuda', 'eta': 0.01, 'eval_metric': 'logloss', 'gamma': 0.05, 'grow_policy': 'depthwise', 'lambda': 0.1, 'max_depth': 3, 'num_parallel_tree': 10, 'objective': 'multi:softmax', 'sampling_method': 'uniform', 'subsample': 0.5, 'tree_method': 'approx'}\n",
      "{'0': {'precision': 0.7749003984063745, 'recall': 0.9725, 'f1-score': 0.8625277161862528, 'support': 400.0}, '1': {'precision': 0.4074074074074074, 'recall': 0.22448979591836735, 'f1-score': 0.2894736842105263, 'support': 49.0}, '2': {'precision': 0.0, 'recall': 0.0, 'f1-score': 0.0, 'support': 4.0}, '3': {'precision': 0.0, 'recall': 0.0, 'f1-score': 0.0, 'support': 80.0}, 'accuracy': 0.7504690431519699, 'macro avg': {'precision': 0.2955769514534455, 'recall': 0.2992474489795918, 'f1-score': 0.2880003500991948, 'support': 533.0}, 'weighted avg': {'precision': 0.6189927248133448, 'recall': 0.7504690431519699, 'f1-score': 0.6739123771122267, 'support': 533.0}} for parameters {'num_class': 4, 'alpha': 0.01, 'device': 'cuda', 'eta': 0.01, 'eval_metric': 'logloss', 'gamma': 0.05, 'grow_policy': 'depthwise', 'lambda': 0.1, 'max_depth': 3, 'num_parallel_tree': 10, 'objective': 'multi:softmax', 'sampling_method': 'uniform', 'subsample': 0.8, 'tree_method': 'hist'}\n",
      "{'0': {'precision': 0.7556818181818182, 'recall': 0.9975, 'f1-score': 0.8599137931034483, 'support': 400.0}, '1': {'precision': 1.0, 'recall': 0.0392156862745098, 'f1-score': 0.07547169811320754, 'support': 51.0}, '2': {'precision': 0.0, 'recall': 0.0, 'f1-score': 0.0, 'support': 11.0}, '3': {'precision': 1.0, 'recall': 0.014285714285714285, 'f1-score': 0.028169014084507043, 'support': 70.0}, 'accuracy': 0.7556390977443609, 'macro avg': {'precision': 0.6889204545454546, 'recall': 0.26275035014005604, 'f1-score': 0.2408886263252907, 'support': 532.0}, 'weighted avg': {'precision': 0.7956254272043747, 'recall': 0.7556390977443609, 'f1-score': 0.6574932421636625, 'support': 532.0}} for parameters {'num_class': 4, 'alpha': 0.01, 'device': 'cuda', 'eta': 0.01, 'eval_metric': 'logloss', 'gamma': 0.05, 'grow_policy': 'depthwise', 'lambda': 0.1, 'max_depth': 3, 'num_parallel_tree': 10, 'objective': 'multi:softmax', 'sampling_method': 'uniform', 'subsample': 0.8, 'tree_method': 'hist'}\n"
     ]
    },
    {
     "name": "stderr",
     "output_type": "stream",
     "text": [
      "c:\\Users\\Moustapha\\AppData\\Local\\Programs\\Python\\Python312\\Lib\\site-packages\\sklearn\\metrics\\_classification.py:1497: UndefinedMetricWarning: Precision is ill-defined and being set to 0.0 in labels with no predicted samples. Use `zero_division` parameter to control this behavior.\n",
      "  _warn_prf(average, modifier, f\"{metric.capitalize()} is\", len(result))\n",
      "c:\\Users\\Moustapha\\AppData\\Local\\Programs\\Python\\Python312\\Lib\\site-packages\\sklearn\\metrics\\_classification.py:1497: UndefinedMetricWarning: Precision is ill-defined and being set to 0.0 in labels with no predicted samples. Use `zero_division` parameter to control this behavior.\n",
      "  _warn_prf(average, modifier, f\"{metric.capitalize()} is\", len(result))\n",
      "c:\\Users\\Moustapha\\AppData\\Local\\Programs\\Python\\Python312\\Lib\\site-packages\\sklearn\\metrics\\_classification.py:1497: UndefinedMetricWarning: Precision is ill-defined and being set to 0.0 in labels with no predicted samples. Use `zero_division` parameter to control this behavior.\n",
      "  _warn_prf(average, modifier, f\"{metric.capitalize()} is\", len(result))\n"
     ]
    },
    {
     "name": "stdout",
     "output_type": "stream",
     "text": [
      "{'0': {'precision': 0.7662835249042146, 'recall': 0.9950248756218906, 'f1-score': 0.8658008658008658, 'support': 402.0}, '1': {'precision': 0.5454545454545454, 'recall': 0.1276595744680851, 'f1-score': 0.20689655172413793, 'support': 47.0}, '2': {'precision': 0.0, 'recall': 0.0, 'f1-score': 0.0, 'support': 9.0}, '3': {'precision': 0.0, 'recall': 0.0, 'f1-score': 0.0, 'support': 75.0}, 'accuracy': 0.7617260787992496, 'macro avg': {'precision': 0.32793451758969, 'recall': 0.28067111252249394, 'f1-score': 0.2681743543812509, 'support': 533.0}, 'weighted avg': {'precision': 0.626045667256769, 'recall': 0.7617260787992496, 'f1-score': 0.6712496922757646, 'support': 533.0}} for parameters {'num_class': 4, 'alpha': 0.01, 'device': 'cuda', 'eta': 0.01, 'eval_metric': 'logloss', 'gamma': 0.05, 'grow_policy': 'depthwise', 'lambda': 0.1, 'max_depth': 3, 'num_parallel_tree': 10, 'objective': 'multi:softmax', 'sampling_method': 'uniform', 'subsample': 0.8, 'tree_method': 'approx'}\n"
     ]
    },
    {
     "name": "stderr",
     "output_type": "stream",
     "text": [
      "c:\\Users\\Moustapha\\AppData\\Local\\Programs\\Python\\Python312\\Lib\\site-packages\\sklearn\\metrics\\_classification.py:1497: UndefinedMetricWarning: Precision is ill-defined and being set to 0.0 in labels with no predicted samples. Use `zero_division` parameter to control this behavior.\n",
      "  _warn_prf(average, modifier, f\"{metric.capitalize()} is\", len(result))\n",
      "c:\\Users\\Moustapha\\AppData\\Local\\Programs\\Python\\Python312\\Lib\\site-packages\\sklearn\\metrics\\_classification.py:1497: UndefinedMetricWarning: Precision is ill-defined and being set to 0.0 in labels with no predicted samples. Use `zero_division` parameter to control this behavior.\n",
      "  _warn_prf(average, modifier, f\"{metric.capitalize()} is\", len(result))\n",
      "c:\\Users\\Moustapha\\AppData\\Local\\Programs\\Python\\Python312\\Lib\\site-packages\\sklearn\\metrics\\_classification.py:1497: UndefinedMetricWarning: Precision is ill-defined and being set to 0.0 in labels with no predicted samples. Use `zero_division` parameter to control this behavior.\n",
      "  _warn_prf(average, modifier, f\"{metric.capitalize()} is\", len(result))\n"
     ]
    },
    {
     "name": "stdout",
     "output_type": "stream",
     "text": [
      "{'0': {'precision': 0.768, 'recall': 0.964824120603015, 'f1-score': 0.8552338530066815, 'support': 398.0}, '1': {'precision': 0.3870967741935484, 'recall': 0.22641509433962265, 'f1-score': 0.2857142857142857, 'support': 53.0}, '2': {'precision': 0.0, 'recall': 0.0, 'f1-score': 0.0, 'support': 6.0}, '3': {'precision': 0.0, 'recall': 0.0, 'f1-score': 0.0, 'support': 75.0}, 'accuracy': 0.7443609022556391, 'macro avg': {'precision': 0.28877419354838707, 'recall': 0.2978098037356594, 'f1-score': 0.2852370346802418, 'support': 532.0}, 'weighted avg': {'precision': 0.6131205432937181, 'recall': 0.7443609022556391, 'f1-score': 0.6682818245103691, 'support': 532.0}} for parameters {'num_class': 4, 'alpha': 0.01, 'device': 'cuda', 'eta': 0.01, 'eval_metric': 'logloss', 'gamma': 0.05, 'grow_policy': 'depthwise', 'lambda': 0.1, 'max_depth': 3, 'num_parallel_tree': 10, 'objective': 'multi:softmax', 'sampling_method': 'uniform', 'subsample': 0.8, 'tree_method': 'approx'}\n"
     ]
    },
    {
     "name": "stderr",
     "output_type": "stream",
     "text": [
      "c:\\Users\\Moustapha\\AppData\\Local\\Programs\\Python\\Python312\\Lib\\site-packages\\sklearn\\metrics\\_classification.py:1497: UndefinedMetricWarning: Precision is ill-defined and being set to 0.0 in labels with no predicted samples. Use `zero_division` parameter to control this behavior.\n",
      "  _warn_prf(average, modifier, f\"{metric.capitalize()} is\", len(result))\n",
      "c:\\Users\\Moustapha\\AppData\\Local\\Programs\\Python\\Python312\\Lib\\site-packages\\sklearn\\metrics\\_classification.py:1497: UndefinedMetricWarning: Precision is ill-defined and being set to 0.0 in labels with no predicted samples. Use `zero_division` parameter to control this behavior.\n",
      "  _warn_prf(average, modifier, f\"{metric.capitalize()} is\", len(result))\n",
      "c:\\Users\\Moustapha\\AppData\\Local\\Programs\\Python\\Python312\\Lib\\site-packages\\sklearn\\metrics\\_classification.py:1497: UndefinedMetricWarning: Precision is ill-defined and being set to 0.0 in labels with no predicted samples. Use `zero_division` parameter to control this behavior.\n",
      "  _warn_prf(average, modifier, f\"{metric.capitalize()} is\", len(result))\n"
     ]
    },
    {
     "name": "stdout",
     "output_type": "stream",
     "text": [
      "{'0': {'precision': 0.7681992337164751, 'recall': 0.9950372208436724, 'f1-score': 0.867027027027027, 'support': 403.0}, '1': {'precision': 0.8, 'recall': 0.1568627450980392, 'f1-score': 0.26229508196721313, 'support': 51.0}, '2': {'precision': 0.0, 'recall': 0.0, 'f1-score': 0.0, 'support': 8.0}, '3': {'precision': 1.0, 'recall': 0.014084507042253521, 'f1-score': 0.027777777777777776, 'support': 71.0}, 'accuracy': 0.7692307692307693, 'macro avg': {'precision': 0.6420498084291189, 'recall': 0.2914961182459913, 'f1-score': 0.2892749716930045, 'support': 533.0}, 'weighted avg': {'precision': 0.7905896645173349, 'recall': 0.7692307692307693, 'f1-score': 0.6843549029914484, 'support': 533.0}} for parameters {'num_class': 4, 'alpha': 0.01, 'device': 'cuda', 'eta': 0.01, 'eval_metric': 'logloss', 'gamma': 0.05, 'grow_policy': 'depthwise', 'lambda': 0.1, 'max_depth': 3, 'num_parallel_tree': 10, 'objective': 'multi:softmax', 'sampling_method': 'gradient_based', 'subsample': 0.3, 'tree_method': 'hist'}\n"
     ]
    },
    {
     "name": "stderr",
     "output_type": "stream",
     "text": [
      "c:\\Users\\Moustapha\\AppData\\Local\\Programs\\Python\\Python312\\Lib\\site-packages\\sklearn\\metrics\\_classification.py:1497: UndefinedMetricWarning: Precision is ill-defined and being set to 0.0 in labels with no predicted samples. Use `zero_division` parameter to control this behavior.\n",
      "  _warn_prf(average, modifier, f\"{metric.capitalize()} is\", len(result))\n",
      "c:\\Users\\Moustapha\\AppData\\Local\\Programs\\Python\\Python312\\Lib\\site-packages\\sklearn\\metrics\\_classification.py:1497: UndefinedMetricWarning: Precision is ill-defined and being set to 0.0 in labels with no predicted samples. Use `zero_division` parameter to control this behavior.\n",
      "  _warn_prf(average, modifier, f\"{metric.capitalize()} is\", len(result))\n",
      "c:\\Users\\Moustapha\\AppData\\Local\\Programs\\Python\\Python312\\Lib\\site-packages\\sklearn\\metrics\\_classification.py:1497: UndefinedMetricWarning: Precision is ill-defined and being set to 0.0 in labels with no predicted samples. Use `zero_division` parameter to control this behavior.\n",
      "  _warn_prf(average, modifier, f\"{metric.capitalize()} is\", len(result))\n"
     ]
    },
    {
     "name": "stdout",
     "output_type": "stream",
     "text": [
      "{'0': {'precision': 0.7672583826429981, 'recall': 0.9798488664987406, 'f1-score': 0.8606194690265486, 'support': 397.0}, '1': {'precision': 0.48, 'recall': 0.24489795918367346, 'f1-score': 0.32432432432432434, 'support': 49.0}, '2': {'precision': 0.0, 'recall': 0.0, 'f1-score': 0.0, 'support': 7.0}, '3': {'precision': 0.0, 'recall': 0.0, 'f1-score': 0.0, 'support': 79.0}, 'accuracy': 0.7537593984962406, 'macro avg': {'precision': 0.31181459566074954, 'recall': 0.3061867064206035, 'f1-score': 0.29623594833771827, 'support': 532.0}, 'weighted avg': {'precision': 0.6167698832881019, 'recall': 0.7537593984962406, 'f1-score': 0.672101167472616, 'support': 532.0}} for parameters {'num_class': 4, 'alpha': 0.01, 'device': 'cuda', 'eta': 0.01, 'eval_metric': 'logloss', 'gamma': 0.05, 'grow_policy': 'depthwise', 'lambda': 0.1, 'max_depth': 3, 'num_parallel_tree': 10, 'objective': 'multi:softmax', 'sampling_method': 'gradient_based', 'subsample': 0.3, 'tree_method': 'hist'}\n"
     ]
    },
    {
     "name": "stderr",
     "output_type": "stream",
     "text": [
      "c:\\Users\\Moustapha\\AppData\\Local\\Programs\\Python\\Python312\\Lib\\site-packages\\sklearn\\metrics\\_classification.py:1497: UndefinedMetricWarning: Precision is ill-defined and being set to 0.0 in labels with no predicted samples. Use `zero_division` parameter to control this behavior.\n",
      "  _warn_prf(average, modifier, f\"{metric.capitalize()} is\", len(result))\n",
      "c:\\Users\\Moustapha\\AppData\\Local\\Programs\\Python\\Python312\\Lib\\site-packages\\sklearn\\metrics\\_classification.py:1497: UndefinedMetricWarning: Precision is ill-defined and being set to 0.0 in labels with no predicted samples. Use `zero_division` parameter to control this behavior.\n",
      "  _warn_prf(average, modifier, f\"{metric.capitalize()} is\", len(result))\n",
      "c:\\Users\\Moustapha\\AppData\\Local\\Programs\\Python\\Python312\\Lib\\site-packages\\sklearn\\metrics\\_classification.py:1497: UndefinedMetricWarning: Precision is ill-defined and being set to 0.0 in labels with no predicted samples. Use `zero_division` parameter to control this behavior.\n",
      "  _warn_prf(average, modifier, f\"{metric.capitalize()} is\", len(result))\n"
     ]
    },
    {
     "name": "stdout",
     "output_type": "stream",
     "text": [
      "{'0': {'precision': 0.7881188118811882, 'recall': 0.9827160493827161, 'f1-score': 0.8747252747252747, 'support': 405.0}, '1': {'precision': 0.391304347826087, 'recall': 0.1956521739130435, 'f1-score': 0.2608695652173913, 'support': 46.0}, '2': {'precision': 0.0, 'recall': 0.0, 'f1-score': 0.0, 'support': 10.0}, '3': {'precision': 0.2, 'recall': 0.013888888888888888, 'f1-score': 0.025974025974025976, 'support': 72.0}, 'accuracy': 0.7654784240150094, 'macro avg': {'precision': 0.34485578992681876, 'recall': 0.2980642780461621, 'f1-score': 0.290392216479173, 'support': 533.0}, 'weighted avg': {'precision': 0.659639997770884, 'recall': 0.7654784240150094, 'f1-score': 0.6906826756732949, 'support': 533.0}} for parameters {'num_class': 4, 'alpha': 0.01, 'device': 'cuda', 'eta': 0.01, 'eval_metric': 'logloss', 'gamma': 0.05, 'grow_policy': 'depthwise', 'lambda': 0.1, 'max_depth': 3, 'num_parallel_tree': 10, 'objective': 'multi:softmax', 'sampling_method': 'gradient_based', 'subsample': 0.3, 'tree_method': 'approx'}\n"
     ]
    },
    {
     "name": "stderr",
     "output_type": "stream",
     "text": [
      "c:\\Users\\Moustapha\\AppData\\Local\\Programs\\Python\\Python312\\Lib\\site-packages\\sklearn\\metrics\\_classification.py:1497: UndefinedMetricWarning: Precision is ill-defined and being set to 0.0 in labels with no predicted samples. Use `zero_division` parameter to control this behavior.\n",
      "  _warn_prf(average, modifier, f\"{metric.capitalize()} is\", len(result))\n",
      "c:\\Users\\Moustapha\\AppData\\Local\\Programs\\Python\\Python312\\Lib\\site-packages\\sklearn\\metrics\\_classification.py:1497: UndefinedMetricWarning: Precision is ill-defined and being set to 0.0 in labels with no predicted samples. Use `zero_division` parameter to control this behavior.\n",
      "  _warn_prf(average, modifier, f\"{metric.capitalize()} is\", len(result))\n",
      "c:\\Users\\Moustapha\\AppData\\Local\\Programs\\Python\\Python312\\Lib\\site-packages\\sklearn\\metrics\\_classification.py:1497: UndefinedMetricWarning: Precision is ill-defined and being set to 0.0 in labels with no predicted samples. Use `zero_division` parameter to control this behavior.\n",
      "  _warn_prf(average, modifier, f\"{metric.capitalize()} is\", len(result))\n"
     ]
    },
    {
     "name": "stdout",
     "output_type": "stream",
     "text": [
      "{'0': {'precision': 0.7480916030534351, 'recall': 0.9924050632911392, 'f1-score': 0.85310119695321, 'support': 395.0}, '1': {'precision': 0.7142857142857143, 'recall': 0.09259259259259259, 'f1-score': 0.16393442622950818, 'support': 54.0}, '2': {'precision': 0.0, 'recall': 0.0, 'f1-score': 0.0, 'support': 5.0}, '3': {'precision': 0.0, 'recall': 0.0, 'f1-score': 0.0, 'support': 78.0}, 'accuracy': 0.7462406015037594, 'macro avg': {'precision': 0.36559432933478736, 'recall': 0.27124941397093294, 'f1-score': 0.25425890579567956, 'support': 532.0}, 'weighted avg': {'precision': 0.6279466386795779, 'recall': 0.7462406015037594, 'f1-score': 0.650051563558104, 'support': 532.0}} for parameters {'num_class': 4, 'alpha': 0.01, 'device': 'cuda', 'eta': 0.01, 'eval_metric': 'logloss', 'gamma': 0.05, 'grow_policy': 'depthwise', 'lambda': 0.1, 'max_depth': 3, 'num_parallel_tree': 10, 'objective': 'multi:softmax', 'sampling_method': 'gradient_based', 'subsample': 0.3, 'tree_method': 'approx'}\n"
     ]
    },
    {
     "name": "stderr",
     "output_type": "stream",
     "text": [
      "c:\\Users\\Moustapha\\AppData\\Local\\Programs\\Python\\Python312\\Lib\\site-packages\\sklearn\\metrics\\_classification.py:1497: UndefinedMetricWarning: Precision is ill-defined and being set to 0.0 in labels with no predicted samples. Use `zero_division` parameter to control this behavior.\n",
      "  _warn_prf(average, modifier, f\"{metric.capitalize()} is\", len(result))\n",
      "c:\\Users\\Moustapha\\AppData\\Local\\Programs\\Python\\Python312\\Lib\\site-packages\\sklearn\\metrics\\_classification.py:1497: UndefinedMetricWarning: Precision is ill-defined and being set to 0.0 in labels with no predicted samples. Use `zero_division` parameter to control this behavior.\n",
      "  _warn_prf(average, modifier, f\"{metric.capitalize()} is\", len(result))\n",
      "c:\\Users\\Moustapha\\AppData\\Local\\Programs\\Python\\Python312\\Lib\\site-packages\\sklearn\\metrics\\_classification.py:1497: UndefinedMetricWarning: Precision is ill-defined and being set to 0.0 in labels with no predicted samples. Use `zero_division` parameter to control this behavior.\n",
      "  _warn_prf(average, modifier, f\"{metric.capitalize()} is\", len(result))\n"
     ]
    },
    {
     "name": "stdout",
     "output_type": "stream",
     "text": [
      "{'0': {'precision': 0.7714285714285715, 'recall': 0.9975369458128078, 'f1-score': 0.8700322234156821, 'support': 406.0}, '1': {'precision': 0.875, 'recall': 0.1320754716981132, 'f1-score': 0.22950819672131148, 'support': 53.0}, '2': {'precision': 0.0, 'recall': 0.0, 'f1-score': 0.0, 'support': 8.0}, '3': {'precision': 0.0, 'recall': 0.0, 'f1-score': 0.0, 'support': 66.0}, 'accuracy': 0.7729831144465291, 'macro avg': {'precision': 0.41160714285714284, 'recall': 0.28240310437773025, 'f1-score': 0.2748851050342484, 'support': 533.0}, 'weighted avg': {'precision': 0.674624765478424, 'recall': 0.7729831144465291, 'f1-score': 0.6855478745459596, 'support': 533.0}} for parameters {'num_class': 4, 'alpha': 0.01, 'device': 'cuda', 'eta': 0.01, 'eval_metric': 'logloss', 'gamma': 0.05, 'grow_policy': 'depthwise', 'lambda': 0.1, 'max_depth': 3, 'num_parallel_tree': 10, 'objective': 'multi:softmax', 'sampling_method': 'gradient_based', 'subsample': 0.5, 'tree_method': 'hist'}\n"
     ]
    },
    {
     "name": "stderr",
     "output_type": "stream",
     "text": [
      "c:\\Users\\Moustapha\\AppData\\Local\\Programs\\Python\\Python312\\Lib\\site-packages\\sklearn\\metrics\\_classification.py:1497: UndefinedMetricWarning: Precision is ill-defined and being set to 0.0 in labels with no predicted samples. Use `zero_division` parameter to control this behavior.\n",
      "  _warn_prf(average, modifier, f\"{metric.capitalize()} is\", len(result))\n",
      "c:\\Users\\Moustapha\\AppData\\Local\\Programs\\Python\\Python312\\Lib\\site-packages\\sklearn\\metrics\\_classification.py:1497: UndefinedMetricWarning: Precision is ill-defined and being set to 0.0 in labels with no predicted samples. Use `zero_division` parameter to control this behavior.\n",
      "  _warn_prf(average, modifier, f\"{metric.capitalize()} is\", len(result))\n",
      "c:\\Users\\Moustapha\\AppData\\Local\\Programs\\Python\\Python312\\Lib\\site-packages\\sklearn\\metrics\\_classification.py:1497: UndefinedMetricWarning: Precision is ill-defined and being set to 0.0 in labels with no predicted samples. Use `zero_division` parameter to control this behavior.\n",
      "  _warn_prf(average, modifier, f\"{metric.capitalize()} is\", len(result))\n"
     ]
    },
    {
     "name": "stdout",
     "output_type": "stream",
     "text": [
      "{'0': {'precision': 0.7654075546719682, 'recall': 0.9771573604060914, 'f1-score': 0.8584169453734671, 'support': 394.0}, '1': {'precision': 0.41379310344827586, 'recall': 0.2553191489361702, 'f1-score': 0.3157894736842105, 'support': 47.0}, '2': {'precision': 0.0, 'recall': 0.0, 'f1-score': 0.0, 'support': 7.0}, '3': {'precision': 0.0, 'recall': 0.0, 'f1-score': 0.0, 'support': 84.0}, 'accuracy': 0.7462406015037594, 'macro avg': {'precision': 0.294800164530061, 'recall': 0.3081191273355654, 'f1-score': 0.29355160476441944, 'support': 532.0}, 'weighted avg': {'precision': 0.6034188954940309, 'recall': 0.7462406015037594, 'f1-score': 0.6636435746998195, 'support': 532.0}} for parameters {'num_class': 4, 'alpha': 0.01, 'device': 'cuda', 'eta': 0.01, 'eval_metric': 'logloss', 'gamma': 0.05, 'grow_policy': 'depthwise', 'lambda': 0.1, 'max_depth': 3, 'num_parallel_tree': 10, 'objective': 'multi:softmax', 'sampling_method': 'gradient_based', 'subsample': 0.5, 'tree_method': 'hist'}\n"
     ]
    },
    {
     "name": "stderr",
     "output_type": "stream",
     "text": [
      "c:\\Users\\Moustapha\\AppData\\Local\\Programs\\Python\\Python312\\Lib\\site-packages\\sklearn\\metrics\\_classification.py:1497: UndefinedMetricWarning: Precision is ill-defined and being set to 0.0 in labels with no predicted samples. Use `zero_division` parameter to control this behavior.\n",
      "  _warn_prf(average, modifier, f\"{metric.capitalize()} is\", len(result))\n",
      "c:\\Users\\Moustapha\\AppData\\Local\\Programs\\Python\\Python312\\Lib\\site-packages\\sklearn\\metrics\\_classification.py:1497: UndefinedMetricWarning: Precision is ill-defined and being set to 0.0 in labels with no predicted samples. Use `zero_division` parameter to control this behavior.\n",
      "  _warn_prf(average, modifier, f\"{metric.capitalize()} is\", len(result))\n",
      "c:\\Users\\Moustapha\\AppData\\Local\\Programs\\Python\\Python312\\Lib\\site-packages\\sklearn\\metrics\\_classification.py:1497: UndefinedMetricWarning: Precision is ill-defined and being set to 0.0 in labels with no predicted samples. Use `zero_division` parameter to control this behavior.\n",
      "  _warn_prf(average, modifier, f\"{metric.capitalize()} is\", len(result))\n"
     ]
    },
    {
     "name": "stdout",
     "output_type": "stream",
     "text": [
      "{'0': {'precision': 0.7429111531190926, 'recall': 0.9974619289340102, 'f1-score': 0.8515709642470206, 'support': 394.0}, '1': {'precision': 0.75, 'recall': 0.05454545454545454, 'f1-score': 0.1016949152542373, 'support': 55.0}, '2': {'precision': 0.0, 'recall': 0.0, 'f1-score': 0.0, 'support': 5.0}, '3': {'precision': 0.0, 'recall': 0.0, 'f1-score': 0.0, 'support': 79.0}, 'accuracy': 0.7429643527204502, 'macro avg': {'precision': 0.37322778827977315, 'recall': 0.2630018458698662, 'f1-score': 0.23831646987531446, 'support': 533.0}, 'weighted avg': {'precision': 0.6265609649698357, 'recall': 0.7429643527204502, 'f1-score': 0.6399853288035818, 'support': 533.0}} for parameters {'num_class': 4, 'alpha': 0.01, 'device': 'cuda', 'eta': 0.01, 'eval_metric': 'logloss', 'gamma': 0.05, 'grow_policy': 'depthwise', 'lambda': 0.1, 'max_depth': 3, 'num_parallel_tree': 10, 'objective': 'multi:softmax', 'sampling_method': 'gradient_based', 'subsample': 0.5, 'tree_method': 'approx'}\n"
     ]
    },
    {
     "name": "stderr",
     "output_type": "stream",
     "text": [
      "c:\\Users\\Moustapha\\AppData\\Local\\Programs\\Python\\Python312\\Lib\\site-packages\\sklearn\\metrics\\_classification.py:1497: UndefinedMetricWarning: Precision is ill-defined and being set to 0.0 in labels with no predicted samples. Use `zero_division` parameter to control this behavior.\n",
      "  _warn_prf(average, modifier, f\"{metric.capitalize()} is\", len(result))\n",
      "c:\\Users\\Moustapha\\AppData\\Local\\Programs\\Python\\Python312\\Lib\\site-packages\\sklearn\\metrics\\_classification.py:1497: UndefinedMetricWarning: Precision is ill-defined and being set to 0.0 in labels with no predicted samples. Use `zero_division` parameter to control this behavior.\n",
      "  _warn_prf(average, modifier, f\"{metric.capitalize()} is\", len(result))\n",
      "c:\\Users\\Moustapha\\AppData\\Local\\Programs\\Python\\Python312\\Lib\\site-packages\\sklearn\\metrics\\_classification.py:1497: UndefinedMetricWarning: Precision is ill-defined and being set to 0.0 in labels with no predicted samples. Use `zero_division` parameter to control this behavior.\n",
      "  _warn_prf(average, modifier, f\"{metric.capitalize()} is\", len(result))\n"
     ]
    },
    {
     "name": "stdout",
     "output_type": "stream",
     "text": [
      "{'0': {'precision': 0.7847082494969819, 'recall': 0.9605911330049262, 'f1-score': 0.8637873754152824, 'support': 406.0}, '1': {'precision': 0.3235294117647059, 'recall': 0.24444444444444444, 'f1-score': 0.27848101265822783, 'support': 45.0}, '2': {'precision': 0.0, 'recall': 0.0, 'f1-score': 0.0, 'support': 10.0}, '3': {'precision': 1.0, 'recall': 0.014084507042253521, 'f1-score': 0.027777777777777776, 'support': 71.0}, 'accuracy': 0.7556390977443609, 'macro avg': {'precision': 0.527059415315422, 'recall': 0.30478002112290603, 'f1-score': 0.292511541462822, 'support': 532.0}, 'weighted avg': {'precision': 0.7596811519270421, 'recall': 0.7556390977443609, 'f1-score': 0.6864690643053518, 'support': 532.0}} for parameters {'num_class': 4, 'alpha': 0.01, 'device': 'cuda', 'eta': 0.01, 'eval_metric': 'logloss', 'gamma': 0.05, 'grow_policy': 'depthwise', 'lambda': 0.1, 'max_depth': 3, 'num_parallel_tree': 10, 'objective': 'multi:softmax', 'sampling_method': 'gradient_based', 'subsample': 0.5, 'tree_method': 'approx'}\n"
     ]
    },
    {
     "name": "stderr",
     "output_type": "stream",
     "text": [
      "c:\\Users\\Moustapha\\AppData\\Local\\Programs\\Python\\Python312\\Lib\\site-packages\\sklearn\\metrics\\_classification.py:1497: UndefinedMetricWarning: Precision is ill-defined and being set to 0.0 in labels with no predicted samples. Use `zero_division` parameter to control this behavior.\n",
      "  _warn_prf(average, modifier, f\"{metric.capitalize()} is\", len(result))\n",
      "c:\\Users\\Moustapha\\AppData\\Local\\Programs\\Python\\Python312\\Lib\\site-packages\\sklearn\\metrics\\_classification.py:1497: UndefinedMetricWarning: Precision is ill-defined and being set to 0.0 in labels with no predicted samples. Use `zero_division` parameter to control this behavior.\n",
      "  _warn_prf(average, modifier, f\"{metric.capitalize()} is\", len(result))\n",
      "c:\\Users\\Moustapha\\AppData\\Local\\Programs\\Python\\Python312\\Lib\\site-packages\\sklearn\\metrics\\_classification.py:1497: UndefinedMetricWarning: Precision is ill-defined and being set to 0.0 in labels with no predicted samples. Use `zero_division` parameter to control this behavior.\n",
      "  _warn_prf(average, modifier, f\"{metric.capitalize()} is\", len(result))\n"
     ]
    },
    {
     "name": "stdout",
     "output_type": "stream",
     "text": [
      "{'0': {'precision': 0.7890466531440162, 'recall': 0.9557739557739557, 'f1-score': 0.8644444444444445, 'support': 407.0}, '1': {'precision': 0.4444444444444444, 'recall': 0.3076923076923077, 'f1-score': 0.36363636363636365, 'support': 52.0}, '2': {'precision': 0.0, 'recall': 0.0, 'f1-score': 0.0, 'support': 6.0}, '3': {'precision': 0.25, 'recall': 0.014705882352941176, 'f1-score': 0.027777777777777776, 'support': 68.0}, 'accuracy': 0.7617260787992496, 'macro avg': {'precision': 0.3708727743971152, 'recall': 0.31954303645480114, 'f1-score': 0.31396464646464645, 'support': 533.0}, 'weighted avg': {'precision': 0.6777731687443259, 'recall': 0.7617260787992496, 'f1-score': 0.6991123239903729, 'support': 533.0}} for parameters {'num_class': 4, 'alpha': 0.01, 'device': 'cuda', 'eta': 0.01, 'eval_metric': 'logloss', 'gamma': 0.05, 'grow_policy': 'depthwise', 'lambda': 0.1, 'max_depth': 3, 'num_parallel_tree': 10, 'objective': 'multi:softmax', 'sampling_method': 'gradient_based', 'subsample': 0.8, 'tree_method': 'hist'}\n"
     ]
    },
    {
     "name": "stderr",
     "output_type": "stream",
     "text": [
      "c:\\Users\\Moustapha\\AppData\\Local\\Programs\\Python\\Python312\\Lib\\site-packages\\sklearn\\metrics\\_classification.py:1497: UndefinedMetricWarning: Precision is ill-defined and being set to 0.0 in labels with no predicted samples. Use `zero_division` parameter to control this behavior.\n",
      "  _warn_prf(average, modifier, f\"{metric.capitalize()} is\", len(result))\n",
      "c:\\Users\\Moustapha\\AppData\\Local\\Programs\\Python\\Python312\\Lib\\site-packages\\sklearn\\metrics\\_classification.py:1497: UndefinedMetricWarning: Precision is ill-defined and being set to 0.0 in labels with no predicted samples. Use `zero_division` parameter to control this behavior.\n",
      "  _warn_prf(average, modifier, f\"{metric.capitalize()} is\", len(result))\n",
      "c:\\Users\\Moustapha\\AppData\\Local\\Programs\\Python\\Python312\\Lib\\site-packages\\sklearn\\metrics\\_classification.py:1497: UndefinedMetricWarning: Precision is ill-defined and being set to 0.0 in labels with no predicted samples. Use `zero_division` parameter to control this behavior.\n",
      "  _warn_prf(average, modifier, f\"{metric.capitalize()} is\", len(result))\n"
     ]
    },
    {
     "name": "stdout",
     "output_type": "stream",
     "text": [
      "{'0': {'precision': 0.7509578544061303, 'recall': 0.9974554707379135, 'f1-score': 0.8568306010928962, 'support': 393.0}, '1': {'precision': 0.6, 'recall': 0.125, 'f1-score': 0.20689655172413793, 'support': 48.0}, '2': {'precision': 0.0, 'recall': 0.0, 'f1-score': 0.0, 'support': 9.0}, '3': {'precision': 0.0, 'recall': 0.0, 'f1-score': 0.0, 'support': 82.0}, 'accuracy': 0.7481203007518797, 'macro avg': {'precision': 0.33773946360153256, 'recall': 0.2806138676844784, 'f1-score': 0.26593178820425856, 'support': 532.0}, 'weighted avg': {'precision': 0.608884279664679, 'recall': 0.7481203007518797, 'f1-score': 0.6516268058501256, 'support': 532.0}} for parameters {'num_class': 4, 'alpha': 0.01, 'device': 'cuda', 'eta': 0.01, 'eval_metric': 'logloss', 'gamma': 0.05, 'grow_policy': 'depthwise', 'lambda': 0.1, 'max_depth': 3, 'num_parallel_tree': 10, 'objective': 'multi:softmax', 'sampling_method': 'gradient_based', 'subsample': 0.8, 'tree_method': 'hist'}\n"
     ]
    },
    {
     "name": "stderr",
     "output_type": "stream",
     "text": [
      "c:\\Users\\Moustapha\\AppData\\Local\\Programs\\Python\\Python312\\Lib\\site-packages\\sklearn\\metrics\\_classification.py:1497: UndefinedMetricWarning: Precision is ill-defined and being set to 0.0 in labels with no predicted samples. Use `zero_division` parameter to control this behavior.\n",
      "  _warn_prf(average, modifier, f\"{metric.capitalize()} is\", len(result))\n",
      "c:\\Users\\Moustapha\\AppData\\Local\\Programs\\Python\\Python312\\Lib\\site-packages\\sklearn\\metrics\\_classification.py:1497: UndefinedMetricWarning: Precision is ill-defined and being set to 0.0 in labels with no predicted samples. Use `zero_division` parameter to control this behavior.\n",
      "  _warn_prf(average, modifier, f\"{metric.capitalize()} is\", len(result))\n",
      "c:\\Users\\Moustapha\\AppData\\Local\\Programs\\Python\\Python312\\Lib\\site-packages\\sklearn\\metrics\\_classification.py:1497: UndefinedMetricWarning: Precision is ill-defined and being set to 0.0 in labels with no predicted samples. Use `zero_division` parameter to control this behavior.\n",
      "  _warn_prf(average, modifier, f\"{metric.capitalize()} is\", len(result))\n"
     ]
    },
    {
     "name": "stdout",
     "output_type": "stream",
     "text": [
      "{'0': {'precision': 0.7705544933078394, 'recall': 0.9950617283950617, 'f1-score': 0.8685344827586207, 'support': 405.0}, '1': {'precision': 0.6666666666666666, 'recall': 0.12244897959183673, 'f1-score': 0.20689655172413793, 'support': 49.0}, '2': {'precision': 0.0, 'recall': 0.0, 'f1-score': 0.0, 'support': 7.0}, '3': {'precision': 0.0, 'recall': 0.0, 'f1-score': 0.0, 'support': 72.0}, 'accuracy': 0.7673545966228893, 'macro avg': {'precision': 0.35930528999362654, 'recall': 0.2793776769967246, 'f1-score': 0.26885775862068967, 'support': 533.0}, 'weighted avg': {'precision': 0.6467940646460444, 'recall': 0.7673545966228893, 'f1-score': 0.67897635375558, 'support': 533.0}} for parameters {'num_class': 4, 'alpha': 0.01, 'device': 'cuda', 'eta': 0.01, 'eval_metric': 'logloss', 'gamma': 0.05, 'grow_policy': 'depthwise', 'lambda': 0.1, 'max_depth': 3, 'num_parallel_tree': 10, 'objective': 'multi:softmax', 'sampling_method': 'gradient_based', 'subsample': 0.8, 'tree_method': 'approx'}\n"
     ]
    },
    {
     "name": "stderr",
     "output_type": "stream",
     "text": [
      "c:\\Users\\Moustapha\\AppData\\Local\\Programs\\Python\\Python312\\Lib\\site-packages\\sklearn\\metrics\\_classification.py:1497: UndefinedMetricWarning: Precision is ill-defined and being set to 0.0 in labels with no predicted samples. Use `zero_division` parameter to control this behavior.\n",
      "  _warn_prf(average, modifier, f\"{metric.capitalize()} is\", len(result))\n",
      "c:\\Users\\Moustapha\\AppData\\Local\\Programs\\Python\\Python312\\Lib\\site-packages\\sklearn\\metrics\\_classification.py:1497: UndefinedMetricWarning: Precision is ill-defined and being set to 0.0 in labels with no predicted samples. Use `zero_division` parameter to control this behavior.\n",
      "  _warn_prf(average, modifier, f\"{metric.capitalize()} is\", len(result))\n",
      "c:\\Users\\Moustapha\\AppData\\Local\\Programs\\Python\\Python312\\Lib\\site-packages\\sklearn\\metrics\\_classification.py:1497: UndefinedMetricWarning: Precision is ill-defined and being set to 0.0 in labels with no predicted samples. Use `zero_division` parameter to control this behavior.\n",
      "  _warn_prf(average, modifier, f\"{metric.capitalize()} is\", len(result))\n"
     ]
    },
    {
     "name": "stdout",
     "output_type": "stream",
     "text": [
      "{'0': {'precision': 0.7564356435643564, 'recall': 0.9670886075949368, 'f1-score': 0.8488888888888889, 'support': 395.0}, '1': {'precision': 0.34615384615384615, 'recall': 0.17647058823529413, 'f1-score': 0.23376623376623376, 'support': 51.0}, '2': {'precision': 0.0, 'recall': 0.0, 'f1-score': 0.0, 'support': 8.0}, '3': {'precision': 0.0, 'recall': 0.0, 'f1-score': 0.0, 'support': 78.0}, 'accuracy': 0.7349624060150376, 'macro avg': {'precision': 0.2756473724295506, 'recall': 0.28588979895755773, 'f1-score': 0.27066378066378066, 'support': 532.0}, 'weighted avg': {'precision': 0.5948231679732461, 'recall': 0.7349624060150376, 'f1-score': 0.6526939643480997, 'support': 532.0}} for parameters {'num_class': 4, 'alpha': 0.01, 'device': 'cuda', 'eta': 0.01, 'eval_metric': 'logloss', 'gamma': 0.05, 'grow_policy': 'depthwise', 'lambda': 0.1, 'max_depth': 3, 'num_parallel_tree': 10, 'objective': 'multi:softmax', 'sampling_method': 'gradient_based', 'subsample': 0.8, 'tree_method': 'approx'}\n"
     ]
    },
    {
     "name": "stderr",
     "output_type": "stream",
     "text": [
      "c:\\Users\\Moustapha\\AppData\\Local\\Programs\\Python\\Python312\\Lib\\site-packages\\sklearn\\metrics\\_classification.py:1497: UndefinedMetricWarning: Precision is ill-defined and being set to 0.0 in labels with no predicted samples. Use `zero_division` parameter to control this behavior.\n",
      "  _warn_prf(average, modifier, f\"{metric.capitalize()} is\", len(result))\n",
      "c:\\Users\\Moustapha\\AppData\\Local\\Programs\\Python\\Python312\\Lib\\site-packages\\sklearn\\metrics\\_classification.py:1497: UndefinedMetricWarning: Precision is ill-defined and being set to 0.0 in labels with no predicted samples. Use `zero_division` parameter to control this behavior.\n",
      "  _warn_prf(average, modifier, f\"{metric.capitalize()} is\", len(result))\n",
      "c:\\Users\\Moustapha\\AppData\\Local\\Programs\\Python\\Python312\\Lib\\site-packages\\sklearn\\metrics\\_classification.py:1497: UndefinedMetricWarning: Precision is ill-defined and being set to 0.0 in labels with no predicted samples. Use `zero_division` parameter to control this behavior.\n",
      "  _warn_prf(average, modifier, f\"{metric.capitalize()} is\", len(result))\n"
     ]
    },
    {
     "name": "stdout",
     "output_type": "stream",
     "text": [
      "{'0': {'precision': 0.7648183556405354, 'recall': 0.9925558312655087, 'f1-score': 0.8639308855291576, 'support': 403.0}, '1': {'precision': 0.6666666666666666, 'recall': 0.1276595744680851, 'f1-score': 0.21428571428571427, 'support': 47.0}, '2': {'precision': 0.0, 'recall': 0.0, 'f1-score': 0.0, 'support': 10.0}, '3': {'precision': 0.0, 'recall': 0.0, 'f1-score': 0.0, 'support': 73.0}, 'accuracy': 0.7617260787992496, 'macro avg': {'precision': 0.3578712555768005, 'recall': 0.28005385143339845, 'f1-score': 0.26955414995371796, 'support': 533.0}, 'weighted avg': {'precision': 0.6370640350027562, 'recall': 0.7617260787992496, 'f1-score': 0.6721117738080283, 'support': 533.0}} for parameters {'num_class': 4, 'alpha': 0.01, 'device': 'cuda', 'eta': 0.01, 'eval_metric': 'logloss', 'gamma': 0.05, 'grow_policy': 'depthwise', 'lambda': 0.1, 'max_depth': 3, 'num_parallel_tree': 30, 'objective': 'multi:softmax', 'sampling_method': 'uniform', 'subsample': 0.3, 'tree_method': 'hist'}\n"
     ]
    },
    {
     "name": "stderr",
     "output_type": "stream",
     "text": [
      "c:\\Users\\Moustapha\\AppData\\Local\\Programs\\Python\\Python312\\Lib\\site-packages\\sklearn\\metrics\\_classification.py:1497: UndefinedMetricWarning: Precision is ill-defined and being set to 0.0 in labels with no predicted samples. Use `zero_division` parameter to control this behavior.\n",
      "  _warn_prf(average, modifier, f\"{metric.capitalize()} is\", len(result))\n",
      "c:\\Users\\Moustapha\\AppData\\Local\\Programs\\Python\\Python312\\Lib\\site-packages\\sklearn\\metrics\\_classification.py:1497: UndefinedMetricWarning: Precision is ill-defined and being set to 0.0 in labels with no predicted samples. Use `zero_division` parameter to control this behavior.\n",
      "  _warn_prf(average, modifier, f\"{metric.capitalize()} is\", len(result))\n",
      "c:\\Users\\Moustapha\\AppData\\Local\\Programs\\Python\\Python312\\Lib\\site-packages\\sklearn\\metrics\\_classification.py:1497: UndefinedMetricWarning: Precision is ill-defined and being set to 0.0 in labels with no predicted samples. Use `zero_division` parameter to control this behavior.\n",
      "  _warn_prf(average, modifier, f\"{metric.capitalize()} is\", len(result))\n"
     ]
    },
    {
     "name": "stdout",
     "output_type": "stream",
     "text": [
      "{'0': {'precision': 0.75, 'recall': 0.9974811083123426, 'f1-score': 0.8562162162162162, 'support': 397.0}, '1': {'precision': 0.75, 'recall': 0.05660377358490566, 'f1-score': 0.10526315789473684, 'support': 53.0}, '2': {'precision': 0.0, 'recall': 0.0, 'f1-score': 0.0, 'support': 5.0}, '3': {'precision': 0.0, 'recall': 0.0, 'f1-score': 0.0, 'support': 77.0}, 'accuracy': 0.75, 'macro avg': {'precision': 0.375, 'recall': 0.2635212204743121, 'f1-score': 0.24036984352773827, 'support': 532.0}, 'weighted avg': {'precision': 0.6343984962406015, 'recall': 0.75, 'f1-score': 0.6494300473801858, 'support': 532.0}} for parameters {'num_class': 4, 'alpha': 0.01, 'device': 'cuda', 'eta': 0.01, 'eval_metric': 'logloss', 'gamma': 0.05, 'grow_policy': 'depthwise', 'lambda': 0.1, 'max_depth': 3, 'num_parallel_tree': 30, 'objective': 'multi:softmax', 'sampling_method': 'uniform', 'subsample': 0.3, 'tree_method': 'hist'}\n"
     ]
    },
    {
     "name": "stderr",
     "output_type": "stream",
     "text": [
      "c:\\Users\\Moustapha\\AppData\\Local\\Programs\\Python\\Python312\\Lib\\site-packages\\sklearn\\metrics\\_classification.py:1497: UndefinedMetricWarning: Precision is ill-defined and being set to 0.0 in labels with no predicted samples. Use `zero_division` parameter to control this behavior.\n",
      "  _warn_prf(average, modifier, f\"{metric.capitalize()} is\", len(result))\n",
      "c:\\Users\\Moustapha\\AppData\\Local\\Programs\\Python\\Python312\\Lib\\site-packages\\sklearn\\metrics\\_classification.py:1497: UndefinedMetricWarning: Precision is ill-defined and being set to 0.0 in labels with no predicted samples. Use `zero_division` parameter to control this behavior.\n",
      "  _warn_prf(average, modifier, f\"{metric.capitalize()} is\", len(result))\n",
      "c:\\Users\\Moustapha\\AppData\\Local\\Programs\\Python\\Python312\\Lib\\site-packages\\sklearn\\metrics\\_classification.py:1497: UndefinedMetricWarning: Precision is ill-defined and being set to 0.0 in labels with no predicted samples. Use `zero_division` parameter to control this behavior.\n",
      "  _warn_prf(average, modifier, f\"{metric.capitalize()} is\", len(result))\n"
     ]
    },
    {
     "name": "stdout",
     "output_type": "stream",
     "text": [
      "{'0': {'precision': 0.7490566037735849, 'recall': 0.9974874371859297, 'f1-score': 0.8556034482758621, 'support': 398.0}, '1': {'precision': 1.0, 'recall': 0.04081632653061224, 'f1-score': 0.0784313725490196, 'support': 49.0}, '2': {'precision': 0.0, 'recall': 0.0, 'f1-score': 0.0, 'support': 10.0}, '3': {'precision': 0.0, 'recall': 0.0, 'f1-score': 0.0, 'support': 76.0}, 'accuracy': 0.7485928705440901, 'macro avg': {'precision': 0.4372641509433962, 'recall': 0.2595759409291355, 'f1-score': 0.2335087052062204, 'support': 533.0}, 'weighted avg': {'precision': 0.6512655315232397, 'recall': 0.7485928705440901, 'f1-score': 0.6461037704853566, 'support': 533.0}} for parameters {'num_class': 4, 'alpha': 0.01, 'device': 'cuda', 'eta': 0.01, 'eval_metric': 'logloss', 'gamma': 0.05, 'grow_policy': 'depthwise', 'lambda': 0.1, 'max_depth': 3, 'num_parallel_tree': 30, 'objective': 'multi:softmax', 'sampling_method': 'uniform', 'subsample': 0.3, 'tree_method': 'approx'}\n"
     ]
    },
    {
     "name": "stderr",
     "output_type": "stream",
     "text": [
      "c:\\Users\\Moustapha\\AppData\\Local\\Programs\\Python\\Python312\\Lib\\site-packages\\sklearn\\metrics\\_classification.py:1497: UndefinedMetricWarning: Precision is ill-defined and being set to 0.0 in labels with no predicted samples. Use `zero_division` parameter to control this behavior.\n",
      "  _warn_prf(average, modifier, f\"{metric.capitalize()} is\", len(result))\n",
      "c:\\Users\\Moustapha\\AppData\\Local\\Programs\\Python\\Python312\\Lib\\site-packages\\sklearn\\metrics\\_classification.py:1497: UndefinedMetricWarning: Precision is ill-defined and being set to 0.0 in labels with no predicted samples. Use `zero_division` parameter to control this behavior.\n",
      "  _warn_prf(average, modifier, f\"{metric.capitalize()} is\", len(result))\n",
      "c:\\Users\\Moustapha\\AppData\\Local\\Programs\\Python\\Python312\\Lib\\site-packages\\sklearn\\metrics\\_classification.py:1497: UndefinedMetricWarning: Precision is ill-defined and being set to 0.0 in labels with no predicted samples. Use `zero_division` parameter to control this behavior.\n",
      "  _warn_prf(average, modifier, f\"{metric.capitalize()} is\", len(result))\n"
     ]
    },
    {
     "name": "stdout",
     "output_type": "stream",
     "text": [
      "{'0': {'precision': 0.7649325626204239, 'recall': 0.9875621890547264, 'f1-score': 0.8621064060803475, 'support': 402.0}, '1': {'precision': 0.6153846153846154, 'recall': 0.1568627450980392, 'f1-score': 0.25, 'support': 51.0}, '2': {'precision': 0.0, 'recall': 0.0, 'f1-score': 0.0, 'support': 5.0}, '3': {'precision': 0.0, 'recall': 0.0, 'f1-score': 0.0, 'support': 74.0}, 'accuracy': 0.7612781954887218, 'macro avg': {'precision': 0.34507929450125985, 'recall': 0.2861062335381914, 'f1-score': 0.27802660152008685, 'support': 532.0}, 'weighted avg': {'precision': 0.6370065893947853, 'recall': 0.7612781954887218, 'f1-score': 0.6754074722637213, 'support': 532.0}} for parameters {'num_class': 4, 'alpha': 0.01, 'device': 'cuda', 'eta': 0.01, 'eval_metric': 'logloss', 'gamma': 0.05, 'grow_policy': 'depthwise', 'lambda': 0.1, 'max_depth': 3, 'num_parallel_tree': 30, 'objective': 'multi:softmax', 'sampling_method': 'uniform', 'subsample': 0.3, 'tree_method': 'approx'}\n"
     ]
    },
    {
     "name": "stderr",
     "output_type": "stream",
     "text": [
      "c:\\Users\\Moustapha\\AppData\\Local\\Programs\\Python\\Python312\\Lib\\site-packages\\sklearn\\metrics\\_classification.py:1497: UndefinedMetricWarning: Precision is ill-defined and being set to 0.0 in labels with no predicted samples. Use `zero_division` parameter to control this behavior.\n",
      "  _warn_prf(average, modifier, f\"{metric.capitalize()} is\", len(result))\n",
      "c:\\Users\\Moustapha\\AppData\\Local\\Programs\\Python\\Python312\\Lib\\site-packages\\sklearn\\metrics\\_classification.py:1497: UndefinedMetricWarning: Precision is ill-defined and being set to 0.0 in labels with no predicted samples. Use `zero_division` parameter to control this behavior.\n",
      "  _warn_prf(average, modifier, f\"{metric.capitalize()} is\", len(result))\n",
      "c:\\Users\\Moustapha\\AppData\\Local\\Programs\\Python\\Python312\\Lib\\site-packages\\sklearn\\metrics\\_classification.py:1497: UndefinedMetricWarning: Precision is ill-defined and being set to 0.0 in labels with no predicted samples. Use `zero_division` parameter to control this behavior.\n",
      "  _warn_prf(average, modifier, f\"{metric.capitalize()} is\", len(result))\n"
     ]
    },
    {
     "name": "stdout",
     "output_type": "stream",
     "text": [
      "{'0': {'precision': 0.7718253968253969, 'recall': 0.970074812967581, 'f1-score': 0.8596685082872928, 'support': 401.0}, '1': {'precision': 0.37037037037037035, 'recall': 0.2, 'f1-score': 0.2597402597402597, 'support': 50.0}, '2': {'precision': 0.0, 'recall': 0.0, 'f1-score': 0.0, 'support': 8.0}, '3': {'precision': 0.5, 'recall': 0.013513513513513514, 'f1-score': 0.02631578947368421, 'support': 74.0}, 'accuracy': 0.7504690431519699, 'macro avg': {'precision': 0.4105489417989418, 'recall': 0.29589708162027367, 'f1-score': 0.28643113937530923, 'support': 533.0}, 'weighted avg': {'precision': 0.6848414683780538, 'recall': 0.7504690431519699, 'f1-score': 0.6747869666627956, 'support': 533.0}} for parameters {'num_class': 4, 'alpha': 0.01, 'device': 'cuda', 'eta': 0.01, 'eval_metric': 'logloss', 'gamma': 0.05, 'grow_policy': 'depthwise', 'lambda': 0.1, 'max_depth': 3, 'num_parallel_tree': 30, 'objective': 'multi:softmax', 'sampling_method': 'uniform', 'subsample': 0.5, 'tree_method': 'hist'}\n"
     ]
    },
    {
     "name": "stderr",
     "output_type": "stream",
     "text": [
      "c:\\Users\\Moustapha\\AppData\\Local\\Programs\\Python\\Python312\\Lib\\site-packages\\sklearn\\metrics\\_classification.py:1497: UndefinedMetricWarning: Precision is ill-defined and being set to 0.0 in labels with no predicted samples. Use `zero_division` parameter to control this behavior.\n",
      "  _warn_prf(average, modifier, f\"{metric.capitalize()} is\", len(result))\n",
      "c:\\Users\\Moustapha\\AppData\\Local\\Programs\\Python\\Python312\\Lib\\site-packages\\sklearn\\metrics\\_classification.py:1497: UndefinedMetricWarning: Precision is ill-defined and being set to 0.0 in labels with no predicted samples. Use `zero_division` parameter to control this behavior.\n",
      "  _warn_prf(average, modifier, f\"{metric.capitalize()} is\", len(result))\n",
      "c:\\Users\\Moustapha\\AppData\\Local\\Programs\\Python\\Python312\\Lib\\site-packages\\sklearn\\metrics\\_classification.py:1497: UndefinedMetricWarning: Precision is ill-defined and being set to 0.0 in labels with no predicted samples. Use `zero_division` parameter to control this behavior.\n",
      "  _warn_prf(average, modifier, f\"{metric.capitalize()} is\", len(result))\n"
     ]
    },
    {
     "name": "stdout",
     "output_type": "stream",
     "text": [
      "{'0': {'precision': 0.7571157495256167, 'recall': 1.0, 'f1-score': 0.8617710583153347, 'support': 399.0}, '1': {'precision': 0.8, 'recall': 0.08, 'f1-score': 0.14545454545454545, 'support': 50.0}, '2': {'precision': 0.0, 'recall': 0.0, 'f1-score': 0.0, 'support': 7.0}, '3': {'precision': 0.0, 'recall': 0.0, 'f1-score': 0.0, 'support': 76.0}, 'accuracy': 0.7575187969924813, 'macro avg': {'precision': 0.3892789373814042, 'recall': 0.27, 'f1-score': 0.25180640094247003, 'support': 532.0}, 'weighted avg': {'precision': 0.6430247820690245, 'recall': 0.7575187969924813, 'f1-score': 0.6599988337228305, 'support': 532.0}} for parameters {'num_class': 4, 'alpha': 0.01, 'device': 'cuda', 'eta': 0.01, 'eval_metric': 'logloss', 'gamma': 0.05, 'grow_policy': 'depthwise', 'lambda': 0.1, 'max_depth': 3, 'num_parallel_tree': 30, 'objective': 'multi:softmax', 'sampling_method': 'uniform', 'subsample': 0.5, 'tree_method': 'hist'}\n"
     ]
    },
    {
     "name": "stderr",
     "output_type": "stream",
     "text": [
      "c:\\Users\\Moustapha\\AppData\\Local\\Programs\\Python\\Python312\\Lib\\site-packages\\sklearn\\metrics\\_classification.py:1497: UndefinedMetricWarning: Precision is ill-defined and being set to 0.0 in labels with no predicted samples. Use `zero_division` parameter to control this behavior.\n",
      "  _warn_prf(average, modifier, f\"{metric.capitalize()} is\", len(result))\n",
      "c:\\Users\\Moustapha\\AppData\\Local\\Programs\\Python\\Python312\\Lib\\site-packages\\sklearn\\metrics\\_classification.py:1497: UndefinedMetricWarning: Precision is ill-defined and being set to 0.0 in labels with no predicted samples. Use `zero_division` parameter to control this behavior.\n",
      "  _warn_prf(average, modifier, f\"{metric.capitalize()} is\", len(result))\n",
      "c:\\Users\\Moustapha\\AppData\\Local\\Programs\\Python\\Python312\\Lib\\site-packages\\sklearn\\metrics\\_classification.py:1497: UndefinedMetricWarning: Precision is ill-defined and being set to 0.0 in labels with no predicted samples. Use `zero_division` parameter to control this behavior.\n",
      "  _warn_prf(average, modifier, f\"{metric.capitalize()} is\", len(result))\n"
     ]
    },
    {
     "name": "stdout",
     "output_type": "stream",
     "text": [
      "{'0': {'precision': 0.7869481765834933, 'recall': 0.9927360774818402, 'f1-score': 0.8779443254817987, 'support': 413.0}, '1': {'precision': 0.5833333333333334, 'recall': 0.1590909090909091, 'f1-score': 0.25, 'support': 44.0}, '2': {'precision': 0.0, 'recall': 0.0, 'f1-score': 0.0, 'support': 7.0}, '3': {'precision': 0.0, 'recall': 0.0, 'f1-score': 0.0, 'support': 69.0}, 'accuracy': 0.7823639774859287, 'macro avg': {'precision': 0.34257037747920666, 'recall': 0.2879567466431873, 'f1-score': 0.28198608137044967, 'support': 533.0}, 'weighted avg': {'precision': 0.6579291999918375, 'recall': 0.7823639774859287, 'f1-score': 0.7009212128029697, 'support': 533.0}} for parameters {'num_class': 4, 'alpha': 0.01, 'device': 'cuda', 'eta': 0.01, 'eval_metric': 'logloss', 'gamma': 0.05, 'grow_policy': 'depthwise', 'lambda': 0.1, 'max_depth': 3, 'num_parallel_tree': 30, 'objective': 'multi:softmax', 'sampling_method': 'uniform', 'subsample': 0.5, 'tree_method': 'approx'}\n"
     ]
    },
    {
     "name": "stderr",
     "output_type": "stream",
     "text": [
      "c:\\Users\\Moustapha\\AppData\\Local\\Programs\\Python\\Python312\\Lib\\site-packages\\sklearn\\metrics\\_classification.py:1497: UndefinedMetricWarning: Precision is ill-defined and being set to 0.0 in labels with no predicted samples. Use `zero_division` parameter to control this behavior.\n",
      "  _warn_prf(average, modifier, f\"{metric.capitalize()} is\", len(result))\n",
      "c:\\Users\\Moustapha\\AppData\\Local\\Programs\\Python\\Python312\\Lib\\site-packages\\sklearn\\metrics\\_classification.py:1497: UndefinedMetricWarning: Precision is ill-defined and being set to 0.0 in labels with no predicted samples. Use `zero_division` parameter to control this behavior.\n",
      "  _warn_prf(average, modifier, f\"{metric.capitalize()} is\", len(result))\n",
      "c:\\Users\\Moustapha\\AppData\\Local\\Programs\\Python\\Python312\\Lib\\site-packages\\sklearn\\metrics\\_classification.py:1497: UndefinedMetricWarning: Precision is ill-defined and being set to 0.0 in labels with no predicted samples. Use `zero_division` parameter to control this behavior.\n",
      "  _warn_prf(average, modifier, f\"{metric.capitalize()} is\", len(result))\n"
     ]
    },
    {
     "name": "stdout",
     "output_type": "stream",
     "text": [
      "{'0': {'precision': 0.7329545454545454, 'recall': 1.0, 'f1-score': 0.8459016393442623, 'support': 387.0}, '1': {'precision': 1.0, 'recall': 0.07142857142857142, 'f1-score': 0.13333333333333333, 'support': 56.0}, '2': {'precision': 0.0, 'recall': 0.0, 'f1-score': 0.0, 'support': 8.0}, '3': {'precision': 0.0, 'recall': 0.0, 'f1-score': 0.0, 'support': 81.0}, 'accuracy': 0.7349624060150376, 'macro avg': {'precision': 0.43323863636363635, 'recall': 0.26785714285714285, 'f1-score': 0.2448087431693989, 'support': 532.0}, 'weighted avg': {'precision': 0.6384462576896787, 'recall': 0.7349624060150376, 'f1-score': 0.6293808291219852, 'support': 532.0}} for parameters {'num_class': 4, 'alpha': 0.01, 'device': 'cuda', 'eta': 0.01, 'eval_metric': 'logloss', 'gamma': 0.05, 'grow_policy': 'depthwise', 'lambda': 0.1, 'max_depth': 3, 'num_parallel_tree': 30, 'objective': 'multi:softmax', 'sampling_method': 'uniform', 'subsample': 0.5, 'tree_method': 'approx'}\n"
     ]
    },
    {
     "name": "stderr",
     "output_type": "stream",
     "text": [
      "c:\\Users\\Moustapha\\AppData\\Local\\Programs\\Python\\Python312\\Lib\\site-packages\\sklearn\\metrics\\_classification.py:1497: UndefinedMetricWarning: Precision is ill-defined and being set to 0.0 in labels with no predicted samples. Use `zero_division` parameter to control this behavior.\n",
      "  _warn_prf(average, modifier, f\"{metric.capitalize()} is\", len(result))\n",
      "c:\\Users\\Moustapha\\AppData\\Local\\Programs\\Python\\Python312\\Lib\\site-packages\\sklearn\\metrics\\_classification.py:1497: UndefinedMetricWarning: Precision is ill-defined and being set to 0.0 in labels with no predicted samples. Use `zero_division` parameter to control this behavior.\n",
      "  _warn_prf(average, modifier, f\"{metric.capitalize()} is\", len(result))\n",
      "c:\\Users\\Moustapha\\AppData\\Local\\Programs\\Python\\Python312\\Lib\\site-packages\\sklearn\\metrics\\_classification.py:1497: UndefinedMetricWarning: Precision is ill-defined and being set to 0.0 in labels with no predicted samples. Use `zero_division` parameter to control this behavior.\n",
      "  _warn_prf(average, modifier, f\"{metric.capitalize()} is\", len(result))\n"
     ]
    },
    {
     "name": "stdout",
     "output_type": "stream",
     "text": [
      "{'0': {'precision': 0.7246653919694073, 'recall': 0.9973684210526316, 'f1-score': 0.8394241417497231, 'support': 380.0}, '1': {'precision': 0.9, 'recall': 0.15517241379310345, 'f1-score': 0.2647058823529412, 'support': 58.0}, '2': {'precision': 0.0, 'recall': 0.0, 'f1-score': 0.0, 'support': 7.0}, '3': {'precision': 0.0, 'recall': 0.0, 'f1-score': 0.0, 'support': 88.0}, 'accuracy': 0.7279549718574109, 'macro avg': {'precision': 0.40616634799235185, 'recall': 0.2881352087114338, 'f1-score': 0.2760325060256661, 'support': 533.0}, 'weighted avg': {'precision': 0.614583206282129, 'recall': 0.7279549718574109, 'f1-score': 0.6272685085203854, 'support': 533.0}} for parameters {'num_class': 4, 'alpha': 0.01, 'device': 'cuda', 'eta': 0.01, 'eval_metric': 'logloss', 'gamma': 0.05, 'grow_policy': 'depthwise', 'lambda': 0.1, 'max_depth': 3, 'num_parallel_tree': 30, 'objective': 'multi:softmax', 'sampling_method': 'uniform', 'subsample': 0.8, 'tree_method': 'hist'}\n"
     ]
    },
    {
     "name": "stderr",
     "output_type": "stream",
     "text": [
      "c:\\Users\\Moustapha\\AppData\\Local\\Programs\\Python\\Python312\\Lib\\site-packages\\sklearn\\metrics\\_classification.py:1497: UndefinedMetricWarning: Precision is ill-defined and being set to 0.0 in labels with no predicted samples. Use `zero_division` parameter to control this behavior.\n",
      "  _warn_prf(average, modifier, f\"{metric.capitalize()} is\", len(result))\n",
      "c:\\Users\\Moustapha\\AppData\\Local\\Programs\\Python\\Python312\\Lib\\site-packages\\sklearn\\metrics\\_classification.py:1497: UndefinedMetricWarning: Precision is ill-defined and being set to 0.0 in labels with no predicted samples. Use `zero_division` parameter to control this behavior.\n",
      "  _warn_prf(average, modifier, f\"{metric.capitalize()} is\", len(result))\n",
      "c:\\Users\\Moustapha\\AppData\\Local\\Programs\\Python\\Python312\\Lib\\site-packages\\sklearn\\metrics\\_classification.py:1497: UndefinedMetricWarning: Precision is ill-defined and being set to 0.0 in labels with no predicted samples. Use `zero_division` parameter to control this behavior.\n",
      "  _warn_prf(average, modifier, f\"{metric.capitalize()} is\", len(result))\n"
     ]
    },
    {
     "name": "stdout",
     "output_type": "stream",
     "text": [
      "{'0': {'precision': 0.812375249500998, 'recall': 0.969047619047619, 'f1-score': 0.8838219326818675, 'support': 420.0}, '1': {'precision': 0.42857142857142855, 'recall': 0.2857142857142857, 'f1-score': 0.34285714285714286, 'support': 42.0}, '2': {'precision': 0.0, 'recall': 0.0, 'f1-score': 0.0, 'support': 8.0}, '3': {'precision': 0.3333333333333333, 'recall': 0.016129032258064516, 'f1-score': 0.03076923076923077, 'support': 62.0}, 'accuracy': 0.7894736842105263, 'macro avg': {'precision': 0.39357000285143995, 'recall': 0.3177227342549923, 'f1-score': 0.3143620765770603, 'support': 532.0}, 'weighted avg': {'precision': 0.7140305854456501, 'recall': 0.7894736842105263, 'f1-score': 0.728407714349768, 'support': 532.0}} for parameters {'num_class': 4, 'alpha': 0.01, 'device': 'cuda', 'eta': 0.01, 'eval_metric': 'logloss', 'gamma': 0.05, 'grow_policy': 'depthwise', 'lambda': 0.1, 'max_depth': 3, 'num_parallel_tree': 30, 'objective': 'multi:softmax', 'sampling_method': 'uniform', 'subsample': 0.8, 'tree_method': 'hist'}\n"
     ]
    },
    {
     "name": "stderr",
     "output_type": "stream",
     "text": [
      "c:\\Users\\Moustapha\\AppData\\Local\\Programs\\Python\\Python312\\Lib\\site-packages\\sklearn\\metrics\\_classification.py:1497: UndefinedMetricWarning: Precision is ill-defined and being set to 0.0 in labels with no predicted samples. Use `zero_division` parameter to control this behavior.\n",
      "  _warn_prf(average, modifier, f\"{metric.capitalize()} is\", len(result))\n",
      "c:\\Users\\Moustapha\\AppData\\Local\\Programs\\Python\\Python312\\Lib\\site-packages\\sklearn\\metrics\\_classification.py:1497: UndefinedMetricWarning: Precision is ill-defined and being set to 0.0 in labels with no predicted samples. Use `zero_division` parameter to control this behavior.\n",
      "  _warn_prf(average, modifier, f\"{metric.capitalize()} is\", len(result))\n",
      "c:\\Users\\Moustapha\\AppData\\Local\\Programs\\Python\\Python312\\Lib\\site-packages\\sklearn\\metrics\\_classification.py:1497: UndefinedMetricWarning: Precision is ill-defined and being set to 0.0 in labels with no predicted samples. Use `zero_division` parameter to control this behavior.\n",
      "  _warn_prf(average, modifier, f\"{metric.capitalize()} is\", len(result))\n"
     ]
    },
    {
     "name": "stdout",
     "output_type": "stream",
     "text": [
      "{'0': {'precision': 0.7609108159392789, 'recall': 0.9975124378109452, 'f1-score': 0.8632938643702907, 'support': 402.0}, '1': {'precision': 0.8, 'recall': 0.07272727272727272, 'f1-score': 0.13333333333333333, 'support': 55.0}, '2': {'precision': 0.0, 'recall': 0.0, 'f1-score': 0.0, 'support': 9.0}, '3': {'precision': 0.0, 'recall': 0.0, 'f1-score': 0.0, 'support': 67.0}, 'accuracy': 0.7598499061913696, 'macro avg': {'precision': 0.39022770398481976, 'recall': 0.2675599276345545, 'f1-score': 0.249156799425906, 'support': 533.0}, 'weighted avg': {'precision': 0.6564468067684618, 'recall': 0.7598499061913696, 'f1-score': 0.664873296079156, 'support': 533.0}} for parameters {'num_class': 4, 'alpha': 0.01, 'device': 'cuda', 'eta': 0.01, 'eval_metric': 'logloss', 'gamma': 0.05, 'grow_policy': 'depthwise', 'lambda': 0.1, 'max_depth': 3, 'num_parallel_tree': 30, 'objective': 'multi:softmax', 'sampling_method': 'uniform', 'subsample': 0.8, 'tree_method': 'approx'}\n"
     ]
    },
    {
     "name": "stderr",
     "output_type": "stream",
     "text": [
      "c:\\Users\\Moustapha\\AppData\\Local\\Programs\\Python\\Python312\\Lib\\site-packages\\sklearn\\metrics\\_classification.py:1497: UndefinedMetricWarning: Precision is ill-defined and being set to 0.0 in labels with no predicted samples. Use `zero_division` parameter to control this behavior.\n",
      "  _warn_prf(average, modifier, f\"{metric.capitalize()} is\", len(result))\n",
      "c:\\Users\\Moustapha\\AppData\\Local\\Programs\\Python\\Python312\\Lib\\site-packages\\sklearn\\metrics\\_classification.py:1497: UndefinedMetricWarning: Precision is ill-defined and being set to 0.0 in labels with no predicted samples. Use `zero_division` parameter to control this behavior.\n",
      "  _warn_prf(average, modifier, f\"{metric.capitalize()} is\", len(result))\n",
      "c:\\Users\\Moustapha\\AppData\\Local\\Programs\\Python\\Python312\\Lib\\site-packages\\sklearn\\metrics\\_classification.py:1497: UndefinedMetricWarning: Precision is ill-defined and being set to 0.0 in labels with no predicted samples. Use `zero_division` parameter to control this behavior.\n",
      "  _warn_prf(average, modifier, f\"{metric.capitalize()} is\", len(result))\n"
     ]
    },
    {
     "name": "stdout",
     "output_type": "stream",
     "text": [
      "{'0': {'precision': 0.7641325536062378, 'recall': 0.9849246231155779, 'f1-score': 0.8605927552140505, 'support': 398.0}, '1': {'precision': 0.47368421052631576, 'recall': 0.2, 'f1-score': 0.28125, 'support': 45.0}, '2': {'precision': 0.0, 'recall': 0.0, 'f1-score': 0.0, 'support': 6.0}, '3': {'precision': 0.0, 'recall': 0.0, 'f1-score': 0.0, 'support': 83.0}, 'accuracy': 0.7537593984962406, 'macro avg': {'precision': 0.30945419103313837, 'recall': 0.2962311557788945, 'f1-score': 0.2854606888035126, 'support': 532.0}, 'weighted avg': {'precision': 0.6117303492649754, 'recall': 0.7537593984962406, 'f1-score': 0.6676168544646469, 'support': 532.0}} for parameters {'num_class': 4, 'alpha': 0.01, 'device': 'cuda', 'eta': 0.01, 'eval_metric': 'logloss', 'gamma': 0.05, 'grow_policy': 'depthwise', 'lambda': 0.1, 'max_depth': 3, 'num_parallel_tree': 30, 'objective': 'multi:softmax', 'sampling_method': 'uniform', 'subsample': 0.8, 'tree_method': 'approx'}\n"
     ]
    },
    {
     "name": "stderr",
     "output_type": "stream",
     "text": [
      "c:\\Users\\Moustapha\\AppData\\Local\\Programs\\Python\\Python312\\Lib\\site-packages\\sklearn\\metrics\\_classification.py:1497: UndefinedMetricWarning: Precision is ill-defined and being set to 0.0 in labels with no predicted samples. Use `zero_division` parameter to control this behavior.\n",
      "  _warn_prf(average, modifier, f\"{metric.capitalize()} is\", len(result))\n",
      "c:\\Users\\Moustapha\\AppData\\Local\\Programs\\Python\\Python312\\Lib\\site-packages\\sklearn\\metrics\\_classification.py:1497: UndefinedMetricWarning: Precision is ill-defined and being set to 0.0 in labels with no predicted samples. Use `zero_division` parameter to control this behavior.\n",
      "  _warn_prf(average, modifier, f\"{metric.capitalize()} is\", len(result))\n",
      "c:\\Users\\Moustapha\\AppData\\Local\\Programs\\Python\\Python312\\Lib\\site-packages\\sklearn\\metrics\\_classification.py:1497: UndefinedMetricWarning: Precision is ill-defined and being set to 0.0 in labels with no predicted samples. Use `zero_division` parameter to control this behavior.\n",
      "  _warn_prf(average, modifier, f\"{metric.capitalize()} is\", len(result))\n"
     ]
    },
    {
     "name": "stdout",
     "output_type": "stream",
     "text": [
      "{'0': {'precision': 0.7756286266924565, 'recall': 0.9925742574257426, 'f1-score': 0.8707926167209555, 'support': 404.0}, '1': {'precision': 0.625, 'recall': 0.2, 'f1-score': 0.30303030303030304, 'support': 50.0}, '2': {'precision': 0.0, 'recall': 0.0, 'f1-score': 0.0, 'support': 6.0}, '3': {'precision': 0.0, 'recall': 0.0, 'f1-score': 0.0, 'support': 73.0}, 'accuracy': 0.7711069418386491, 'macro avg': {'precision': 0.3501571566731141, 'recall': 0.29814356435643563, 'f1-score': 0.29345572993781466, 'support': 533.0}, 'weighted avg': {'precision': 0.6465365200445636, 'recall': 0.7711069418386491, 'f1-score': 0.6884647885680697, 'support': 533.0}} for parameters {'num_class': 4, 'alpha': 0.01, 'device': 'cuda', 'eta': 0.01, 'eval_metric': 'logloss', 'gamma': 0.05, 'grow_policy': 'depthwise', 'lambda': 0.1, 'max_depth': 3, 'num_parallel_tree': 30, 'objective': 'multi:softmax', 'sampling_method': 'gradient_based', 'subsample': 0.3, 'tree_method': 'hist'}\n"
     ]
    },
    {
     "name": "stderr",
     "output_type": "stream",
     "text": [
      "c:\\Users\\Moustapha\\AppData\\Local\\Programs\\Python\\Python312\\Lib\\site-packages\\sklearn\\metrics\\_classification.py:1497: UndefinedMetricWarning: Precision is ill-defined and being set to 0.0 in labels with no predicted samples. Use `zero_division` parameter to control this behavior.\n",
      "  _warn_prf(average, modifier, f\"{metric.capitalize()} is\", len(result))\n",
      "c:\\Users\\Moustapha\\AppData\\Local\\Programs\\Python\\Python312\\Lib\\site-packages\\sklearn\\metrics\\_classification.py:1497: UndefinedMetricWarning: Precision is ill-defined and being set to 0.0 in labels with no predicted samples. Use `zero_division` parameter to control this behavior.\n",
      "  _warn_prf(average, modifier, f\"{metric.capitalize()} is\", len(result))\n",
      "c:\\Users\\Moustapha\\AppData\\Local\\Programs\\Python\\Python312\\Lib\\site-packages\\sklearn\\metrics\\_classification.py:1497: UndefinedMetricWarning: Precision is ill-defined and being set to 0.0 in labels with no predicted samples. Use `zero_division` parameter to control this behavior.\n",
      "  _warn_prf(average, modifier, f\"{metric.capitalize()} is\", len(result))\n"
     ]
    },
    {
     "name": "stdout",
     "output_type": "stream",
     "text": [
      "{'0': {'precision': 0.7616279069767442, 'recall': 0.9924242424242424, 'f1-score': 0.8618421052631579, 'support': 396.0}, '1': {'precision': 0.6666666666666666, 'recall': 0.2, 'f1-score': 0.3076923076923077, 'support': 50.0}, '2': {'precision': 0.0, 'recall': 0.0, 'f1-score': 0.0, 'support': 9.0}, '3': {'precision': 0.0, 'recall': 0.0, 'f1-score': 0.0, 'support': 77.0}, 'accuracy': 0.7575187969924813, 'macro avg': {'precision': 0.3570736434108527, 'recall': 0.2981060606060606, 'f1-score': 0.29238360323886636, 'support': 532.0}, 'weighted avg': {'precision': 0.6295826776242933, 'recall': 0.7575187969924813, 'f1-score': 0.6704400170466652, 'support': 532.0}} for parameters {'num_class': 4, 'alpha': 0.01, 'device': 'cuda', 'eta': 0.01, 'eval_metric': 'logloss', 'gamma': 0.05, 'grow_policy': 'depthwise', 'lambda': 0.1, 'max_depth': 3, 'num_parallel_tree': 30, 'objective': 'multi:softmax', 'sampling_method': 'gradient_based', 'subsample': 0.3, 'tree_method': 'hist'}\n"
     ]
    },
    {
     "name": "stderr",
     "output_type": "stream",
     "text": [
      "c:\\Users\\Moustapha\\AppData\\Local\\Programs\\Python\\Python312\\Lib\\site-packages\\sklearn\\metrics\\_classification.py:1497: UndefinedMetricWarning: Precision is ill-defined and being set to 0.0 in labels with no predicted samples. Use `zero_division` parameter to control this behavior.\n",
      "  _warn_prf(average, modifier, f\"{metric.capitalize()} is\", len(result))\n",
      "c:\\Users\\Moustapha\\AppData\\Local\\Programs\\Python\\Python312\\Lib\\site-packages\\sklearn\\metrics\\_classification.py:1497: UndefinedMetricWarning: Precision is ill-defined and being set to 0.0 in labels with no predicted samples. Use `zero_division` parameter to control this behavior.\n",
      "  _warn_prf(average, modifier, f\"{metric.capitalize()} is\", len(result))\n",
      "c:\\Users\\Moustapha\\AppData\\Local\\Programs\\Python\\Python312\\Lib\\site-packages\\sklearn\\metrics\\_classification.py:1497: UndefinedMetricWarning: Precision is ill-defined and being set to 0.0 in labels with no predicted samples. Use `zero_division` parameter to control this behavior.\n",
      "  _warn_prf(average, modifier, f\"{metric.capitalize()} is\", len(result))\n"
     ]
    },
    {
     "name": "stdout",
     "output_type": "stream",
     "text": [
      "{'0': {'precision': 0.7737642585551331, 'recall': 0.9975490196078431, 'f1-score': 0.8715203426124197, 'support': 408.0}, '1': {'precision': 0.7142857142857143, 'recall': 0.10869565217391304, 'f1-score': 0.18867924528301888, 'support': 46.0}, '2': {'precision': 0.0, 'recall': 0.0, 'f1-score': 0.0, 'support': 4.0}, '3': {'precision': 0.0, 'recall': 0.0, 'f1-score': 0.0, 'support': 75.0}, 'accuracy': 0.7729831144465291, 'macro avg': {'precision': 0.37201249321021185, 'recall': 0.27656116794543906, 'f1-score': 0.26504989697385967, 'support': 533.0}, 'weighted avg': {'precision': 0.6539455165996945, 'recall': 0.7729831144465291, 'f1-score': 0.683413780617047, 'support': 533.0}} for parameters {'num_class': 4, 'alpha': 0.01, 'device': 'cuda', 'eta': 0.01, 'eval_metric': 'logloss', 'gamma': 0.05, 'grow_policy': 'depthwise', 'lambda': 0.1, 'max_depth': 3, 'num_parallel_tree': 30, 'objective': 'multi:softmax', 'sampling_method': 'gradient_based', 'subsample': 0.3, 'tree_method': 'approx'}\n"
     ]
    },
    {
     "name": "stderr",
     "output_type": "stream",
     "text": [
      "c:\\Users\\Moustapha\\AppData\\Local\\Programs\\Python\\Python312\\Lib\\site-packages\\sklearn\\metrics\\_classification.py:1497: UndefinedMetricWarning: Precision is ill-defined and being set to 0.0 in labels with no predicted samples. Use `zero_division` parameter to control this behavior.\n",
      "  _warn_prf(average, modifier, f\"{metric.capitalize()} is\", len(result))\n",
      "c:\\Users\\Moustapha\\AppData\\Local\\Programs\\Python\\Python312\\Lib\\site-packages\\sklearn\\metrics\\_classification.py:1497: UndefinedMetricWarning: Precision is ill-defined and being set to 0.0 in labels with no predicted samples. Use `zero_division` parameter to control this behavior.\n",
      "  _warn_prf(average, modifier, f\"{metric.capitalize()} is\", len(result))\n",
      "c:\\Users\\Moustapha\\AppData\\Local\\Programs\\Python\\Python312\\Lib\\site-packages\\sklearn\\metrics\\_classification.py:1497: UndefinedMetricWarning: Precision is ill-defined and being set to 0.0 in labels with no predicted samples. Use `zero_division` parameter to control this behavior.\n",
      "  _warn_prf(average, modifier, f\"{metric.capitalize()} is\", len(result))\n"
     ]
    },
    {
     "name": "stdout",
     "output_type": "stream",
     "text": [
      "{'0': {'precision': 0.7524557956777996, 'recall': 0.9770408163265306, 'f1-score': 0.8501664816870145, 'support': 392.0}, '1': {'precision': 0.47619047619047616, 'recall': 0.18518518518518517, 'f1-score': 0.26666666666666666, 'support': 54.0}, '2': {'precision': 0.0, 'recall': 0.0, 'f1-score': 0.0, 'support': 11.0}, '3': {'precision': 0.0, 'recall': 0.0, 'f1-score': 0.0, 'support': 75.0}, 'accuracy': 0.7387218045112782, 'macro avg': {'precision': 0.30716156796706895, 'recall': 0.29055650037792896, 'f1-score': 0.27920828708842027, 'support': 532.0}, 'weighted avg': {'precision': 0.602776236127788, 'recall': 0.7387218045112782, 'f1-score': 0.6535061293633639, 'support': 532.0}} for parameters {'num_class': 4, 'alpha': 0.01, 'device': 'cuda', 'eta': 0.01, 'eval_metric': 'logloss', 'gamma': 0.05, 'grow_policy': 'depthwise', 'lambda': 0.1, 'max_depth': 3, 'num_parallel_tree': 30, 'objective': 'multi:softmax', 'sampling_method': 'gradient_based', 'subsample': 0.3, 'tree_method': 'approx'}\n"
     ]
    },
    {
     "name": "stderr",
     "output_type": "stream",
     "text": [
      "c:\\Users\\Moustapha\\AppData\\Local\\Programs\\Python\\Python312\\Lib\\site-packages\\sklearn\\metrics\\_classification.py:1497: UndefinedMetricWarning: Precision is ill-defined and being set to 0.0 in labels with no predicted samples. Use `zero_division` parameter to control this behavior.\n",
      "  _warn_prf(average, modifier, f\"{metric.capitalize()} is\", len(result))\n",
      "c:\\Users\\Moustapha\\AppData\\Local\\Programs\\Python\\Python312\\Lib\\site-packages\\sklearn\\metrics\\_classification.py:1497: UndefinedMetricWarning: Precision is ill-defined and being set to 0.0 in labels with no predicted samples. Use `zero_division` parameter to control this behavior.\n",
      "  _warn_prf(average, modifier, f\"{metric.capitalize()} is\", len(result))\n",
      "c:\\Users\\Moustapha\\AppData\\Local\\Programs\\Python\\Python312\\Lib\\site-packages\\sklearn\\metrics\\_classification.py:1497: UndefinedMetricWarning: Precision is ill-defined and being set to 0.0 in labels with no predicted samples. Use `zero_division` parameter to control this behavior.\n",
      "  _warn_prf(average, modifier, f\"{metric.capitalize()} is\", len(result))\n"
     ]
    },
    {
     "name": "stdout",
     "output_type": "stream",
     "text": [
      "{'0': {'precision': 0.7729007633587787, 'recall': 0.995085995085995, 'f1-score': 0.8700322234156821, 'support': 407.0}, '1': {'precision': 0.6666666666666666, 'recall': 0.13953488372093023, 'f1-score': 0.23076923076923078, 'support': 43.0}, '2': {'precision': 0.0, 'recall': 0.0, 'f1-score': 0.0, 'support': 8.0}, '3': {'precision': 0.0, 'recall': 0.0, 'f1-score': 0.0, 'support': 75.0}, 'accuracy': 0.7711069418386491, 'macro avg': {'precision': 0.3598918575063613, 'recall': 0.2836552197017313, 'f1-score': 0.27520036354622823, 'support': 533.0}, 'weighted avg': {'precision': 0.643972377774277, 'recall': 0.7711069418386491, 'f1-score': 0.6829759697059278, 'support': 533.0}} for parameters {'num_class': 4, 'alpha': 0.01, 'device': 'cuda', 'eta': 0.01, 'eval_metric': 'logloss', 'gamma': 0.05, 'grow_policy': 'depthwise', 'lambda': 0.1, 'max_depth': 3, 'num_parallel_tree': 30, 'objective': 'multi:softmax', 'sampling_method': 'gradient_based', 'subsample': 0.5, 'tree_method': 'hist'}\n"
     ]
    },
    {
     "name": "stderr",
     "output_type": "stream",
     "text": [
      "c:\\Users\\Moustapha\\AppData\\Local\\Programs\\Python\\Python312\\Lib\\site-packages\\sklearn\\metrics\\_classification.py:1497: UndefinedMetricWarning: Precision is ill-defined and being set to 0.0 in labels with no predicted samples. Use `zero_division` parameter to control this behavior.\n",
      "  _warn_prf(average, modifier, f\"{metric.capitalize()} is\", len(result))\n",
      "c:\\Users\\Moustapha\\AppData\\Local\\Programs\\Python\\Python312\\Lib\\site-packages\\sklearn\\metrics\\_classification.py:1497: UndefinedMetricWarning: Precision is ill-defined and being set to 0.0 in labels with no predicted samples. Use `zero_division` parameter to control this behavior.\n",
      "  _warn_prf(average, modifier, f\"{metric.capitalize()} is\", len(result))\n",
      "c:\\Users\\Moustapha\\AppData\\Local\\Programs\\Python\\Python312\\Lib\\site-packages\\sklearn\\metrics\\_classification.py:1497: UndefinedMetricWarning: Precision is ill-defined and being set to 0.0 in labels with no predicted samples. Use `zero_division` parameter to control this behavior.\n",
      "  _warn_prf(average, modifier, f\"{metric.capitalize()} is\", len(result))\n"
     ]
    },
    {
     "name": "stdout",
     "output_type": "stream",
     "text": [
      "{'0': {'precision': 0.7495183044315993, 'recall': 0.989821882951654, 'f1-score': 0.8530701754385965, 'support': 393.0}, '1': {'precision': 0.6153846153846154, 'recall': 0.14035087719298245, 'f1-score': 0.22857142857142856, 'support': 57.0}, '2': {'precision': 0.0, 'recall': 0.0, 'f1-score': 0.0, 'support': 7.0}, '3': {'precision': 0.0, 'recall': 0.0, 'f1-score': 0.0, 'support': 75.0}, 'accuracy': 0.7462406015037594, 'macro avg': {'precision': 0.34122572995405365, 'recall': 0.28254319003615913, 'f1-score': 0.2704104010025063, 'support': 532.0}, 'weighted avg': {'precision': 0.6196195802980106, 'recall': 0.7462406015037594, 'f1-score': 0.65467133529312, 'support': 532.0}} for parameters {'num_class': 4, 'alpha': 0.01, 'device': 'cuda', 'eta': 0.01, 'eval_metric': 'logloss', 'gamma': 0.05, 'grow_policy': 'depthwise', 'lambda': 0.1, 'max_depth': 3, 'num_parallel_tree': 30, 'objective': 'multi:softmax', 'sampling_method': 'gradient_based', 'subsample': 0.5, 'tree_method': 'hist'}\n"
     ]
    },
    {
     "name": "stderr",
     "output_type": "stream",
     "text": [
      "c:\\Users\\Moustapha\\AppData\\Local\\Programs\\Python\\Python312\\Lib\\site-packages\\sklearn\\metrics\\_classification.py:1497: UndefinedMetricWarning: Precision is ill-defined and being set to 0.0 in labels with no predicted samples. Use `zero_division` parameter to control this behavior.\n",
      "  _warn_prf(average, modifier, f\"{metric.capitalize()} is\", len(result))\n",
      "c:\\Users\\Moustapha\\AppData\\Local\\Programs\\Python\\Python312\\Lib\\site-packages\\sklearn\\metrics\\_classification.py:1497: UndefinedMetricWarning: Precision is ill-defined and being set to 0.0 in labels with no predicted samples. Use `zero_division` parameter to control this behavior.\n",
      "  _warn_prf(average, modifier, f\"{metric.capitalize()} is\", len(result))\n",
      "c:\\Users\\Moustapha\\AppData\\Local\\Programs\\Python\\Python312\\Lib\\site-packages\\sklearn\\metrics\\_classification.py:1497: UndefinedMetricWarning: Precision is ill-defined and being set to 0.0 in labels with no predicted samples. Use `zero_division` parameter to control this behavior.\n",
      "  _warn_prf(average, modifier, f\"{metric.capitalize()} is\", len(result))\n"
     ]
    },
    {
     "name": "stdout",
     "output_type": "stream",
     "text": [
      "{'0': {'precision': 0.7485604606525912, 'recall': 0.9923664122137404, 'f1-score': 0.8533916849015317, 'support': 393.0}, '1': {'precision': 0.6666666666666666, 'recall': 0.14545454545454545, 'f1-score': 0.23880597014925373, 'support': 55.0}, '2': {'precision': 0.0, 'recall': 0.0, 'f1-score': 0.0, 'support': 7.0}, '3': {'precision': 0.0, 'recall': 0.0, 'f1-score': 0.0, 'support': 78.0}, 'accuracy': 0.7467166979362101, 'macro avg': {'precision': 0.35380678182981445, 'recall': 0.28445523941707146, 'f1-score': 0.27304941376269637, 'support': 533.0}, 'weighted avg': {'precision': 0.6207334478482833, 'recall': 0.7467166979362101, 'f1-score': 0.6538785375694388, 'support': 533.0}} for parameters {'num_class': 4, 'alpha': 0.01, 'device': 'cuda', 'eta': 0.01, 'eval_metric': 'logloss', 'gamma': 0.05, 'grow_policy': 'depthwise', 'lambda': 0.1, 'max_depth': 3, 'num_parallel_tree': 30, 'objective': 'multi:softmax', 'sampling_method': 'gradient_based', 'subsample': 0.5, 'tree_method': 'approx'}\n"
     ]
    },
    {
     "name": "stderr",
     "output_type": "stream",
     "text": [
      "c:\\Users\\Moustapha\\AppData\\Local\\Programs\\Python\\Python312\\Lib\\site-packages\\sklearn\\metrics\\_classification.py:1497: UndefinedMetricWarning: Precision is ill-defined and being set to 0.0 in labels with no predicted samples. Use `zero_division` parameter to control this behavior.\n",
      "  _warn_prf(average, modifier, f\"{metric.capitalize()} is\", len(result))\n",
      "c:\\Users\\Moustapha\\AppData\\Local\\Programs\\Python\\Python312\\Lib\\site-packages\\sklearn\\metrics\\_classification.py:1497: UndefinedMetricWarning: Precision is ill-defined and being set to 0.0 in labels with no predicted samples. Use `zero_division` parameter to control this behavior.\n",
      "  _warn_prf(average, modifier, f\"{metric.capitalize()} is\", len(result))\n",
      "c:\\Users\\Moustapha\\AppData\\Local\\Programs\\Python\\Python312\\Lib\\site-packages\\sklearn\\metrics\\_classification.py:1497: UndefinedMetricWarning: Precision is ill-defined and being set to 0.0 in labels with no predicted samples. Use `zero_division` parameter to control this behavior.\n",
      "  _warn_prf(average, modifier, f\"{metric.capitalize()} is\", len(result))\n"
     ]
    },
    {
     "name": "stdout",
     "output_type": "stream",
     "text": [
      "{'0': {'precision': 0.7784200385356455, 'recall': 0.9926289926289926, 'f1-score': 0.8725701943844493, 'support': 407.0}, '1': {'precision': 0.5, 'recall': 0.13333333333333333, 'f1-score': 0.21052631578947367, 'support': 45.0}, '2': {'precision': 0.0, 'recall': 0.0, 'f1-score': 0.0, 'support': 8.0}, '3': {'precision': 0.0, 'recall': 0.0, 'f1-score': 0.0, 'support': 72.0}, 'accuracy': 0.7706766917293233, 'macro avg': {'precision': 0.31960500963391136, 'recall': 0.2814905814905815, 'f1-score': 0.27077412754348074, 'support': 532.0}, 'weighted avg': {'precision': 0.6378138264736988, 'recall': 0.7706766917293233, 'f1-score': 0.6853566791823255, 'support': 532.0}} for parameters {'num_class': 4, 'alpha': 0.01, 'device': 'cuda', 'eta': 0.01, 'eval_metric': 'logloss', 'gamma': 0.05, 'grow_policy': 'depthwise', 'lambda': 0.1, 'max_depth': 3, 'num_parallel_tree': 30, 'objective': 'multi:softmax', 'sampling_method': 'gradient_based', 'subsample': 0.5, 'tree_method': 'approx'}\n"
     ]
    },
    {
     "name": "stderr",
     "output_type": "stream",
     "text": [
      "c:\\Users\\Moustapha\\AppData\\Local\\Programs\\Python\\Python312\\Lib\\site-packages\\sklearn\\metrics\\_classification.py:1497: UndefinedMetricWarning: Precision is ill-defined and being set to 0.0 in labels with no predicted samples. Use `zero_division` parameter to control this behavior.\n",
      "  _warn_prf(average, modifier, f\"{metric.capitalize()} is\", len(result))\n",
      "c:\\Users\\Moustapha\\AppData\\Local\\Programs\\Python\\Python312\\Lib\\site-packages\\sklearn\\metrics\\_classification.py:1497: UndefinedMetricWarning: Precision is ill-defined and being set to 0.0 in labels with no predicted samples. Use `zero_division` parameter to control this behavior.\n",
      "  _warn_prf(average, modifier, f\"{metric.capitalize()} is\", len(result))\n",
      "c:\\Users\\Moustapha\\AppData\\Local\\Programs\\Python\\Python312\\Lib\\site-packages\\sklearn\\metrics\\_classification.py:1497: UndefinedMetricWarning: Precision is ill-defined and being set to 0.0 in labels with no predicted samples. Use `zero_division` parameter to control this behavior.\n",
      "  _warn_prf(average, modifier, f\"{metric.capitalize()} is\", len(result))\n"
     ]
    },
    {
     "name": "stdout",
     "output_type": "stream",
     "text": [
      "{'0': {'precision': 0.781190019193858, 'recall': 0.9926829268292683, 'f1-score': 0.874328678839957, 'support': 410.0}, '1': {'precision': 0.5833333333333334, 'recall': 0.1590909090909091, 'f1-score': 0.25, 'support': 44.0}, '2': {'precision': 0.0, 'recall': 0.0, 'f1-score': 0.0, 'support': 6.0}, '3': {'precision': 0.0, 'recall': 0.0, 'f1-score': 0.0, 'support': 73.0}, 'accuracy': 0.776735459662289, 'macro avg': {'precision': 0.34113083813179784, 'recall': 0.28794345898004436, 'f1-score': 0.2810821697099892, 'support': 533.0}, 'weighted avg': {'precision': 0.6490704963154755, 'recall': 0.776735459662289, 'f1-score': 0.6931984208712615, 'support': 533.0}} for parameters {'num_class': 4, 'alpha': 0.01, 'device': 'cuda', 'eta': 0.01, 'eval_metric': 'logloss', 'gamma': 0.05, 'grow_policy': 'depthwise', 'lambda': 0.1, 'max_depth': 3, 'num_parallel_tree': 30, 'objective': 'multi:softmax', 'sampling_method': 'gradient_based', 'subsample': 0.8, 'tree_method': 'hist'}\n",
      "{'0': {'precision': 0.7392996108949417, 'recall': 0.9743589743589743, 'f1-score': 0.8407079646017699, 'support': 390.0}, '1': {'precision': 0.3333333333333333, 'recall': 0.05357142857142857, 'f1-score': 0.09230769230769231, 'support': 56.0}, '2': {'precision': 0.0, 'recall': 0.0, 'f1-score': 0.0, 'support': 9.0}, '3': {'precision': 0.3333333333333333, 'recall': 0.012987012987012988, 'f1-score': 0.025, 'support': 77.0}, 'accuracy': 0.7218045112781954, 'macro avg': {'precision': 0.35149156939040205, 'recall': 0.26022935397935393, 'f1-score': 0.23950391422736556, 'support': 532.0}, 'weighted avg': {'precision': 0.625301093199926, 'recall': 0.7218045112781954, 'f1-score': 0.6296434905336861, 'support': 532.0}} for parameters {'num_class': 4, 'alpha': 0.01, 'device': 'cuda', 'eta': 0.01, 'eval_metric': 'logloss', 'gamma': 0.05, 'grow_policy': 'depthwise', 'lambda': 0.1, 'max_depth': 3, 'num_parallel_tree': 30, 'objective': 'multi:softmax', 'sampling_method': 'gradient_based', 'subsample': 0.8, 'tree_method': 'hist'}\n"
     ]
    },
    {
     "name": "stderr",
     "output_type": "stream",
     "text": [
      "c:\\Users\\Moustapha\\AppData\\Local\\Programs\\Python\\Python312\\Lib\\site-packages\\sklearn\\metrics\\_classification.py:1497: UndefinedMetricWarning: Precision is ill-defined and being set to 0.0 in labels with no predicted samples. Use `zero_division` parameter to control this behavior.\n",
      "  _warn_prf(average, modifier, f\"{metric.capitalize()} is\", len(result))\n",
      "c:\\Users\\Moustapha\\AppData\\Local\\Programs\\Python\\Python312\\Lib\\site-packages\\sklearn\\metrics\\_classification.py:1497: UndefinedMetricWarning: Precision is ill-defined and being set to 0.0 in labels with no predicted samples. Use `zero_division` parameter to control this behavior.\n",
      "  _warn_prf(average, modifier, f\"{metric.capitalize()} is\", len(result))\n",
      "c:\\Users\\Moustapha\\AppData\\Local\\Programs\\Python\\Python312\\Lib\\site-packages\\sklearn\\metrics\\_classification.py:1497: UndefinedMetricWarning: Precision is ill-defined and being set to 0.0 in labels with no predicted samples. Use `zero_division` parameter to control this behavior.\n",
      "  _warn_prf(average, modifier, f\"{metric.capitalize()} is\", len(result))\n"
     ]
    },
    {
     "name": "stdout",
     "output_type": "stream",
     "text": [
      "{'0': {'precision': 0.7859922178988327, 'recall': 0.9853658536585366, 'f1-score': 0.8744588744588745, 'support': 410.0}, '1': {'precision': 0.5, 'recall': 0.2, 'f1-score': 0.2857142857142857, 'support': 45.0}, '2': {'precision': 0.0, 'recall': 0.0, 'f1-score': 0.0, 'support': 7.0}, '3': {'precision': 1.0, 'recall': 0.014084507042253521, 'f1-score': 0.027777777777777776, 'support': 71.0}, 'accuracy': 0.776735459662289, 'macro avg': {'precision': 0.5714980544747081, 'recall': 0.2998625901751975, 'f1-score': 0.29698773448773447, 'support': 533.0}, 'weighted avg': {'precision': 0.7800315372204905, 'recall': 0.776735459662289, 'f1-score': 0.7004831212148285, 'support': 533.0}} for parameters {'num_class': 4, 'alpha': 0.01, 'device': 'cuda', 'eta': 0.01, 'eval_metric': 'logloss', 'gamma': 0.05, 'grow_policy': 'depthwise', 'lambda': 0.1, 'max_depth': 3, 'num_parallel_tree': 30, 'objective': 'multi:softmax', 'sampling_method': 'gradient_based', 'subsample': 0.8, 'tree_method': 'approx'}\n",
      "{'0': {'precision': 0.7509803921568627, 'recall': 0.982051282051282, 'f1-score': 0.8511111111111112, 'support': 390.0}, '1': {'precision': 0.35, 'recall': 0.12727272727272726, 'f1-score': 0.18666666666666668, 'support': 55.0}, '2': {'precision': 1.0, 'recall': 0.125, 'f1-score': 0.2222222222222222, 'support': 8.0}, '3': {'precision': 0.0, 'recall': 0.0, 'f1-score': 0.0, 'support': 79.0}, 'accuracy': 0.7349624060150376, 'macro avg': {'precision': 0.5252450980392157, 'recall': 0.30858100233100233, 'f1-score': 0.31500000000000006, 'support': 532.0}, 'weighted avg': {'precision': 0.6017525431225121, 'recall': 0.7349624060150376, 'f1-score': 0.6465747702589808, 'support': 532.0}} for parameters {'num_class': 4, 'alpha': 0.01, 'device': 'cuda', 'eta': 0.01, 'eval_metric': 'logloss', 'gamma': 0.05, 'grow_policy': 'depthwise', 'lambda': 0.1, 'max_depth': 3, 'num_parallel_tree': 30, 'objective': 'multi:softmax', 'sampling_method': 'gradient_based', 'subsample': 0.8, 'tree_method': 'approx'}\n"
     ]
    },
    {
     "name": "stderr",
     "output_type": "stream",
     "text": [
      "c:\\Users\\Moustapha\\AppData\\Local\\Programs\\Python\\Python312\\Lib\\site-packages\\sklearn\\metrics\\_classification.py:1497: UndefinedMetricWarning: Precision is ill-defined and being set to 0.0 in labels with no predicted samples. Use `zero_division` parameter to control this behavior.\n",
      "  _warn_prf(average, modifier, f\"{metric.capitalize()} is\", len(result))\n",
      "c:\\Users\\Moustapha\\AppData\\Local\\Programs\\Python\\Python312\\Lib\\site-packages\\sklearn\\metrics\\_classification.py:1497: UndefinedMetricWarning: Precision is ill-defined and being set to 0.0 in labels with no predicted samples. Use `zero_division` parameter to control this behavior.\n",
      "  _warn_prf(average, modifier, f\"{metric.capitalize()} is\", len(result))\n",
      "c:\\Users\\Moustapha\\AppData\\Local\\Programs\\Python\\Python312\\Lib\\site-packages\\sklearn\\metrics\\_classification.py:1497: UndefinedMetricWarning: Precision is ill-defined and being set to 0.0 in labels with no predicted samples. Use `zero_division` parameter to control this behavior.\n",
      "  _warn_prf(average, modifier, f\"{metric.capitalize()} is\", len(result))\n"
     ]
    },
    {
     "name": "stdout",
     "output_type": "stream",
     "text": [
      "{'0': {'precision': 0.7537878787878788, 'recall': 0.995, 'f1-score': 0.8577586206896551, 'support': 400.0}, '1': {'precision': 0.6, 'recall': 0.0625, 'f1-score': 0.11320754716981132, 'support': 48.0}, '2': {'precision': 0.0, 'recall': 0.0, 'f1-score': 0.0, 'support': 9.0}, '3': {'precision': 0.0, 'recall': 0.0, 'f1-score': 0.0, 'support': 76.0}, 'accuracy': 0.7523452157598499, 'macro avg': {'precision': 0.3384469696969697, 'recall': 0.264375, 'f1-score': 0.2427415419648666, 'support': 533.0}, 'weighted avg': {'precision': 0.6197282392404344, 'recall': 0.7523452157598499, 'f1-score': 0.6539163424765722, 'support': 533.0}} for parameters {'num_class': 4, 'alpha': 0.01, 'device': 'cuda', 'eta': 0.01, 'eval_metric': 'logloss', 'gamma': 0.05, 'grow_policy': 'depthwise', 'lambda': 0.1, 'max_depth': 3, 'num_parallel_tree': 3, 'objective': 'multi:softmax', 'sampling_method': 'uniform', 'subsample': 0.3, 'tree_method': 'hist'}\n"
     ]
    },
    {
     "name": "stderr",
     "output_type": "stream",
     "text": [
      "c:\\Users\\Moustapha\\AppData\\Local\\Programs\\Python\\Python312\\Lib\\site-packages\\sklearn\\metrics\\_classification.py:1497: UndefinedMetricWarning: Precision is ill-defined and being set to 0.0 in labels with no predicted samples. Use `zero_division` parameter to control this behavior.\n",
      "  _warn_prf(average, modifier, f\"{metric.capitalize()} is\", len(result))\n",
      "c:\\Users\\Moustapha\\AppData\\Local\\Programs\\Python\\Python312\\Lib\\site-packages\\sklearn\\metrics\\_classification.py:1497: UndefinedMetricWarning: Precision is ill-defined and being set to 0.0 in labels with no predicted samples. Use `zero_division` parameter to control this behavior.\n",
      "  _warn_prf(average, modifier, f\"{metric.capitalize()} is\", len(result))\n",
      "c:\\Users\\Moustapha\\AppData\\Local\\Programs\\Python\\Python312\\Lib\\site-packages\\sklearn\\metrics\\_classification.py:1497: UndefinedMetricWarning: Precision is ill-defined and being set to 0.0 in labels with no predicted samples. Use `zero_division` parameter to control this behavior.\n",
      "  _warn_prf(average, modifier, f\"{metric.capitalize()} is\", len(result))\n"
     ]
    },
    {
     "name": "stdout",
     "output_type": "stream",
     "text": [
      "{'0': {'precision': 0.7561436672967864, 'recall': 1.0, 'f1-score': 0.8611410118406889, 'support': 400.0}, '1': {'precision': 1.0, 'recall': 0.057692307692307696, 'f1-score': 0.10909090909090909, 'support': 52.0}, '2': {'precision': 0.0, 'recall': 0.0, 'f1-score': 0.0, 'support': 6.0}, '3': {'precision': 0.0, 'recall': 0.0, 'f1-score': 0.0, 'support': 74.0}, 'accuracy': 0.7575187969924813, 'macro avg': {'precision': 0.4390359168241966, 'recall': 0.2644230769230769, 'f1-score': 0.2425579802328995, 'support': 532.0}, 'weighted avg': {'precision': 0.6662734340577341, 'recall': 0.7575187969924813, 'f1-score': 0.6581374661823362, 'support': 532.0}} for parameters {'num_class': 4, 'alpha': 0.01, 'device': 'cuda', 'eta': 0.01, 'eval_metric': 'logloss', 'gamma': 0.05, 'grow_policy': 'depthwise', 'lambda': 0.1, 'max_depth': 3, 'num_parallel_tree': 3, 'objective': 'multi:softmax', 'sampling_method': 'uniform', 'subsample': 0.3, 'tree_method': 'hist'}\n"
     ]
    },
    {
     "name": "stderr",
     "output_type": "stream",
     "text": [
      "c:\\Users\\Moustapha\\AppData\\Local\\Programs\\Python\\Python312\\Lib\\site-packages\\sklearn\\metrics\\_classification.py:1497: UndefinedMetricWarning: Precision is ill-defined and being set to 0.0 in labels with no predicted samples. Use `zero_division` parameter to control this behavior.\n",
      "  _warn_prf(average, modifier, f\"{metric.capitalize()} is\", len(result))\n",
      "c:\\Users\\Moustapha\\AppData\\Local\\Programs\\Python\\Python312\\Lib\\site-packages\\sklearn\\metrics\\_classification.py:1497: UndefinedMetricWarning: Precision is ill-defined and being set to 0.0 in labels with no predicted samples. Use `zero_division` parameter to control this behavior.\n",
      "  _warn_prf(average, modifier, f\"{metric.capitalize()} is\", len(result))\n",
      "c:\\Users\\Moustapha\\AppData\\Local\\Programs\\Python\\Python312\\Lib\\site-packages\\sklearn\\metrics\\_classification.py:1497: UndefinedMetricWarning: Precision is ill-defined and being set to 0.0 in labels with no predicted samples. Use `zero_division` parameter to control this behavior.\n",
      "  _warn_prf(average, modifier, f\"{metric.capitalize()} is\", len(result))\n"
     ]
    },
    {
     "name": "stdout",
     "output_type": "stream",
     "text": [
      "{'0': {'precision': 0.7727272727272727, 'recall': 0.9927007299270073, 'f1-score': 0.8690095846645367, 'support': 411.0}, '1': {'precision': 0.2, 'recall': 0.019230769230769232, 'f1-score': 0.03508771929824561, 'support': 52.0}, '2': {'precision': 0.0, 'recall': 0.0, 'f1-score': 0.0, 'support': 10.0}, '3': {'precision': 0.0, 'recall': 0.0, 'f1-score': 0.0, 'support': 60.0}, 'accuracy': 0.7673545966228893, 'macro avg': {'precision': 0.24318181818181817, 'recall': 0.25298287478944415, 'f1-score': 0.22602432599069558, 'support': 533.0}, 'weighted avg': {'precision': 0.6153675592699982, 'recall': 0.7673545966228893, 'f1-score': 0.6735225153858037, 'support': 533.0}} for parameters {'num_class': 4, 'alpha': 0.01, 'device': 'cuda', 'eta': 0.01, 'eval_metric': 'logloss', 'gamma': 0.05, 'grow_policy': 'depthwise', 'lambda': 0.1, 'max_depth': 3, 'num_parallel_tree': 3, 'objective': 'multi:softmax', 'sampling_method': 'uniform', 'subsample': 0.3, 'tree_method': 'approx'}\n"
     ]
    },
    {
     "name": "stderr",
     "output_type": "stream",
     "text": [
      "c:\\Users\\Moustapha\\AppData\\Local\\Programs\\Python\\Python312\\Lib\\site-packages\\sklearn\\metrics\\_classification.py:1497: UndefinedMetricWarning: Precision is ill-defined and being set to 0.0 in labels with no predicted samples. Use `zero_division` parameter to control this behavior.\n",
      "  _warn_prf(average, modifier, f\"{metric.capitalize()} is\", len(result))\n",
      "c:\\Users\\Moustapha\\AppData\\Local\\Programs\\Python\\Python312\\Lib\\site-packages\\sklearn\\metrics\\_classification.py:1497: UndefinedMetricWarning: Precision is ill-defined and being set to 0.0 in labels with no predicted samples. Use `zero_division` parameter to control this behavior.\n",
      "  _warn_prf(average, modifier, f\"{metric.capitalize()} is\", len(result))\n",
      "c:\\Users\\Moustapha\\AppData\\Local\\Programs\\Python\\Python312\\Lib\\site-packages\\sklearn\\metrics\\_classification.py:1497: UndefinedMetricWarning: Precision is ill-defined and being set to 0.0 in labels with no predicted samples. Use `zero_division` parameter to control this behavior.\n",
      "  _warn_prf(average, modifier, f\"{metric.capitalize()} is\", len(result))\n"
     ]
    },
    {
     "name": "stdout",
     "output_type": "stream",
     "text": [
      "{'0': {'precision': 0.7404580152671756, 'recall': 0.9974293059125964, 'f1-score': 0.8499452354874042, 'support': 389.0}, '1': {'precision': 0.75, 'recall': 0.125, 'f1-score': 0.21428571428571427, 'support': 48.0}, '2': {'precision': 0.0, 'recall': 0.0, 'f1-score': 0.0, 'support': 5.0}, '3': {'precision': 0.0, 'recall': 0.0, 'f1-score': 0.0, 'support': 90.0}, 'accuracy': 0.7406015037593985, 'macro avg': {'precision': 0.3726145038167939, 'recall': 0.2806073264781491, 'f1-score': 0.2660577374432796, 'support': 532.0}, 'weighted avg': {'precision': 0.6090943006370889, 'recall': 0.7406015037593985, 'f1-score': 0.6408165618238995, 'support': 532.0}} for parameters {'num_class': 4, 'alpha': 0.01, 'device': 'cuda', 'eta': 0.01, 'eval_metric': 'logloss', 'gamma': 0.05, 'grow_policy': 'depthwise', 'lambda': 0.1, 'max_depth': 3, 'num_parallel_tree': 3, 'objective': 'multi:softmax', 'sampling_method': 'uniform', 'subsample': 0.3, 'tree_method': 'approx'}\n"
     ]
    },
    {
     "name": "stderr",
     "output_type": "stream",
     "text": [
      "c:\\Users\\Moustapha\\AppData\\Local\\Programs\\Python\\Python312\\Lib\\site-packages\\sklearn\\metrics\\_classification.py:1497: UndefinedMetricWarning: Precision is ill-defined and being set to 0.0 in labels with no predicted samples. Use `zero_division` parameter to control this behavior.\n",
      "  _warn_prf(average, modifier, f\"{metric.capitalize()} is\", len(result))\n",
      "c:\\Users\\Moustapha\\AppData\\Local\\Programs\\Python\\Python312\\Lib\\site-packages\\sklearn\\metrics\\_classification.py:1497: UndefinedMetricWarning: Precision is ill-defined and being set to 0.0 in labels with no predicted samples. Use `zero_division` parameter to control this behavior.\n",
      "  _warn_prf(average, modifier, f\"{metric.capitalize()} is\", len(result))\n",
      "c:\\Users\\Moustapha\\AppData\\Local\\Programs\\Python\\Python312\\Lib\\site-packages\\sklearn\\metrics\\_classification.py:1497: UndefinedMetricWarning: Precision is ill-defined and being set to 0.0 in labels with no predicted samples. Use `zero_division` parameter to control this behavior.\n",
      "  _warn_prf(average, modifier, f\"{metric.capitalize()} is\", len(result))\n"
     ]
    },
    {
     "name": "stdout",
     "output_type": "stream",
     "text": [
      "{'0': {'precision': 0.7681992337164751, 'recall': 0.9876847290640394, 'f1-score': 0.8642241379310345, 'support': 406.0}, '1': {'precision': 0.45454545454545453, 'recall': 0.10204081632653061, 'f1-score': 0.16666666666666666, 'support': 49.0}, '2': {'precision': 0.0, 'recall': 0.0, 'f1-score': 0.0, 'support': 10.0}, '3': {'precision': 0.0, 'recall': 0.0, 'f1-score': 0.0, 'support': 68.0}, 'accuracy': 0.7617260787992496, 'macro avg': {'precision': 0.30568617206548243, 'recall': 0.2724313863476425, 'f1-score': 0.2577227011494253, 'support': 533.0}, 'weighted avg': {'precision': 0.6269448708473099, 'recall': 0.7617260787992496, 'f1-score': 0.6736241400875548, 'support': 533.0}} for parameters {'num_class': 4, 'alpha': 0.01, 'device': 'cuda', 'eta': 0.01, 'eval_metric': 'logloss', 'gamma': 0.05, 'grow_policy': 'depthwise', 'lambda': 0.1, 'max_depth': 3, 'num_parallel_tree': 3, 'objective': 'multi:softmax', 'sampling_method': 'uniform', 'subsample': 0.5, 'tree_method': 'hist'}\n"
     ]
    },
    {
     "name": "stderr",
     "output_type": "stream",
     "text": [
      "c:\\Users\\Moustapha\\AppData\\Local\\Programs\\Python\\Python312\\Lib\\site-packages\\sklearn\\metrics\\_classification.py:1497: UndefinedMetricWarning: Precision is ill-defined and being set to 0.0 in labels with no predicted samples. Use `zero_division` parameter to control this behavior.\n",
      "  _warn_prf(average, modifier, f\"{metric.capitalize()} is\", len(result))\n",
      "c:\\Users\\Moustapha\\AppData\\Local\\Programs\\Python\\Python312\\Lib\\site-packages\\sklearn\\metrics\\_classification.py:1497: UndefinedMetricWarning: Precision is ill-defined and being set to 0.0 in labels with no predicted samples. Use `zero_division` parameter to control this behavior.\n",
      "  _warn_prf(average, modifier, f\"{metric.capitalize()} is\", len(result))\n",
      "c:\\Users\\Moustapha\\AppData\\Local\\Programs\\Python\\Python312\\Lib\\site-packages\\sklearn\\metrics\\_classification.py:1497: UndefinedMetricWarning: Precision is ill-defined and being set to 0.0 in labels with no predicted samples. Use `zero_division` parameter to control this behavior.\n",
      "  _warn_prf(average, modifier, f\"{metric.capitalize()} is\", len(result))\n"
     ]
    },
    {
     "name": "stdout",
     "output_type": "stream",
     "text": [
      "{'0': {'precision': 0.751434034416826, 'recall': 0.9974619289340102, 'f1-score': 0.8571428571428571, 'support': 394.0}, '1': {'precision': 0.6666666666666666, 'recall': 0.11764705882352941, 'f1-score': 0.2, 'support': 51.0}, '2': {'precision': 0.0, 'recall': 0.0, 'f1-score': 0.0, 'support': 5.0}, '3': {'precision': 0.0, 'recall': 0.0, 'f1-score': 0.0, 'support': 82.0}, 'accuracy': 0.75, 'macro avg': {'precision': 0.3545251752708731, 'recall': 0.2787772469393849, 'f1-score': 0.2642857142857143, 'support': 532.0}, 'weighted avg': {'precision': 0.6204229503011831, 'recall': 0.75, 'f1-score': 0.6539742212674543, 'support': 532.0}} for parameters {'num_class': 4, 'alpha': 0.01, 'device': 'cuda', 'eta': 0.01, 'eval_metric': 'logloss', 'gamma': 0.05, 'grow_policy': 'depthwise', 'lambda': 0.1, 'max_depth': 3, 'num_parallel_tree': 3, 'objective': 'multi:softmax', 'sampling_method': 'uniform', 'subsample': 0.5, 'tree_method': 'hist'}\n"
     ]
    },
    {
     "name": "stderr",
     "output_type": "stream",
     "text": [
      "c:\\Users\\Moustapha\\AppData\\Local\\Programs\\Python\\Python312\\Lib\\site-packages\\sklearn\\metrics\\_classification.py:1497: UndefinedMetricWarning: Precision is ill-defined and being set to 0.0 in labels with no predicted samples. Use `zero_division` parameter to control this behavior.\n",
      "  _warn_prf(average, modifier, f\"{metric.capitalize()} is\", len(result))\n",
      "c:\\Users\\Moustapha\\AppData\\Local\\Programs\\Python\\Python312\\Lib\\site-packages\\sklearn\\metrics\\_classification.py:1497: UndefinedMetricWarning: Precision is ill-defined and being set to 0.0 in labels with no predicted samples. Use `zero_division` parameter to control this behavior.\n",
      "  _warn_prf(average, modifier, f\"{metric.capitalize()} is\", len(result))\n",
      "c:\\Users\\Moustapha\\AppData\\Local\\Programs\\Python\\Python312\\Lib\\site-packages\\sklearn\\metrics\\_classification.py:1497: UndefinedMetricWarning: Precision is ill-defined and being set to 0.0 in labels with no predicted samples. Use `zero_division` parameter to control this behavior.\n",
      "  _warn_prf(average, modifier, f\"{metric.capitalize()} is\", len(result))\n"
     ]
    },
    {
     "name": "stdout",
     "output_type": "stream",
     "text": [
      "{'0': {'precision': 0.7634615384615384, 'recall': 0.9925, 'f1-score': 0.8630434782608696, 'support': 400.0}, '1': {'precision': 0.5384615384615384, 'recall': 0.15555555555555556, 'f1-score': 0.2413793103448276, 'support': 45.0}, '2': {'precision': 0.0, 'recall': 0.0, 'f1-score': 0.0, 'support': 8.0}, '3': {'precision': 0.0, 'recall': 0.0, 'f1-score': 0.0, 'support': 80.0}, 'accuracy': 0.7579737335834896, 'macro avg': {'precision': 0.3254807692307692, 'recall': 0.2870138888888889, 'f1-score': 0.2761056971514243, 'support': 533.0}, 'weighted avg': {'precision': 0.6184153557511906, 'recall': 0.7579737335834896, 'f1-score': 0.6680665295869889, 'support': 533.0}} for parameters {'num_class': 4, 'alpha': 0.01, 'device': 'cuda', 'eta': 0.01, 'eval_metric': 'logloss', 'gamma': 0.05, 'grow_policy': 'depthwise', 'lambda': 0.1, 'max_depth': 3, 'num_parallel_tree': 3, 'objective': 'multi:softmax', 'sampling_method': 'uniform', 'subsample': 0.5, 'tree_method': 'approx'}\n"
     ]
    },
    {
     "name": "stderr",
     "output_type": "stream",
     "text": [
      "c:\\Users\\Moustapha\\AppData\\Local\\Programs\\Python\\Python312\\Lib\\site-packages\\sklearn\\metrics\\_classification.py:1497: UndefinedMetricWarning: Precision is ill-defined and being set to 0.0 in labels with no predicted samples. Use `zero_division` parameter to control this behavior.\n",
      "  _warn_prf(average, modifier, f\"{metric.capitalize()} is\", len(result))\n",
      "c:\\Users\\Moustapha\\AppData\\Local\\Programs\\Python\\Python312\\Lib\\site-packages\\sklearn\\metrics\\_classification.py:1497: UndefinedMetricWarning: Precision is ill-defined and being set to 0.0 in labels with no predicted samples. Use `zero_division` parameter to control this behavior.\n",
      "  _warn_prf(average, modifier, f\"{metric.capitalize()} is\", len(result))\n",
      "c:\\Users\\Moustapha\\AppData\\Local\\Programs\\Python\\Python312\\Lib\\site-packages\\sklearn\\metrics\\_classification.py:1497: UndefinedMetricWarning: Precision is ill-defined and being set to 0.0 in labels with no predicted samples. Use `zero_division` parameter to control this behavior.\n",
      "  _warn_prf(average, modifier, f\"{metric.capitalize()} is\", len(result))\n"
     ]
    },
    {
     "name": "stdout",
     "output_type": "stream",
     "text": [
      "{'0': {'precision': 0.761996161228407, 'recall': 0.9925, 'f1-score': 0.8621064060803475, 'support': 400.0}, '1': {'precision': 0.5, 'recall': 0.09090909090909091, 'f1-score': 0.15384615384615385, 'support': 55.0}, '2': {'precision': 0.0, 'recall': 0.0, 'f1-score': 0.0, 'support': 7.0}, '3': {'precision': 0.0, 'recall': 0.0, 'f1-score': 0.0, 'support': 70.0}, 'accuracy': 0.7556390977443609, 'macro avg': {'precision': 0.31549904030710174, 'recall': 0.27085227272727275, 'f1-score': 0.25398813998162534, 'support': 532.0}, 'weighted avg': {'precision': 0.6246211738559451, 'recall': 0.7556390977443609, 'f1-score': 0.6641054528076644, 'support': 532.0}} for parameters {'num_class': 4, 'alpha': 0.01, 'device': 'cuda', 'eta': 0.01, 'eval_metric': 'logloss', 'gamma': 0.05, 'grow_policy': 'depthwise', 'lambda': 0.1, 'max_depth': 3, 'num_parallel_tree': 3, 'objective': 'multi:softmax', 'sampling_method': 'uniform', 'subsample': 0.5, 'tree_method': 'approx'}\n"
     ]
    },
    {
     "name": "stderr",
     "output_type": "stream",
     "text": [
      "c:\\Users\\Moustapha\\AppData\\Local\\Programs\\Python\\Python312\\Lib\\site-packages\\sklearn\\metrics\\_classification.py:1497: UndefinedMetricWarning: Precision is ill-defined and being set to 0.0 in labels with no predicted samples. Use `zero_division` parameter to control this behavior.\n",
      "  _warn_prf(average, modifier, f\"{metric.capitalize()} is\", len(result))\n",
      "c:\\Users\\Moustapha\\AppData\\Local\\Programs\\Python\\Python312\\Lib\\site-packages\\sklearn\\metrics\\_classification.py:1497: UndefinedMetricWarning: Precision is ill-defined and being set to 0.0 in labels with no predicted samples. Use `zero_division` parameter to control this behavior.\n",
      "  _warn_prf(average, modifier, f\"{metric.capitalize()} is\", len(result))\n",
      "c:\\Users\\Moustapha\\AppData\\Local\\Programs\\Python\\Python312\\Lib\\site-packages\\sklearn\\metrics\\_classification.py:1497: UndefinedMetricWarning: Precision is ill-defined and being set to 0.0 in labels with no predicted samples. Use `zero_division` parameter to control this behavior.\n",
      "  _warn_prf(average, modifier, f\"{metric.capitalize()} is\", len(result))\n"
     ]
    },
    {
     "name": "stdout",
     "output_type": "stream",
     "text": [
      "{'0': {'precision': 0.7660818713450293, 'recall': 0.9874371859296482, 'f1-score': 0.862788144895719, 'support': 398.0}, '1': {'precision': 0.5789473684210527, 'recall': 0.24444444444444444, 'f1-score': 0.34375, 'support': 45.0}, '2': {'precision': 0.0, 'recall': 0.0, 'f1-score': 0.0, 'support': 9.0}, '3': {'precision': 0.0, 'recall': 0.0, 'f1-score': 0.0, 'support': 81.0}, 'accuracy': 0.7579737335834896, 'macro avg': {'precision': 0.3362573099415205, 'recall': 0.3079704075935232, 'f1-score': 0.3016345362239298, 'support': 533.0}, 'weighted avg': {'precision': 0.6209253590511613, 'recall': 0.7579737335834896, 'f1-score': 0.6732803596031823, 'support': 533.0}} for parameters {'num_class': 4, 'alpha': 0.01, 'device': 'cuda', 'eta': 0.01, 'eval_metric': 'logloss', 'gamma': 0.05, 'grow_policy': 'depthwise', 'lambda': 0.1, 'max_depth': 3, 'num_parallel_tree': 3, 'objective': 'multi:softmax', 'sampling_method': 'uniform', 'subsample': 0.8, 'tree_method': 'hist'}\n"
     ]
    },
    {
     "name": "stderr",
     "output_type": "stream",
     "text": [
      "c:\\Users\\Moustapha\\AppData\\Local\\Programs\\Python\\Python312\\Lib\\site-packages\\sklearn\\metrics\\_classification.py:1497: UndefinedMetricWarning: Precision is ill-defined and being set to 0.0 in labels with no predicted samples. Use `zero_division` parameter to control this behavior.\n",
      "  _warn_prf(average, modifier, f\"{metric.capitalize()} is\", len(result))\n",
      "c:\\Users\\Moustapha\\AppData\\Local\\Programs\\Python\\Python312\\Lib\\site-packages\\sklearn\\metrics\\_classification.py:1497: UndefinedMetricWarning: Precision is ill-defined and being set to 0.0 in labels with no predicted samples. Use `zero_division` parameter to control this behavior.\n",
      "  _warn_prf(average, modifier, f\"{metric.capitalize()} is\", len(result))\n",
      "c:\\Users\\Moustapha\\AppData\\Local\\Programs\\Python\\Python312\\Lib\\site-packages\\sklearn\\metrics\\_classification.py:1497: UndefinedMetricWarning: Precision is ill-defined and being set to 0.0 in labels with no predicted samples. Use `zero_division` parameter to control this behavior.\n",
      "  _warn_prf(average, modifier, f\"{metric.capitalize()} is\", len(result))\n"
     ]
    },
    {
     "name": "stdout",
     "output_type": "stream",
     "text": [
      "{'0': {'precision': 0.7723735408560312, 'recall': 0.9875621890547264, 'f1-score': 0.8668122270742358, 'support': 402.0}, '1': {'precision': 0.5, 'recall': 0.16363636363636364, 'f1-score': 0.2465753424657534, 'support': 55.0}, '2': {'precision': 0.0, 'recall': 0.0, 'f1-score': 0.0, 'support': 6.0}, '3': {'precision': 0.0, 'recall': 0.0, 'f1-score': 0.0, 'support': 69.0}, 'accuracy': 0.7631578947368421, 'macro avg': {'precision': 0.31809338521400776, 'recall': 0.2877996381727725, 'f1-score': 0.2783468923849973, 'support': 532.0}, 'weighted avg': {'precision': 0.6353273748573769, 'recall': 0.7631578947368421, 'f1-score': 0.6804890209012391, 'support': 532.0}} for parameters {'num_class': 4, 'alpha': 0.01, 'device': 'cuda', 'eta': 0.01, 'eval_metric': 'logloss', 'gamma': 0.05, 'grow_policy': 'depthwise', 'lambda': 0.1, 'max_depth': 3, 'num_parallel_tree': 3, 'objective': 'multi:softmax', 'sampling_method': 'uniform', 'subsample': 0.8, 'tree_method': 'hist'}\n"
     ]
    },
    {
     "name": "stderr",
     "output_type": "stream",
     "text": [
      "c:\\Users\\Moustapha\\AppData\\Local\\Programs\\Python\\Python312\\Lib\\site-packages\\sklearn\\metrics\\_classification.py:1497: UndefinedMetricWarning: Precision is ill-defined and being set to 0.0 in labels with no predicted samples. Use `zero_division` parameter to control this behavior.\n",
      "  _warn_prf(average, modifier, f\"{metric.capitalize()} is\", len(result))\n",
      "c:\\Users\\Moustapha\\AppData\\Local\\Programs\\Python\\Python312\\Lib\\site-packages\\sklearn\\metrics\\_classification.py:1497: UndefinedMetricWarning: Precision is ill-defined and being set to 0.0 in labels with no predicted samples. Use `zero_division` parameter to control this behavior.\n",
      "  _warn_prf(average, modifier, f\"{metric.capitalize()} is\", len(result))\n",
      "c:\\Users\\Moustapha\\AppData\\Local\\Programs\\Python\\Python312\\Lib\\site-packages\\sklearn\\metrics\\_classification.py:1497: UndefinedMetricWarning: Precision is ill-defined and being set to 0.0 in labels with no predicted samples. Use `zero_division` parameter to control this behavior.\n",
      "  _warn_prf(average, modifier, f\"{metric.capitalize()} is\", len(result))\n"
     ]
    },
    {
     "name": "stdout",
     "output_type": "stream",
     "text": [
      "{'0': {'precision': 0.7538461538461538, 'recall': 0.9874055415617129, 'f1-score': 0.8549618320610687, 'support': 397.0}, '1': {'precision': 0.46153846153846156, 'recall': 0.12, 'f1-score': 0.19047619047619047, 'support': 50.0}, '2': {'precision': 0.0, 'recall': 0.0, 'f1-score': 0.0, 'support': 7.0}, '3': {'precision': 0.0, 'recall': 0.0, 'f1-score': 0.0, 'support': 79.0}, 'accuracy': 0.7467166979362101, 'macro avg': {'precision': 0.3038461538461539, 'recall': 0.2768513853904282, 'f1-score': 0.26135950563431476, 'support': 533.0}, 'weighted avg': {'precision': 0.6047914561985857, 'recall': 0.7467166979362101, 'f1-score': 0.6546785306792754, 'support': 533.0}} for parameters {'num_class': 4, 'alpha': 0.01, 'device': 'cuda', 'eta': 0.01, 'eval_metric': 'logloss', 'gamma': 0.05, 'grow_policy': 'depthwise', 'lambda': 0.1, 'max_depth': 3, 'num_parallel_tree': 3, 'objective': 'multi:softmax', 'sampling_method': 'uniform', 'subsample': 0.8, 'tree_method': 'approx'}\n"
     ]
    },
    {
     "name": "stderr",
     "output_type": "stream",
     "text": [
      "c:\\Users\\Moustapha\\AppData\\Local\\Programs\\Python\\Python312\\Lib\\site-packages\\sklearn\\metrics\\_classification.py:1497: UndefinedMetricWarning: Precision is ill-defined and being set to 0.0 in labels with no predicted samples. Use `zero_division` parameter to control this behavior.\n",
      "  _warn_prf(average, modifier, f\"{metric.capitalize()} is\", len(result))\n",
      "c:\\Users\\Moustapha\\AppData\\Local\\Programs\\Python\\Python312\\Lib\\site-packages\\sklearn\\metrics\\_classification.py:1497: UndefinedMetricWarning: Precision is ill-defined and being set to 0.0 in labels with no predicted samples. Use `zero_division` parameter to control this behavior.\n",
      "  _warn_prf(average, modifier, f\"{metric.capitalize()} is\", len(result))\n",
      "c:\\Users\\Moustapha\\AppData\\Local\\Programs\\Python\\Python312\\Lib\\site-packages\\sklearn\\metrics\\_classification.py:1497: UndefinedMetricWarning: Precision is ill-defined and being set to 0.0 in labels with no predicted samples. Use `zero_division` parameter to control this behavior.\n",
      "  _warn_prf(average, modifier, f\"{metric.capitalize()} is\", len(result))\n"
     ]
    },
    {
     "name": "stdout",
     "output_type": "stream",
     "text": [
      "{'0': {'precision': 0.7741312741312741, 'recall': 0.9950372208436724, 'f1-score': 0.8707926167209555, 'support': 403.0}, '1': {'precision': 0.7142857142857143, 'recall': 0.2, 'f1-score': 0.3125, 'support': 50.0}, '2': {'precision': 0.0, 'recall': 0.0, 'f1-score': 0.0, 'support': 8.0}, '3': {'precision': 0.0, 'recall': 0.0, 'f1-score': 0.0, 'support': 71.0}, 'accuracy': 0.7725563909774437, 'macro avg': {'precision': 0.3721042471042471, 'recall': 0.2987593052109181, 'f1-score': 0.29582315418023886, 'support': 532.0}, 'weighted avg': {'precision': 0.653551107498476, 'recall': 0.7725563909774437, 'f1-score': 0.6890120762002727, 'support': 532.0}} for parameters {'num_class': 4, 'alpha': 0.01, 'device': 'cuda', 'eta': 0.01, 'eval_metric': 'logloss', 'gamma': 0.05, 'grow_policy': 'depthwise', 'lambda': 0.1, 'max_depth': 3, 'num_parallel_tree': 3, 'objective': 'multi:softmax', 'sampling_method': 'uniform', 'subsample': 0.8, 'tree_method': 'approx'}\n"
     ]
    },
    {
     "name": "stderr",
     "output_type": "stream",
     "text": [
      "c:\\Users\\Moustapha\\AppData\\Local\\Programs\\Python\\Python312\\Lib\\site-packages\\sklearn\\metrics\\_classification.py:1497: UndefinedMetricWarning: Precision is ill-defined and being set to 0.0 in labels with no predicted samples. Use `zero_division` parameter to control this behavior.\n",
      "  _warn_prf(average, modifier, f\"{metric.capitalize()} is\", len(result))\n",
      "c:\\Users\\Moustapha\\AppData\\Local\\Programs\\Python\\Python312\\Lib\\site-packages\\sklearn\\metrics\\_classification.py:1497: UndefinedMetricWarning: Precision is ill-defined and being set to 0.0 in labels with no predicted samples. Use `zero_division` parameter to control this behavior.\n",
      "  _warn_prf(average, modifier, f\"{metric.capitalize()} is\", len(result))\n",
      "c:\\Users\\Moustapha\\AppData\\Local\\Programs\\Python\\Python312\\Lib\\site-packages\\sklearn\\metrics\\_classification.py:1497: UndefinedMetricWarning: Precision is ill-defined and being set to 0.0 in labels with no predicted samples. Use `zero_division` parameter to control this behavior.\n",
      "  _warn_prf(average, modifier, f\"{metric.capitalize()} is\", len(result))\n"
     ]
    },
    {
     "name": "stdout",
     "output_type": "stream",
     "text": [
      "{'0': {'precision': 0.7715930902111324, 'recall': 0.9975186104218362, 'f1-score': 0.8701298701298701, 'support': 403.0}, '1': {'precision': 0.75, 'recall': 0.1875, 'f1-score': 0.3, 'support': 48.0}, '2': {'precision': 0.0, 'recall': 0.0, 'f1-score': 0.0, 'support': 6.0}, '3': {'precision': 0.0, 'recall': 0.0, 'f1-score': 0.0, 'support': 76.0}, 'accuracy': 0.7711069418386491, 'macro avg': {'precision': 0.38039827255278313, 'recall': 0.296254652605459, 'f1-score': 0.29253246753246753, 'support': 533.0}, 'weighted avg': {'precision': 0.6509418674579481, 'recall': 0.7711069418386491, 'f1-score': 0.6849199580906897, 'support': 533.0}} for parameters {'num_class': 4, 'alpha': 0.01, 'device': 'cuda', 'eta': 0.01, 'eval_metric': 'logloss', 'gamma': 0.05, 'grow_policy': 'depthwise', 'lambda': 0.1, 'max_depth': 3, 'num_parallel_tree': 3, 'objective': 'multi:softmax', 'sampling_method': 'gradient_based', 'subsample': 0.3, 'tree_method': 'hist'}\n"
     ]
    },
    {
     "name": "stderr",
     "output_type": "stream",
     "text": [
      "c:\\Users\\Moustapha\\AppData\\Local\\Programs\\Python\\Python312\\Lib\\site-packages\\sklearn\\metrics\\_classification.py:1497: UndefinedMetricWarning: Precision is ill-defined and being set to 0.0 in labels with no predicted samples. Use `zero_division` parameter to control this behavior.\n",
      "  _warn_prf(average, modifier, f\"{metric.capitalize()} is\", len(result))\n",
      "c:\\Users\\Moustapha\\AppData\\Local\\Programs\\Python\\Python312\\Lib\\site-packages\\sklearn\\metrics\\_classification.py:1497: UndefinedMetricWarning: Precision is ill-defined and being set to 0.0 in labels with no predicted samples. Use `zero_division` parameter to control this behavior.\n",
      "  _warn_prf(average, modifier, f\"{metric.capitalize()} is\", len(result))\n",
      "c:\\Users\\Moustapha\\AppData\\Local\\Programs\\Python\\Python312\\Lib\\site-packages\\sklearn\\metrics\\_classification.py:1497: UndefinedMetricWarning: Precision is ill-defined and being set to 0.0 in labels with no predicted samples. Use `zero_division` parameter to control this behavior.\n",
      "  _warn_prf(average, modifier, f\"{metric.capitalize()} is\", len(result))\n"
     ]
    },
    {
     "name": "stdout",
     "output_type": "stream",
     "text": [
      "{'0': {'precision': 0.7577519379844961, 'recall': 0.9848866498740554, 'f1-score': 0.8565169769989047, 'support': 397.0}, '1': {'precision': 0.5333333333333333, 'recall': 0.15384615384615385, 'f1-score': 0.23880597014925373, 'support': 52.0}, '2': {'precision': 0.0, 'recall': 0.0, 'f1-score': 0.0, 'support': 9.0}, '3': {'precision': 0.0, 'recall': 0.0, 'f1-score': 0.0, 'support': 74.0}, 'accuracy': 0.75, 'macro avg': {'precision': 0.32277131782945734, 'recall': 0.2846832009300523, 'f1-score': 0.2738307367870396, 'support': 532.0}, 'weighted avg': {'precision': 0.6175955878067261, 'recall': 0.75, 'f1-score': 0.6625096810457263, 'support': 532.0}} for parameters {'num_class': 4, 'alpha': 0.01, 'device': 'cuda', 'eta': 0.01, 'eval_metric': 'logloss', 'gamma': 0.05, 'grow_policy': 'depthwise', 'lambda': 0.1, 'max_depth': 3, 'num_parallel_tree': 3, 'objective': 'multi:softmax', 'sampling_method': 'gradient_based', 'subsample': 0.3, 'tree_method': 'hist'}\n"
     ]
    },
    {
     "name": "stderr",
     "output_type": "stream",
     "text": [
      "c:\\Users\\Moustapha\\AppData\\Local\\Programs\\Python\\Python312\\Lib\\site-packages\\sklearn\\metrics\\_classification.py:1497: UndefinedMetricWarning: Precision is ill-defined and being set to 0.0 in labels with no predicted samples. Use `zero_division` parameter to control this behavior.\n",
      "  _warn_prf(average, modifier, f\"{metric.capitalize()} is\", len(result))\n",
      "c:\\Users\\Moustapha\\AppData\\Local\\Programs\\Python\\Python312\\Lib\\site-packages\\sklearn\\metrics\\_classification.py:1497: UndefinedMetricWarning: Precision is ill-defined and being set to 0.0 in labels with no predicted samples. Use `zero_division` parameter to control this behavior.\n",
      "  _warn_prf(average, modifier, f\"{metric.capitalize()} is\", len(result))\n",
      "c:\\Users\\Moustapha\\AppData\\Local\\Programs\\Python\\Python312\\Lib\\site-packages\\sklearn\\metrics\\_classification.py:1497: UndefinedMetricWarning: Precision is ill-defined and being set to 0.0 in labels with no predicted samples. Use `zero_division` parameter to control this behavior.\n",
      "  _warn_prf(average, modifier, f\"{metric.capitalize()} is\", len(result))\n"
     ]
    },
    {
     "name": "stdout",
     "output_type": "stream",
     "text": [
      "{'0': {'precision': 0.7917485265225933, 'recall': 0.9829268292682927, 'f1-score': 0.8770402611534276, 'support': 410.0}, '1': {'precision': 0.5, 'recall': 0.24444444444444444, 'f1-score': 0.3283582089552239, 'support': 45.0}, '2': {'precision': 0.0, 'recall': 0.0, 'f1-score': 0.0, 'support': 8.0}, '3': {'precision': 0.0, 'recall': 0.0, 'f1-score': 0.0, 'support': 70.0}, 'accuracy': 0.776735459662289, 'macro avg': {'precision': 0.3229371316306483, 'recall': 0.3068428184281843, 'f1-score': 0.3013496175271629, 'support': 533.0}, 'weighted avg': {'precision': 0.6512512117716008, 'recall': 0.776735459662289, 'f1-score': 0.7023689052080494, 'support': 533.0}} for parameters {'num_class': 4, 'alpha': 0.01, 'device': 'cuda', 'eta': 0.01, 'eval_metric': 'logloss', 'gamma': 0.05, 'grow_policy': 'depthwise', 'lambda': 0.1, 'max_depth': 3, 'num_parallel_tree': 3, 'objective': 'multi:softmax', 'sampling_method': 'gradient_based', 'subsample': 0.3, 'tree_method': 'approx'}\n"
     ]
    },
    {
     "name": "stderr",
     "output_type": "stream",
     "text": [
      "c:\\Users\\Moustapha\\AppData\\Local\\Programs\\Python\\Python312\\Lib\\site-packages\\sklearn\\metrics\\_classification.py:1497: UndefinedMetricWarning: Precision is ill-defined and being set to 0.0 in labels with no predicted samples. Use `zero_division` parameter to control this behavior.\n",
      "  _warn_prf(average, modifier, f\"{metric.capitalize()} is\", len(result))\n",
      "c:\\Users\\Moustapha\\AppData\\Local\\Programs\\Python\\Python312\\Lib\\site-packages\\sklearn\\metrics\\_classification.py:1497: UndefinedMetricWarning: Precision is ill-defined and being set to 0.0 in labels with no predicted samples. Use `zero_division` parameter to control this behavior.\n",
      "  _warn_prf(average, modifier, f\"{metric.capitalize()} is\", len(result))\n",
      "c:\\Users\\Moustapha\\AppData\\Local\\Programs\\Python\\Python312\\Lib\\site-packages\\sklearn\\metrics\\_classification.py:1497: UndefinedMetricWarning: Precision is ill-defined and being set to 0.0 in labels with no predicted samples. Use `zero_division` parameter to control this behavior.\n",
      "  _warn_prf(average, modifier, f\"{metric.capitalize()} is\", len(result))\n"
     ]
    },
    {
     "name": "stdout",
     "output_type": "stream",
     "text": [
      "{'0': {'precision': 0.75, 'recall': 0.9923076923076923, 'f1-score': 0.8543046357615894, 'support': 390.0}, '1': {'precision': 0.6, 'recall': 0.16363636363636364, 'f1-score': 0.2571428571428571, 'support': 55.0}, '2': {'precision': 0.0, 'recall': 0.0, 'f1-score': 0.0, 'support': 7.0}, '3': {'precision': 0.0, 'recall': 0.0, 'f1-score': 0.0, 'support': 80.0}, 'accuracy': 0.7443609022556391, 'macro avg': {'precision': 0.3375, 'recall': 0.288986013986014, 'f1-score': 0.27786187322611167, 'support': 532.0}, 'weighted avg': {'precision': 0.6118421052631579, 'recall': 0.7443609022556391, 'f1-score': 0.6528602727253329, 'support': 532.0}} for parameters {'num_class': 4, 'alpha': 0.01, 'device': 'cuda', 'eta': 0.01, 'eval_metric': 'logloss', 'gamma': 0.05, 'grow_policy': 'depthwise', 'lambda': 0.1, 'max_depth': 3, 'num_parallel_tree': 3, 'objective': 'multi:softmax', 'sampling_method': 'gradient_based', 'subsample': 0.3, 'tree_method': 'approx'}\n"
     ]
    },
    {
     "name": "stderr",
     "output_type": "stream",
     "text": [
      "c:\\Users\\Moustapha\\AppData\\Local\\Programs\\Python\\Python312\\Lib\\site-packages\\sklearn\\metrics\\_classification.py:1497: UndefinedMetricWarning: Precision is ill-defined and being set to 0.0 in labels with no predicted samples. Use `zero_division` parameter to control this behavior.\n",
      "  _warn_prf(average, modifier, f\"{metric.capitalize()} is\", len(result))\n",
      "c:\\Users\\Moustapha\\AppData\\Local\\Programs\\Python\\Python312\\Lib\\site-packages\\sklearn\\metrics\\_classification.py:1497: UndefinedMetricWarning: Precision is ill-defined and being set to 0.0 in labels with no predicted samples. Use `zero_division` parameter to control this behavior.\n",
      "  _warn_prf(average, modifier, f\"{metric.capitalize()} is\", len(result))\n",
      "c:\\Users\\Moustapha\\AppData\\Local\\Programs\\Python\\Python312\\Lib\\site-packages\\sklearn\\metrics\\_classification.py:1497: UndefinedMetricWarning: Precision is ill-defined and being set to 0.0 in labels with no predicted samples. Use `zero_division` parameter to control this behavior.\n",
      "  _warn_prf(average, modifier, f\"{metric.capitalize()} is\", len(result))\n"
     ]
    },
    {
     "name": "stdout",
     "output_type": "stream",
     "text": [
      "{'0': {'precision': 0.7707129094412332, 'recall': 0.9852216748768473, 'f1-score': 0.8648648648648649, 'support': 406.0}, '1': {'precision': 0.42857142857142855, 'recall': 0.1276595744680851, 'f1-score': 0.19672131147540983, 'support': 47.0}, '2': {'precision': 0.0, 'recall': 0.0, 'f1-score': 0.0, 'support': 5.0}, '3': {'precision': 0.0, 'recall': 0.0, 'f1-score': 0.0, 'support': 75.0}, 'accuracy': 0.7617260787992496, 'macro avg': {'precision': 0.2998210845031654, 'recall': 0.2782203123362331, 'f1-score': 0.2653965440850687, 'support': 533.0}, 'weighted avg': {'precision': 0.6248635992044987, 'recall': 0.7617260787992496, 'f1-score': 0.6761370295956461, 'support': 533.0}} for parameters {'num_class': 4, 'alpha': 0.01, 'device': 'cuda', 'eta': 0.01, 'eval_metric': 'logloss', 'gamma': 0.05, 'grow_policy': 'depthwise', 'lambda': 0.1, 'max_depth': 3, 'num_parallel_tree': 3, 'objective': 'multi:softmax', 'sampling_method': 'gradient_based', 'subsample': 0.5, 'tree_method': 'hist'}\n"
     ]
    },
    {
     "name": "stderr",
     "output_type": "stream",
     "text": [
      "c:\\Users\\Moustapha\\AppData\\Local\\Programs\\Python\\Python312\\Lib\\site-packages\\sklearn\\metrics\\_classification.py:1497: UndefinedMetricWarning: Precision is ill-defined and being set to 0.0 in labels with no predicted samples. Use `zero_division` parameter to control this behavior.\n",
      "  _warn_prf(average, modifier, f\"{metric.capitalize()} is\", len(result))\n",
      "c:\\Users\\Moustapha\\AppData\\Local\\Programs\\Python\\Python312\\Lib\\site-packages\\sklearn\\metrics\\_classification.py:1497: UndefinedMetricWarning: Precision is ill-defined and being set to 0.0 in labels with no predicted samples. Use `zero_division` parameter to control this behavior.\n",
      "  _warn_prf(average, modifier, f\"{metric.capitalize()} is\", len(result))\n",
      "c:\\Users\\Moustapha\\AppData\\Local\\Programs\\Python\\Python312\\Lib\\site-packages\\sklearn\\metrics\\_classification.py:1497: UndefinedMetricWarning: Precision is ill-defined and being set to 0.0 in labels with no predicted samples. Use `zero_division` parameter to control this behavior.\n",
      "  _warn_prf(average, modifier, f\"{metric.capitalize()} is\", len(result))\n"
     ]
    },
    {
     "name": "stdout",
     "output_type": "stream",
     "text": [
      "{'0': {'precision': 0.7543520309477756, 'recall': 0.9898477157360406, 'f1-score': 0.8562019758507134, 'support': 394.0}, '1': {'precision': 0.5, 'recall': 0.1320754716981132, 'f1-score': 0.208955223880597, 'support': 53.0}, '2': {'precision': 0.0, 'recall': 0.0, 'f1-score': 0.0, 'support': 10.0}, '3': {'precision': 0.0, 'recall': 0.0, 'f1-score': 0.0, 'support': 75.0}, 'accuracy': 0.7462406015037594, 'macro avg': {'precision': 0.3135880077369439, 'recall': 0.28048079685853844, 'f1-score': 0.26628929993282763, 'support': 532.0}, 'weighted avg': {'precision': 0.6084862785590669, 'recall': 0.7462406015037594, 'f1-score': 0.6549214386294224, 'support': 532.0}} for parameters {'num_class': 4, 'alpha': 0.01, 'device': 'cuda', 'eta': 0.01, 'eval_metric': 'logloss', 'gamma': 0.05, 'grow_policy': 'depthwise', 'lambda': 0.1, 'max_depth': 3, 'num_parallel_tree': 3, 'objective': 'multi:softmax', 'sampling_method': 'gradient_based', 'subsample': 0.5, 'tree_method': 'hist'}\n"
     ]
    },
    {
     "name": "stderr",
     "output_type": "stream",
     "text": [
      "c:\\Users\\Moustapha\\AppData\\Local\\Programs\\Python\\Python312\\Lib\\site-packages\\sklearn\\metrics\\_classification.py:1497: UndefinedMetricWarning: Precision is ill-defined and being set to 0.0 in labels with no predicted samples. Use `zero_division` parameter to control this behavior.\n",
      "  _warn_prf(average, modifier, f\"{metric.capitalize()} is\", len(result))\n",
      "c:\\Users\\Moustapha\\AppData\\Local\\Programs\\Python\\Python312\\Lib\\site-packages\\sklearn\\metrics\\_classification.py:1497: UndefinedMetricWarning: Precision is ill-defined and being set to 0.0 in labels with no predicted samples. Use `zero_division` parameter to control this behavior.\n",
      "  _warn_prf(average, modifier, f\"{metric.capitalize()} is\", len(result))\n",
      "c:\\Users\\Moustapha\\AppData\\Local\\Programs\\Python\\Python312\\Lib\\site-packages\\sklearn\\metrics\\_classification.py:1497: UndefinedMetricWarning: Precision is ill-defined and being set to 0.0 in labels with no predicted samples. Use `zero_division` parameter to control this behavior.\n",
      "  _warn_prf(average, modifier, f\"{metric.capitalize()} is\", len(result))\n"
     ]
    },
    {
     "name": "stdout",
     "output_type": "stream",
     "text": [
      "{'0': {'precision': 0.747148288973384, 'recall': 0.9949367088607595, 'f1-score': 0.8534201954397395, 'support': 395.0}, '1': {'precision': 0.8333333333333334, 'recall': 0.09090909090909091, 'f1-score': 0.16393442622950818, 'support': 55.0}, '2': {'precision': 0.0, 'recall': 0.0, 'f1-score': 0.0, 'support': 6.0}, '3': {'precision': 0.0, 'recall': 0.0, 'f1-score': 0.0, 'support': 77.0}, 'accuracy': 0.7467166979362101, 'macro avg': {'precision': 0.3951204055766794, 'recall': 0.2714614499424626, 'f1-score': 0.25433865541731193, 'support': 533.0}, 'weighted avg': {'precision': 0.6396940102773359, 'recall': 0.7467166979362101, 'f1-score': 0.6493759299086679, 'support': 533.0}} for parameters {'num_class': 4, 'alpha': 0.01, 'device': 'cuda', 'eta': 0.01, 'eval_metric': 'logloss', 'gamma': 0.05, 'grow_policy': 'depthwise', 'lambda': 0.1, 'max_depth': 3, 'num_parallel_tree': 3, 'objective': 'multi:softmax', 'sampling_method': 'gradient_based', 'subsample': 0.5, 'tree_method': 'approx'}\n"
     ]
    },
    {
     "name": "stderr",
     "output_type": "stream",
     "text": [
      "c:\\Users\\Moustapha\\AppData\\Local\\Programs\\Python\\Python312\\Lib\\site-packages\\sklearn\\metrics\\_classification.py:1497: UndefinedMetricWarning: Precision is ill-defined and being set to 0.0 in labels with no predicted samples. Use `zero_division` parameter to control this behavior.\n",
      "  _warn_prf(average, modifier, f\"{metric.capitalize()} is\", len(result))\n",
      "c:\\Users\\Moustapha\\AppData\\Local\\Programs\\Python\\Python312\\Lib\\site-packages\\sklearn\\metrics\\_classification.py:1497: UndefinedMetricWarning: Precision is ill-defined and being set to 0.0 in labels with no predicted samples. Use `zero_division` parameter to control this behavior.\n",
      "  _warn_prf(average, modifier, f\"{metric.capitalize()} is\", len(result))\n",
      "c:\\Users\\Moustapha\\AppData\\Local\\Programs\\Python\\Python312\\Lib\\site-packages\\sklearn\\metrics\\_classification.py:1497: UndefinedMetricWarning: Precision is ill-defined and being set to 0.0 in labels with no predicted samples. Use `zero_division` parameter to control this behavior.\n",
      "  _warn_prf(average, modifier, f\"{metric.capitalize()} is\", len(result))\n"
     ]
    },
    {
     "name": "stdout",
     "output_type": "stream",
     "text": [
      "{'0': {'precision': 0.790224032586558, 'recall': 0.9580246913580247, 'f1-score': 0.8660714285714286, 'support': 405.0}, '1': {'precision': 0.4146341463414634, 'recall': 0.37777777777777777, 'f1-score': 0.3953488372093023, 'support': 45.0}, '2': {'precision': 0.0, 'recall': 0.0, 'f1-score': 0.0, 'support': 9.0}, '3': {'precision': 0.0, 'recall': 0.0, 'f1-score': 0.0, 'support': 73.0}, 'accuracy': 0.7612781954887218, 'macro avg': {'precision': 0.3012145447320054, 'recall': 0.3339506172839506, 'f1-score': 0.31535506644518274, 'support': 532.0}, 'weighted avg': {'precision': 0.6366527627498532, 'recall': 0.7612781954887218, 'f1-score': 0.6927624553493369, 'support': 532.0}} for parameters {'num_class': 4, 'alpha': 0.01, 'device': 'cuda', 'eta': 0.01, 'eval_metric': 'logloss', 'gamma': 0.05, 'grow_policy': 'depthwise', 'lambda': 0.1, 'max_depth': 3, 'num_parallel_tree': 3, 'objective': 'multi:softmax', 'sampling_method': 'gradient_based', 'subsample': 0.5, 'tree_method': 'approx'}\n"
     ]
    },
    {
     "name": "stderr",
     "output_type": "stream",
     "text": [
      "c:\\Users\\Moustapha\\AppData\\Local\\Programs\\Python\\Python312\\Lib\\site-packages\\sklearn\\metrics\\_classification.py:1497: UndefinedMetricWarning: Precision is ill-defined and being set to 0.0 in labels with no predicted samples. Use `zero_division` parameter to control this behavior.\n",
      "  _warn_prf(average, modifier, f\"{metric.capitalize()} is\", len(result))\n",
      "c:\\Users\\Moustapha\\AppData\\Local\\Programs\\Python\\Python312\\Lib\\site-packages\\sklearn\\metrics\\_classification.py:1497: UndefinedMetricWarning: Precision is ill-defined and being set to 0.0 in labels with no predicted samples. Use `zero_division` parameter to control this behavior.\n",
      "  _warn_prf(average, modifier, f\"{metric.capitalize()} is\", len(result))\n",
      "c:\\Users\\Moustapha\\AppData\\Local\\Programs\\Python\\Python312\\Lib\\site-packages\\sklearn\\metrics\\_classification.py:1497: UndefinedMetricWarning: Precision is ill-defined and being set to 0.0 in labels with no predicted samples. Use `zero_division` parameter to control this behavior.\n",
      "  _warn_prf(average, modifier, f\"{metric.capitalize()} is\", len(result))\n"
     ]
    },
    {
     "name": "stdout",
     "output_type": "stream",
     "text": [
      "{'0': {'precision': 0.7655038759689923, 'recall': 0.9899749373433584, 'f1-score': 0.8633879781420765, 'support': 399.0}, '1': {'precision': 0.5, 'recall': 0.16, 'f1-score': 0.24242424242424243, 'support': 50.0}, '2': {'precision': 0.0, 'recall': 0.0, 'f1-score': 0.0, 'support': 4.0}, '3': {'precision': 0.0, 'recall': 0.0, 'f1-score': 0.0, 'support': 80.0}, 'accuracy': 0.7560975609756098, 'macro avg': {'precision': 0.31637596899224807, 'recall': 0.2874937343358396, 'f1-score': 0.2764530551415797, 'support': 533.0}, 'weighted avg': {'precision': 0.6199550591212531, 'recall': 0.7560975609756098, 'f1-score': 0.6690675711067554, 'support': 533.0}} for parameters {'num_class': 4, 'alpha': 0.01, 'device': 'cuda', 'eta': 0.01, 'eval_metric': 'logloss', 'gamma': 0.05, 'grow_policy': 'depthwise', 'lambda': 0.1, 'max_depth': 3, 'num_parallel_tree': 3, 'objective': 'multi:softmax', 'sampling_method': 'gradient_based', 'subsample': 0.8, 'tree_method': 'hist'}\n"
     ]
    },
    {
     "name": "stderr",
     "output_type": "stream",
     "text": [
      "c:\\Users\\Moustapha\\AppData\\Local\\Programs\\Python\\Python312\\Lib\\site-packages\\sklearn\\metrics\\_classification.py:1497: UndefinedMetricWarning: Precision is ill-defined and being set to 0.0 in labels with no predicted samples. Use `zero_division` parameter to control this behavior.\n",
      "  _warn_prf(average, modifier, f\"{metric.capitalize()} is\", len(result))\n",
      "c:\\Users\\Moustapha\\AppData\\Local\\Programs\\Python\\Python312\\Lib\\site-packages\\sklearn\\metrics\\_classification.py:1497: UndefinedMetricWarning: Precision is ill-defined and being set to 0.0 in labels with no predicted samples. Use `zero_division` parameter to control this behavior.\n",
      "  _warn_prf(average, modifier, f\"{metric.capitalize()} is\", len(result))\n",
      "c:\\Users\\Moustapha\\AppData\\Local\\Programs\\Python\\Python312\\Lib\\site-packages\\sklearn\\metrics\\_classification.py:1497: UndefinedMetricWarning: Precision is ill-defined and being set to 0.0 in labels with no predicted samples. Use `zero_division` parameter to control this behavior.\n",
      "  _warn_prf(average, modifier, f\"{metric.capitalize()} is\", len(result))\n"
     ]
    },
    {
     "name": "stdout",
     "output_type": "stream",
     "text": [
      "{'0': {'precision': 0.7575757575757576, 'recall': 0.9975062344139651, 'f1-score': 0.8611410118406889, 'support': 401.0}, '1': {'precision': 0.5, 'recall': 0.04, 'f1-score': 0.07407407407407407, 'support': 50.0}, '2': {'precision': 0.0, 'recall': 0.0, 'f1-score': 0.0, 'support': 11.0}, '3': {'precision': 0.0, 'recall': 0.0, 'f1-score': 0.0, 'support': 70.0}, 'accuracy': 0.7556390977443609, 'macro avg': {'precision': 0.3143939393939394, 'recall': 0.2593765586034913, 'f1-score': 0.23380377147869075, 'support': 532.0}, 'weighted avg': {'precision': 0.6180223285486444, 'recall': 0.7556390977443609, 'f1-score': 0.6560549801725939, 'support': 532.0}} for parameters {'num_class': 4, 'alpha': 0.01, 'device': 'cuda', 'eta': 0.01, 'eval_metric': 'logloss', 'gamma': 0.05, 'grow_policy': 'depthwise', 'lambda': 0.1, 'max_depth': 3, 'num_parallel_tree': 3, 'objective': 'multi:softmax', 'sampling_method': 'gradient_based', 'subsample': 0.8, 'tree_method': 'hist'}\n"
     ]
    },
    {
     "name": "stderr",
     "output_type": "stream",
     "text": [
      "c:\\Users\\Moustapha\\AppData\\Local\\Programs\\Python\\Python312\\Lib\\site-packages\\sklearn\\metrics\\_classification.py:1497: UndefinedMetricWarning: Precision is ill-defined and being set to 0.0 in labels with no predicted samples. Use `zero_division` parameter to control this behavior.\n",
      "  _warn_prf(average, modifier, f\"{metric.capitalize()} is\", len(result))\n",
      "c:\\Users\\Moustapha\\AppData\\Local\\Programs\\Python\\Python312\\Lib\\site-packages\\sklearn\\metrics\\_classification.py:1497: UndefinedMetricWarning: Precision is ill-defined and being set to 0.0 in labels with no predicted samples. Use `zero_division` parameter to control this behavior.\n",
      "  _warn_prf(average, modifier, f\"{metric.capitalize()} is\", len(result))\n",
      "c:\\Users\\Moustapha\\AppData\\Local\\Programs\\Python\\Python312\\Lib\\site-packages\\sklearn\\metrics\\_classification.py:1497: UndefinedMetricWarning: Precision is ill-defined and being set to 0.0 in labels with no predicted samples. Use `zero_division` parameter to control this behavior.\n",
      "  _warn_prf(average, modifier, f\"{metric.capitalize()} is\", len(result))\n"
     ]
    },
    {
     "name": "stdout",
     "output_type": "stream",
     "text": [
      "{'0': {'precision': 0.7747572815533981, 'recall': 0.9876237623762376, 'f1-score': 0.8683351468988031, 'support': 404.0}, '1': {'precision': 0.5555555555555556, 'recall': 0.18518518518518517, 'f1-score': 0.2777777777777778, 'support': 54.0}, '2': {'precision': 0.0, 'recall': 0.0, 'f1-score': 0.0, 'support': 8.0}, '3': {'precision': 0.0, 'recall': 0.0, 'f1-score': 0.0, 'support': 67.0}, 'accuracy': 0.7673545966228893, 'macro avg': {'precision': 0.3325782092772384, 'recall': 0.2932022368903557, 'f1-score': 0.2865282311691452, 'support': 533.0}, 'weighted avg': {'precision': 0.6435308475564218, 'recall': 0.7673545966228893, 'f1-score': 0.6863178224148526, 'support': 533.0}} for parameters {'num_class': 4, 'alpha': 0.01, 'device': 'cuda', 'eta': 0.01, 'eval_metric': 'logloss', 'gamma': 0.05, 'grow_policy': 'depthwise', 'lambda': 0.1, 'max_depth': 3, 'num_parallel_tree': 3, 'objective': 'multi:softmax', 'sampling_method': 'gradient_based', 'subsample': 0.8, 'tree_method': 'approx'}\n"
     ]
    },
    {
     "name": "stderr",
     "output_type": "stream",
     "text": [
      "c:\\Users\\Moustapha\\AppData\\Local\\Programs\\Python\\Python312\\Lib\\site-packages\\sklearn\\metrics\\_classification.py:1497: UndefinedMetricWarning: Precision is ill-defined and being set to 0.0 in labels with no predicted samples. Use `zero_division` parameter to control this behavior.\n",
      "  _warn_prf(average, modifier, f\"{metric.capitalize()} is\", len(result))\n",
      "c:\\Users\\Moustapha\\AppData\\Local\\Programs\\Python\\Python312\\Lib\\site-packages\\sklearn\\metrics\\_classification.py:1497: UndefinedMetricWarning: Precision is ill-defined and being set to 0.0 in labels with no predicted samples. Use `zero_division` parameter to control this behavior.\n",
      "  _warn_prf(average, modifier, f\"{metric.capitalize()} is\", len(result))\n",
      "c:\\Users\\Moustapha\\AppData\\Local\\Programs\\Python\\Python312\\Lib\\site-packages\\sklearn\\metrics\\_classification.py:1497: UndefinedMetricWarning: Precision is ill-defined and being set to 0.0 in labels with no predicted samples. Use `zero_division` parameter to control this behavior.\n",
      "  _warn_prf(average, modifier, f\"{metric.capitalize()} is\", len(result))\n"
     ]
    },
    {
     "name": "stdout",
     "output_type": "stream",
     "text": [
      "{'0': {'precision': 0.7678571428571429, 'recall': 0.9772727272727273, 'f1-score': 0.86, 'support': 396.0}, '1': {'precision': 0.5, 'recall': 0.30434782608695654, 'f1-score': 0.3783783783783784, 'support': 46.0}, '2': {'precision': 0.0, 'recall': 0.0, 'f1-score': 0.0, 'support': 7.0}, '3': {'precision': 0.0, 'recall': 0.0, 'f1-score': 0.0, 'support': 83.0}, 'accuracy': 0.7537593984962406, 'macro avg': {'precision': 0.3169642857142857, 'recall': 0.32040513833992096, 'f1-score': 0.3095945945945946, 'support': 532.0}, 'weighted avg': {'precision': 0.614795918367347, 'recall': 0.7537593984962406, 'f1-score': 0.6728673033936192, 'support': 532.0}} for parameters {'num_class': 4, 'alpha': 0.01, 'device': 'cuda', 'eta': 0.01, 'eval_metric': 'logloss', 'gamma': 0.05, 'grow_policy': 'depthwise', 'lambda': 0.1, 'max_depth': 3, 'num_parallel_tree': 3, 'objective': 'multi:softmax', 'sampling_method': 'gradient_based', 'subsample': 0.8, 'tree_method': 'approx'}\n"
     ]
    },
    {
     "name": "stderr",
     "output_type": "stream",
     "text": [
      "c:\\Users\\Moustapha\\AppData\\Local\\Programs\\Python\\Python312\\Lib\\site-packages\\sklearn\\metrics\\_classification.py:1497: UndefinedMetricWarning: Precision is ill-defined and being set to 0.0 in labels with no predicted samples. Use `zero_division` parameter to control this behavior.\n",
      "  _warn_prf(average, modifier, f\"{metric.capitalize()} is\", len(result))\n",
      "c:\\Users\\Moustapha\\AppData\\Local\\Programs\\Python\\Python312\\Lib\\site-packages\\sklearn\\metrics\\_classification.py:1497: UndefinedMetricWarning: Precision is ill-defined and being set to 0.0 in labels with no predicted samples. Use `zero_division` parameter to control this behavior.\n",
      "  _warn_prf(average, modifier, f\"{metric.capitalize()} is\", len(result))\n",
      "c:\\Users\\Moustapha\\AppData\\Local\\Programs\\Python\\Python312\\Lib\\site-packages\\sklearn\\metrics\\_classification.py:1497: UndefinedMetricWarning: Precision is ill-defined and being set to 0.0 in labels with no predicted samples. Use `zero_division` parameter to control this behavior.\n",
      "  _warn_prf(average, modifier, f\"{metric.capitalize()} is\", len(result))\n"
     ]
    },
    {
     "name": "stdout",
     "output_type": "stream",
     "text": [
      "{'0': {'precision': 0.7575187969924813, 'recall': 0.9975247524752475, 'f1-score': 0.8611111111111112, 'support': 404.0}, '1': {'precision': 0.0, 'recall': 0.0, 'f1-score': 0.0, 'support': 51.0}, '2': {'precision': 0.0, 'recall': 0.0, 'f1-score': 0.0, 'support': 6.0}, '3': {'precision': 0.0, 'recall': 0.0, 'f1-score': 0.0, 'support': 72.0}, 'accuracy': 0.7560975609756098, 'macro avg': {'precision': 0.18937969924812031, 'recall': 0.24938118811881188, 'f1-score': 0.2152777777777778, 'support': 533.0}, 'weighted avg': {'precision': 0.5741793508160646, 'recall': 0.7560975609756098, 'f1-score': 0.6526996039191162, 'support': 533.0}} for parameters {'num_class': 4, 'alpha': 0.01, 'device': 'cuda', 'eta': 0.01, 'eval_metric': 'logloss', 'gamma': 0.05, 'grow_policy': 'depthwise', 'lambda': 0.1, 'max_depth': 3, 'num_parallel_tree': 10, 'objective': 'multi:softmax', 'sampling_method': 'uniform', 'subsample': 0.3, 'tree_method': 'hist'}\n"
     ]
    },
    {
     "name": "stderr",
     "output_type": "stream",
     "text": [
      "c:\\Users\\Moustapha\\AppData\\Local\\Programs\\Python\\Python312\\Lib\\site-packages\\sklearn\\metrics\\_classification.py:1497: UndefinedMetricWarning: Precision is ill-defined and being set to 0.0 in labels with no predicted samples. Use `zero_division` parameter to control this behavior.\n",
      "  _warn_prf(average, modifier, f\"{metric.capitalize()} is\", len(result))\n",
      "c:\\Users\\Moustapha\\AppData\\Local\\Programs\\Python\\Python312\\Lib\\site-packages\\sklearn\\metrics\\_classification.py:1497: UndefinedMetricWarning: Precision is ill-defined and being set to 0.0 in labels with no predicted samples. Use `zero_division` parameter to control this behavior.\n",
      "  _warn_prf(average, modifier, f\"{metric.capitalize()} is\", len(result))\n",
      "c:\\Users\\Moustapha\\AppData\\Local\\Programs\\Python\\Python312\\Lib\\site-packages\\sklearn\\metrics\\_classification.py:1497: UndefinedMetricWarning: Precision is ill-defined and being set to 0.0 in labels with no predicted samples. Use `zero_division` parameter to control this behavior.\n",
      "  _warn_prf(average, modifier, f\"{metric.capitalize()} is\", len(result))\n"
     ]
    },
    {
     "name": "stdout",
     "output_type": "stream",
     "text": [
      "{'0': {'precision': 0.751434034416826, 'recall': 0.9924242424242424, 'f1-score': 0.8552774755168662, 'support': 396.0}, '1': {'precision': 0.5555555555555556, 'recall': 0.10204081632653061, 'f1-score': 0.1724137931034483, 'support': 49.0}, '2': {'precision': 0.0, 'recall': 0.0, 'f1-score': 0.0, 'support': 9.0}, '3': {'precision': 0.0, 'recall': 0.0, 'f1-score': 0.0, 'support': 78.0}, 'accuracy': 0.7481203007518797, 'macro avg': {'precision': 0.3267473974930954, 'recall': 0.2736162646876933, 'f1-score': 0.2569228171550786, 'support': 532.0}, 'weighted avg': {'precision': 0.6105077064873784, 'recall': 0.7481203007518797, 'f1-score': 0.6525153311405036, 'support': 532.0}} for parameters {'num_class': 4, 'alpha': 0.01, 'device': 'cuda', 'eta': 0.01, 'eval_metric': 'logloss', 'gamma': 0.05, 'grow_policy': 'depthwise', 'lambda': 0.1, 'max_depth': 3, 'num_parallel_tree': 10, 'objective': 'multi:softmax', 'sampling_method': 'uniform', 'subsample': 0.3, 'tree_method': 'hist'}\n"
     ]
    },
    {
     "name": "stderr",
     "output_type": "stream",
     "text": [
      "c:\\Users\\Moustapha\\AppData\\Local\\Programs\\Python\\Python312\\Lib\\site-packages\\sklearn\\metrics\\_classification.py:1497: UndefinedMetricWarning: Precision is ill-defined and being set to 0.0 in labels with no predicted samples. Use `zero_division` parameter to control this behavior.\n",
      "  _warn_prf(average, modifier, f\"{metric.capitalize()} is\", len(result))\n",
      "c:\\Users\\Moustapha\\AppData\\Local\\Programs\\Python\\Python312\\Lib\\site-packages\\sklearn\\metrics\\_classification.py:1497: UndefinedMetricWarning: Precision is ill-defined and being set to 0.0 in labels with no predicted samples. Use `zero_division` parameter to control this behavior.\n",
      "  _warn_prf(average, modifier, f\"{metric.capitalize()} is\", len(result))\n",
      "c:\\Users\\Moustapha\\AppData\\Local\\Programs\\Python\\Python312\\Lib\\site-packages\\sklearn\\metrics\\_classification.py:1497: UndefinedMetricWarning: Precision is ill-defined and being set to 0.0 in labels with no predicted samples. Use `zero_division` parameter to control this behavior.\n",
      "  _warn_prf(average, modifier, f\"{metric.capitalize()} is\", len(result))\n"
     ]
    },
    {
     "name": "stdout",
     "output_type": "stream",
     "text": [
      "{'0': {'precision': 0.7476459510357816, 'recall': 1.0, 'f1-score': 0.8556034482758621, 'support': 397.0}, '1': {'precision': 1.0, 'recall': 0.04, 'f1-score': 0.07692307692307693, 'support': 50.0}, '2': {'precision': 0.0, 'recall': 0.0, 'f1-score': 0.0, 'support': 5.0}, '3': {'precision': 0.0, 'recall': 0.0, 'f1-score': 0.0, 'support': 81.0}, 'accuracy': 0.7485928705440901, 'macro avg': {'precision': 0.4369114877589454, 'recall': 0.26, 'f1-score': 0.23313163129973474, 'support': 533.0}, 'weighted avg': {'precision': 0.6506856333230868, 'recall': 0.7485928705440901, 'f1-score': 0.6445041703783698, 'support': 533.0}} for parameters {'num_class': 4, 'alpha': 0.01, 'device': 'cuda', 'eta': 0.01, 'eval_metric': 'logloss', 'gamma': 0.05, 'grow_policy': 'depthwise', 'lambda': 0.1, 'max_depth': 3, 'num_parallel_tree': 10, 'objective': 'multi:softmax', 'sampling_method': 'uniform', 'subsample': 0.3, 'tree_method': 'approx'}\n"
     ]
    },
    {
     "name": "stderr",
     "output_type": "stream",
     "text": [
      "c:\\Users\\Moustapha\\AppData\\Local\\Programs\\Python\\Python312\\Lib\\site-packages\\sklearn\\metrics\\_classification.py:1497: UndefinedMetricWarning: Precision is ill-defined and being set to 0.0 in labels with no predicted samples. Use `zero_division` parameter to control this behavior.\n",
      "  _warn_prf(average, modifier, f\"{metric.capitalize()} is\", len(result))\n",
      "c:\\Users\\Moustapha\\AppData\\Local\\Programs\\Python\\Python312\\Lib\\site-packages\\sklearn\\metrics\\_classification.py:1497: UndefinedMetricWarning: Precision is ill-defined and being set to 0.0 in labels with no predicted samples. Use `zero_division` parameter to control this behavior.\n",
      "  _warn_prf(average, modifier, f\"{metric.capitalize()} is\", len(result))\n",
      "c:\\Users\\Moustapha\\AppData\\Local\\Programs\\Python\\Python312\\Lib\\site-packages\\sklearn\\metrics\\_classification.py:1497: UndefinedMetricWarning: Precision is ill-defined and being set to 0.0 in labels with no predicted samples. Use `zero_division` parameter to control this behavior.\n",
      "  _warn_prf(average, modifier, f\"{metric.capitalize()} is\", len(result))\n"
     ]
    },
    {
     "name": "stdout",
     "output_type": "stream",
     "text": [
      "{'0': {'precision': 0.7642585551330798, 'recall': 0.9975186104218362, 'f1-score': 0.8654467168998924, 'support': 403.0}, '1': {'precision': 0.8333333333333334, 'recall': 0.1, 'f1-score': 0.17857142857142858, 'support': 50.0}, '2': {'precision': 0.0, 'recall': 0.0, 'f1-score': 0.0, 'support': 10.0}, '3': {'precision': 0.0, 'recall': 0.0, 'f1-score': 0.0, 'support': 69.0}, 'accuracy': 0.7650375939849624, 'macro avg': {'precision': 0.39939797211660333, 'recall': 0.27437965260545905, 'f1-score': 0.2610045363678302, 'support': 532.0}, 'weighted avg': {'precision': 0.6572610232806351, 'recall': 0.7650375939849624, 'f1-score': 0.672375184848173, 'support': 532.0}} for parameters {'num_class': 4, 'alpha': 0.01, 'device': 'cuda', 'eta': 0.01, 'eval_metric': 'logloss', 'gamma': 0.05, 'grow_policy': 'depthwise', 'lambda': 0.1, 'max_depth': 3, 'num_parallel_tree': 10, 'objective': 'multi:softmax', 'sampling_method': 'uniform', 'subsample': 0.3, 'tree_method': 'approx'}\n"
     ]
    },
    {
     "name": "stderr",
     "output_type": "stream",
     "text": [
      "c:\\Users\\Moustapha\\AppData\\Local\\Programs\\Python\\Python312\\Lib\\site-packages\\sklearn\\metrics\\_classification.py:1497: UndefinedMetricWarning: Precision is ill-defined and being set to 0.0 in labels with no predicted samples. Use `zero_division` parameter to control this behavior.\n",
      "  _warn_prf(average, modifier, f\"{metric.capitalize()} is\", len(result))\n",
      "c:\\Users\\Moustapha\\AppData\\Local\\Programs\\Python\\Python312\\Lib\\site-packages\\sklearn\\metrics\\_classification.py:1497: UndefinedMetricWarning: Precision is ill-defined and being set to 0.0 in labels with no predicted samples. Use `zero_division` parameter to control this behavior.\n",
      "  _warn_prf(average, modifier, f\"{metric.capitalize()} is\", len(result))\n",
      "c:\\Users\\Moustapha\\AppData\\Local\\Programs\\Python\\Python312\\Lib\\site-packages\\sklearn\\metrics\\_classification.py:1497: UndefinedMetricWarning: Precision is ill-defined and being set to 0.0 in labels with no predicted samples. Use `zero_division` parameter to control this behavior.\n",
      "  _warn_prf(average, modifier, f\"{metric.capitalize()} is\", len(result))\n"
     ]
    },
    {
     "name": "stdout",
     "output_type": "stream",
     "text": [
      "{'0': {'precision': 0.7679245283018868, 'recall': 0.9975490196078431, 'f1-score': 0.8678038379530917, 'support': 408.0}, '1': {'precision': 0.6666666666666666, 'recall': 0.045454545454545456, 'f1-score': 0.0851063829787234, 'support': 44.0}, '2': {'precision': 0.0, 'recall': 0.0, 'f1-score': 0.0, 'support': 7.0}, '3': {'precision': 0.0, 'recall': 0.0, 'f1-score': 0.0, 'support': 74.0}, 'accuracy': 0.7673545966228893, 'macro avg': {'precision': 0.35864779874213837, 'recall': 0.26075089126559714, 'f1-score': 0.23822755523295377, 'support': 533.0}, 'weighted avg': {'precision': 0.642864054184809, 'recall': 0.7673545966228893, 'f1-score': 0.6713107818685277, 'support': 533.0}} for parameters {'num_class': 4, 'alpha': 0.01, 'device': 'cuda', 'eta': 0.01, 'eval_metric': 'logloss', 'gamma': 0.05, 'grow_policy': 'depthwise', 'lambda': 0.1, 'max_depth': 3, 'num_parallel_tree': 10, 'objective': 'multi:softmax', 'sampling_method': 'uniform', 'subsample': 0.5, 'tree_method': 'hist'}\n"
     ]
    },
    {
     "name": "stderr",
     "output_type": "stream",
     "text": [
      "c:\\Users\\Moustapha\\AppData\\Local\\Programs\\Python\\Python312\\Lib\\site-packages\\sklearn\\metrics\\_classification.py:1497: UndefinedMetricWarning: Precision is ill-defined and being set to 0.0 in labels with no predicted samples. Use `zero_division` parameter to control this behavior.\n",
      "  _warn_prf(average, modifier, f\"{metric.capitalize()} is\", len(result))\n",
      "c:\\Users\\Moustapha\\AppData\\Local\\Programs\\Python\\Python312\\Lib\\site-packages\\sklearn\\metrics\\_classification.py:1497: UndefinedMetricWarning: Precision is ill-defined and being set to 0.0 in labels with no predicted samples. Use `zero_division` parameter to control this behavior.\n",
      "  _warn_prf(average, modifier, f\"{metric.capitalize()} is\", len(result))\n",
      "c:\\Users\\Moustapha\\AppData\\Local\\Programs\\Python\\Python312\\Lib\\site-packages\\sklearn\\metrics\\_classification.py:1497: UndefinedMetricWarning: Precision is ill-defined and being set to 0.0 in labels with no predicted samples. Use `zero_division` parameter to control this behavior.\n",
      "  _warn_prf(average, modifier, f\"{metric.capitalize()} is\", len(result))\n"
     ]
    },
    {
     "name": "stdout",
     "output_type": "stream",
     "text": [
      "{'0': {'precision': 0.7543520309477756, 'recall': 0.9948979591836735, 'f1-score': 0.858085808580858, 'support': 392.0}, '1': {'precision': 0.8, 'recall': 0.21428571428571427, 'f1-score': 0.3380281690140845, 'support': 56.0}, '2': {'precision': 0.0, 'recall': 0.0, 'f1-score': 0.0, 'support': 8.0}, '3': {'precision': 0.0, 'recall': 0.0, 'f1-score': 0.0, 'support': 76.0}, 'accuracy': 0.7556390977443609, 'macro avg': {'precision': 0.3885880077369439, 'recall': 0.3022959183673469, 'f1-score': 0.29902849439873563, 'support': 532.0}, 'weighted avg': {'precision': 0.6400488649088872, 'recall': 0.7556390977443609, 'f1-score': 0.6678556662189569, 'support': 532.0}} for parameters {'num_class': 4, 'alpha': 0.01, 'device': 'cuda', 'eta': 0.01, 'eval_metric': 'logloss', 'gamma': 0.05, 'grow_policy': 'depthwise', 'lambda': 0.1, 'max_depth': 3, 'num_parallel_tree': 10, 'objective': 'multi:softmax', 'sampling_method': 'uniform', 'subsample': 0.5, 'tree_method': 'hist'}\n"
     ]
    },
    {
     "name": "stderr",
     "output_type": "stream",
     "text": [
      "c:\\Users\\Moustapha\\AppData\\Local\\Programs\\Python\\Python312\\Lib\\site-packages\\sklearn\\metrics\\_classification.py:1497: UndefinedMetricWarning: Precision is ill-defined and being set to 0.0 in labels with no predicted samples. Use `zero_division` parameter to control this behavior.\n",
      "  _warn_prf(average, modifier, f\"{metric.capitalize()} is\", len(result))\n",
      "c:\\Users\\Moustapha\\AppData\\Local\\Programs\\Python\\Python312\\Lib\\site-packages\\sklearn\\metrics\\_classification.py:1497: UndefinedMetricWarning: Precision is ill-defined and being set to 0.0 in labels with no predicted samples. Use `zero_division` parameter to control this behavior.\n",
      "  _warn_prf(average, modifier, f\"{metric.capitalize()} is\", len(result))\n",
      "c:\\Users\\Moustapha\\AppData\\Local\\Programs\\Python\\Python312\\Lib\\site-packages\\sklearn\\metrics\\_classification.py:1497: UndefinedMetricWarning: Precision is ill-defined and being set to 0.0 in labels with no predicted samples. Use `zero_division` parameter to control this behavior.\n",
      "  _warn_prf(average, modifier, f\"{metric.capitalize()} is\", len(result))\n"
     ]
    },
    {
     "name": "stdout",
     "output_type": "stream",
     "text": [
      "{'0': {'precision': 0.7727272727272727, 'recall': 0.9975550122249389, 'f1-score': 0.8708644610458911, 'support': 409.0}, '1': {'precision': 0.8, 'recall': 0.08333333333333333, 'f1-score': 0.1509433962264151, 'support': 48.0}, '2': {'precision': 0.0, 'recall': 0.0, 'f1-score': 0.0, 'support': 8.0}, '3': {'precision': 0.0, 'recall': 0.0, 'f1-score': 0.0, 'support': 68.0}, 'accuracy': 0.7729831144465291, 'macro avg': {'precision': 0.3931818181818182, 'recall': 0.2702220863895681, 'f1-score': 0.25545196431807654, 'support': 533.0}, 'weighted avg': {'precision': 0.665000852805731, 'recall': 0.7729831144465291, 'f1-score': 0.6818552487554173, 'support': 533.0}} for parameters {'num_class': 4, 'alpha': 0.01, 'device': 'cuda', 'eta': 0.01, 'eval_metric': 'logloss', 'gamma': 0.05, 'grow_policy': 'depthwise', 'lambda': 0.1, 'max_depth': 3, 'num_parallel_tree': 10, 'objective': 'multi:softmax', 'sampling_method': 'uniform', 'subsample': 0.5, 'tree_method': 'approx'}\n"
     ]
    },
    {
     "name": "stderr",
     "output_type": "stream",
     "text": [
      "c:\\Users\\Moustapha\\AppData\\Local\\Programs\\Python\\Python312\\Lib\\site-packages\\sklearn\\metrics\\_classification.py:1497: UndefinedMetricWarning: Precision is ill-defined and being set to 0.0 in labels with no predicted samples. Use `zero_division` parameter to control this behavior.\n",
      "  _warn_prf(average, modifier, f\"{metric.capitalize()} is\", len(result))\n",
      "c:\\Users\\Moustapha\\AppData\\Local\\Programs\\Python\\Python312\\Lib\\site-packages\\sklearn\\metrics\\_classification.py:1497: UndefinedMetricWarning: Precision is ill-defined and being set to 0.0 in labels with no predicted samples. Use `zero_division` parameter to control this behavior.\n",
      "  _warn_prf(average, modifier, f\"{metric.capitalize()} is\", len(result))\n",
      "c:\\Users\\Moustapha\\AppData\\Local\\Programs\\Python\\Python312\\Lib\\site-packages\\sklearn\\metrics\\_classification.py:1497: UndefinedMetricWarning: Precision is ill-defined and being set to 0.0 in labels with no predicted samples. Use `zero_division` parameter to control this behavior.\n",
      "  _warn_prf(average, modifier, f\"{metric.capitalize()} is\", len(result))\n"
     ]
    },
    {
     "name": "stdout",
     "output_type": "stream",
     "text": [
      "{'0': {'precision': 0.754, 'recall': 0.9641943734015346, 'f1-score': 0.8462401795735129, 'support': 391.0}, '1': {'precision': 0.375, 'recall': 0.23076923076923078, 'f1-score': 0.2857142857142857, 'support': 52.0}, '2': {'precision': 0.0, 'recall': 0.0, 'f1-score': 0.0, 'support': 7.0}, '3': {'precision': 0.0, 'recall': 0.0, 'f1-score': 0.0, 'support': 82.0}, 'accuracy': 0.731203007518797, 'macro avg': {'precision': 0.28225, 'recall': 0.29874090104269135, 'f1-score': 0.28298861632194966, 'support': 532.0}, 'weighted avg': {'precision': 0.5908157894736843, 'recall': 0.731203007518797, 'f1-score': 0.6498816787037338, 'support': 532.0}} for parameters {'num_class': 4, 'alpha': 0.01, 'device': 'cuda', 'eta': 0.01, 'eval_metric': 'logloss', 'gamma': 0.05, 'grow_policy': 'depthwise', 'lambda': 0.1, 'max_depth': 3, 'num_parallel_tree': 10, 'objective': 'multi:softmax', 'sampling_method': 'uniform', 'subsample': 0.5, 'tree_method': 'approx'}\n"
     ]
    },
    {
     "name": "stderr",
     "output_type": "stream",
     "text": [
      "c:\\Users\\Moustapha\\AppData\\Local\\Programs\\Python\\Python312\\Lib\\site-packages\\sklearn\\metrics\\_classification.py:1497: UndefinedMetricWarning: Precision is ill-defined and being set to 0.0 in labels with no predicted samples. Use `zero_division` parameter to control this behavior.\n",
      "  _warn_prf(average, modifier, f\"{metric.capitalize()} is\", len(result))\n",
      "c:\\Users\\Moustapha\\AppData\\Local\\Programs\\Python\\Python312\\Lib\\site-packages\\sklearn\\metrics\\_classification.py:1497: UndefinedMetricWarning: Precision is ill-defined and being set to 0.0 in labels with no predicted samples. Use `zero_division` parameter to control this behavior.\n",
      "  _warn_prf(average, modifier, f\"{metric.capitalize()} is\", len(result))\n",
      "c:\\Users\\Moustapha\\AppData\\Local\\Programs\\Python\\Python312\\Lib\\site-packages\\sklearn\\metrics\\_classification.py:1497: UndefinedMetricWarning: Precision is ill-defined and being set to 0.0 in labels with no predicted samples. Use `zero_division` parameter to control this behavior.\n",
      "  _warn_prf(average, modifier, f\"{metric.capitalize()} is\", len(result))\n"
     ]
    },
    {
     "name": "stdout",
     "output_type": "stream",
     "text": [
      "{'0': {'precision': 0.787819253438114, 'recall': 0.9828431372549019, 'f1-score': 0.8745910577971646, 'support': 408.0}, '1': {'precision': 0.47619047619047616, 'recall': 0.20833333333333334, 'f1-score': 0.2898550724637681, 'support': 48.0}, '2': {'precision': 0.0, 'recall': 0.0, 'f1-score': 0.0, 'support': 10.0}, '3': {'precision': 0.0, 'recall': 0.0, 'f1-score': 0.0, 'support': 67.0}, 'accuracy': 0.7711069418386491, 'macro avg': {'precision': 0.31600243240714754, 'recall': 0.2977941176470588, 'f1-score': 0.2911115325652332, 'support': 533.0}, 'weighted avg': {'precision': 0.6459425858534584, 'recall': 0.7711069418386491, 'f1-score': 0.6955838556463491, 'support': 533.0}} for parameters {'num_class': 4, 'alpha': 0.01, 'device': 'cuda', 'eta': 0.01, 'eval_metric': 'logloss', 'gamma': 0.05, 'grow_policy': 'depthwise', 'lambda': 0.1, 'max_depth': 3, 'num_parallel_tree': 10, 'objective': 'multi:softmax', 'sampling_method': 'uniform', 'subsample': 0.8, 'tree_method': 'hist'}\n"
     ]
    },
    {
     "name": "stderr",
     "output_type": "stream",
     "text": [
      "c:\\Users\\Moustapha\\AppData\\Local\\Programs\\Python\\Python312\\Lib\\site-packages\\sklearn\\metrics\\_classification.py:1497: UndefinedMetricWarning: Precision is ill-defined and being set to 0.0 in labels with no predicted samples. Use `zero_division` parameter to control this behavior.\n",
      "  _warn_prf(average, modifier, f\"{metric.capitalize()} is\", len(result))\n",
      "c:\\Users\\Moustapha\\AppData\\Local\\Programs\\Python\\Python312\\Lib\\site-packages\\sklearn\\metrics\\_classification.py:1497: UndefinedMetricWarning: Precision is ill-defined and being set to 0.0 in labels with no predicted samples. Use `zero_division` parameter to control this behavior.\n",
      "  _warn_prf(average, modifier, f\"{metric.capitalize()} is\", len(result))\n",
      "c:\\Users\\Moustapha\\AppData\\Local\\Programs\\Python\\Python312\\Lib\\site-packages\\sklearn\\metrics\\_classification.py:1497: UndefinedMetricWarning: Precision is ill-defined and being set to 0.0 in labels with no predicted samples. Use `zero_division` parameter to control this behavior.\n",
      "  _warn_prf(average, modifier, f\"{metric.capitalize()} is\", len(result))\n"
     ]
    },
    {
     "name": "stdout",
     "output_type": "stream",
     "text": [
      "{'0': {'precision': 0.7480769230769231, 'recall': 0.9923469387755102, 'f1-score': 0.8530701754385965, 'support': 392.0}, '1': {'precision': 0.6666666666666666, 'recall': 0.15384615384615385, 'f1-score': 0.25, 'support': 52.0}, '2': {'precision': 0.0, 'recall': 0.0, 'f1-score': 0.0, 'support': 5.0}, '3': {'precision': 0.0, 'recall': 0.0, 'f1-score': 0.0, 'support': 83.0}, 'accuracy': 0.7462406015037594, 'macro avg': {'precision': 0.3536858974358974, 'recall': 0.286548273155416, 'f1-score': 0.27576754385964913, 'support': 532.0}, 'weighted avg': {'precision': 0.6163774821669559, 'recall': 0.7462406015037594, 'f1-score': 0.6530141142329509, 'support': 532.0}} for parameters {'num_class': 4, 'alpha': 0.01, 'device': 'cuda', 'eta': 0.01, 'eval_metric': 'logloss', 'gamma': 0.05, 'grow_policy': 'depthwise', 'lambda': 0.1, 'max_depth': 3, 'num_parallel_tree': 10, 'objective': 'multi:softmax', 'sampling_method': 'uniform', 'subsample': 0.8, 'tree_method': 'hist'}\n"
     ]
    },
    {
     "name": "stderr",
     "output_type": "stream",
     "text": [
      "c:\\Users\\Moustapha\\AppData\\Local\\Programs\\Python\\Python312\\Lib\\site-packages\\sklearn\\metrics\\_classification.py:1497: UndefinedMetricWarning: Precision is ill-defined and being set to 0.0 in labels with no predicted samples. Use `zero_division` parameter to control this behavior.\n",
      "  _warn_prf(average, modifier, f\"{metric.capitalize()} is\", len(result))\n",
      "c:\\Users\\Moustapha\\AppData\\Local\\Programs\\Python\\Python312\\Lib\\site-packages\\sklearn\\metrics\\_classification.py:1497: UndefinedMetricWarning: Precision is ill-defined and being set to 0.0 in labels with no predicted samples. Use `zero_division` parameter to control this behavior.\n",
      "  _warn_prf(average, modifier, f\"{metric.capitalize()} is\", len(result))\n",
      "c:\\Users\\Moustapha\\AppData\\Local\\Programs\\Python\\Python312\\Lib\\site-packages\\sklearn\\metrics\\_classification.py:1497: UndefinedMetricWarning: Precision is ill-defined and being set to 0.0 in labels with no predicted samples. Use `zero_division` parameter to control this behavior.\n",
      "  _warn_prf(average, modifier, f\"{metric.capitalize()} is\", len(result))\n"
     ]
    },
    {
     "name": "stdout",
     "output_type": "stream",
     "text": [
      "{'0': {'precision': 0.7895752895752896, 'recall': 0.9927184466019418, 'f1-score': 0.8795698924731182, 'support': 412.0}, '1': {'precision': 0.6428571428571429, 'recall': 0.17307692307692307, 'f1-score': 0.2727272727272727, 'support': 52.0}, '2': {'precision': 0.0, 'recall': 0.0, 'f1-score': 0.0, 'support': 5.0}, '3': {'precision': 0.0, 'recall': 0.0, 'f1-score': 0.0, 'support': 64.0}, 'accuracy': 0.7842401500938087, 'macro avg': {'precision': 0.3581081081081081, 'recall': 0.2914488424197162, 'f1-score': 0.28807429130009776, 'support': 533.0}, 'weighted avg': {'precision': 0.6730461364607706, 'recall': 0.7842401500938087, 'f1-score': 0.7065002136599304, 'support': 533.0}} for parameters {'num_class': 4, 'alpha': 0.01, 'device': 'cuda', 'eta': 0.01, 'eval_metric': 'logloss', 'gamma': 0.05, 'grow_policy': 'depthwise', 'lambda': 0.1, 'max_depth': 3, 'num_parallel_tree': 10, 'objective': 'multi:softmax', 'sampling_method': 'uniform', 'subsample': 0.8, 'tree_method': 'approx'}\n"
     ]
    },
    {
     "name": "stderr",
     "output_type": "stream",
     "text": [
      "c:\\Users\\Moustapha\\AppData\\Local\\Programs\\Python\\Python312\\Lib\\site-packages\\sklearn\\metrics\\_classification.py:1497: UndefinedMetricWarning: Precision is ill-defined and being set to 0.0 in labels with no predicted samples. Use `zero_division` parameter to control this behavior.\n",
      "  _warn_prf(average, modifier, f\"{metric.capitalize()} is\", len(result))\n",
      "c:\\Users\\Moustapha\\AppData\\Local\\Programs\\Python\\Python312\\Lib\\site-packages\\sklearn\\metrics\\_classification.py:1497: UndefinedMetricWarning: Precision is ill-defined and being set to 0.0 in labels with no predicted samples. Use `zero_division` parameter to control this behavior.\n",
      "  _warn_prf(average, modifier, f\"{metric.capitalize()} is\", len(result))\n",
      "c:\\Users\\Moustapha\\AppData\\Local\\Programs\\Python\\Python312\\Lib\\site-packages\\sklearn\\metrics\\_classification.py:1497: UndefinedMetricWarning: Precision is ill-defined and being set to 0.0 in labels with no predicted samples. Use `zero_division` parameter to control this behavior.\n",
      "  _warn_prf(average, modifier, f\"{metric.capitalize()} is\", len(result))\n"
     ]
    },
    {
     "name": "stdout",
     "output_type": "stream",
     "text": [
      "{'0': {'precision': 0.7475728155339806, 'recall': 0.9922680412371134, 'f1-score': 0.8527131782945736, 'support': 388.0}, '1': {'precision': 0.5, 'recall': 0.16666666666666666, 'f1-score': 0.25, 'support': 48.0}, '2': {'precision': 0.0, 'recall': 0.0, 'f1-score': 0.0, 'support': 10.0}, '3': {'precision': 1.0, 'recall': 0.011627906976744186, 'f1-score': 0.022988505747126436, 'support': 86.0}, 'accuracy': 0.7406015037593985, 'macro avg': {'precision': 0.5618932038834952, 'recall': 0.2926406537201311, 'f1-score': 0.281425421010425, 'support': 532.0}, 'weighted avg': {'precision': 0.7519891962917001, 'recall': 0.7406015037593985, 'f1-score': 0.6481761741965176, 'support': 532.0}} for parameters {'num_class': 4, 'alpha': 0.01, 'device': 'cuda', 'eta': 0.01, 'eval_metric': 'logloss', 'gamma': 0.05, 'grow_policy': 'depthwise', 'lambda': 0.1, 'max_depth': 3, 'num_parallel_tree': 10, 'objective': 'multi:softmax', 'sampling_method': 'uniform', 'subsample': 0.8, 'tree_method': 'approx'}\n"
     ]
    },
    {
     "name": "stderr",
     "output_type": "stream",
     "text": [
      "c:\\Users\\Moustapha\\AppData\\Local\\Programs\\Python\\Python312\\Lib\\site-packages\\sklearn\\metrics\\_classification.py:1497: UndefinedMetricWarning: Precision is ill-defined and being set to 0.0 in labels with no predicted samples. Use `zero_division` parameter to control this behavior.\n",
      "  _warn_prf(average, modifier, f\"{metric.capitalize()} is\", len(result))\n",
      "c:\\Users\\Moustapha\\AppData\\Local\\Programs\\Python\\Python312\\Lib\\site-packages\\sklearn\\metrics\\_classification.py:1497: UndefinedMetricWarning: Precision is ill-defined and being set to 0.0 in labels with no predicted samples. Use `zero_division` parameter to control this behavior.\n",
      "  _warn_prf(average, modifier, f\"{metric.capitalize()} is\", len(result))\n",
      "c:\\Users\\Moustapha\\AppData\\Local\\Programs\\Python\\Python312\\Lib\\site-packages\\sklearn\\metrics\\_classification.py:1497: UndefinedMetricWarning: Precision is ill-defined and being set to 0.0 in labels with no predicted samples. Use `zero_division` parameter to control this behavior.\n",
      "  _warn_prf(average, modifier, f\"{metric.capitalize()} is\", len(result))\n"
     ]
    },
    {
     "name": "stdout",
     "output_type": "stream",
     "text": [
      "{'0': {'precision': 0.751937984496124, 'recall': 0.9897959183673469, 'f1-score': 0.8546255506607929, 'support': 392.0}, '1': {'precision': 0.5882352941176471, 'recall': 0.17543859649122806, 'f1-score': 0.2702702702702703, 'support': 57.0}, '2': {'precision': 0.0, 'recall': 0.0, 'f1-score': 0.0, 'support': 7.0}, '3': {'precision': 0.0, 'recall': 0.0, 'f1-score': 0.0, 'support': 77.0}, 'accuracy': 0.7467166979362101, 'macro avg': {'precision': 0.3350433196534428, 'recall': 0.29130862871464375, 'f1-score': 0.2812239552327658, 'support': 533.0}, 'weighted avg': {'precision': 0.6159270200510066, 'recall': 0.7467166979362101, 'f1-score': 0.657445818507385, 'support': 533.0}} for parameters {'num_class': 4, 'alpha': 0.01, 'device': 'cuda', 'eta': 0.01, 'eval_metric': 'logloss', 'gamma': 0.05, 'grow_policy': 'depthwise', 'lambda': 0.1, 'max_depth': 3, 'num_parallel_tree': 10, 'objective': 'multi:softmax', 'sampling_method': 'gradient_based', 'subsample': 0.3, 'tree_method': 'hist'}\n"
     ]
    },
    {
     "name": "stderr",
     "output_type": "stream",
     "text": [
      "c:\\Users\\Moustapha\\AppData\\Local\\Programs\\Python\\Python312\\Lib\\site-packages\\sklearn\\metrics\\_classification.py:1497: UndefinedMetricWarning: Precision is ill-defined and being set to 0.0 in labels with no predicted samples. Use `zero_division` parameter to control this behavior.\n",
      "  _warn_prf(average, modifier, f\"{metric.capitalize()} is\", len(result))\n",
      "c:\\Users\\Moustapha\\AppData\\Local\\Programs\\Python\\Python312\\Lib\\site-packages\\sklearn\\metrics\\_classification.py:1497: UndefinedMetricWarning: Precision is ill-defined and being set to 0.0 in labels with no predicted samples. Use `zero_division` parameter to control this behavior.\n",
      "  _warn_prf(average, modifier, f\"{metric.capitalize()} is\", len(result))\n",
      "c:\\Users\\Moustapha\\AppData\\Local\\Programs\\Python\\Python312\\Lib\\site-packages\\sklearn\\metrics\\_classification.py:1497: UndefinedMetricWarning: Precision is ill-defined and being set to 0.0 in labels with no predicted samples. Use `zero_division` parameter to control this behavior.\n",
      "  _warn_prf(average, modifier, f\"{metric.capitalize()} is\", len(result))\n"
     ]
    },
    {
     "name": "stdout",
     "output_type": "stream",
     "text": [
      "{'0': {'precision': 0.7913385826771654, 'recall': 0.9852941176470589, 'f1-score': 0.8777292576419214, 'support': 408.0}, '1': {'precision': 0.42857142857142855, 'recall': 0.20930232558139536, 'f1-score': 0.28125, 'support': 43.0}, '2': {'precision': 0.0, 'recall': 0.0, 'f1-score': 0.0, 'support': 8.0}, '3': {'precision': 0.3333333333333333, 'recall': 0.0136986301369863, 'f1-score': 0.02631578947368421, 'support': 73.0}, 'accuracy': 0.7744360902255639, 'macro avg': {'precision': 0.3883108361454818, 'recall': 0.3020737683413601, 'f1-score': 0.29632376177890146, 'support': 532.0}, 'weighted avg': {'precision': 0.68727076408682, 'recall': 0.7744360902255639, 'f1-score': 0.6994893604313589, 'support': 532.0}} for parameters {'num_class': 4, 'alpha': 0.01, 'device': 'cuda', 'eta': 0.01, 'eval_metric': 'logloss', 'gamma': 0.05, 'grow_policy': 'depthwise', 'lambda': 0.1, 'max_depth': 3, 'num_parallel_tree': 10, 'objective': 'multi:softmax', 'sampling_method': 'gradient_based', 'subsample': 0.3, 'tree_method': 'hist'}\n"
     ]
    },
    {
     "name": "stderr",
     "output_type": "stream",
     "text": [
      "c:\\Users\\Moustapha\\AppData\\Local\\Programs\\Python\\Python312\\Lib\\site-packages\\sklearn\\metrics\\_classification.py:1497: UndefinedMetricWarning: Precision is ill-defined and being set to 0.0 in labels with no predicted samples. Use `zero_division` parameter to control this behavior.\n",
      "  _warn_prf(average, modifier, f\"{metric.capitalize()} is\", len(result))\n",
      "c:\\Users\\Moustapha\\AppData\\Local\\Programs\\Python\\Python312\\Lib\\site-packages\\sklearn\\metrics\\_classification.py:1497: UndefinedMetricWarning: Precision is ill-defined and being set to 0.0 in labels with no predicted samples. Use `zero_division` parameter to control this behavior.\n",
      "  _warn_prf(average, modifier, f\"{metric.capitalize()} is\", len(result))\n",
      "c:\\Users\\Moustapha\\AppData\\Local\\Programs\\Python\\Python312\\Lib\\site-packages\\sklearn\\metrics\\_classification.py:1497: UndefinedMetricWarning: Precision is ill-defined and being set to 0.0 in labels with no predicted samples. Use `zero_division` parameter to control this behavior.\n",
      "  _warn_prf(average, modifier, f\"{metric.capitalize()} is\", len(result))\n"
     ]
    },
    {
     "name": "stdout",
     "output_type": "stream",
     "text": [
      "{'0': {'precision': 0.7801556420233463, 'recall': 0.9828431372549019, 'f1-score': 0.8698481561822126, 'support': 408.0}, '1': {'precision': 0.5789473684210527, 'recall': 0.22448979591836735, 'f1-score': 0.3235294117647059, 'support': 49.0}, '2': {'precision': 0.0, 'recall': 0.0, 'f1-score': 0.0, 'support': 6.0}, '3': {'precision': 0.0, 'recall': 0.0, 'f1-score': 0.0, 'support': 70.0}, 'accuracy': 0.7729831144465291, 'macro avg': {'precision': 0.3397757526110997, 'recall': 0.3018332332933173, 'f1-score': 0.29834439198672963, 'support': 533.0}, 'weighted avg': {'precision': 0.6504163658502005, 'recall': 0.7729831144465291, 'f1-score': 0.6955928497163477, 'support': 533.0}} for parameters {'num_class': 4, 'alpha': 0.01, 'device': 'cuda', 'eta': 0.01, 'eval_metric': 'logloss', 'gamma': 0.05, 'grow_policy': 'depthwise', 'lambda': 0.1, 'max_depth': 3, 'num_parallel_tree': 10, 'objective': 'multi:softmax', 'sampling_method': 'gradient_based', 'subsample': 0.3, 'tree_method': 'approx'}\n"
     ]
    },
    {
     "name": "stderr",
     "output_type": "stream",
     "text": [
      "c:\\Users\\Moustapha\\AppData\\Local\\Programs\\Python\\Python312\\Lib\\site-packages\\sklearn\\metrics\\_classification.py:1497: UndefinedMetricWarning: Precision is ill-defined and being set to 0.0 in labels with no predicted samples. Use `zero_division` parameter to control this behavior.\n",
      "  _warn_prf(average, modifier, f\"{metric.capitalize()} is\", len(result))\n",
      "c:\\Users\\Moustapha\\AppData\\Local\\Programs\\Python\\Python312\\Lib\\site-packages\\sklearn\\metrics\\_classification.py:1497: UndefinedMetricWarning: Precision is ill-defined and being set to 0.0 in labels with no predicted samples. Use `zero_division` parameter to control this behavior.\n",
      "  _warn_prf(average, modifier, f\"{metric.capitalize()} is\", len(result))\n",
      "c:\\Users\\Moustapha\\AppData\\Local\\Programs\\Python\\Python312\\Lib\\site-packages\\sklearn\\metrics\\_classification.py:1497: UndefinedMetricWarning: Precision is ill-defined and being set to 0.0 in labels with no predicted samples. Use `zero_division` parameter to control this behavior.\n",
      "  _warn_prf(average, modifier, f\"{metric.capitalize()} is\", len(result))\n"
     ]
    },
    {
     "name": "stdout",
     "output_type": "stream",
     "text": [
      "{'0': {'precision': 0.749034749034749, 'recall': 0.9897959183673469, 'f1-score': 0.8527472527472527, 'support': 392.0}, '1': {'precision': 0.5714285714285714, 'recall': 0.1568627450980392, 'f1-score': 0.24615384615384617, 'support': 51.0}, '2': {'precision': 0.0, 'recall': 0.0, 'f1-score': 0.0, 'support': 9.0}, '3': {'precision': 0.0, 'recall': 0.0, 'f1-score': 0.0, 'support': 80.0}, 'accuracy': 0.7443609022556391, 'macro avg': {'precision': 0.3301158301158301, 'recall': 0.28666466586634654, 'f1-score': 0.27472527472527475, 'support': 532.0}, 'weighted avg': {'precision': 0.6067001480535316, 'recall': 0.7443609022556391, 'f1-score': 0.6519375361480625, 'support': 532.0}} for parameters {'num_class': 4, 'alpha': 0.01, 'device': 'cuda', 'eta': 0.01, 'eval_metric': 'logloss', 'gamma': 0.05, 'grow_policy': 'depthwise', 'lambda': 0.1, 'max_depth': 3, 'num_parallel_tree': 10, 'objective': 'multi:softmax', 'sampling_method': 'gradient_based', 'subsample': 0.3, 'tree_method': 'approx'}\n"
     ]
    },
    {
     "name": "stderr",
     "output_type": "stream",
     "text": [
      "c:\\Users\\Moustapha\\AppData\\Local\\Programs\\Python\\Python312\\Lib\\site-packages\\sklearn\\metrics\\_classification.py:1497: UndefinedMetricWarning: Precision is ill-defined and being set to 0.0 in labels with no predicted samples. Use `zero_division` parameter to control this behavior.\n",
      "  _warn_prf(average, modifier, f\"{metric.capitalize()} is\", len(result))\n",
      "c:\\Users\\Moustapha\\AppData\\Local\\Programs\\Python\\Python312\\Lib\\site-packages\\sklearn\\metrics\\_classification.py:1497: UndefinedMetricWarning: Precision is ill-defined and being set to 0.0 in labels with no predicted samples. Use `zero_division` parameter to control this behavior.\n",
      "  _warn_prf(average, modifier, f\"{metric.capitalize()} is\", len(result))\n",
      "c:\\Users\\Moustapha\\AppData\\Local\\Programs\\Python\\Python312\\Lib\\site-packages\\sklearn\\metrics\\_classification.py:1497: UndefinedMetricWarning: Precision is ill-defined and being set to 0.0 in labels with no predicted samples. Use `zero_division` parameter to control this behavior.\n",
      "  _warn_prf(average, modifier, f\"{metric.capitalize()} is\", len(result))\n"
     ]
    },
    {
     "name": "stdout",
     "output_type": "stream",
     "text": [
      "{'0': {'precision': 0.7720306513409961, 'recall': 0.9877450980392157, 'f1-score': 0.8666666666666667, 'support': 408.0}, '1': {'precision': 0.5, 'recall': 0.10204081632653061, 'f1-score': 0.1694915254237288, 'support': 49.0}, '2': {'precision': 0.0, 'recall': 0.0, 'f1-score': 0.0, 'support': 10.0}, '3': {'precision': 0.0, 'recall': 0.0, 'f1-score': 0.0, 'support': 66.0}, 'accuracy': 0.7654784240150094, 'macro avg': {'precision': 0.31800766283524906, 'recall': 0.27244647859143656, 'f1-score': 0.2590395480225989, 'support': 533.0}, 'weighted avg': {'precision': 0.636939035172845, 'recall': 0.7654784240150094, 'f1-score': 0.678996406652463, 'support': 533.0}} for parameters {'num_class': 4, 'alpha': 0.01, 'device': 'cuda', 'eta': 0.01, 'eval_metric': 'logloss', 'gamma': 0.05, 'grow_policy': 'depthwise', 'lambda': 0.1, 'max_depth': 3, 'num_parallel_tree': 10, 'objective': 'multi:softmax', 'sampling_method': 'gradient_based', 'subsample': 0.5, 'tree_method': 'hist'}\n"
     ]
    },
    {
     "name": "stderr",
     "output_type": "stream",
     "text": [
      "c:\\Users\\Moustapha\\AppData\\Local\\Programs\\Python\\Python312\\Lib\\site-packages\\sklearn\\metrics\\_classification.py:1497: UndefinedMetricWarning: Precision is ill-defined and being set to 0.0 in labels with no predicted samples. Use `zero_division` parameter to control this behavior.\n",
      "  _warn_prf(average, modifier, f\"{metric.capitalize()} is\", len(result))\n",
      "c:\\Users\\Moustapha\\AppData\\Local\\Programs\\Python\\Python312\\Lib\\site-packages\\sklearn\\metrics\\_classification.py:1497: UndefinedMetricWarning: Precision is ill-defined and being set to 0.0 in labels with no predicted samples. Use `zero_division` parameter to control this behavior.\n",
      "  _warn_prf(average, modifier, f\"{metric.capitalize()} is\", len(result))\n",
      "c:\\Users\\Moustapha\\AppData\\Local\\Programs\\Python\\Python312\\Lib\\site-packages\\sklearn\\metrics\\_classification.py:1497: UndefinedMetricWarning: Precision is ill-defined and being set to 0.0 in labels with no predicted samples. Use `zero_division` parameter to control this behavior.\n",
      "  _warn_prf(average, modifier, f\"{metric.capitalize()} is\", len(result))\n"
     ]
    },
    {
     "name": "stdout",
     "output_type": "stream",
     "text": [
      "{'0': {'precision': 0.7628458498023716, 'recall': 0.9846938775510204, 'f1-score': 0.8596881959910914, 'support': 392.0}, '1': {'precision': 0.4230769230769231, 'recall': 0.21568627450980393, 'f1-score': 0.2857142857142857, 'support': 51.0}, '2': {'precision': 0.0, 'recall': 0.0, 'f1-score': 0.0, 'support': 5.0}, '3': {'precision': 0.0, 'recall': 0.0, 'f1-score': 0.0, 'support': 84.0}, 'accuracy': 0.7462406015037594, 'macro avg': {'precision': 0.2964806932198237, 'recall': 0.3000950380152061, 'f1-score': 0.2863506204263443, 'support': 532.0}, 'weighted avg': {'precision': 0.6026550680440842, 'recall': 0.7462406015037594, 'f1-score': 0.660844363533715, 'support': 532.0}} for parameters {'num_class': 4, 'alpha': 0.01, 'device': 'cuda', 'eta': 0.01, 'eval_metric': 'logloss', 'gamma': 0.05, 'grow_policy': 'depthwise', 'lambda': 0.1, 'max_depth': 3, 'num_parallel_tree': 10, 'objective': 'multi:softmax', 'sampling_method': 'gradient_based', 'subsample': 0.5, 'tree_method': 'hist'}\n"
     ]
    },
    {
     "name": "stderr",
     "output_type": "stream",
     "text": [
      "c:\\Users\\Moustapha\\AppData\\Local\\Programs\\Python\\Python312\\Lib\\site-packages\\sklearn\\metrics\\_classification.py:1497: UndefinedMetricWarning: Precision is ill-defined and being set to 0.0 in labels with no predicted samples. Use `zero_division` parameter to control this behavior.\n",
      "  _warn_prf(average, modifier, f\"{metric.capitalize()} is\", len(result))\n",
      "c:\\Users\\Moustapha\\AppData\\Local\\Programs\\Python\\Python312\\Lib\\site-packages\\sklearn\\metrics\\_classification.py:1497: UndefinedMetricWarning: Precision is ill-defined and being set to 0.0 in labels with no predicted samples. Use `zero_division` parameter to control this behavior.\n",
      "  _warn_prf(average, modifier, f\"{metric.capitalize()} is\", len(result))\n",
      "c:\\Users\\Moustapha\\AppData\\Local\\Programs\\Python\\Python312\\Lib\\site-packages\\sklearn\\metrics\\_classification.py:1497: UndefinedMetricWarning: Precision is ill-defined and being set to 0.0 in labels with no predicted samples. Use `zero_division` parameter to control this behavior.\n",
      "  _warn_prf(average, modifier, f\"{metric.capitalize()} is\", len(result))\n"
     ]
    },
    {
     "name": "stdout",
     "output_type": "stream",
     "text": [
      "{'0': {'precision': 0.803960396039604, 'recall': 0.9759615384615384, 'f1-score': 0.8816503800217155, 'support': 416.0}, '1': {'precision': 0.4642857142857143, 'recall': 0.2826086956521739, 'f1-score': 0.35135135135135137, 'support': 46.0}, '2': {'precision': 0.0, 'recall': 0.0, 'f1-score': 0.0, 'support': 9.0}, '3': {'precision': 0.0, 'recall': 0.0, 'f1-score': 0.0, 'support': 62.0}, 'accuracy': 0.7861163227016885, 'macro avg': {'precision': 0.31706152758132955, 'recall': 0.3146425585284281, 'f1-score': 0.3082504328432667, 'support': 533.0}, 'weighted avg': {'precision': 0.6675509711249871, 'recall': 0.7861163227016885, 'f1-score': 0.7184403757058083, 'support': 533.0}} for parameters {'num_class': 4, 'alpha': 0.01, 'device': 'cuda', 'eta': 0.01, 'eval_metric': 'logloss', 'gamma': 0.05, 'grow_policy': 'depthwise', 'lambda': 0.1, 'max_depth': 3, 'num_parallel_tree': 10, 'objective': 'multi:softmax', 'sampling_method': 'gradient_based', 'subsample': 0.5, 'tree_method': 'approx'}\n"
     ]
    },
    {
     "name": "stderr",
     "output_type": "stream",
     "text": [
      "c:\\Users\\Moustapha\\AppData\\Local\\Programs\\Python\\Python312\\Lib\\site-packages\\sklearn\\metrics\\_classification.py:1497: UndefinedMetricWarning: Precision is ill-defined and being set to 0.0 in labels with no predicted samples. Use `zero_division` parameter to control this behavior.\n",
      "  _warn_prf(average, modifier, f\"{metric.capitalize()} is\", len(result))\n",
      "c:\\Users\\Moustapha\\AppData\\Local\\Programs\\Python\\Python312\\Lib\\site-packages\\sklearn\\metrics\\_classification.py:1497: UndefinedMetricWarning: Precision is ill-defined and being set to 0.0 in labels with no predicted samples. Use `zero_division` parameter to control this behavior.\n",
      "  _warn_prf(average, modifier, f\"{metric.capitalize()} is\", len(result))\n",
      "c:\\Users\\Moustapha\\AppData\\Local\\Programs\\Python\\Python312\\Lib\\site-packages\\sklearn\\metrics\\_classification.py:1497: UndefinedMetricWarning: Precision is ill-defined and being set to 0.0 in labels with no predicted samples. Use `zero_division` parameter to control this behavior.\n",
      "  _warn_prf(average, modifier, f\"{metric.capitalize()} is\", len(result))\n"
     ]
    },
    {
     "name": "stdout",
     "output_type": "stream",
     "text": [
      "{'0': {'precision': 0.720532319391635, 'recall': 0.9869791666666666, 'f1-score': 0.832967032967033, 'support': 384.0}, '1': {'precision': 0.2, 'recall': 0.018518518518518517, 'f1-score': 0.03389830508474576, 'support': 54.0}, '2': {'precision': 0.0, 'recall': 0.0, 'f1-score': 0.0, 'support': 6.0}, '3': {'precision': 0.0, 'recall': 0.0, 'f1-score': 0.0, 'support': 88.0}, 'accuracy': 0.7142857142857143, 'macro avg': {'precision': 0.23013307984790876, 'recall': 0.2513744212962963, 'f1-score': 0.2167163345129447, 'support': 532.0}, 'weighted avg': {'precision': 0.5403842305383231, 'recall': 0.7142857142857143, 'f1-score': 0.6046801675449567, 'support': 532.0}} for parameters {'num_class': 4, 'alpha': 0.01, 'device': 'cuda', 'eta': 0.01, 'eval_metric': 'logloss', 'gamma': 0.05, 'grow_policy': 'depthwise', 'lambda': 0.1, 'max_depth': 3, 'num_parallel_tree': 10, 'objective': 'multi:softmax', 'sampling_method': 'gradient_based', 'subsample': 0.5, 'tree_method': 'approx'}\n",
      "{'0': {'precision': 0.754863813229572, 'recall': 0.9822784810126582, 'f1-score': 0.8536853685368537, 'support': 395.0}, '1': {'precision': 0.4117647058823529, 'recall': 0.14285714285714285, 'f1-score': 0.21212121212121213, 'support': 49.0}, '2': {'precision': 0.0, 'recall': 0.0, 'f1-score': 0.0, 'support': 2.0}, '3': {'precision': 0.0, 'recall': 0.0, 'f1-score': 0.0, 'support': 87.0}, 'accuracy': 0.7410881801125704, 'macro avg': {'precision': 0.2916571297779812, 'recall': 0.2812839059674503, 'f1-score': 0.26645164516451647, 'support': 533.0}, 'weighted avg': {'precision': 0.5972751910204808, 'recall': 0.7410881801125704, 'f1-score': 0.6521569605365789, 'support': 533.0}} for parameters {'num_class': 4, 'alpha': 0.01, 'device': 'cuda', 'eta': 0.01, 'eval_metric': 'logloss', 'gamma': 0.05, 'grow_policy': 'depthwise', 'lambda': 0.1, 'max_depth': 3, 'num_parallel_tree': 10, 'objective': 'multi:softmax', 'sampling_method': 'gradient_based', 'subsample': 0.8, 'tree_method': 'hist'}\n"
     ]
    },
    {
     "name": "stderr",
     "output_type": "stream",
     "text": [
      "c:\\Users\\Moustapha\\AppData\\Local\\Programs\\Python\\Python312\\Lib\\site-packages\\sklearn\\metrics\\_classification.py:1497: UndefinedMetricWarning: Precision is ill-defined and being set to 0.0 in labels with no predicted samples. Use `zero_division` parameter to control this behavior.\n",
      "  _warn_prf(average, modifier, f\"{metric.capitalize()} is\", len(result))\n",
      "c:\\Users\\Moustapha\\AppData\\Local\\Programs\\Python\\Python312\\Lib\\site-packages\\sklearn\\metrics\\_classification.py:1497: UndefinedMetricWarning: Precision is ill-defined and being set to 0.0 in labels with no predicted samples. Use `zero_division` parameter to control this behavior.\n",
      "  _warn_prf(average, modifier, f\"{metric.capitalize()} is\", len(result))\n",
      "c:\\Users\\Moustapha\\AppData\\Local\\Programs\\Python\\Python312\\Lib\\site-packages\\sklearn\\metrics\\_classification.py:1497: UndefinedMetricWarning: Precision is ill-defined and being set to 0.0 in labels with no predicted samples. Use `zero_division` parameter to control this behavior.\n",
      "  _warn_prf(average, modifier, f\"{metric.capitalize()} is\", len(result))\n"
     ]
    },
    {
     "name": "stdout",
     "output_type": "stream",
     "text": [
      "{'0': {'precision': 0.7840466926070039, 'recall': 0.9950617283950617, 'f1-score': 0.8770402611534276, 'support': 405.0}, '1': {'precision': 0.5555555555555556, 'recall': 0.19607843137254902, 'f1-score': 0.2898550724637681, 'support': 51.0}, '2': {'precision': 0.0, 'recall': 0.0, 'f1-score': 0.0, 'support': 13.0}, '3': {'precision': 0.0, 'recall': 0.0, 'f1-score': 0.0, 'support': 63.0}, 'accuracy': 0.7763157894736842, 'macro avg': {'precision': 0.3349005620406399, 'recall': 0.2977850399419027, 'f1-score': 0.2917238334042989, 'support': 532.0}, 'weighted avg': {'precision': 0.650135796690169, 'recall': 0.7763157894736842, 'f1-score': 0.6954584858323127, 'support': 532.0}} for parameters {'num_class': 4, 'alpha': 0.01, 'device': 'cuda', 'eta': 0.01, 'eval_metric': 'logloss', 'gamma': 0.05, 'grow_policy': 'depthwise', 'lambda': 0.1, 'max_depth': 3, 'num_parallel_tree': 10, 'objective': 'multi:softmax', 'sampling_method': 'gradient_based', 'subsample': 0.8, 'tree_method': 'hist'}\n"
     ]
    },
    {
     "name": "stderr",
     "output_type": "stream",
     "text": [
      "c:\\Users\\Moustapha\\AppData\\Local\\Programs\\Python\\Python312\\Lib\\site-packages\\sklearn\\metrics\\_classification.py:1497: UndefinedMetricWarning: Precision is ill-defined and being set to 0.0 in labels with no predicted samples. Use `zero_division` parameter to control this behavior.\n",
      "  _warn_prf(average, modifier, f\"{metric.capitalize()} is\", len(result))\n",
      "c:\\Users\\Moustapha\\AppData\\Local\\Programs\\Python\\Python312\\Lib\\site-packages\\sklearn\\metrics\\_classification.py:1497: UndefinedMetricWarning: Precision is ill-defined and being set to 0.0 in labels with no predicted samples. Use `zero_division` parameter to control this behavior.\n",
      "  _warn_prf(average, modifier, f\"{metric.capitalize()} is\", len(result))\n",
      "c:\\Users\\Moustapha\\AppData\\Local\\Programs\\Python\\Python312\\Lib\\site-packages\\sklearn\\metrics\\_classification.py:1497: UndefinedMetricWarning: Precision is ill-defined and being set to 0.0 in labels with no predicted samples. Use `zero_division` parameter to control this behavior.\n",
      "  _warn_prf(average, modifier, f\"{metric.capitalize()} is\", len(result))\n"
     ]
    },
    {
     "name": "stdout",
     "output_type": "stream",
     "text": [
      "{'0': {'precision': 0.7797619047619048, 'recall': 0.9727722772277227, 'f1-score': 0.8656387665198237, 'support': 404.0}, '1': {'precision': 0.4482758620689655, 'recall': 0.2653061224489796, 'f1-score': 0.3333333333333333, 'support': 49.0}, '2': {'precision': 0.0, 'recall': 0.0, 'f1-score': 0.0, 'support': 7.0}, '3': {'precision': 0.0, 'recall': 0.0, 'f1-score': 0.0, 'support': 73.0}, 'accuracy': 0.7617260787992496, 'macro avg': {'precision': 0.3070094417077176, 'recall': 0.3095195999191756, 'f1-score': 0.29974302496328925, 'support': 533.0}, 'weighted avg': {'precision': 0.6322501440247446, 'recall': 0.7617260787992496, 'f1-score': 0.6867756003890095, 'support': 533.0}} for parameters {'num_class': 4, 'alpha': 0.01, 'device': 'cuda', 'eta': 0.01, 'eval_metric': 'logloss', 'gamma': 0.05, 'grow_policy': 'depthwise', 'lambda': 0.1, 'max_depth': 3, 'num_parallel_tree': 10, 'objective': 'multi:softmax', 'sampling_method': 'gradient_based', 'subsample': 0.8, 'tree_method': 'approx'}\n"
     ]
    },
    {
     "name": "stderr",
     "output_type": "stream",
     "text": [
      "c:\\Users\\Moustapha\\AppData\\Local\\Programs\\Python\\Python312\\Lib\\site-packages\\sklearn\\metrics\\_classification.py:1497: UndefinedMetricWarning: Precision is ill-defined and being set to 0.0 in labels with no predicted samples. Use `zero_division` parameter to control this behavior.\n",
      "  _warn_prf(average, modifier, f\"{metric.capitalize()} is\", len(result))\n",
      "c:\\Users\\Moustapha\\AppData\\Local\\Programs\\Python\\Python312\\Lib\\site-packages\\sklearn\\metrics\\_classification.py:1497: UndefinedMetricWarning: Precision is ill-defined and being set to 0.0 in labels with no predicted samples. Use `zero_division` parameter to control this behavior.\n",
      "  _warn_prf(average, modifier, f\"{metric.capitalize()} is\", len(result))\n",
      "c:\\Users\\Moustapha\\AppData\\Local\\Programs\\Python\\Python312\\Lib\\site-packages\\sklearn\\metrics\\_classification.py:1497: UndefinedMetricWarning: Precision is ill-defined and being set to 0.0 in labels with no predicted samples. Use `zero_division` parameter to control this behavior.\n",
      "  _warn_prf(average, modifier, f\"{metric.capitalize()} is\", len(result))\n"
     ]
    },
    {
     "name": "stdout",
     "output_type": "stream",
     "text": [
      "{'0': {'precision': 0.7591522157996147, 'recall': 0.9949494949494949, 'f1-score': 0.8612021857923498, 'support': 396.0}, '1': {'precision': 0.6923076923076923, 'recall': 0.17647058823529413, 'f1-score': 0.28125, 'support': 51.0}, '2': {'precision': 0.0, 'recall': 0.0, 'f1-score': 0.0, 'support': 8.0}, '3': {'precision': 0.0, 'recall': 0.0, 'f1-score': 0.0, 'support': 77.0}, 'accuracy': 0.7575187969924813, 'macro avg': {'precision': 0.36286497702682674, 'recall': 0.29285502079619724, 'f1-score': 0.28561304644808744, 'support': 532.0}, 'weighted avg': {'precision': 0.6314510709856009, 'recall': 0.7575187969924813, 'f1-score': 0.6680071721311476, 'support': 532.0}} for parameters {'num_class': 4, 'alpha': 0.01, 'device': 'cuda', 'eta': 0.01, 'eval_metric': 'logloss', 'gamma': 0.05, 'grow_policy': 'depthwise', 'lambda': 0.1, 'max_depth': 3, 'num_parallel_tree': 10, 'objective': 'multi:softmax', 'sampling_method': 'gradient_based', 'subsample': 0.8, 'tree_method': 'approx'}\n"
     ]
    },
    {
     "name": "stderr",
     "output_type": "stream",
     "text": [
      "c:\\Users\\Moustapha\\AppData\\Local\\Programs\\Python\\Python312\\Lib\\site-packages\\sklearn\\metrics\\_classification.py:1497: UndefinedMetricWarning: Precision is ill-defined and being set to 0.0 in labels with no predicted samples. Use `zero_division` parameter to control this behavior.\n",
      "  _warn_prf(average, modifier, f\"{metric.capitalize()} is\", len(result))\n",
      "c:\\Users\\Moustapha\\AppData\\Local\\Programs\\Python\\Python312\\Lib\\site-packages\\sklearn\\metrics\\_classification.py:1497: UndefinedMetricWarning: Precision is ill-defined and being set to 0.0 in labels with no predicted samples. Use `zero_division` parameter to control this behavior.\n",
      "  _warn_prf(average, modifier, f\"{metric.capitalize()} is\", len(result))\n",
      "c:\\Users\\Moustapha\\AppData\\Local\\Programs\\Python\\Python312\\Lib\\site-packages\\sklearn\\metrics\\_classification.py:1497: UndefinedMetricWarning: Precision is ill-defined and being set to 0.0 in labels with no predicted samples. Use `zero_division` parameter to control this behavior.\n",
      "  _warn_prf(average, modifier, f\"{metric.capitalize()} is\", len(result))\n"
     ]
    },
    {
     "name": "stdout",
     "output_type": "stream",
     "text": [
      "{'0': {'precision': 0.7495291902071564, 'recall': 0.9974937343358395, 'f1-score': 0.8559139784946237, 'support': 399.0}, '1': {'precision': 0.5, 'recall': 0.0196078431372549, 'f1-score': 0.03773584905660377, 'support': 51.0}, '2': {'precision': 0.0, 'recall': 0.0, 'f1-score': 0.0, 'support': 5.0}, '3': {'precision': 0.0, 'recall': 0.0, 'f1-score': 0.0, 'support': 78.0}, 'accuracy': 0.7485928705440901, 'macro avg': {'precision': 0.3123822975517891, 'recall': 0.2542753943682736, 'f1-score': 0.22341245688780687, 'support': 533.0}, 'weighted avg': {'precision': 0.6089346095547006, 'recall': 0.7485928705440901, 'f1-score': 0.6443418493831925, 'support': 533.0}} for parameters {'num_class': 4, 'alpha': 0.01, 'device': 'cuda', 'eta': 0.01, 'eval_metric': 'logloss', 'gamma': 0.05, 'grow_policy': 'depthwise', 'lambda': 0.1, 'max_depth': 3, 'num_parallel_tree': 30, 'objective': 'multi:softmax', 'sampling_method': 'uniform', 'subsample': 0.3, 'tree_method': 'hist'}\n"
     ]
    },
    {
     "name": "stderr",
     "output_type": "stream",
     "text": [
      "c:\\Users\\Moustapha\\AppData\\Local\\Programs\\Python\\Python312\\Lib\\site-packages\\sklearn\\metrics\\_classification.py:1497: UndefinedMetricWarning: Precision is ill-defined and being set to 0.0 in labels with no predicted samples. Use `zero_division` parameter to control this behavior.\n",
      "  _warn_prf(average, modifier, f\"{metric.capitalize()} is\", len(result))\n",
      "c:\\Users\\Moustapha\\AppData\\Local\\Programs\\Python\\Python312\\Lib\\site-packages\\sklearn\\metrics\\_classification.py:1497: UndefinedMetricWarning: Precision is ill-defined and being set to 0.0 in labels with no predicted samples. Use `zero_division` parameter to control this behavior.\n",
      "  _warn_prf(average, modifier, f\"{metric.capitalize()} is\", len(result))\n",
      "c:\\Users\\Moustapha\\AppData\\Local\\Programs\\Python\\Python312\\Lib\\site-packages\\sklearn\\metrics\\_classification.py:1497: UndefinedMetricWarning: Precision is ill-defined and being set to 0.0 in labels with no predicted samples. Use `zero_division` parameter to control this behavior.\n",
      "  _warn_prf(average, modifier, f\"{metric.capitalize()} is\", len(result))\n"
     ]
    },
    {
     "name": "stdout",
     "output_type": "stream",
     "text": [
      "{'0': {'precision': 0.758095238095238, 'recall': 0.9925187032418953, 'f1-score': 0.8596112311015118, 'support': 401.0}, '1': {'precision': 0.42857142857142855, 'recall': 0.061224489795918366, 'f1-score': 0.10714285714285714, 'support': 49.0}, '2': {'precision': 0.0, 'recall': 0.0, 'f1-score': 0.0, 'support': 10.0}, '3': {'precision': 0.0, 'recall': 0.0, 'f1-score': 0.0, 'support': 72.0}, 'accuracy': 0.7537593984962406, 'macro avg': {'precision': 0.29666666666666663, 'recall': 0.2634357982594534, 'f1-score': 0.24168852206109223, 'support': 532.0}, 'weighted avg': {'precision': 0.6108950948800572, 'recall': 0.7537593984962406, 'f1-score': 0.6578084655483201, 'support': 532.0}} for parameters {'num_class': 4, 'alpha': 0.01, 'device': 'cuda', 'eta': 0.01, 'eval_metric': 'logloss', 'gamma': 0.05, 'grow_policy': 'depthwise', 'lambda': 0.1, 'max_depth': 3, 'num_parallel_tree': 30, 'objective': 'multi:softmax', 'sampling_method': 'uniform', 'subsample': 0.3, 'tree_method': 'hist'}\n"
     ]
    },
    {
     "name": "stderr",
     "output_type": "stream",
     "text": [
      "c:\\Users\\Moustapha\\AppData\\Local\\Programs\\Python\\Python312\\Lib\\site-packages\\sklearn\\metrics\\_classification.py:1497: UndefinedMetricWarning: Precision is ill-defined and being set to 0.0 in labels with no predicted samples. Use `zero_division` parameter to control this behavior.\n",
      "  _warn_prf(average, modifier, f\"{metric.capitalize()} is\", len(result))\n",
      "c:\\Users\\Moustapha\\AppData\\Local\\Programs\\Python\\Python312\\Lib\\site-packages\\sklearn\\metrics\\_classification.py:1497: UndefinedMetricWarning: Precision is ill-defined and being set to 0.0 in labels with no predicted samples. Use `zero_division` parameter to control this behavior.\n",
      "  _warn_prf(average, modifier, f\"{metric.capitalize()} is\", len(result))\n",
      "c:\\Users\\Moustapha\\AppData\\Local\\Programs\\Python\\Python312\\Lib\\site-packages\\sklearn\\metrics\\_classification.py:1497: UndefinedMetricWarning: Precision is ill-defined and being set to 0.0 in labels with no predicted samples. Use `zero_division` parameter to control this behavior.\n",
      "  _warn_prf(average, modifier, f\"{metric.capitalize()} is\", len(result))\n"
     ]
    },
    {
     "name": "stdout",
     "output_type": "stream",
     "text": [
      "{'0': {'precision': 0.7618147448015122, 'recall': 0.9975247524752475, 'f1-score': 0.8638799571275455, 'support': 404.0}, '1': {'precision': 0.75, 'recall': 0.061224489795918366, 'f1-score': 0.11320754716981132, 'support': 49.0}, '2': {'precision': 0.0, 'recall': 0.0, 'f1-score': 0.0, 'support': 8.0}, '3': {'precision': 0.0, 'recall': 0.0, 'f1-score': 0.0, 'support': 72.0}, 'accuracy': 0.7617260787992496, 'macro avg': {'precision': 0.37795368620037806, 'recall': 0.2646873105677915, 'f1-score': 0.2442718760743392, 'support': 533.0}, 'weighted avg': {'precision': 0.6463849097557428, 'recall': 0.7617260787992496, 'f1-score': 0.6652057645231692, 'support': 533.0}} for parameters {'num_class': 4, 'alpha': 0.01, 'device': 'cuda', 'eta': 0.01, 'eval_metric': 'logloss', 'gamma': 0.05, 'grow_policy': 'depthwise', 'lambda': 0.1, 'max_depth': 3, 'num_parallel_tree': 30, 'objective': 'multi:softmax', 'sampling_method': 'uniform', 'subsample': 0.3, 'tree_method': 'approx'}\n"
     ]
    },
    {
     "name": "stderr",
     "output_type": "stream",
     "text": [
      "c:\\Users\\Moustapha\\AppData\\Local\\Programs\\Python\\Python312\\Lib\\site-packages\\sklearn\\metrics\\_classification.py:1497: UndefinedMetricWarning: Precision is ill-defined and being set to 0.0 in labels with no predicted samples. Use `zero_division` parameter to control this behavior.\n",
      "  _warn_prf(average, modifier, f\"{metric.capitalize()} is\", len(result))\n",
      "c:\\Users\\Moustapha\\AppData\\Local\\Programs\\Python\\Python312\\Lib\\site-packages\\sklearn\\metrics\\_classification.py:1497: UndefinedMetricWarning: Precision is ill-defined and being set to 0.0 in labels with no predicted samples. Use `zero_division` parameter to control this behavior.\n",
      "  _warn_prf(average, modifier, f\"{metric.capitalize()} is\", len(result))\n",
      "c:\\Users\\Moustapha\\AppData\\Local\\Programs\\Python\\Python312\\Lib\\site-packages\\sklearn\\metrics\\_classification.py:1497: UndefinedMetricWarning: Precision is ill-defined and being set to 0.0 in labels with no predicted samples. Use `zero_division` parameter to control this behavior.\n",
      "  _warn_prf(average, modifier, f\"{metric.capitalize()} is\", len(result))\n"
     ]
    },
    {
     "name": "stdout",
     "output_type": "stream",
     "text": [
      "{'0': {'precision': 0.7481060606060606, 'recall': 0.9974747474747475, 'f1-score': 0.854978354978355, 'support': 396.0}, '1': {'precision': 0.5, 'recall': 0.0392156862745098, 'f1-score': 0.07272727272727272, 'support': 51.0}, '2': {'precision': 0.0, 'recall': 0.0, 'f1-score': 0.0, 'support': 7.0}, '3': {'precision': 0.0, 'recall': 0.0, 'f1-score': 0.0, 'support': 78.0}, 'accuracy': 0.7462406015037594, 'macro avg': {'precision': 0.31202651515151514, 'recall': 0.2591726084373143, 'f1-score': 0.23192640692640693, 'support': 532.0}, 'weighted avg': {'precision': 0.6047932330827067, 'recall': 0.7462406015037594, 'f1-score': 0.6433844351137583, 'support': 532.0}} for parameters {'num_class': 4, 'alpha': 0.01, 'device': 'cuda', 'eta': 0.01, 'eval_metric': 'logloss', 'gamma': 0.05, 'grow_policy': 'depthwise', 'lambda': 0.1, 'max_depth': 3, 'num_parallel_tree': 30, 'objective': 'multi:softmax', 'sampling_method': 'uniform', 'subsample': 0.3, 'tree_method': 'approx'}\n"
     ]
    },
    {
     "name": "stderr",
     "output_type": "stream",
     "text": [
      "c:\\Users\\Moustapha\\AppData\\Local\\Programs\\Python\\Python312\\Lib\\site-packages\\sklearn\\metrics\\_classification.py:1497: UndefinedMetricWarning: Precision is ill-defined and being set to 0.0 in labels with no predicted samples. Use `zero_division` parameter to control this behavior.\n",
      "  _warn_prf(average, modifier, f\"{metric.capitalize()} is\", len(result))\n",
      "c:\\Users\\Moustapha\\AppData\\Local\\Programs\\Python\\Python312\\Lib\\site-packages\\sklearn\\metrics\\_classification.py:1497: UndefinedMetricWarning: Precision is ill-defined and being set to 0.0 in labels with no predicted samples. Use `zero_division` parameter to control this behavior.\n",
      "  _warn_prf(average, modifier, f\"{metric.capitalize()} is\", len(result))\n",
      "c:\\Users\\Moustapha\\AppData\\Local\\Programs\\Python\\Python312\\Lib\\site-packages\\sklearn\\metrics\\_classification.py:1497: UndefinedMetricWarning: Precision is ill-defined and being set to 0.0 in labels with no predicted samples. Use `zero_division` parameter to control this behavior.\n",
      "  _warn_prf(average, modifier, f\"{metric.capitalize()} is\", len(result))\n"
     ]
    },
    {
     "name": "stdout",
     "output_type": "stream",
     "text": [
      "{'0': {'precision': 0.7566037735849057, 'recall': 1.0, 'f1-score': 0.8614393125671321, 'support': 401.0}, '1': {'precision': 1.0, 'recall': 0.06, 'f1-score': 0.11320754716981132, 'support': 50.0}, '2': {'precision': 0.0, 'recall': 0.0, 'f1-score': 0.0, 'support': 4.0}, '3': {'precision': 0.0, 'recall': 0.0, 'f1-score': 0.0, 'support': 78.0}, 'accuracy': 0.7579737335834896, 'macro avg': {'precision': 0.4391509433962264, 'recall': 0.265, 'f1-score': 0.24366171493423586, 'support': 533.0}, 'weighted avg': {'precision': 0.6630358596764487, 'recall': 0.7579737335834896, 'f1-score': 0.6587195904275995, 'support': 533.0}} for parameters {'num_class': 4, 'alpha': 0.01, 'device': 'cuda', 'eta': 0.01, 'eval_metric': 'logloss', 'gamma': 0.05, 'grow_policy': 'depthwise', 'lambda': 0.1, 'max_depth': 3, 'num_parallel_tree': 30, 'objective': 'multi:softmax', 'sampling_method': 'uniform', 'subsample': 0.5, 'tree_method': 'hist'}\n"
     ]
    },
    {
     "name": "stderr",
     "output_type": "stream",
     "text": [
      "c:\\Users\\Moustapha\\AppData\\Local\\Programs\\Python\\Python312\\Lib\\site-packages\\sklearn\\metrics\\_classification.py:1497: UndefinedMetricWarning: Precision is ill-defined and being set to 0.0 in labels with no predicted samples. Use `zero_division` parameter to control this behavior.\n",
      "  _warn_prf(average, modifier, f\"{metric.capitalize()} is\", len(result))\n",
      "c:\\Users\\Moustapha\\AppData\\Local\\Programs\\Python\\Python312\\Lib\\site-packages\\sklearn\\metrics\\_classification.py:1497: UndefinedMetricWarning: Precision is ill-defined and being set to 0.0 in labels with no predicted samples. Use `zero_division` parameter to control this behavior.\n",
      "  _warn_prf(average, modifier, f\"{metric.capitalize()} is\", len(result))\n",
      "c:\\Users\\Moustapha\\AppData\\Local\\Programs\\Python\\Python312\\Lib\\site-packages\\sklearn\\metrics\\_classification.py:1497: UndefinedMetricWarning: Precision is ill-defined and being set to 0.0 in labels with no predicted samples. Use `zero_division` parameter to control this behavior.\n",
      "  _warn_prf(average, modifier, f\"{metric.capitalize()} is\", len(result))\n"
     ]
    },
    {
     "name": "stdout",
     "output_type": "stream",
     "text": [
      "{'0': {'precision': 0.7747035573122529, 'recall': 0.9824561403508771, 'f1-score': 0.8662983425414365, 'support': 399.0}, '1': {'precision': 0.5384615384615384, 'recall': 0.28, 'f1-score': 0.3684210526315789, 'support': 50.0}, '2': {'precision': 0.0, 'recall': 0.0, 'f1-score': 0.0, 'support': 11.0}, '3': {'precision': 0.0, 'recall': 0.0, 'f1-score': 0.0, 'support': 72.0}, 'accuracy': 0.7631578947368421, 'macro avg': {'precision': 0.3282912739434478, 'recall': 0.3156140350877193, 'f1-score': 0.30867984879325383, 'support': 532.0}, 'weighted avg': {'precision': 0.6316349554335824, 'recall': 0.7631578947368421, 'f1-score': 0.6843497956872409, 'support': 532.0}} for parameters {'num_class': 4, 'alpha': 0.01, 'device': 'cuda', 'eta': 0.01, 'eval_metric': 'logloss', 'gamma': 0.05, 'grow_policy': 'depthwise', 'lambda': 0.1, 'max_depth': 3, 'num_parallel_tree': 30, 'objective': 'multi:softmax', 'sampling_method': 'uniform', 'subsample': 0.5, 'tree_method': 'hist'}\n"
     ]
    },
    {
     "name": "stderr",
     "output_type": "stream",
     "text": [
      "c:\\Users\\Moustapha\\AppData\\Local\\Programs\\Python\\Python312\\Lib\\site-packages\\sklearn\\metrics\\_classification.py:1497: UndefinedMetricWarning: Precision is ill-defined and being set to 0.0 in labels with no predicted samples. Use `zero_division` parameter to control this behavior.\n",
      "  _warn_prf(average, modifier, f\"{metric.capitalize()} is\", len(result))\n",
      "c:\\Users\\Moustapha\\AppData\\Local\\Programs\\Python\\Python312\\Lib\\site-packages\\sklearn\\metrics\\_classification.py:1497: UndefinedMetricWarning: Precision is ill-defined and being set to 0.0 in labels with no predicted samples. Use `zero_division` parameter to control this behavior.\n",
      "  _warn_prf(average, modifier, f\"{metric.capitalize()} is\", len(result))\n",
      "c:\\Users\\Moustapha\\AppData\\Local\\Programs\\Python\\Python312\\Lib\\site-packages\\sklearn\\metrics\\_classification.py:1497: UndefinedMetricWarning: Precision is ill-defined and being set to 0.0 in labels with no predicted samples. Use `zero_division` parameter to control this behavior.\n",
      "  _warn_prf(average, modifier, f\"{metric.capitalize()} is\", len(result))\n"
     ]
    },
    {
     "name": "stdout",
     "output_type": "stream",
     "text": [
      "{'0': {'precision': 0.7054409005628518, 'recall': 1.0, 'f1-score': 0.8272827282728272, 'support': 376.0}, '1': {'precision': 0.0, 'recall': 0.0, 'f1-score': 0.0, 'support': 62.0}, '2': {'precision': 0.0, 'recall': 0.0, 'f1-score': 0.0, 'support': 14.0}, '3': {'precision': 0.0, 'recall': 0.0, 'f1-score': 0.0, 'support': 81.0}, 'accuracy': 0.7054409005628518, 'macro avg': {'precision': 0.17636022514071295, 'recall': 0.25, 'f1-score': 0.2068206820682068, 'support': 533.0}, 'weighted avg': {'precision': 0.49764686418692733, 'recall': 0.7054409005628518, 'f1-score': 0.5835990728528763, 'support': 533.0}} for parameters {'num_class': 4, 'alpha': 0.01, 'device': 'cuda', 'eta': 0.01, 'eval_metric': 'logloss', 'gamma': 0.05, 'grow_policy': 'depthwise', 'lambda': 0.1, 'max_depth': 3, 'num_parallel_tree': 30, 'objective': 'multi:softmax', 'sampling_method': 'uniform', 'subsample': 0.5, 'tree_method': 'approx'}\n"
     ]
    },
    {
     "name": "stderr",
     "output_type": "stream",
     "text": [
      "c:\\Users\\Moustapha\\AppData\\Local\\Programs\\Python\\Python312\\Lib\\site-packages\\sklearn\\metrics\\_classification.py:1497: UndefinedMetricWarning: Precision is ill-defined and being set to 0.0 in labels with no predicted samples. Use `zero_division` parameter to control this behavior.\n",
      "  _warn_prf(average, modifier, f\"{metric.capitalize()} is\", len(result))\n",
      "c:\\Users\\Moustapha\\AppData\\Local\\Programs\\Python\\Python312\\Lib\\site-packages\\sklearn\\metrics\\_classification.py:1497: UndefinedMetricWarning: Precision is ill-defined and being set to 0.0 in labels with no predicted samples. Use `zero_division` parameter to control this behavior.\n",
      "  _warn_prf(average, modifier, f\"{metric.capitalize()} is\", len(result))\n",
      "c:\\Users\\Moustapha\\AppData\\Local\\Programs\\Python\\Python312\\Lib\\site-packages\\sklearn\\metrics\\_classification.py:1497: UndefinedMetricWarning: Precision is ill-defined and being set to 0.0 in labels with no predicted samples. Use `zero_division` parameter to control this behavior.\n",
      "  _warn_prf(average, modifier, f\"{metric.capitalize()} is\", len(result))\n"
     ]
    },
    {
     "name": "stdout",
     "output_type": "stream",
     "text": [
      "{'0': {'precision': 0.8210735586481114, 'recall': 0.9740566037735849, 'f1-score': 0.8910463861920173, 'support': 424.0}, '1': {'precision': 0.41379310344827586, 'recall': 0.3157894736842105, 'f1-score': 0.3582089552238806, 'support': 38.0}, '2': {'precision': 0.0, 'recall': 0.0, 'f1-score': 0.0, 'support': 1.0}, '3': {'precision': 0.0, 'recall': 0.0, 'f1-score': 0.0, 'support': 69.0}, 'accuracy': 0.7988721804511278, 'macro avg': {'precision': 0.3087166655240968, 'recall': 0.3224615193644489, 'f1-score': 0.31231383535397444, 'support': 532.0}, 'weighted avg': {'precision': 0.6839461030034468, 'recall': 0.7988721804511278, 'f1-score': 0.7357436241427121, 'support': 532.0}} for parameters {'num_class': 4, 'alpha': 0.01, 'device': 'cuda', 'eta': 0.01, 'eval_metric': 'logloss', 'gamma': 0.05, 'grow_policy': 'depthwise', 'lambda': 0.1, 'max_depth': 3, 'num_parallel_tree': 30, 'objective': 'multi:softmax', 'sampling_method': 'uniform', 'subsample': 0.5, 'tree_method': 'approx'}\n"
     ]
    },
    {
     "name": "stderr",
     "output_type": "stream",
     "text": [
      "c:\\Users\\Moustapha\\AppData\\Local\\Programs\\Python\\Python312\\Lib\\site-packages\\sklearn\\metrics\\_classification.py:1497: UndefinedMetricWarning: Precision is ill-defined and being set to 0.0 in labels with no predicted samples. Use `zero_division` parameter to control this behavior.\n",
      "  _warn_prf(average, modifier, f\"{metric.capitalize()} is\", len(result))\n",
      "c:\\Users\\Moustapha\\AppData\\Local\\Programs\\Python\\Python312\\Lib\\site-packages\\sklearn\\metrics\\_classification.py:1497: UndefinedMetricWarning: Precision is ill-defined and being set to 0.0 in labels with no predicted samples. Use `zero_division` parameter to control this behavior.\n",
      "  _warn_prf(average, modifier, f\"{metric.capitalize()} is\", len(result))\n",
      "c:\\Users\\Moustapha\\AppData\\Local\\Programs\\Python\\Python312\\Lib\\site-packages\\sklearn\\metrics\\_classification.py:1497: UndefinedMetricWarning: Precision is ill-defined and being set to 0.0 in labels with no predicted samples. Use `zero_division` parameter to control this behavior.\n",
      "  _warn_prf(average, modifier, f\"{metric.capitalize()} is\", len(result))\n"
     ]
    },
    {
     "name": "stdout",
     "output_type": "stream",
     "text": [
      "{'0': {'precision': 0.7833655705996132, 'recall': 0.9878048780487805, 'f1-score': 0.8737864077669902, 'support': 410.0}, '1': {'precision': 0.375, 'recall': 0.14285714285714285, 'f1-score': 0.20689655172413793, 'support': 42.0}, '2': {'precision': 0.0, 'recall': 0.0, 'f1-score': 0.0, 'support': 6.0}, '3': {'precision': 0.0, 'recall': 0.0, 'f1-score': 0.0, 'support': 75.0}, 'accuracy': 0.7711069418386491, 'macro avg': {'precision': 0.2895913926499033, 'recall': 0.2826655052264808, 'f1-score': 0.27017073987278206, 'support': 533.0}, 'weighted avg': {'precision': 0.6321386190353497, 'recall': 0.7711069418386491, 'f1-score': 0.6884466835963974, 'support': 533.0}} for parameters {'num_class': 4, 'alpha': 0.01, 'device': 'cuda', 'eta': 0.01, 'eval_metric': 'logloss', 'gamma': 0.05, 'grow_policy': 'depthwise', 'lambda': 0.1, 'max_depth': 3, 'num_parallel_tree': 30, 'objective': 'multi:softmax', 'sampling_method': 'uniform', 'subsample': 0.8, 'tree_method': 'hist'}\n"
     ]
    },
    {
     "name": "stderr",
     "output_type": "stream",
     "text": [
      "c:\\Users\\Moustapha\\AppData\\Local\\Programs\\Python\\Python312\\Lib\\site-packages\\sklearn\\metrics\\_classification.py:1497: UndefinedMetricWarning: Precision is ill-defined and being set to 0.0 in labels with no predicted samples. Use `zero_division` parameter to control this behavior.\n",
      "  _warn_prf(average, modifier, f\"{metric.capitalize()} is\", len(result))\n",
      "c:\\Users\\Moustapha\\AppData\\Local\\Programs\\Python\\Python312\\Lib\\site-packages\\sklearn\\metrics\\_classification.py:1497: UndefinedMetricWarning: Precision is ill-defined and being set to 0.0 in labels with no predicted samples. Use `zero_division` parameter to control this behavior.\n",
      "  _warn_prf(average, modifier, f\"{metric.capitalize()} is\", len(result))\n",
      "c:\\Users\\Moustapha\\AppData\\Local\\Programs\\Python\\Python312\\Lib\\site-packages\\sklearn\\metrics\\_classification.py:1497: UndefinedMetricWarning: Precision is ill-defined and being set to 0.0 in labels with no predicted samples. Use `zero_division` parameter to control this behavior.\n",
      "  _warn_prf(average, modifier, f\"{metric.capitalize()} is\", len(result))\n"
     ]
    },
    {
     "name": "stdout",
     "output_type": "stream",
     "text": [
      "{'0': {'precision': 0.7414448669201521, 'recall': 1.0, 'f1-score': 0.851528384279476, 'support': 390.0}, '1': {'precision': 0.6666666666666666, 'recall': 0.06896551724137931, 'f1-score': 0.125, 'support': 58.0}, '2': {'precision': 0.0, 'recall': 0.0, 'f1-score': 0.0, 'support': 9.0}, '3': {'precision': 0.0, 'recall': 0.0, 'f1-score': 0.0, 'support': 75.0}, 'accuracy': 0.7406015037593985, 'macro avg': {'precision': 0.35202788339670466, 'recall': 0.2672413793103448, 'f1-score': 0.244132096069869, 'support': 532.0}, 'weighted avg': {'precision': 0.6162221142209134, 'recall': 0.7406015037593985, 'f1-score': 0.6378685523853301, 'support': 532.0}} for parameters {'num_class': 4, 'alpha': 0.01, 'device': 'cuda', 'eta': 0.01, 'eval_metric': 'logloss', 'gamma': 0.05, 'grow_policy': 'depthwise', 'lambda': 0.1, 'max_depth': 3, 'num_parallel_tree': 30, 'objective': 'multi:softmax', 'sampling_method': 'uniform', 'subsample': 0.8, 'tree_method': 'hist'}\n"
     ]
    },
    {
     "name": "stderr",
     "output_type": "stream",
     "text": [
      "c:\\Users\\Moustapha\\AppData\\Local\\Programs\\Python\\Python312\\Lib\\site-packages\\sklearn\\metrics\\_classification.py:1497: UndefinedMetricWarning: Precision is ill-defined and being set to 0.0 in labels with no predicted samples. Use `zero_division` parameter to control this behavior.\n",
      "  _warn_prf(average, modifier, f\"{metric.capitalize()} is\", len(result))\n",
      "c:\\Users\\Moustapha\\AppData\\Local\\Programs\\Python\\Python312\\Lib\\site-packages\\sklearn\\metrics\\_classification.py:1497: UndefinedMetricWarning: Precision is ill-defined and being set to 0.0 in labels with no predicted samples. Use `zero_division` parameter to control this behavior.\n",
      "  _warn_prf(average, modifier, f\"{metric.capitalize()} is\", len(result))\n",
      "c:\\Users\\Moustapha\\AppData\\Local\\Programs\\Python\\Python312\\Lib\\site-packages\\sklearn\\metrics\\_classification.py:1497: UndefinedMetricWarning: Precision is ill-defined and being set to 0.0 in labels with no predicted samples. Use `zero_division` parameter to control this behavior.\n",
      "  _warn_prf(average, modifier, f\"{metric.capitalize()} is\", len(result))\n"
     ]
    },
    {
     "name": "stdout",
     "output_type": "stream",
     "text": [
      "{'0': {'precision': 0.7490494296577946, 'recall': 0.9974683544303797, 'f1-score': 0.8555917480998915, 'support': 395.0}, '1': {'precision': 0.7142857142857143, 'recall': 0.09803921568627451, 'f1-score': 0.1724137931034483, 'support': 51.0}, '2': {'precision': 0.0, 'recall': 0.0, 'f1-score': 0.0, 'support': 9.0}, '3': {'precision': 0.0, 'recall': 0.0, 'f1-score': 0.0, 'support': 78.0}, 'accuracy': 0.7485928705440901, 'macro avg': {'precision': 0.36583378598587724, 'recall': 0.2738768925291636, 'f1-score': 0.25700138530083494, 'support': 533.0}, 'weighted avg': {'precision': 0.6234579664979368, 'recall': 0.7485928705440901, 'f1-score': 0.6505663113465909, 'support': 533.0}} for parameters {'num_class': 4, 'alpha': 0.01, 'device': 'cuda', 'eta': 0.01, 'eval_metric': 'logloss', 'gamma': 0.05, 'grow_policy': 'depthwise', 'lambda': 0.1, 'max_depth': 3, 'num_parallel_tree': 30, 'objective': 'multi:softmax', 'sampling_method': 'uniform', 'subsample': 0.8, 'tree_method': 'approx'}\n"
     ]
    }
   ],
   "source": [
    "import cupy as cp\n",
    "hyper_params={\n",
    "    'objective':['multi:softmax'],\n",
    "    'eval_metric':['logloss','mse','mae'],\n",
    "\t'eta':[0.01,0.1,0.3,0.9],\n",
    "\t'gamma':[0.05,0.1,0.2],\n",
    "\t'max_depth':[3,6,12],\n",
    "\t'n_estimators':[100,200,300],\n",
    "    'num_parallel_tree':[3,10,30],\n",
    "\t'subsample':[0.3,0.5,0.8],\n",
    "\t'sampling_method':['uniform','gradient_based'],\n",
    "\t'lambda':[0.1, 0.5 , 1, 5, 7,10],\n",
    "    'alpha':[0.01,0.05,0.1,0.3,1],\n",
    "\t'tree_method':['hist','approx'],\n",
    "\t'grow_policy':['depthwise','lossguide'],\n",
    "}\n",
    "allParams=sorted(hyper_params)\n",
    "\n",
    "combinations=list(itr.product(*(hyper_params[param] for param in allParams)))\n",
    "\n",
    "\n",
    "def grid_search_xgb(parameters, X_train, y_train, cv=2):\n",
    "  \"\"\"\n",
    "  Performs grid search with KFold cross-validation for XGBoost with DMatrix.\n",
    "\n",
    "  Args:\n",
    "      params: Dictionary of hyperparameter grids to search over.\n",
    "      x_train: DMatrix containing training data features.\n",
    "      y_train: Training data target labels.\n",
    "      cv: Number of folds for KFold cross-validation (default=5).\n",
    "      scoring: Evaluation metric for scoring models (default='neg_mean_squared_error').\n",
    "      eval_metric: Evaluation metric reported during training (default='rmse').\n",
    "\n",
    "  Returns:\n",
    "      best_params: Dictionary containing the best hyperparameters found.\n",
    "      best_model: The XGBoost model with the best hyperparameters.\n",
    "      cv_results: Dictionary containing cross-validation results for each parameter combination.\n",
    "  \"\"\"\n",
    "\n",
    "  best_params = None\n",
    "  f1_scores=[float('-inf'),float('-inf'),float('-inf')]\n",
    "\n",
    "  cv_results = {}\n",
    "\n",
    "\n",
    "  kfold = KFold(n_splits=cv, shuffle=True)\n",
    "\n",
    "  for combination in parameters:\n",
    "    for train_idx, val_idx in kfold.split(X_train, y_train):\n",
    "      x_train_fold = X_train.iloc[train_idx]\n",
    "      x_val_fold = X_train.iloc[val_idx]\n",
    "      y_train_fold = y_train[train_idx]\n",
    "      y_val_fold = y_train[val_idx]\n",
    "\n",
    "\n",
    "      train_dmatrix = xgb.DMatrix(x_train_fold, label=y_train_fold)\n",
    "      val_dmatrix = xgb.DMatrix(x_val_fold, label=y_val_fold)\n",
    "\n",
    "      params = {\n",
    "          'num_class': 4,\n",
    "          'alpha': combination[0],\n",
    "          'device': 'cuda',\n",
    "          'eta': combination[1],\n",
    "          'eval_metric': 'logloss',\n",
    "          'gamma': combination[3],\n",
    "          'grow_policy': combination[4],\n",
    "          'lambda': combination[5],\n",
    "          'max_depth': combination[6],\n",
    "          'num_parallel_tree': combination[8],\n",
    "          'objective': 'multi:softmax',\n",
    "          'sampling_method': combination[10],\n",
    "          'subsample': combination[11],\n",
    "          'tree_method': combination[12],\n",
    "      }\n",
    "\n",
    "\n",
    "      model = xgb.train(params, train_dmatrix,\n",
    "                  num_boost_round=200)\n",
    "\n",
    "      #eval_results = model.eval(val_dmatrix, name='validation')\n",
    "      #validation_score = eval_results['validation']['logloss']\n",
    "\n",
    "      predictions=model.predict(val_dmatrix)\n",
    "      report=classification_report(y_val_fold,predictions,output_dict=True)\n",
    "      print(f'{report} for parameters {params}')\n",
    "      flags=[False,False,False]\n",
    "      for key, value in report.items():\n",
    "        if key==1 and f1_scores[key]<value:\n",
    "          f1_scores[key]=value\n",
    "          flags[key-1]=True\n",
    "        elif key==2 and f1_scores[key]<value:\n",
    "          f1_scores[key]=value\n",
    "          flags[key-1]=True\n",
    "        elif key==3 and f1_scores[key]<value:\n",
    "          f1_scores[key]=value\n",
    "          flags[key-1]=value\n",
    "\n",
    "      if flags[0]==True and flags[1]==True and flags[2]==True:\n",
    "        best_scores = f1_scores\n",
    "        best_params = combination\n",
    "        best_model = model\n",
    "\n",
    "      if combination not in cv_results:\n",
    "        cv_results[combination] = []\n",
    "      cv_results[combination].append(f1_scores)\n",
    "\n",
    "  return best_params, best_model, cv_results\n",
    "\n",
    "\n",
    "best_params, best_model, cv_results = grid_search_xgb(combinations, X_train, y_train)\n",
    "\n",
    "# Access results\n",
    "print(f\"Best Hyperparameters: {best_params}\")\n",
    "print(f\"Best Model Score: {cv_results}\")"
   ]
  }
 ],
 "metadata": {
  "kernelspec": {
   "display_name": "Python 3",
   "language": "python",
   "name": "python3"
  },
  "language_info": {
   "codemirror_mode": {
    "name": "ipython",
    "version": 3
   },
   "file_extension": ".py",
   "mimetype": "text/x-python",
   "name": "python",
   "nbconvert_exporter": "python",
   "pygments_lexer": "ipython3",
   "version": "3.12.2"
  }
 },
 "nbformat": 4,
 "nbformat_minor": 2
}
