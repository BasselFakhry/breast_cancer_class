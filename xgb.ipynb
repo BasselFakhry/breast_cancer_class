{
 "cells": [
  {
   "cell_type": "code",
   "execution_count": 2,
   "metadata": {},
   "outputs": [
    {
     "name": "stderr",
     "output_type": "stream",
     "text": [
      "C:\\Users\\Moustapha\\AppData\\Local\\Temp\\ipykernel_8932\\2543586406.py:1: DeprecationWarning: \n",
      "Pyarrow will become a required dependency of pandas in the next major release of pandas (pandas 3.0),\n",
      "(to allow more performant data types, such as the Arrow string type, and better interoperability with other libraries)\n",
      "but was not found to be installed on your system.\n",
      "If this would cause problems for you,\n",
      "please provide us feedback at https://github.com/pandas-dev/pandas/issues/54466\n",
      "        \n",
      "  import pandas as pd\n"
     ]
    }
   ],
   "source": [
    "import pandas as pd\n",
    "import xgboost as xgb\n",
    "from sklearn.model_selection import train_test_split, RandomizedSearchCV\n",
    "from sklearn.metrics import confusion_matrix, accuracy_score\n",
    "import numpy as np\n",
    "import matplotlib.pyplot as plt\n",
    "from sklearn.preprocessing import LabelEncoder,OneHotEncoder\n",
    "import itertools as itr\n",
    "from sklearn.model_selection import KFold\n",
    "from imblearn.over_sampling import SMOTEN"
   ]
  },
  {
   "cell_type": "code",
   "execution_count": 3,
   "metadata": {},
   "outputs": [
    {
     "name": "stderr",
     "output_type": "stream",
     "text": [
      "C:\\Users\\Moustapha\\AppData\\Local\\Temp\\ipykernel_8932\\2127919575.py:1: DtypeWarning: Columns (662,664,676,677,683,685,686,687) have mixed types. Specify dtype option on import or set low_memory=False.\n",
      "  data=pd.read_csv('data.csv')\n"
     ]
    }
   ],
   "source": [
    "data=pd.read_csv('data.csv')\n"
   ]
  },
  {
   "cell_type": "code",
   "execution_count": 167,
   "metadata": {},
   "outputs": [
    {
     "name": "stdout",
     "output_type": "stream",
     "text": [
      "cellularity: NA's=40\n",
      "er_status_measured_by_ihc: NA's=23\n",
      "neoplasm_histologic_grade: NA's=52\n",
      "primary_tumor_laterality: NA's=76\n",
      "mutation_count: NA's=31\n",
      "3-gene_classifier_subtype: NA's=166\n",
      "tumor_size: NA's=12\n",
      "tumor_stage: NA's=395\n",
      "death_from_cancer: NA's=1\n"
     ]
    }
   ],
   "source": [
    "columns=[]\n",
    "for column in data:\n",
    "    num_na=data[column].isna().sum()\n",
    "    if(num_na>0):\n",
    "        print(f'{column}: NA\\'s={num_na}')\n",
    "        columns.append(column)"
   ]
  },
  {
   "cell_type": "code",
   "execution_count": null,
   "metadata": {},
   "outputs": [],
   "source": [
    "\n",
    "for column in columns:\n",
    "    plt.figure() \n",
    "    data[column].hist()\n",
    "    plt.xlabel(column)\n",
    "    plt.title(f'Histogram of {column}')\n",
    "    plt.show()  \n",
    "\n",
    "#remove row where death_from_cancer=null\n"
   ]
  },
  {
   "cell_type": "code",
   "execution_count": 344,
   "metadata": {},
   "outputs": [
    {
     "data": {
      "image/png": "[encoded data removed]",
      "text/plain": [
       "<Figure size 640x480 with 1 Axes>"
      ]
     },
     "metadata": {},
     "output_type": "display_data"
    }
   ],
   "source": [
    "plt.figure()\n",
    "data['cancer_type'].hist()\n",
    "plt.xlabel('cancer_type')\n",
    "plt.show()"
   ]
  },
  {
   "cell_type": "code",
   "execution_count": null,
   "metadata": {},
   "outputs": [],
   "source": [
    "for column in data.select_dtypes(include=['object']).columns:\n",
    "    category_counts = data[column].value_counts()\n",
    "    \n",
    "    print(f\"\\nColumn: {column}\")\n",
    "    print(category_counts)"
   ]
  },
  {
   "cell_type": "code",
   "execution_count": 204,
   "metadata": {},
   "outputs": [],
   "source": [
    "def drop_single_class_columns(df):\n",
    "  unique_value_counts = df.nunique()\n",
    "  single_value_columns = unique_value_counts[unique_value_counts == 1].index\n",
    "  return df.drop(columns=single_value_columns)\n",
    "\n",
    "\n",
    "def remove_infrequent_categories(data, threshold=0.05):\n",
    "\n",
    "  filtered_data = data.copy()\n",
    "  categorical_columns = filtered_data.select_dtypes(include='object').columns\n",
    "  categorical_columns = [column for column in categorical_columns if column.endswith('_mut')]\n",
    "\n",
    "\n",
    "  for column in categorical_columns:\n",
    "      filtered_data=filtered_data.loc[filtered_data[column].isin(filtered_data[column].value_counts().index[filtered_data[column].value_counts()/len(filtered_data) > threshold])]\n",
    "\n",
    "  return filtered_data\n",
    "\n",
    "def one_hot_encode_columns(df, columns):\n",
    "  encoder = OneHotEncoder(sparse_output=False)\n",
    "\n",
    "  encoded_data = encoder.fit_transform(df[columns])\n",
    "\n",
    "  encoded_df = pd.DataFrame(encoded_data, columns=encoder.get_feature_names_out(columns))\n",
    "\n",
    "\n",
    "  \n",
    "  df_encoded = pd.concat([df.reset_index(drop=True),encoded_df.reset_index(drop=True)],axis=1)\n",
    "\n",
    "  return  df_encoded.drop(columns,axis=1)\n",
    "\n",
    "def data_preprocess(df):\n",
    "  \n",
    "  \n",
    "  \n",
    "  df = df.drop('patient_id', axis=1)\n",
    "  df=df.drop('cohort',axis=1)\n",
    "  \n",
    "  \n",
    "  numerical_columns = ['neoplasm_histologic_grade', 'mutation_count', 'tumor_size', 'tumor_stage']\n",
    "  df[numerical_columns] = df[numerical_columns].fillna(df[numerical_columns].mean())\n",
    "\n",
    "  categorical_columns = ['er_status_measured_by_ihc', 'primary_tumor_laterality', '3-gene_classifier_subtype', 'death_from_cancer']\n",
    "  for column in categorical_columns:\n",
    "    most_frequent_class = df[column].mode()[0]\n",
    "    df[column] = df[column].fillna(most_frequent_class)\n",
    "\n",
    "  # label encoding for cellularity 40 nan values transformed to 0\n",
    "  mapping = {\n",
    "      'Low': 1,\n",
    "      'Moderate': 2,\n",
    "      'High': 3,\n",
    "  }\n",
    "#['pr_status',   'primary_tumor_laterality',   'inferred_menopausal_state',   'her2_status',   'er_status',   'er_status_measured_by_ihc',   '3-gene_classifier_subtype', 'death_from_cancer']\n",
    "\n",
    "  df['cellularity'] = df['cellularity'].str.strip()\n",
    "  df[\"cellularity\"] = df[\"cellularity\"].map(mapping)\n",
    "  df[\"cellularity\"] = df[\"cellularity\"].fillna(3)\n",
    "\n",
    "\n",
    "  her2_mapping={\n",
    "  'LOSS' : -1,\n",
    "  'NEUTRAL' : 0,\n",
    "  'GAIN' : 1,\n",
    "  }\n",
    "\n",
    "  df=df[df.her2_status_measured_by_snp6 != 'UNDEF']\n",
    "  df['her2_status_measured_by_snp6'] = df['her2_status_measured_by_snp6'].str.strip()\n",
    "  df['her2_status_measured_by_snp6'] = df['her2_status_measured_by_snp6'].map(her2_mapping)\n",
    "\n",
    "  label_encoders = {}\n",
    "  df=drop_single_class_columns(df)\n",
    "  #df=remove_infrequent_categories(df,threshold=0.001)\n",
    "\n",
    "  y = df[\"cancer_type\"]\n",
    "  df = df.drop('cancer_type', axis = 1) \n",
    "  label_encoder = LabelEncoder()\n",
    "  y  = label_encoder.fit_transform(y)\n",
    "  y = pd.Series(y)\n",
    "\n",
    "  df=one_hot_encode_columns(df,columns=['pr_status',  'pam50_+_claudin-low_subtype', 'primary_tumor_laterality',   'inferred_menopausal_state',   'her2_status',   'er_status',   'er_status_measured_by_ihc',   '3-gene_classifier_subtype', 'death_from_cancer'])\n",
    "  \n",
    "\n",
    "\n",
    "  for column in df.columns:\n",
    "      if df[column].dtype == 'object' and column not in ['pr_status',  'pam50_+_claudin-low_subtype', 'primary_tumor_laterality',   'inferred_menopausal_state',   'her2_status',   'er_status',   'er_status_measured_by_ihc',   '3-gene_classifier_subtype', 'death_from_cancer']:\n",
    "          \n",
    "          le = LabelEncoder()\n",
    "\n",
    "          df[column] = le.fit_transform(df[column].astype(str))\n",
    "\n",
    "          label_encoders[column] = le\n",
    "  \n",
    "  last_seven = df.iloc[:, -7:]\n",
    "  part_before = df.iloc[:, :2] \n",
    "  part_after = df.iloc[:, 2:]\n",
    "  df = pd.concat([part_before, last_seven, part_after], axis=1)\n",
    "  df = df.iloc[:, :-7]\n",
    "\n",
    "\n",
    "  \n",
    "  return df,y"
   ]
  },
  {
   "cell_type": "code",
   "execution_count": 205,
   "metadata": {},
   "outputs": [
    {
     "name": "stdout",
     "output_type": "stream",
     "text": [
      "df shape upon one hot entrance = (1494, 685)\n",
      "encoded_df (1494, 26)\n",
      "df_encoded (1494, 711)\n",
      "return shape(1494, 702)\n"
     ]
    }
   ],
   "source": [
    "X,y =data_preprocess(data)"
   ]
  },
  {
   "cell_type": "code",
   "execution_count": 206,
   "metadata": {},
   "outputs": [],
   "source": [
    "def get_class_indices(series):\n",
    "    return series.groupby(series).apply(lambda x: x.index.tolist())\n",
    "\n",
    "class_indices = get_class_indices(y)\n"
   ]
  },
  {
   "cell_type": "code",
   "execution_count": 207,
   "metadata": {},
   "outputs": [
    {
     "data": {
      "text/plain": [
       "0    1197\n",
       "3     165\n",
       "1     114\n",
       "2      18\n",
       "Name: count, dtype: int64"
      ]
     },
     "execution_count": 207,
     "metadata": {},
     "output_type": "execute_result"
    }
   ],
   "source": [
    "y.value_counts()"
   ]
  },
  {
   "cell_type": "code",
   "execution_count": 208,
   "metadata": {},
   "outputs": [],
   "source": [
    "\n",
    "desired_samples = {0: 1000, 1: 100, 2: 15, 3: 130}\n",
    "\n",
    "\n",
    "X_train_selected = pd.DataFrame()\n",
    "y_train_selected = []\n",
    "\n",
    "for class_label, num_samples in desired_samples.items():\n",
    "    \n",
    "    indices = class_indices[class_label]\n",
    "    \n",
    "    selected_indices = np.random.choice(indices, size=num_samples, replace=True)\n",
    "    \n",
    "    X_train_selected = pd.concat([X_train_selected, X.loc[selected_indices]])\n",
    "    y_train_selected.extend(y[selected_indices])\n",
    "\n",
    "y_train_selected = pd.Series(y_train_selected)\n",
    "\n"
   ]
  },
  {
   "cell_type": "code",
   "execution_count": 230,
   "metadata": {},
   "outputs": [
    {
     "data": {
      "text/plain": [
       "(1245,)"
      ]
     },
     "execution_count": 230,
     "metadata": {},
     "output_type": "execute_result"
    }
   ],
   "source": [
    "y_train_selected.shape"
   ]
  },
  {
   "cell_type": "code",
   "execution_count": 231,
   "metadata": {},
   "outputs": [],
   "source": [
    "\n",
    "X_train, X_validate_test, y_train, y_validate_test = train_test_split(X_train_selected, y_train_selected, test_size=0.2, stratify=y_train_selected, random_state=42)\n",
    "X_validate, X_test, y_validate, y_test =train_test_split(X_validate_test,y_validate_test,test_size=0.5,random_state=42)"
   ]
  },
  {
   "cell_type": "code",
   "execution_count": 232,
   "metadata": {},
   "outputs": [
    {
     "data": {
      "text/plain": [
       "0    800\n",
       "3    104\n",
       "1     80\n",
       "2     12\n",
       "Name: count, dtype: int64"
      ]
     },
     "execution_count": 232,
     "metadata": {},
     "output_type": "execute_result"
    }
   ],
   "source": [
    "y_train.value_counts()"
   ]
  },
  {
   "cell_type": "code",
   "execution_count": 233,
   "metadata": {},
   "outputs": [],
   "source": [
    "from sklearn.utils import resample\n",
    "import imblearn\n",
    "# X_minority_1=X_y_trian[X_y_trian.iloc[:,702]==2]\n",
    "# X_minority_2=X_y_trian[X_y_trian.iloc[:,702]==1]\n",
    "# X_minority_3=X_y_trian[X_y_trian.iloc[:,702]==3]\n",
    "# data_minority_resample_1=resample(X_minority_1,replace=True,n_samples=800)\n",
    "# data_minority_resample_2=resample(X_minority_2,replace=True,n_samples=800)\n",
    "# data_minority_resample_3=resample(X_minority_3,replace=True,n_samples=800)\n",
    "# X_y_trian=pd.concat([data_minority_resample_1,data_minority_resample_2,data_minority_resample_3,X_y_trian])\n",
    "\n",
    "ROS=imblearn.over_sampling.RandomOverSampler(random_state=0)\n",
    "X_train_resampled, y_train_resampled=ROS.fit_resample(X_train,y_train)"
   ]
  },
  {
   "cell_type": "code",
   "execution_count": 236,
   "metadata": {},
   "outputs": [],
   "source": [
    "X_train=X_train_resampled\n",
    "y_train=y_train_resampled"
   ]
  },
  {
   "cell_type": "code",
   "execution_count": 241,
   "metadata": {},
   "outputs": [
    {
     "name": "stdout",
     "output_type": "stream",
     "text": [
      "Accuracy Score: 0.9112903225806451\n"
     ]
    }
   ],
   "source": [
    "dtrain=xgb.DMatrix(X_train, label=y_train)\n",
    "dval=xgb.DMatrix(X_validate,y_validate)\n",
    "params={\n",
    "\t'objective':'multi:softmax',\n",
    "\t'num_class':4,\n",
    "\t'tree_method':'hist',\n",
    "\t'device':'cuda',\n",
    "}\n",
    "num_boost_round=100\n",
    "model=xgb.train(params, dtrain, num_boost_round=num_boost_round)\n",
    "\n",
    "\n",
    "predictions=model.predict(dval)\n",
    "\n",
    "\n",
    "\n",
    "print(\"Accuracy Score:\", accuracy_score(y_validate,predictions))\n"
   ]
  },
  {
   "cell_type": "code",
   "execution_count": 238,
   "metadata": {},
   "outputs": [
    {
     "name": "stdout",
     "output_type": "stream",
     "text": [
      "Classification Report:\n",
      "              precision    recall  f1-score   support\n",
      "\n",
      "           0       0.92      0.99      0.95       104\n",
      "           1       0.78      0.78      0.78         9\n",
      "           2       0.00      0.00      0.00         1\n",
      "           3       1.00      0.30      0.46        10\n",
      "\n",
      "    accuracy                           0.91       124\n",
      "   macro avg       0.67      0.52      0.55       124\n",
      "weighted avg       0.91      0.91      0.89       124\n",
      "\n"
     ]
    },
    {
     "name": "stderr",
     "output_type": "stream",
     "text": [
      "c:\\Users\\Moustapha\\AppData\\Local\\Programs\\Python\\Python312\\Lib\\site-packages\\sklearn\\metrics\\_classification.py:1497: UndefinedMetricWarning: Precision is ill-defined and being set to 0.0 in labels with no predicted samples. Use `zero_division` parameter to control this behavior.\n",
      "  _warn_prf(average, modifier, f\"{metric.capitalize()} is\", len(result))\n",
      "c:\\Users\\Moustapha\\AppData\\Local\\Programs\\Python\\Python312\\Lib\\site-packages\\sklearn\\metrics\\_classification.py:1497: UndefinedMetricWarning: Precision is ill-defined and being set to 0.0 in labels with no predicted samples. Use `zero_division` parameter to control this behavior.\n",
      "  _warn_prf(average, modifier, f\"{metric.capitalize()} is\", len(result))\n",
      "c:\\Users\\Moustapha\\AppData\\Local\\Programs\\Python\\Python312\\Lib\\site-packages\\sklearn\\metrics\\_classification.py:1497: UndefinedMetricWarning: Precision is ill-defined and being set to 0.0 in labels with no predicted samples. Use `zero_division` parameter to control this behavior.\n",
      "  _warn_prf(average, modifier, f\"{metric.capitalize()} is\", len(result))\n"
     ]
    }
   ],
   "source": [
    "from sklearn.metrics import classification_report\n",
    "\n",
    "report = classification_report(y_validate, predictions, labels=[0, 1, 2, 3])\n",
    "\n",
    "print(\"Classification Report:\")\n",
    "print(report)\n"
   ]
  },
  {
   "cell_type": "code",
   "execution_count": 239,
   "metadata": {},
   "outputs": [
    {
     "data": {
      "image/png": "[encoded data removed]",
      "text/plain": [
       "<Figure size 800x600 with 2 Axes>"
      ]
     },
     "metadata": {},
     "output_type": "display_data"
    }
   ],
   "source": [
    "import seaborn as sns\n",
    "import matplotlib.pyplot as plt\n",
    "\n",
    "conf_matrix = confusion_matrix(y_validate, predictions)\n",
    "\n",
    "class_labels = ['Class 0', 'Class 1', 'Class 2', 'Class 3']\n",
    "\n",
    "plt.figure(figsize=(8, 6))\n",
    "sns.heatmap(conf_matrix, annot=True, cmap='Blues', fmt='d', xticklabels=class_labels, yticklabels=class_labels)\n",
    "plt.xlabel('Predicted Label')\n",
    "plt.ylabel('True Label')\n",
    "plt.title('Confusion Matrix')\n",
    "plt.show()\n"
   ]
  },
  {
   "cell_type": "code",
   "execution_count": 217,
   "metadata": {},
   "outputs": [],
   "source": [
    "import joblib\n",
    "\n",
    "#to use the model with high acc\n",
    "loaded_model=joblib.load('xgboost.pkl')\n",
    "\n"
   ]
  },
  {
   "cell_type": "markdown",
   "metadata": {},
   "source": [
    "**HyperParameter Tuning**"
   ]
  },
  {
   "cell_type": "code",
   "execution_count": 227,
   "metadata": {},
   "outputs": [
    {
     "name": "stdout",
     "output_type": "stream",
     "text": [
      "accuracy score =0.9924433249370277 for the following params:{'num_class': 4, 'alpha': 0.01, 'device': 'cuda', 'eta': 0.01, 'eval_metric': 'logloss', 'gamma': 0.05, 'grow_policy': 'depthwise', 'lambda': 0.1, 'max_depth': 3, 'num_parallel_tree': 3, 'objective': 'multi:softmax', 'sampling_method': 'uniform', 'subsample': 0.3, 'tree_method': 'hist'}\n",
      "accuracy score =0.9748110831234257 for the following params:{'num_class': 4, 'alpha': 0.01, 'device': 'cuda', 'eta': 0.01, 'eval_metric': 'logloss', 'gamma': 0.05, 'grow_policy': 'depthwise', 'lambda': 0.1, 'max_depth': 3, 'num_parallel_tree': 3, 'objective': 'multi:softmax', 'sampling_method': 'uniform', 'subsample': 0.3, 'tree_method': 'hist'}\n",
      "accuracy score =0.9748110831234257 for the following params:{'num_class': 4, 'alpha': 0.01, 'device': 'cuda', 'eta': 0.01, 'eval_metric': 'logloss', 'gamma': 0.05, 'grow_policy': 'depthwise', 'lambda': 0.1, 'max_depth': 3, 'num_parallel_tree': 3, 'objective': 'multi:softmax', 'sampling_method': 'uniform', 'subsample': 0.3, 'tree_method': 'hist'}\n",
      "accuracy score =0.9697732997481109 for the following params:{'num_class': 4, 'alpha': 0.01, 'device': 'cuda', 'eta': 0.01, 'eval_metric': 'logloss', 'gamma': 0.05, 'grow_policy': 'depthwise', 'lambda': 0.1, 'max_depth': 3, 'num_parallel_tree': 3, 'objective': 'multi:softmax', 'sampling_method': 'uniform', 'subsample': 0.3, 'tree_method': 'hist'}\n",
      "accuracy score =0.9646464646464646 for the following params:{'num_class': 4, 'alpha': 0.01, 'device': 'cuda', 'eta': 0.01, 'eval_metric': 'logloss', 'gamma': 0.05, 'grow_policy': 'depthwise', 'lambda': 0.1, 'max_depth': 3, 'num_parallel_tree': 3, 'objective': 'multi:softmax', 'sampling_method': 'uniform', 'subsample': 0.3, 'tree_method': 'hist'}\n",
      "accuracy score =0.9773299748110831 for the following params:{'num_class': 4, 'alpha': 0.01, 'device': 'cuda', 'eta': 0.01, 'eval_metric': 'logloss', 'gamma': 0.05, 'grow_policy': 'depthwise', 'lambda': 0.1, 'max_depth': 3, 'num_parallel_tree': 3, 'objective': 'multi:softmax', 'sampling_method': 'uniform', 'subsample': 0.3, 'tree_method': 'approx'}\n"
     ]
    },
    {
     "ename": "KeyboardInterrupt",
     "evalue": "",
     "output_type": "error",
     "traceback": [
      "\u001b[1;31m---------------------------------------------------------------------------\u001b[0m",
      "\u001b[1;31mKeyboardInterrupt\u001b[0m                         Traceback (most recent call last)",
      "Cell \u001b[1;32mIn[227], line 102\u001b[0m\n\u001b[0;32m     97\u001b[0m       cv_results[combination]\u001b[38;5;241m.\u001b[39mappend(accuracy)\n\u001b[0;32m     99\u001b[0m   \u001b[38;5;28;01mreturn\u001b[39;00m best_params, best_model, cv_results\n\u001b[1;32m--> 102\u001b[0m best_params, best_model, cv_results \u001b[38;5;241m=\u001b[39m \u001b[43mgrid_search_xgb\u001b[49m\u001b[43m(\u001b[49m\u001b[43mcombinations\u001b[49m\u001b[43m,\u001b[49m\u001b[43m \u001b[49m\u001b[43mX_train_resampled\u001b[49m\u001b[43m,\u001b[49m\u001b[43m \u001b[49m\u001b[43my_train_resampled\u001b[49m\u001b[43m)\u001b[49m\n\u001b[0;32m    104\u001b[0m \u001b[38;5;66;03m# Access results\u001b[39;00m\n\u001b[0;32m    105\u001b[0m \u001b[38;5;28mprint\u001b[39m(\u001b[38;5;124mf\u001b[39m\u001b[38;5;124m\"\u001b[39m\u001b[38;5;124mBest Hyperparameters: \u001b[39m\u001b[38;5;132;01m{\u001b[39;00mbest_params\u001b[38;5;132;01m}\u001b[39;00m\u001b[38;5;124m\"\u001b[39m)\n",
      "Cell \u001b[1;32mIn[227], line 78\u001b[0m, in \u001b[0;36mgrid_search_xgb\u001b[1;34m(parameters, X_train, y_train, cv)\u001b[0m\n\u001b[0;32m     58\u001b[0m val_dmatrix \u001b[38;5;241m=\u001b[39m xgb\u001b[38;5;241m.\u001b[39mDMatrix(x_val_fold, label\u001b[38;5;241m=\u001b[39my_val_fold)\n\u001b[0;32m     60\u001b[0m params \u001b[38;5;241m=\u001b[39m {\n\u001b[0;32m     61\u001b[0m     \u001b[38;5;124m'\u001b[39m\u001b[38;5;124mnum_class\u001b[39m\u001b[38;5;124m'\u001b[39m: \u001b[38;5;241m4\u001b[39m,\n\u001b[0;32m     62\u001b[0m     \u001b[38;5;124m'\u001b[39m\u001b[38;5;124malpha\u001b[39m\u001b[38;5;124m'\u001b[39m: combination[\u001b[38;5;241m0\u001b[39m],\n\u001b[1;32m   (...)\u001b[0m\n\u001b[0;32m     74\u001b[0m     \u001b[38;5;124m'\u001b[39m\u001b[38;5;124mtree_method\u001b[39m\u001b[38;5;124m'\u001b[39m: combination[\u001b[38;5;241m12\u001b[39m],\n\u001b[0;32m     75\u001b[0m }\n\u001b[1;32m---> 78\u001b[0m model \u001b[38;5;241m=\u001b[39m \u001b[43mxgb\u001b[49m\u001b[38;5;241;43m.\u001b[39;49m\u001b[43mtrain\u001b[49m\u001b[43m(\u001b[49m\u001b[43mparams\u001b[49m\u001b[43m,\u001b[49m\u001b[43m \u001b[49m\u001b[43mtrain_dmatrix\u001b[49m\u001b[43m,\u001b[49m\n\u001b[0;32m     79\u001b[0m \u001b[43m            \u001b[49m\u001b[43mnum_boost_round\u001b[49m\u001b[38;5;241;43m=\u001b[39;49m\u001b[38;5;241;43m200\u001b[39;49m\u001b[43m)\u001b[49m\n\u001b[0;32m     81\u001b[0m \u001b[38;5;66;03m#eval_results = model.eval(val_dmatrix, name='validation')\u001b[39;00m\n\u001b[0;32m     82\u001b[0m \u001b[38;5;66;03m#validation_score = eval_results['validation']['logloss']\u001b[39;00m\n\u001b[0;32m     84\u001b[0m predictions\u001b[38;5;241m=\u001b[39mmodel\u001b[38;5;241m.\u001b[39mpredict(val_dmatrix)\n",
      "File \u001b[1;32mc:\\Users\\Moustapha\\AppData\\Local\\Programs\\Python\\Python312\\Lib\\site-packages\\xgboost\\core.py:730\u001b[0m, in \u001b[0;36mrequire_keyword_args.<locals>.throw_if.<locals>.inner_f\u001b[1;34m(*args, **kwargs)\u001b[0m\n\u001b[0;32m    728\u001b[0m \u001b[38;5;28;01mfor\u001b[39;00m k, arg \u001b[38;5;129;01min\u001b[39;00m \u001b[38;5;28mzip\u001b[39m(sig\u001b[38;5;241m.\u001b[39mparameters, args):\n\u001b[0;32m    729\u001b[0m     kwargs[k] \u001b[38;5;241m=\u001b[39m arg\n\u001b[1;32m--> 730\u001b[0m \u001b[38;5;28;01mreturn\u001b[39;00m \u001b[43mfunc\u001b[49m\u001b[43m(\u001b[49m\u001b[38;5;241;43m*\u001b[39;49m\u001b[38;5;241;43m*\u001b[39;49m\u001b[43mkwargs\u001b[49m\u001b[43m)\u001b[49m\n",
      "File \u001b[1;32mc:\\Users\\Moustapha\\AppData\\Local\\Programs\\Python\\Python312\\Lib\\site-packages\\xgboost\\training.py:181\u001b[0m, in \u001b[0;36mtrain\u001b[1;34m(params, dtrain, num_boost_round, evals, obj, feval, maximize, early_stopping_rounds, evals_result, verbose_eval, xgb_model, callbacks, custom_metric)\u001b[0m\n\u001b[0;32m    179\u001b[0m \u001b[38;5;28;01mif\u001b[39;00m cb_container\u001b[38;5;241m.\u001b[39mbefore_iteration(bst, i, dtrain, evals):\n\u001b[0;32m    180\u001b[0m     \u001b[38;5;28;01mbreak\u001b[39;00m\n\u001b[1;32m--> 181\u001b[0m \u001b[43mbst\u001b[49m\u001b[38;5;241;43m.\u001b[39;49m\u001b[43mupdate\u001b[49m\u001b[43m(\u001b[49m\u001b[43mdtrain\u001b[49m\u001b[43m,\u001b[49m\u001b[43m \u001b[49m\u001b[43mi\u001b[49m\u001b[43m,\u001b[49m\u001b[43m \u001b[49m\u001b[43mobj\u001b[49m\u001b[43m)\u001b[49m\n\u001b[0;32m    182\u001b[0m \u001b[38;5;28;01mif\u001b[39;00m cb_container\u001b[38;5;241m.\u001b[39mafter_iteration(bst, i, dtrain, evals):\n\u001b[0;32m    183\u001b[0m     \u001b[38;5;28;01mbreak\u001b[39;00m\n",
      "File \u001b[1;32mc:\\Users\\Moustapha\\AppData\\Local\\Programs\\Python\\Python312\\Lib\\site-packages\\xgboost\\core.py:2051\u001b[0m, in \u001b[0;36mBooster.update\u001b[1;34m(self, dtrain, iteration, fobj)\u001b[0m\n\u001b[0;32m   2047\u001b[0m \u001b[38;5;28mself\u001b[39m\u001b[38;5;241m.\u001b[39m_assign_dmatrix_features(dtrain)\n\u001b[0;32m   2049\u001b[0m \u001b[38;5;28;01mif\u001b[39;00m fobj \u001b[38;5;129;01mis\u001b[39;00m \u001b[38;5;28;01mNone\u001b[39;00m:\n\u001b[0;32m   2050\u001b[0m     _check_call(\n\u001b[1;32m-> 2051\u001b[0m         \u001b[43m_LIB\u001b[49m\u001b[38;5;241;43m.\u001b[39;49m\u001b[43mXGBoosterUpdateOneIter\u001b[49m\u001b[43m(\u001b[49m\n\u001b[0;32m   2052\u001b[0m \u001b[43m            \u001b[49m\u001b[38;5;28;43mself\u001b[39;49m\u001b[38;5;241;43m.\u001b[39;49m\u001b[43mhandle\u001b[49m\u001b[43m,\u001b[49m\u001b[43m \u001b[49m\u001b[43mctypes\u001b[49m\u001b[38;5;241;43m.\u001b[39;49m\u001b[43mc_int\u001b[49m\u001b[43m(\u001b[49m\u001b[43miteration\u001b[49m\u001b[43m)\u001b[49m\u001b[43m,\u001b[49m\u001b[43m \u001b[49m\u001b[43mdtrain\u001b[49m\u001b[38;5;241;43m.\u001b[39;49m\u001b[43mhandle\u001b[49m\n\u001b[0;32m   2053\u001b[0m \u001b[43m        \u001b[49m\u001b[43m)\u001b[49m\n\u001b[0;32m   2054\u001b[0m     )\n\u001b[0;32m   2055\u001b[0m \u001b[38;5;28;01melse\u001b[39;00m:\n\u001b[0;32m   2056\u001b[0m     pred \u001b[38;5;241m=\u001b[39m \u001b[38;5;28mself\u001b[39m\u001b[38;5;241m.\u001b[39mpredict(dtrain, output_margin\u001b[38;5;241m=\u001b[39m\u001b[38;5;28;01mTrue\u001b[39;00m, training\u001b[38;5;241m=\u001b[39m\u001b[38;5;28;01mTrue\u001b[39;00m)\n",
      "\u001b[1;31mKeyboardInterrupt\u001b[0m: "
     ]
    }
   ],
   "source": [
    "import cupy as cp\n",
    "hyper_params={\n",
    "    'objective':['multi:softmax'],\n",
    "    'eval_metric':['logloss'],\n",
    "\t'eta':[0.01,0.1,0.3,0.9],\n",
    "\t'gamma':[0.05,0.1,0.2],\n",
    "\t'max_depth':[3,12],\n",
    "\t'n_estimators':[100,200,300],\n",
    "    'num_parallel_tree':[3,10,30],\n",
    "\t'subsample':[0.3,0.5,0.8],\n",
    "\t'sampling_method':['uniform','gradient_based'],\n",
    "\t'lambda':[0.1, 0.5 , 1, 5, 7,10],\n",
    "    'alpha':[0.01,0.05,0.1,0.3,1],\n",
    "\t'tree_method':['hist','approx'],\n",
    "\t'grow_policy':['depthwise','lossguide'],\n",
    "}\n",
    "allParams=sorted(hyper_params)\n",
    "\n",
    "combinations=list(itr.product(*(hyper_params[param] for param in allParams)))\n",
    "\n",
    "\n",
    "def grid_search_xgb(parameters, X_train, y_train, cv=5):\n",
    "  \"\"\"\n",
    "  Performs grid search with KFold cross-validation for XGBoost with DMatrix.\n",
    "\n",
    "  Args:\n",
    "      params: Dictionary of hyperparameter grids to search over.\n",
    "      x_train: DMatrix containing training data features.\n",
    "      y_train: Training data target labels.\n",
    "      cv: Number of folds for KFold cross-validation (default=5).\n",
    "      scoring: Evaluation metric for scoring models (default='neg_mean_squared_error').\n",
    "      eval_metric: Evaluation metric reported during training (default='rmse').\n",
    "\n",
    "  Returns:\n",
    "      best_params: Dictionary containing the best hyperparameters found.\n",
    "      best_model: The XGBoost model with the best hyperparameters.\n",
    "      cv_results: Dictionary containing cross-validation results for each parameter combination.\n",
    "  \"\"\"\n",
    "\n",
    "  best_params = None\n",
    "  best_score = float('-inf') \n",
    "  cv_results = {}\n",
    "\n",
    "\n",
    "  kfold = KFold(n_splits=cv, shuffle=True)\n",
    "\n",
    "  for combination in parameters:\n",
    "    for train_idx, val_idx in kfold.split(X_train, y_train):\n",
    "      x_train_fold = X_train.iloc[train_idx]\n",
    "      x_val_fold = X_train.iloc[val_idx]\n",
    "      y_train_fold = y_train[train_idx]\n",
    "      y_val_fold = y_train[val_idx]\n",
    "\n",
    "\n",
    "      train_dmatrix = xgb.DMatrix(x_train_fold, label=y_train_fold)\n",
    "      val_dmatrix = xgb.DMatrix(x_val_fold, label=y_val_fold)\n",
    "\n",
    "      params = {\n",
    "          'num_class': 4,\n",
    "          'alpha': combination[0],\n",
    "          'device': 'cuda',\n",
    "          'eta': combination[1],\n",
    "          'eval_metric': 'logloss',\n",
    "          'gamma': combination[3],\n",
    "          'grow_policy': combination[4],\n",
    "          'lambda': combination[5],\n",
    "          'max_depth': combination[6],\n",
    "          'num_parallel_tree': combination[8],\n",
    "          'objective': 'multi:softmax',\n",
    "          'sampling_method': combination[10],\n",
    "          'subsample': combination[11],\n",
    "          'tree_method': combination[12],\n",
    "      }\n",
    "\n",
    "\n",
    "      model = xgb.train(params, train_dmatrix,\n",
    "                  num_boost_round=200)\n",
    "\n",
    "      #eval_results = model.eval(val_dmatrix, name='validation')\n",
    "      #validation_score = eval_results['validation']['logloss']\n",
    "\n",
    "      predictions=model.predict(val_dmatrix)\n",
    "      accuracy=accuracy_score(y_val_fold, predictions)\n",
    "      print(f'accuracy score ={accuracy} for the following params:{params}')\n",
    "\n",
    "      if accuracy > best_score:\n",
    "        best_score = accuracy\n",
    "        best_params = combination\n",
    "        best_model = model\n",
    "\n",
    "      if combination not in cv_results:\n",
    "        cv_results[combination] = []\n",
    "      cv_results[combination].append(accuracy)\n",
    "\n",
    "  return best_params, best_model, cv_results\n",
    "\n",
    "\n",
    "best_params, best_model, cv_results = grid_search_xgb(combinations, X_train, y_train)\n",
    "\n",
    "# Access results\n",
    "print(f\"Best Hyperparameters: {best_params}\")\n",
    "print(f\"Best Model Score: {cv_results}\")"
   ]
  }
 ],
 "metadata": {
  "kernelspec": {
   "display_name": "Python 3",
   "language": "python",
   "name": "python3"
  },
  "language_info": {
   "codemirror_mode": {
    "name": "ipython",
    "version": 3
   },
   "file_extension": ".py",
   "mimetype": "text/x-python",
   "name": "python",
   "nbconvert_exporter": "python",
   "pygments_lexer": "ipython3",
   "version": "3.12.2"
  }
 },
 "nbformat": 4,
 "nbformat_minor": 2
}
