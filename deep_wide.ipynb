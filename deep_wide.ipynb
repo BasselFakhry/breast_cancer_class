{
 "cells": [
  {
   "cell_type": "code",
   "execution_count": 1,
   "metadata": {},
   "outputs": [],
   "source": [
    "import pandas as pd\n",
    "import numpy as np\n",
    "from sklearn.preprocessing import LabelEncoder"
   ]
  },
  {
   "cell_type": "code",
   "execution_count": 15,
   "metadata": {},
   "outputs": [],
   "source": [
    "def data_preprocess(df):\n",
    "    y = df[\"cancer_type\"]\n",
    "    label_encoder = LabelEncoder();\n",
    "    y  = label_encoder.fit_transform(y)\n",
    "    y = pd.Series(y)\n",
    "    df = df.drop('cancer_type', axis = 1)\n",
    "\n",
    "    # label encoding for cellularity 40 nan values transformed to 0\n",
    "    mapping = {\n",
    "        'Low': 1,\n",
    "        'Moderate': 2,\n",
    "        'High': 3,\n",
    "    }\n",
    "    df['cellularity'] = df['cellularity'].str.strip()\n",
    "    df[\"cellularity\"] = df[\"cellularity\"].map(mapping)\n",
    "    df[\"cellularity\"] = df[\"cellularity\"].fillna(0)\n",
    "\n",
    "\n",
    "    # dropping patient_id (irrelevant info)\n",
    "    df = df.drop('patient_id', axis=1)\n",
    "\n",
    "    #label encoding pam50_+_claudin-low_subtype\n",
    "    df['pam50_+_claudin-low_subtype'] =label_encoder.fit_transform( df['pam50_+_claudin-low_subtype'])\n",
    "\n",
    "    df['er_status'] =label_encoder.fit_transform( df['er_status'])\n",
    "\n",
    "    df['er_status_measured_by_ihc'] = label_encoder.fit_transform(df['er_status_measured_by_ihc'])\n",
    "\n",
    "    df['her2_status'] = label_encoder.fit_transform(df['her2_status'])\n",
    "\n",
    "    her2_mapping={\n",
    "    'LOSS' : 0,\n",
    "    'NEUTRAL' : 1,\n",
    "    'GAIN' : 3,\n",
    "    'UNDEF' : 1\n",
    "    }\n",
    "\n",
    "    df['her2_status_measured_by_snp6'] = df['her2_status_measured_by_snp6'].str.strip()\n",
    "    df['her2_status_measured_by_snp6'] = df['her2_status_measured_by_snp6'].map(her2_mapping)\n",
    "\n",
    "    df['inferred_menopausal_state'] = label_encoder.fit_transform(df['inferred_menopausal_state'])\n",
    "\n",
    "    map_laterality = {\n",
    "    'Right':1,\n",
    "    'Left':-1,\n",
    "    }\n",
    "    df['primary_tumor_laterality'] = df['primary_tumor_laterality'].str.strip()\n",
    "    df['primary_tumor_laterality'] = df['primary_tumor_laterality'].map(map_laterality)\n",
    "    df['primary_tumor_laterality'] = df['primary_tumor_laterality'].fillna(0)\n",
    "\n",
    "    df['pr_status'] = label_encoder.fit_transform(df['pr_status'])\n",
    "\n",
    "    df = pd.get_dummies(df, columns=['3-gene_classifier_subtype'])\n",
    "\n",
    "    df = pd.get_dummies(df, columns=['death_from_cancer'])\n",
    "\n",
    "    tumor_mean = df['tumor_size'].mean()\n",
    "    df[\"tumor_size\"] = df[\"tumor_size\"].fillna(tumor_mean)\n",
    "\n",
    "    mutation_mean = df['mutation_count'].mean()\n",
    "    df['mutation_count'] = df['mutation_count'].fillna(mutation_mean)\n",
    "\n",
    "    df['neoplasm_histologic_grade'] = df['neoplasm_histologic_grade'].fillna(3)\n",
    "\n",
    "    majority_value = df['tumor_stage'].mode()[0]\n",
    "    df['tumor_stage'].fillna(majority_value, inplace=True)\n",
    "    df['tumor_stage']=label_encoder.fit_transform(df['tumor_stage'])\n",
    "\n",
    "    label_encoders = {}\n",
    "\n",
    "    for column in df.columns:\n",
    "        if df[column].dtype == 'object':\n",
    "            # Create a label encoder for each categorical column\n",
    "            le = LabelEncoder()\n",
    "\n",
    "            # Fit the label encoder and transform the data\n",
    "            df[column] = le.fit_transform(df[column].astype(str))\n",
    "\n",
    "            # Store the label encoder in a dictionary in case you need to reverse the encoding or use it later\n",
    "            label_encoders[column] = le\n",
    "    \n",
    "    last_seven = df.iloc[:, -7:]\n",
    "    part_before = df.iloc[:, :2]  # Columns up to the 19th (0-based index, so it includes columns 0-18)\n",
    "    part_after = df.iloc[:, 2:]\n",
    "    df = pd.concat([part_before, last_seven, part_after], axis=1)\n",
    "    df = df.iloc[:, :-7]\n",
    "\n",
    "\n",
    "    \n",
    "    return df,y\n",
    "\n",
    "\n",
    "\n",
    "\n",
    "\n",
    "\n",
    "\n"
   ]
  },
  {
   "cell_type": "code",
   "execution_count": 16,
   "metadata": {},
   "outputs": [
    {
     "name": "stderr",
     "output_type": "stream",
     "text": [
      "C:\\Users\\admin\\AppData\\Local\\Temp\\ipykernel_29964\\4001528013.py:1: DtypeWarning: Columns (662,664,676,677,683,685,686,687) have mixed types. Specify dtype option on import or set low_memory=False.\n",
      "  df = pd.read_csv('data.csv')\n",
      "C:\\Users\\admin\\AppData\\Local\\Temp\\ipykernel_29964\\3463248367.py:66: FutureWarning: A value is trying to be set on a copy of a DataFrame or Series through chained assignment using an inplace method.\n",
      "The behavior will change in pandas 3.0. This inplace method will never work because the intermediate object on which we are setting values always behaves as a copy.\n",
      "\n",
      "For example, when doing 'df[col].method(value, inplace=True)', try using 'df.method({col: value}, inplace=True)' or df[col] = df[col].method(value) instead, to perform the operation inplace on the original object.\n",
      "\n",
      "\n",
      "  df['tumor_stage'].fillna(majority_value, inplace=True)\n"
     ]
    }
   ],
   "source": [
    "df = pd.read_csv('data.csv')\n",
    "X, y = data_preprocess(df)"
   ]
  },
  {
   "cell_type": "code",
   "execution_count": 17,
   "metadata": {},
   "outputs": [],
   "source": [
    "\n",
    "import tensorflow as tf\n",
    "from sklearn.model_selection import train_test_split\n",
    "from sklearn.utils.class_weight import compute_class_weight\n",
    "import matplotlib.pyplot as plt\n",
    "import seaborn as sns\n",
    "from sklearn.metrics import confusion_matrix"
   ]
  },
  {
   "cell_type": "code",
   "execution_count": 18,
   "metadata": {},
   "outputs": [],
   "source": [
    "X_train, X_test, y_train, y_test = train_test_split(X, y, test_size=0.1, random_state=42, shuffle=True)\n",
    "\n",
    "from sklearn.utils.class_weight import compute_class_weight\n",
    "class_weights = compute_class_weight(\n",
    "    class_weight='balanced',\n",
    "    classes=np.unique(y_train),\n",
    "    y=y_train\n",
    ")\n",
    "class_weight_dict = dict(enumerate(class_weights))"
   ]
  },
  {
   "cell_type": "code",
   "execution_count": 19,
   "metadata": {},
   "outputs": [
    {
     "ename": "SyntaxError",
     "evalue": "invalid syntax (3493708516.py, line 4)",
     "output_type": "error",
     "traceback": [
      "\u001b[1;36m  Cell \u001b[1;32mIn[19], line 4\u001b[1;36m\u001b[0m\n\u001b[1;33m    input_d =\u001b[0m\n\u001b[1;37m              ^\u001b[0m\n\u001b[1;31mSyntaxError\u001b[0m\u001b[1;31m:\u001b[0m invalid syntax\n"
     ]
    }
   ],
   "source": [
    "def deep_and_wide(input, index_tumor_stage ):\n",
    "  input = tf.keras.layers.Input(shape = (input.shape[1],))\n",
    "  \n",
    "  input_d = input[:, :index_tumor_stage + 1]\n",
    "  input_w = input[:, index_tumor_stage + 1:]\n",
    "  d = tf.keras.layers.Dense(1024,activation='leaky_relu')(input_d)\n",
    "  d=  tf.keras.layers.Dense(512, activation = 'relu')(d)\n",
    "  d=  tf.keras.layers.Dense(256, activation = 'relu')(d)\n",
    "  d = tf.keras.layers.Dense(15,activation = 'relu')(d)\n",
    "\n",
    "\n",
    "  w = tf.keras.layers.Dense(300,activation = 'relu')(input_w)\n",
    "  w = tf.keras.layers.Dense(150 , activation = 'relu')(w)\n",
    "  w = tf.keras.layers.Dense(10 , activation = 'relu')(w)\n",
    "\n",
    "\n",
    "\n",
    "\n",
    "  combined = tf.keras.layers.concatenate([w, d])\n",
    "  combined = tf.keras.layers.Dense(10, activation = 'relu')(combined)\n",
    "  combined = tf.keras.layers.Dense(4, activation = 'softmax')(combined)\n",
    "\n",
    "  model_deep_wide = tf.keras.Model(inputs = input, outputs = combined)\n",
    "\n",
    "  model_deep_wide.compile(loss='sparse_categorical_crossentropy', optimizer='adam', metrics=['accuracy'])\n",
    "\n",
    "  return model_deep_wide\n"
   ]
  },
  {
   "cell_type": "code",
   "execution_count": 21,
   "metadata": {},
   "outputs": [],
   "source": [
    "excel = pd.DataFrame(X)\n",
    "excel.to_csv('clean.csv', index=False)"
   ]
  },
  {
   "cell_type": "code",
   "execution_count": null,
   "metadata": {},
   "outputs": [],
   "source": []
  }
 ],
 "metadata": {
  "kernelspec": {
   "display_name": "Python 3",
   "language": "python",
   "name": "python3"
  },
  "language_info": {
   "codemirror_mode": {
    "name": "ipython",
    "version": 3
   },
   "file_extension": ".py",
   "mimetype": "text/x-python",
   "name": "python",
   "nbconvert_exporter": "python",
   "pygments_lexer": "ipython3",
   "version": "3.12.2"
  }
 },
 "nbformat": 4,
 "nbformat_minor": 2
}
