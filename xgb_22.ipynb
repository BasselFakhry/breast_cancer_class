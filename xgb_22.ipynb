{
 "cells": [
  {
   "cell_type": "code",
   "execution_count": 6,
   "metadata": {},
   "outputs": [],
   "source": [
    "import pandas as pd\n",
    "import xgboost as xgb\n",
    "from sklearn.model_selection import train_test_split, RandomizedSearchCV\n",
    "from sklearn.metrics import confusion_matrix, accuracy_score,classification_report\n",
    "\n",
    "import numpy as np\n",
    "import matplotlib.pyplot as plt\n",
    "from sklearn.preprocessing import LabelEncoder,OneHotEncoder\n",
    "import itertools as itr\n",
    "from sklearn.model_selection import KFold\n",
    "from imblearn.over_sampling import SMOTEN"
   ]
  },
  {
   "cell_type": "code",
   "execution_count": 7,
   "metadata": {},
   "outputs": [
    {
     "name": "stderr",
     "output_type": "stream",
     "text": [
      "C:\\Users\\Moustapha\\AppData\\Local\\Temp\\ipykernel_23528\\2127919575.py:1: DtypeWarning: Columns (662,664,676,677,683,685,686,687) have mixed types. Specify dtype option on import or set low_memory=False.\n",
      "  data=pd.read_csv('data.csv')\n"
     ]
    }
   ],
   "source": [
    "data=pd.read_csv('data.csv')\n"
   ]
  },
  {
   "cell_type": "code",
   "execution_count": 5,
   "metadata": {},
   "outputs": [
    {
     "data": {
      "text/plain": [
       "(1496, 688)"
      ]
     },
     "execution_count": 5,
     "metadata": {},
     "output_type": "execute_result"
    }
   ],
   "source": [
    "data.shape"
   ]
  },
  {
   "cell_type": "code",
   "execution_count": 167,
   "metadata": {},
   "outputs": [
    {
     "name": "stdout",
     "output_type": "stream",
     "text": [
      "cellularity: NA's=40\n",
      "er_status_measured_by_ihc: NA's=23\n",
      "neoplasm_histologic_grade: NA's=52\n",
      "primary_tumor_laterality: NA's=76\n",
      "mutation_count: NA's=31\n",
      "3-gene_classifier_subtype: NA's=166\n",
      "tumor_size: NA's=12\n",
      "tumor_stage: NA's=395\n",
      "death_from_cancer: NA's=1\n"
     ]
    }
   ],
   "source": [
    "columns=[]\n",
    "for column in data:\n",
    "    num_na=data[column].isna().sum()\n",
    "    if(num_na>0):\n",
    "        print(f'{column}: NA\\'s={num_na}')\n",
    "        columns.append(column)"
   ]
  },
  {
   "cell_type": "code",
   "execution_count": null,
   "metadata": {},
   "outputs": [],
   "source": [
    "columns=[column for column in data if data[column].dtype!='object' and data[column].unique()[0]!=0 and data[column].unique()[1]!=1 ]\n",
    "for column in columns:\n",
    "    plt.figure() \n",
    "    data[column].hist()\n",
    "    plt.xlabel(column)\n",
    "    plt.title(f'Histogram of {column}')\n",
    "    plt.show()  \n",
    "\n",
    "#remove row where death_from_cancer=null\n"
   ]
  },
  {
   "cell_type": "code",
   "execution_count": null,
   "metadata": {},
   "outputs": [],
   "source": [
    "plt.figure()\n",
    "data['cancer_type'].hist()\n",
    "plt.xlabel('cancer_type')\n",
    "plt.show()"
   ]
  },
  {
   "cell_type": "code",
   "execution_count": null,
   "metadata": {},
   "outputs": [],
   "source": [
    "for column in data.select_dtypes(include=['object']).columns:\n",
    "    category_counts = data[column].value_counts()\n",
    "    \n",
    "    print(f\"\\nColumn: {column}\")\n",
    "    print(category_counts)"
   ]
  },
  {
   "cell_type": "code",
   "execution_count": 4,
   "metadata": {},
   "outputs": [],
   "source": [
    "X=data.drop('cancer_type',axis=1)\n",
    "y=data['cancer_type']"
   ]
  },
  {
   "cell_type": "code",
   "execution_count": 8,
   "metadata": {},
   "outputs": [],
   "source": [
    "def get_class_indices(series):\n",
    "    return series.groupby(series).apply(lambda x: x.index.tolist())\n",
    "\n",
    "#class_indices = get_class_indices(data['cancer_type'])\n"
   ]
  },
  {
   "cell_type": "code",
   "execution_count": 8,
   "metadata": {},
   "outputs": [],
   "source": [
    "\n",
    "X_train, X_validate_test, y_train, y_validate_test = train_test_split(X_train_selected, y_train_selected, test_size=0.3, stratify=y_train_selected, random_state=42)\n",
    "X_validate, X_test, y_validate, y_test =train_test_split(X_validate_test,y_validate_test,test_size=0.5,random_state=42)"
   ]
  },
  {
   "cell_type": "code",
   "execution_count": 9,
   "metadata": {},
   "outputs": [],
   "source": [
    "cat_columns=['pr_status',  'pam50_+_claudin-low_subtype', 'primary_tumor_laterality',   'inferred_menopausal_state',   'her2_status',   'er_status',   'er_status_measured_by_ihc',   '3-gene_classifier_subtype', 'death_from_cancer']\n",
    "\n",
    "def drop_single_class_columns(df):\n",
    "  unique_value_counts = df.nunique()\n",
    "  single_value_columns = unique_value_counts[unique_value_counts == 1].index\n",
    "  return df.drop(columns=single_value_columns)\n",
    "\n",
    "\n",
    "def remove_infrequent_categories(data, threshold=0.05):\n",
    "\n",
    "  filtered_data = data.copy()\n",
    "  categorical_columns = filtered_data.select_dtypes(include='object').columns\n",
    "  categorical_columns = [column for column in categorical_columns if column.endswith('_mut')]\n",
    "\n",
    "\n",
    "  for column in categorical_columns:\n",
    "      filtered_data=filtered_data.loc[filtered_data[column].isin(filtered_data[column].value_counts().index[filtered_data[column].value_counts()/len(filtered_data) > threshold])]\n",
    "\n",
    "  return filtered_data\n",
    "\n",
    "def one_hot_encode_columns(df, columns,isTrain, encoder):\n",
    "\n",
    "  enc=OneHotEncoder(sparse_output=False)\n",
    "  encoded_data=enc.fit_transform(df[columns])\n",
    "  # if(isTrain==True):\n",
    "  #   encoded_data = encoder.fit_transform(df[columns])\n",
    "  # else:\n",
    "  #    encoded_data=encoder.transform(df[columns])\n",
    "\n",
    "  encoded_df = pd.DataFrame(encoded_data, columns=enc.get_feature_names_out(columns))\n",
    "\n",
    "\n",
    "  \n",
    "  df_encoded = pd.concat([df.reset_index(drop=True),encoded_df.reset_index(drop=True)],axis=1)\n",
    "\n",
    "  return  df_encoded.drop(columns,axis=1)\n",
    "\n",
    "def data_preprocess(df,encoder,isTrain):\n",
    "  \n",
    "  \n",
    "  \n",
    "  df = df.drop('patient_id', axis=1)\n",
    "  df=df.drop('cohort',axis=1)\n",
    "  \n",
    "  \n",
    "  numerical_columns = ['neoplasm_histologic_grade', 'mutation_count', 'tumor_size', 'tumor_stage']\n",
    "  df[numerical_columns] = df[numerical_columns].fillna(df[numerical_columns].mean())\n",
    "\n",
    "  categorical_columns = ['er_status_measured_by_ihc', 'primary_tumor_laterality', '3-gene_classifier_subtype', 'death_from_cancer']\n",
    "  for column in categorical_columns:\n",
    "    most_frequent_class = df[column].mode()[0]\n",
    "    df[column] = df[column].fillna(most_frequent_class)\n",
    "\n",
    "  # label encoding for cellularity 40 nan values transformed to 0\n",
    "  mapping = {\n",
    "      'Low': 1,\n",
    "      'Moderate': 2,\n",
    "      'High': 3,\n",
    "  }\n",
    "#['pr_status',   'primary_tumor_laterality',   'inferred_menopausal_state',   'her2_status',   'er_status',   'er_status_measured_by_ihc',   '3-gene_classifier_subtype', 'death_from_cancer']\n",
    "\n",
    "  df['cellularity'] = df['cellularity'].str.strip()\n",
    "  df[\"cellularity\"] = df[\"cellularity\"].map(mapping)\n",
    "  df[\"cellularity\"] = df[\"cellularity\"].fillna(3)\n",
    "\n",
    "\n",
    "  her2_mapping={\n",
    "  'LOSS' : -1,\n",
    "  'NEUTRAL' : 0,\n",
    "  'GAIN' : 1,\n",
    "  }\n",
    "\n",
    "  df=df[df.her2_status_measured_by_snp6 != 'UNDEF']\n",
    "  df['her2_status_measured_by_snp6'] = df['her2_status_measured_by_snp6'].str.strip()\n",
    "  df['her2_status_measured_by_snp6'] = df['her2_status_measured_by_snp6'].map(her2_mapping)\n",
    "\n",
    "  label_encoders = {}\n",
    "  df=drop_single_class_columns(df)\n",
    "  #df=remove_infrequent_categories(df,threshold=0.001)\n",
    "\n",
    "  y = df[\"cancer_type\"]\n",
    "  df = df.drop('cancer_type', axis = 1) \n",
    "  label_encoder = LabelEncoder()\n",
    "  y  = label_encoder.fit_transform(y)\n",
    "  y = pd.Series(y)\n",
    "\n",
    "  df=one_hot_encode_columns(df,cat_columns,encoder=encoder,isTrain=isTrain)\n",
    "  \n",
    "\n",
    "  \n",
    "  for column in df.columns:\n",
    "      if df[column].dtype == 'object' and column not in ['pr_status',  'pam50_+_claudin-low_subtype', 'primary_tumor_laterality',   'inferred_menopausal_state',   'her2_status',   'er_status',   'er_status_measured_by_ihc',   '3-gene_classifier_subtype', 'death_from_cancer']:\n",
    "          \n",
    "          le = LabelEncoder()\n",
    "\n",
    "          df[column] = le.fit_transform(df[column].astype(str))\n",
    "\n",
    "          label_encoders[column] = le\n",
    "  \n",
    "  last_seven = df.iloc[:, -7:]\n",
    "  part_before = df.iloc[:, :2] \n",
    "  part_after = df.iloc[:, 2:]\n",
    "  df = pd.concat([part_before, last_seven, part_after], axis=1)\n",
    "  df = df.iloc[:, :-7]\n",
    "\n",
    "\n",
    "  \n",
    "  return df,y"
   ]
  },
  {
   "cell_type": "code",
   "execution_count": 38,
   "metadata": {},
   "outputs": [],
   "source": [
    "X, y=data_preprocess(data,'','')\n",
    "\n"
   ]
  },
  {
   "cell_type": "code",
   "execution_count": 7,
   "metadata": {},
   "outputs": [
    {
     "data": {
      "text/plain": [
       "0    1197\n",
       "3     165\n",
       "1     114\n",
       "2      18\n",
       "Name: count, dtype: int64"
      ]
     },
     "execution_count": 7,
     "metadata": {},
     "output_type": "execute_result"
    }
   ],
   "source": [
    "y.value_counts()"
   ]
  },
  {
   "cell_type": "code",
   "execution_count": 39,
   "metadata": {},
   "outputs": [],
   "source": [
    "class_indices=get_class_indices(y)\n"
   ]
  },
  {
   "cell_type": "code",
   "execution_count": 40,
   "metadata": {},
   "outputs": [
    {
     "name": "stdout",
     "output_type": "stream",
     "text": [
      "1494\n",
      "862\n",
      "632\n"
     ]
    }
   ],
   "source": [
    "desired_samples = {0: 600, 1: 100, 2: 12, 3: 150}\n",
    "\n",
    "\n",
    "all_indices = np.arange(len(X))\n",
    "\n",
    "\n",
    "X_train_selected = pd.DataFrame()\n",
    "y_train_selected = []\n",
    "\n",
    "X_test_selected=pd.DataFrame()\n",
    "y_test_selected=[]\n",
    "\n",
    "selected=[]\n",
    "\n",
    "for class_label, num_samples in desired_samples.items():\n",
    "    \n",
    "  indices = class_indices[class_label]\n",
    "  \n",
    "  selected_indices = np.random.choice(indices, size=num_samples, replace=False)\n",
    "  \n",
    "  selected.extend(selected_indices.tolist())\n",
    "  \n",
    "  X_train_selected = pd.concat([X_train_selected, X.loc[selected_indices]])\n",
    "  y_train_selected.extend(y[selected_indices])\n",
    "\n",
    "\n",
    "print(len(all_indices))\n",
    "print(len(selected))\n",
    "\n",
    "test_indices = np.setdiff1d(all_indices, sorted(selected))\n",
    "\n",
    "print(len(test_indices))\n",
    "\n",
    "X_test_selected = pd.concat([X_test_selected,X.loc[test_indices]])\n",
    "y_test_selected.extend(y[test_indices])\n",
    "\n",
    "y_train_selected = pd.Series(y_train_selected)\n",
    "y_test_selected=pd.Series(y_test_selected)"
   ]
  },
  {
   "cell_type": "code",
   "execution_count": 41,
   "metadata": {},
   "outputs": [],
   "source": [
    "X_train=X_train_selected\n",
    "y_train=y_train_selected"
   ]
  },
  {
   "cell_type": "code",
   "execution_count": 42,
   "metadata": {},
   "outputs": [],
   "source": [
    "X_validate, X_test, y_validate, y_test =train_test_split(X_test_selected,y_test_selected,test_size=0.5,random_state=42)"
   ]
  },
  {
   "cell_type": "code",
   "execution_count": 10,
   "metadata": {},
   "outputs": [
    {
     "data": {
      "text/plain": [
       "0    250\n",
       "3      9\n",
       "2      4\n",
       "1      3\n",
       "Name: count, dtype: int64"
      ]
     },
     "execution_count": 10,
     "metadata": {},
     "output_type": "execute_result"
    }
   ],
   "source": [
    "y_validate.value_counts()"
   ]
  },
  {
   "cell_type": "code",
   "execution_count": 11,
   "metadata": {},
   "outputs": [],
   "source": [
    "def create_df(X,y):\n",
    "    return pd.concat([X.reset_index(drop=True),pd.Series(data=y.reset_index(drop=True),name='cancer_type')],axis=1)"
   ]
  },
  {
   "cell_type": "code",
   "execution_count": null,
   "metadata": {},
   "outputs": [],
   "source": [
    "encoder=OneHotEncoder(sparse_output=False)\n",
    "X_train, y_train=data_preprocess(create_df(X_train,y_train),encoder,isTrain=True)\n",
    "X_validate, y_validate = data_preprocess(create_df(X_validate,y_validate),encoder,isTrain=False)\n",
    "X_test, y_test=data_preprocess(create_df(X_test,y_test),encoder=encoder,isTrain=False)\n",
    "\n"
   ]
  },
  {
   "cell_type": "code",
   "execution_count": 13,
   "metadata": {},
   "outputs": [],
   "source": [
    "train=create_df(X_train,y_train)\n",
    "validate=create_df(X_validate,y_validate)\n",
    "test=create_df(X_test,y_test)\n",
    "train,validate=train.align(validate,join='inner',axis=1)\n",
    "train,test=train.align(test,join='inner',axis=1)"
   ]
  },
  {
   "cell_type": "code",
   "execution_count": 14,
   "metadata": {},
   "outputs": [],
   "source": [
    "X_train=train.drop('cancer_type',axis=1)\n",
    "X_validate=validate.drop('cancer_type',axis=1)\n",
    "X_test=test.drop('cancer_type',axis=1)\n",
    "y_train=train['cancer_type']\n",
    "y_validate=validate['cancer_type']\n",
    "y_test=test['cancer_type']"
   ]
  },
  {
   "cell_type": "code",
   "execution_count": 43,
   "metadata": {},
   "outputs": [],
   "source": [
    "from sklearn.utils import resample\n",
    "import imblearn\n",
    "# X_minority_1=X_y_trian[X_y_trian.iloc[:,702]==2]\n",
    "# X_minority_2=X_y_trian[X_y_trian.iloc[:,702]==1]\n",
    "# X_minority_3=X_y_trian[X_y_trian.iloc[:,702]==3]\n",
    "# data_minority_resample_1=resample(X_minority_1,replace=True,n_samples=800)\n",
    "# data_minority_resample_2=resample(X_minority_2,replace=True,n_samples=800)\n",
    "# data_minority_resample_3=resample(X_minority_3,replace=True,n_samples=800)\n",
    "# X_y_trian=pd.concat([data_minority_resample_1,data_minority_resample_2,data_minority_resample_3,X_y_trian])\n",
    "\n",
    "ROS=imblearn.over_sampling.RandomOverSampler(random_state=0)\n",
    "X_train_resampled, y_train_resampled=ROS.fit_resample(X_train,y_train)"
   ]
  },
  {
   "cell_type": "code",
   "execution_count": 44,
   "metadata": {},
   "outputs": [],
   "source": [
    "X_train=X_train_resampled\n",
    "y_train=y_train_resampled"
   ]
  },
  {
   "cell_type": "code",
   "execution_count": 42,
   "metadata": {},
   "outputs": [
    {
     "name": "stdout",
     "output_type": "stream",
     "text": [
      "0     0.381\n",
      "3     1.270\n",
      "1     1.905\n",
      "2    15.875\n",
      "Name: count, dtype: float64\n"
     ]
    }
   ],
   "source": [
    "total_samples = len(y_train)\n",
    "class_counts = y_train.value_counts()\n",
    "class_weights = total_samples / (len(class_counts) * class_counts)\n",
    "print(class_weights)"
   ]
  },
  {
   "cell_type": "code",
   "execution_count": 45,
   "metadata": {},
   "outputs": [],
   "source": [
    "\n",
    "\n",
    "#sample_weights = y_train.map(class_weights)\n",
    "\n",
    "dtrain=xgb.DMatrix(X_train, label=y_train)\n"
   ]
  },
  {
   "cell_type": "code",
   "execution_count": 46,
   "metadata": {},
   "outputs": [],
   "source": [
    "#class_counts = y_validate.value_counts()\n",
    "#total_samples = len(y_validate)\n",
    "#class_weights = total_samples / (len(class_counts) * class_counts)\n",
    "\n",
    "#sample_weights = y_validate.map(class_weights)\n",
    "dval=xgb.DMatrix(X_validate,label=y_validate)"
   ]
  },
  {
   "cell_type": "code",
   "execution_count": 49,
   "metadata": {},
   "outputs": [
    {
     "name": "stdout",
     "output_type": "stream",
     "text": [
      "Accuracy Score: 0.8987341772151899\n"
     ]
    }
   ],
   "source": [
    "\n",
    "params={\n",
    "\t'objective':'multi:softmax',\n",
    "    'eval_metric':'mlogloss',\n",
    "\t'num_class':4,\n",
    "\t'tree_method':'hist',\n",
    "\t'device':'cuda',\n",
    "}\n",
    "num_boost_round=100\n",
    "model=xgb.train(params, dtrain, num_boost_round=num_boost_round)\n",
    "\n",
    "predictions=model.predict(dval)\n",
    "\n",
    "\n",
    "\n",
    "print(\"Accuracy Score:\", accuracy_score(y_validate,predictions))\n"
   ]
  },
  {
   "cell_type": "code",
   "execution_count": 48,
   "metadata": {},
   "outputs": [
    {
     "name": "stdout",
     "output_type": "stream",
     "text": [
      "Classification Report:\n",
      "              precision    recall  f1-score   support\n",
      "\n",
      "           0       0.97      0.93      0.95       301\n",
      "           1       0.27      0.80      0.40         5\n",
      "           2       0.00      0.00      0.00         3\n",
      "           3       0.09      0.14      0.11         7\n",
      "\n",
      "    accuracy                           0.90       316\n",
      "   macro avg       0.33      0.47      0.36       316\n",
      "weighted avg       0.93      0.90      0.91       316\n",
      "\n"
     ]
    }
   ],
   "source": [
    "\n",
    "report = classification_report(y_validate, predictions, labels=[0, 1, 2, 3])\n",
    "\n",
    "print(\"Classification Report:\")\n",
    "print(report)\n"
   ]
  },
  {
   "cell_type": "code",
   "execution_count": 37,
   "metadata": {},
   "outputs": [
    {
     "data": {
      "image/png": "[encoded data removed]",
      "text/plain": [
       "<Figure size 800x600 with 2 Axes>"
      ]
     },
     "metadata": {},
     "output_type": "display_data"
    }
   ],
   "source": [
    "import seaborn as sns\n",
    "import matplotlib.pyplot as plt\n",
    "\n",
    "conf_matrix = confusion_matrix(y_validate, predictions)\n",
    "\n",
    "class_labels = ['Class 0', 'Class 1', 'Class 2', 'Class 3']\n",
    "\n",
    "plt.figure(figsize=(8, 6))\n",
    "sns.heatmap(conf_matrix, annot=True, cmap='Blues', fmt='d', xticklabels=class_labels, yticklabels=class_labels)\n",
    "plt.xlabel('Predicted Label')\n",
    "plt.ylabel('True Label')\n",
    "plt.title('Confusion Matrix')\n",
    "plt.show()\n"
   ]
  },
  {
   "cell_type": "code",
   "execution_count": null,
   "metadata": {},
   "outputs": [],
   "source": [
    "import joblib\n",
    "\n",
    "#to use the model with high acc\n",
    "loaded_model=joblib.load('xgboost.pkl')"
   ]
  },
  {
   "cell_type": "markdown",
   "metadata": {},
   "source": [
    "**HyperParameter Tuning**"
   ]
  },
  {
   "cell_type": "code",
   "execution_count": 62,
   "metadata": {},
   "outputs": [
    {
     "name": "stdout",
     "output_type": "stream",
     "text": [
      "{'0': {'precision': 0.975, 'recall': 0.8731343283582089, 'f1-score': 0.9212598425196851, 'support': 134.0}, '1': {'precision': 0.9655172413793104, 'recall': 0.9790209790209791, 'f1-score': 0.9722222222222222, 'support': 143.0}, '2': {'precision': 1.0, 'recall': 1.0, 'f1-score': 1.0, 'support': 140.0}, '3': {'precision': 0.9225806451612903, 'recall': 1.0, 'f1-score': 0.959731543624161, 'support': 143.0}, 'accuracy': 0.9642857142857143, 'macro avg': {'precision': 0.9657744716351502, 'recall': 0.963038826844797, 'f1-score': 0.9633034020915171, 'support': 560.0}, 'weighted avg': {'precision': 0.965442853170189, 'recall': 0.9642857142857143, 'f1-score': 0.9637825132386975, 'support': 560.0}} for parameters {'num_class': 4, 'alpha': 0.01, 'device': 'cuda', 'eta': 0.01, 'eval_metric': 'logloss', 'gamma': 0.05, 'grow_policy': 'depthwise', 'lambda': 0.1, 'max_depth': 3, 'num_parallel_tree': 3, 'objective': 'multi:softmax', 'sampling_method': 'uniform', 'subsample': 0.3, 'tree_method': 'hist'}\n",
      "{'0': {'precision': 0.9836065573770492, 'recall': 0.8391608391608392, 'f1-score': 0.9056603773584906, 'support': 143.0}, '1': {'precision': 0.9310344827586207, 'recall': 0.9854014598540146, 'f1-score': 0.9574468085106383, 'support': 137.0}, '2': {'precision': 1.0, 'recall': 1.0, 'f1-score': 1.0, 'support': 147.0}, '3': {'precision': 0.910958904109589, 'recall': 1.0, 'f1-score': 0.953405017921147, 'support': 133.0}, 'accuracy': 0.9553571428571429, 'macro avg': {'precision': 0.9563999860613147, 'recall': 0.9561405747537135, 'f1-score': 0.9541280509475689, 'support': 560.0}, 'weighted avg': {'precision': 0.9577946358739721, 'recall': 0.9553571428571429, 'f1-score': 0.9544330609138111, 'support': 560.0}} for parameters {'num_class': 4, 'alpha': 0.01, 'device': 'cuda', 'eta': 0.01, 'eval_metric': 'logloss', 'gamma': 0.05, 'grow_policy': 'depthwise', 'lambda': 0.1, 'max_depth': 3, 'num_parallel_tree': 3, 'objective': 'multi:softmax', 'sampling_method': 'uniform', 'subsample': 0.3, 'tree_method': 'hist'}\n",
      "{'0': {'precision': 0.9448818897637795, 'recall': 0.851063829787234, 'f1-score': 0.8955223880597015, 'support': 141.0}, '1': {'precision': 0.946969696969697, 'recall': 0.9398496240601504, 'f1-score': 0.9433962264150944, 'support': 133.0}, '2': {'precision': 1.0, 'recall': 1.0, 'f1-score': 1.0, 'support': 129.0}, '3': {'precision': 0.9069767441860465, 'recall': 0.9936305732484076, 'f1-score': 0.9483282674772037, 'support': 157.0}, 'accuracy': 0.9464285714285714, 'macro avg': {'precision': 0.9497070827298807, 'recall': 0.9461360067739479, 'f1-score': 0.9468117204879999, 'support': 560.0}, 'weighted avg': {'precision': 0.9474476160551285, 'recall': 0.9464285714285714, 'f1-score': 0.9457640943277614, 'support': 560.0}} for parameters {'num_class': 4, 'alpha': 0.01, 'device': 'cuda', 'eta': 0.01, 'eval_metric': 'logloss', 'gamma': 0.05, 'grow_policy': 'depthwise', 'lambda': 0.1, 'max_depth': 3, 'num_parallel_tree': 3, 'objective': 'multi:softmax', 'sampling_method': 'uniform', 'subsample': 0.3, 'tree_method': 'hist'}\n",
      "{'0': {'precision': 0.9548872180451128, 'recall': 0.8943661971830986, 'f1-score': 0.9236363636363636, 'support': 142.0}, '1': {'precision': 0.961038961038961, 'recall': 0.9673202614379085, 'f1-score': 0.9641693811074918, 'support': 153.0}, '2': {'precision': 1.0, 'recall': 1.0, 'f1-score': 1.0, 'support': 133.0}, '3': {'precision': 0.9285714285714286, 'recall': 0.9848484848484849, 'f1-score': 0.9558823529411765, 'support': 132.0}, 'accuracy': 0.9607142857142857, 'macro avg': {'precision': 0.9611244019138756, 'recall': 0.961633735867373, 'f1-score': 0.960922024421258, 'support': 560.0}, 'weighted avg': {'precision': 0.9610792403085635, 'recall': 0.9607142857142857, 'f1-score': 0.9604477670250807, 'support': 560.0}} for parameters {'num_class': 4, 'alpha': 0.01, 'device': 'cuda', 'eta': 0.01, 'eval_metric': 'logloss', 'gamma': 0.05, 'grow_policy': 'depthwise', 'lambda': 0.1, 'max_depth': 3, 'num_parallel_tree': 3, 'objective': 'multi:softmax', 'sampling_method': 'uniform', 'subsample': 0.3, 'tree_method': 'hist'}\n",
      "{'0': {'precision': 0.9153846153846154, 'recall': 0.85, 'f1-score': 0.8814814814814815, 'support': 140.0}, '1': {'precision': 0.9689922480620154, 'recall': 0.9328358208955224, 'f1-score': 0.9505703422053232, 'support': 134.0}, '2': {'precision': 0.9869281045751634, 'recall': 1.0, 'f1-score': 0.993421052631579, 'support': 151.0}, '3': {'precision': 0.8986486486486487, 'recall': 0.9851851851851852, 'f1-score': 0.9399293286219081, 'support': 135.0}, 'accuracy': 0.9428571428571428, 'macro avg': {'precision': 0.9424884041676107, 'recall': 0.9420052515201769, 'f1-score': 0.9413505512350729, 'support': 560.0}, 'weighted avg': {'precision': 0.9434687834867383, 'recall': 0.9428571428571428, 'f1-score': 0.9422872706682979, 'support': 560.0}} for parameters {'num_class': 4, 'alpha': 0.01, 'device': 'cuda', 'eta': 0.01, 'eval_metric': 'logloss', 'gamma': 0.05, 'grow_policy': 'depthwise', 'lambda': 0.1, 'max_depth': 3, 'num_parallel_tree': 3, 'objective': 'multi:softmax', 'sampling_method': 'uniform', 'subsample': 0.3, 'tree_method': 'hist'}\n",
      "{'0': {'precision': 0.9841269841269841, 'recall': 0.8794326241134752, 'f1-score': 0.9288389513108615, 'support': 141.0}, '1': {'precision': 0.9617834394904459, 'recall': 1.0, 'f1-score': 0.9805194805194806, 'support': 151.0}, '2': {'precision': 0.9932432432432432, 'recall': 1.0, 'f1-score': 0.9966101694915255, 'support': 147.0}, '3': {'precision': 0.9224806201550387, 'recall': 0.9834710743801653, 'f1-score': 0.952, 'support': 121.0}, 'accuracy': 0.9660714285714286, 'macro avg': {'precision': 0.965408571753928, 'recall': 0.9657259246234101, 'f1-score': 0.9644921503304669, 'support': 560.0}, 'weighted avg': {'precision': 0.9671752070008546, 'recall': 0.9660714285714286, 'f1-score': 0.9655686225152272, 'support': 560.0}} for parameters {'num_class': 4, 'alpha': 0.01, 'device': 'cuda', 'eta': 0.01, 'eval_metric': 'logloss', 'gamma': 0.05, 'grow_policy': 'depthwise', 'lambda': 0.1, 'max_depth': 3, 'num_parallel_tree': 3, 'objective': 'multi:softmax', 'sampling_method': 'uniform', 'subsample': 0.3, 'tree_method': 'approx'}\n",
      "{'0': {'precision': 0.9838709677419355, 'recall': 0.8776978417266187, 'f1-score': 0.9277566539923955, 'support': 139.0}, '1': {'precision': 0.9739130434782609, 'recall': 0.9824561403508771, 'f1-score': 0.9781659388646288, 'support': 114.0}, '2': {'precision': 0.9875, 'recall': 1.0, 'f1-score': 0.9937106918238994, 'support': 158.0}, '3': {'precision': 0.9192546583850931, 'recall': 0.9932885906040269, 'f1-score': 0.9548387096774194, 'support': 149.0}, 'accuracy': 0.9642857142857143, 'macro avg': {'precision': 0.9661346674013224, 'recall': 0.9633606431703806, 'f1-score': 0.9636179985895859, 'support': 560.0}, 'weighted avg': {'precision': 0.9656751706643387, 'recall': 0.9642857142857143, 'f1-score': 0.9638327660457541, 'support': 560.0}} for parameters {'num_class': 4, 'alpha': 0.01, 'device': 'cuda', 'eta': 0.01, 'eval_metric': 'logloss', 'gamma': 0.05, 'grow_policy': 'depthwise', 'lambda': 0.1, 'max_depth': 3, 'num_parallel_tree': 3, 'objective': 'multi:softmax', 'sampling_method': 'uniform', 'subsample': 0.3, 'tree_method': 'approx'}\n",
      "{'0': {'precision': 0.9481481481481482, 'recall': 0.8767123287671232, 'f1-score': 0.9110320284697508, 'support': 146.0}, '1': {'precision': 0.9798657718120806, 'recall': 0.954248366013072, 'f1-score': 0.9668874172185431, 'support': 153.0}, '2': {'precision': 0.9925373134328358, 'recall': 1.0, 'f1-score': 0.9962546816479401, 'support': 133.0}, '3': {'precision': 0.8873239436619719, 'recall': 0.984375, 'f1-score': 0.9333333333333333, 'support': 128.0}, 'accuracy': 0.9517857142857142, 'macro avg': {'precision': 0.9519687942637591, 'recall': 0.9538339236950488, 'f1-score': 0.9518768651673919, 'support': 560.0}, 'weighted avg': {'precision': 0.9534536074860313, 'recall': 0.9517857142857142, 'f1-score': 0.9516303398515419, 'support': 560.0}} for parameters {'num_class': 4, 'alpha': 0.01, 'device': 'cuda', 'eta': 0.01, 'eval_metric': 'logloss', 'gamma': 0.05, 'grow_policy': 'depthwise', 'lambda': 0.1, 'max_depth': 3, 'num_parallel_tree': 3, 'objective': 'multi:softmax', 'sampling_method': 'uniform', 'subsample': 0.3, 'tree_method': 'approx'}\n",
      "{'0': {'precision': 0.9126984126984127, 'recall': 0.8394160583941606, 'f1-score': 0.8745247148288974, 'support': 137.0}, '1': {'precision': 0.9432624113475178, 'recall': 0.9432624113475178, 'f1-score': 0.9432624113475178, 'support': 141.0}, '2': {'precision': 1.0, 'recall': 1.0, 'f1-score': 1.0, 'support': 137.0}, '3': {'precision': 0.9102564102564102, 'recall': 0.9793103448275862, 'f1-score': 0.9435215946843853, 'support': 145.0}, 'accuracy': 0.9410714285714286, 'macro avg': {'precision': 0.9415543085755852, 'recall': 0.940497203642316, 'f1-score': 0.9403271802152001, 'support': 560.0}, 'weighted avg': {'precision': 0.9411193964765392, 'recall': 0.9410714285714286, 'f1-score': 0.9403937806442766, 'support': 560.0}} for parameters {'num_class': 4, 'alpha': 0.01, 'device': 'cuda', 'eta': 0.01, 'eval_metric': 'logloss', 'gamma': 0.05, 'grow_policy': 'depthwise', 'lambda': 0.1, 'max_depth': 3, 'num_parallel_tree': 3, 'objective': 'multi:softmax', 'sampling_method': 'uniform', 'subsample': 0.3, 'tree_method': 'approx'}\n",
      "{'0': {'precision': 0.9913793103448276, 'recall': 0.8394160583941606, 'f1-score': 0.9090909090909091, 'support': 137.0}, '1': {'precision': 0.9523809523809523, 'recall': 0.9929078014184397, 'f1-score': 0.9722222222222222, 'support': 141.0}, '2': {'precision': 0.9920634920634921, 'recall': 1.0, 'f1-score': 0.9960159362549801, 'support': 125.0}, '3': {'precision': 0.9181286549707602, 'recall': 1.0, 'f1-score': 0.9573170731707317, 'support': 157.0}, 'accuracy': 0.9589285714285715, 'macro avg': {'precision': 0.963488102440008, 'recall': 0.9580809649531501, 'f1-score': 0.9586615351847108, 'support': 560.0}, 'weighted avg': {'precision': 0.961176455609467, 'recall': 0.9589285714285715, 'f1-score': 0.9579099292829737, 'support': 560.0}} for parameters {'num_class': 4, 'alpha': 0.01, 'device': 'cuda', 'eta': 0.01, 'eval_metric': 'logloss', 'gamma': 0.05, 'grow_policy': 'depthwise', 'lambda': 0.1, 'max_depth': 3, 'num_parallel_tree': 3, 'objective': 'multi:softmax', 'sampling_method': 'uniform', 'subsample': 0.3, 'tree_method': 'approx'}\n",
      "{'0': {'precision': 0.923728813559322, 'recall': 0.7841726618705036, 'f1-score': 0.8482490272373541, 'support': 139.0}, '1': {'precision': 0.9219858156028369, 'recall': 0.9420289855072463, 'f1-score': 0.931899641577061, 'support': 138.0}, '2': {'precision': 0.9836065573770492, 'recall': 1.0, 'f1-score': 0.9917355371900827, 'support': 120.0}, '3': {'precision': 0.888268156424581, 'recall': 0.9754601226993865, 'f1-score': 0.9298245614035088, 'support': 163.0}, 'accuracy': 0.925, 'macro avg': {'precision': 0.9293973357409473, 'recall': 0.9254154425192842, 'f1-score': 0.9254271918520016, 'support': 560.0}, 'weighted avg': {'precision': 0.9258086500364104, 'recall': 0.925, 'f1-score': 0.9233543451700151, 'support': 560.0}} for parameters {'num_class': 4, 'alpha': 0.01, 'device': 'cuda', 'eta': 0.01, 'eval_metric': 'logloss', 'gamma': 0.05, 'grow_policy': 'depthwise', 'lambda': 0.1, 'max_depth': 3, 'num_parallel_tree': 3, 'objective': 'multi:softmax', 'sampling_method': 'uniform', 'subsample': 0.5, 'tree_method': 'hist'}\n",
      "{'0': {'precision': 0.9781021897810219, 'recall': 0.9054054054054054, 'f1-score': 0.9403508771929825, 'support': 148.0}, '1': {'precision': 0.9583333333333334, 'recall': 0.9787234042553191, 'f1-score': 0.968421052631579, 'support': 141.0}, '2': {'precision': 0.9927536231884058, 'recall': 1.0, 'f1-score': 0.9963636363636363, 'support': 137.0}, '3': {'precision': 0.950354609929078, 'recall': 1.0, 'f1-score': 0.9745454545454545, 'support': 134.0}, 'accuracy': 0.9696428571428571, 'macro avg': {'precision': 0.9698859390579597, 'recall': 0.9710322024151812, 'f1-score': 0.9699202551834132, 'support': 560.0}, 'weighted avg': {'precision': 0.9700694432051774, 'recall': 0.9696428571428571, 'f1-score': 0.9693039416723628, 'support': 560.0}} for parameters {'num_class': 4, 'alpha': 0.01, 'device': 'cuda', 'eta': 0.01, 'eval_metric': 'logloss', 'gamma': 0.05, 'grow_policy': 'depthwise', 'lambda': 0.1, 'max_depth': 3, 'num_parallel_tree': 3, 'objective': 'multi:softmax', 'sampling_method': 'uniform', 'subsample': 0.5, 'tree_method': 'hist'}\n",
      "{'0': {'precision': 0.9821428571428571, 'recall': 0.873015873015873, 'f1-score': 0.9243697478991597, 'support': 126.0}, '1': {'precision': 0.9939393939393939, 'recall': 0.9879518072289156, 'f1-score': 0.9909365558912386, 'support': 166.0}, '2': {'precision': 1.0, 'recall': 1.0, 'f1-score': 1.0, 'support': 151.0}, '3': {'precision': 0.8712121212121212, 'recall': 0.9829059829059829, 'f1-score': 0.9236947791164659, 'support': 117.0}, 'accuracy': 0.9642857142857143, 'macro avg': {'precision': 0.961823593073593, 'recall': 0.9609684157876929, 'f1-score': 0.959750270726716, 'support': 560.0}, 'weighted avg': {'precision': 0.9672781385281386, 'recall': 0.9642857142857143, 'f1-score': 0.9643541886961896, 'support': 560.0}} for parameters {'num_class': 4, 'alpha': 0.01, 'device': 'cuda', 'eta': 0.01, 'eval_metric': 'logloss', 'gamma': 0.05, 'grow_policy': 'depthwise', 'lambda': 0.1, 'max_depth': 3, 'num_parallel_tree': 3, 'objective': 'multi:softmax', 'sampling_method': 'uniform', 'subsample': 0.5, 'tree_method': 'hist'}\n",
      "{'0': {'precision': 0.9111111111111111, 'recall': 0.8661971830985915, 'f1-score': 0.8880866425992779, 'support': 142.0}, '1': {'precision': 0.9612403100775194, 'recall': 0.9465648854961832, 'f1-score': 0.9538461538461539, 'support': 131.0}, '2': {'precision': 1.0, 'recall': 1.0, 'f1-score': 1.0, 'support': 145.0}, '3': {'precision': 0.9006622516556292, 'recall': 0.9577464788732394, 'f1-score': 0.9283276450511946, 'support': 142.0}, 'accuracy': 0.9428571428571428, 'macro avg': {'precision': 0.943253418211065, 'recall': 0.9426271368670035, 'f1-score': 0.9425651103741566, 'support': 560.0}, 'weighted avg': {'precision': 0.943204103808986, 'recall': 0.9428571428571428, 'f1-score': 0.9426512053575238, 'support': 560.0}} for parameters {'num_class': 4, 'alpha': 0.01, 'device': 'cuda', 'eta': 0.01, 'eval_metric': 'logloss', 'gamma': 0.05, 'grow_policy': 'depthwise', 'lambda': 0.1, 'max_depth': 3, 'num_parallel_tree': 3, 'objective': 'multi:softmax', 'sampling_method': 'uniform', 'subsample': 0.5, 'tree_method': 'hist'}\n",
      "{'0': {'precision': 0.9375, 'recall': 0.8275862068965517, 'f1-score': 0.8791208791208791, 'support': 145.0}, '1': {'precision': 0.9236641221374046, 'recall': 0.9758064516129032, 'f1-score': 0.9490196078431372, 'support': 124.0}, '2': {'precision': 1.0, 'recall': 1.0, 'f1-score': 1.0, 'support': 147.0}, '3': {'precision': 0.9025974025974026, 'recall': 0.9652777777777778, 'f1-score': 0.9328859060402684, 'support': 144.0}, 'accuracy': 0.9410714285714286, 'macro avg': {'precision': 0.9409403811837018, 'recall': 0.9421676090718082, 'f1-score': 0.9402565982510711, 'support': 560.0}, 'weighted avg': {'precision': 0.9418676377126145, 'recall': 0.9410714285714286, 'f1-score': 0.9401545166337056, 'support': 560.0}} for parameters {'num_class': 4, 'alpha': 0.01, 'device': 'cuda', 'eta': 0.01, 'eval_metric': 'logloss', 'gamma': 0.05, 'grow_policy': 'depthwise', 'lambda': 0.1, 'max_depth': 3, 'num_parallel_tree': 3, 'objective': 'multi:softmax', 'sampling_method': 'uniform', 'subsample': 0.5, 'tree_method': 'hist'}\n",
      "{'0': {'precision': 0.9583333333333334, 'recall': 0.8582089552238806, 'f1-score': 0.905511811023622, 'support': 134.0}, '1': {'precision': 0.98, 'recall': 0.9932432432432432, 'f1-score': 0.9865771812080537, 'support': 148.0}, '2': {'precision': 0.9926470588235294, 'recall': 1.0, 'f1-score': 0.996309963099631, 'support': 135.0}, '3': {'precision': 0.9025974025974026, 'recall': 0.972027972027972, 'f1-score': 0.936026936026936, 'support': 143.0}, 'accuracy': 0.9571428571428572, 'macro avg': {'precision': 0.9583944486885664, 'recall': 0.955870042623774, 'f1-score': 0.9561064728395607, 'support': 560.0}, 'weighted avg': {'precision': 0.9580990146058423, 'recall': 0.9571428571428572, 'f1-score': 0.9566173256540347, 'support': 560.0}} for parameters {'num_class': 4, 'alpha': 0.01, 'device': 'cuda', 'eta': 0.01, 'eval_metric': 'logloss', 'gamma': 0.05, 'grow_policy': 'depthwise', 'lambda': 0.1, 'max_depth': 3, 'num_parallel_tree': 3, 'objective': 'multi:softmax', 'sampling_method': 'uniform', 'subsample': 0.5, 'tree_method': 'approx'}\n",
      "{'0': {'precision': 1.0, 'recall': 0.803680981595092, 'f1-score': 0.891156462585034, 'support': 163.0}, '1': {'precision': 0.9029850746268657, 'recall': 1.0, 'f1-score': 0.9490196078431372, 'support': 121.0}, '2': {'precision': 1.0, 'recall': 1.0, 'f1-score': 1.0, 'support': 131.0}, '3': {'precision': 0.8841463414634146, 'recall': 1.0, 'f1-score': 0.9385113268608414, 'support': 145.0}, 'accuracy': 0.9428571428571428, 'macro avg': {'precision': 0.9467828540225701, 'recall': 0.9509202453987731, 'f1-score': 0.9446718493222532, 'support': 560.0}, 'weighted avg': {'precision': 0.9490400241822248, 'recall': 0.9428571428571428, 'f1-score': 0.9413821756164324, 'support': 560.0}} for parameters {'num_class': 4, 'alpha': 0.01, 'device': 'cuda', 'eta': 0.01, 'eval_metric': 'logloss', 'gamma': 0.05, 'grow_policy': 'depthwise', 'lambda': 0.1, 'max_depth': 3, 'num_parallel_tree': 3, 'objective': 'multi:softmax', 'sampling_method': 'uniform', 'subsample': 0.5, 'tree_method': 'approx'}\n",
      "{'0': {'precision': 0.9763779527559056, 'recall': 0.9253731343283582, 'f1-score': 0.9501915708812261, 'support': 134.0}, '1': {'precision': 0.971830985915493, 'recall': 0.971830985915493, 'f1-score': 0.971830985915493, 'support': 142.0}, '2': {'precision': 1.0, 'recall': 1.0, 'f1-score': 1.0, 'support': 157.0}, '3': {'precision': 0.9477611940298507, 'recall': 1.0, 'f1-score': 0.9731800766283525, 'support': 127.0}, 'accuracy': 0.975, 'macro avg': {'precision': 0.9739925331753123, 'recall': 0.9743010300609628, 'f1-score': 0.973800658356268, 'support': 560.0}, 'weighted avg': {'precision': 0.9753577094840759, 'recall': 0.975, 'f1-score': 0.9748563218390803, 'support': 560.0}} for parameters {'num_class': 4, 'alpha': 0.01, 'device': 'cuda', 'eta': 0.01, 'eval_metric': 'logloss', 'gamma': 0.05, 'grow_policy': 'depthwise', 'lambda': 0.1, 'max_depth': 3, 'num_parallel_tree': 3, 'objective': 'multi:softmax', 'sampling_method': 'uniform', 'subsample': 0.5, 'tree_method': 'approx'}\n",
      "{'0': {'precision': 0.95, 'recall': 0.8769230769230769, 'f1-score': 0.912, 'support': 130.0}, '1': {'precision': 0.9748427672955975, 'recall': 0.9627329192546584, 'f1-score': 0.96875, 'support': 161.0}, '2': {'precision': 1.0, 'recall': 1.0, 'f1-score': 1.0, 'support': 130.0}, '3': {'precision': 0.9072847682119205, 'recall': 0.9856115107913669, 'f1-score': 0.9448275862068966, 'support': 139.0}, 'accuracy': 0.9571428571428572, 'macro avg': {'precision': 0.9580318838768795, 'recall': 0.9563168767422756, 'f1-score': 0.9563943965517241, 'support': 560.0}, 'weighted avg': {'precision': 0.9581469077072289, 'recall': 0.9571428571428572, 'f1-score': 0.9568924722906405, 'support': 560.0}} for parameters {'num_class': 4, 'alpha': 0.01, 'device': 'cuda', 'eta': 0.01, 'eval_metric': 'logloss', 'gamma': 0.05, 'grow_policy': 'depthwise', 'lambda': 0.1, 'max_depth': 3, 'num_parallel_tree': 3, 'objective': 'multi:softmax', 'sampling_method': 'uniform', 'subsample': 0.5, 'tree_method': 'approx'}\n"
     ]
    },
    {
     "ename": "KeyboardInterrupt",
     "evalue": "",
     "output_type": "error",
     "traceback": [
      "\u001b[1;31m---------------------------------------------------------------------------\u001b[0m",
      "\u001b[1;31mKeyboardInterrupt\u001b[0m                         Traceback (most recent call last)",
      "Cell \u001b[1;32mIn[62], line 110\u001b[0m\n\u001b[0;32m    105\u001b[0m       cv_results[combination]\u001b[38;5;241m.\u001b[39mappend(f1_scores)\n\u001b[0;32m    107\u001b[0m   \u001b[38;5;28;01mreturn\u001b[39;00m best_params, best_model, cv_results\n\u001b[1;32m--> 110\u001b[0m best_params, best_model, cv_results \u001b[38;5;241m=\u001b[39m \u001b[43mgrid_search_xgb\u001b[49m\u001b[43m(\u001b[49m\u001b[43mcombinations\u001b[49m\u001b[43m,\u001b[49m\u001b[43m \u001b[49m\u001b[43mX_train\u001b[49m\u001b[43m,\u001b[49m\u001b[43m \u001b[49m\u001b[43my_train\u001b[49m\u001b[43m)\u001b[49m\n\u001b[0;32m    112\u001b[0m \u001b[38;5;66;03m# Access results\u001b[39;00m\n\u001b[0;32m    113\u001b[0m \u001b[38;5;28mprint\u001b[39m(\u001b[38;5;124mf\u001b[39m\u001b[38;5;124m\"\u001b[39m\u001b[38;5;124mBest Hyperparameters: \u001b[39m\u001b[38;5;132;01m{\u001b[39;00mbest_params\u001b[38;5;132;01m}\u001b[39;00m\u001b[38;5;124m\"\u001b[39m)\n",
      "Cell \u001b[1;32mIn[62], line 77\u001b[0m, in \u001b[0;36mgrid_search_xgb\u001b[1;34m(parameters, X_train, y_train, cv)\u001b[0m\n\u001b[0;32m     57\u001b[0m val_dmatrix \u001b[38;5;241m=\u001b[39m xgb\u001b[38;5;241m.\u001b[39mDMatrix(x_val_fold, label\u001b[38;5;241m=\u001b[39my_val_fold)\n\u001b[0;32m     59\u001b[0m params \u001b[38;5;241m=\u001b[39m {\n\u001b[0;32m     60\u001b[0m     \u001b[38;5;124m'\u001b[39m\u001b[38;5;124mnum_class\u001b[39m\u001b[38;5;124m'\u001b[39m: \u001b[38;5;241m4\u001b[39m,\n\u001b[0;32m     61\u001b[0m     \u001b[38;5;124m'\u001b[39m\u001b[38;5;124malpha\u001b[39m\u001b[38;5;124m'\u001b[39m: combination[\u001b[38;5;241m0\u001b[39m],\n\u001b[1;32m   (...)\u001b[0m\n\u001b[0;32m     73\u001b[0m     \u001b[38;5;124m'\u001b[39m\u001b[38;5;124mtree_method\u001b[39m\u001b[38;5;124m'\u001b[39m: combination[\u001b[38;5;241m12\u001b[39m],\n\u001b[0;32m     74\u001b[0m }\n\u001b[1;32m---> 77\u001b[0m model \u001b[38;5;241m=\u001b[39m \u001b[43mxgb\u001b[49m\u001b[38;5;241;43m.\u001b[39;49m\u001b[43mtrain\u001b[49m\u001b[43m(\u001b[49m\u001b[43mparams\u001b[49m\u001b[43m,\u001b[49m\u001b[43m \u001b[49m\u001b[43mtrain_dmatrix\u001b[49m\u001b[43m,\u001b[49m\n\u001b[0;32m     78\u001b[0m \u001b[43m            \u001b[49m\u001b[43mnum_boost_round\u001b[49m\u001b[38;5;241;43m=\u001b[39;49m\u001b[38;5;241;43m200\u001b[39;49m\u001b[43m)\u001b[49m\n\u001b[0;32m     80\u001b[0m \u001b[38;5;66;03m#eval_results = model.eval(val_dmatrix, name='validation')\u001b[39;00m\n\u001b[0;32m     81\u001b[0m \u001b[38;5;66;03m#validation_score = eval_results['validation']['logloss']\u001b[39;00m\n\u001b[0;32m     83\u001b[0m predictions\u001b[38;5;241m=\u001b[39mmodel\u001b[38;5;241m.\u001b[39mpredict(val_dmatrix)\n",
      "File \u001b[1;32mc:\\Users\\Moustapha\\AppData\\Local\\Programs\\Python\\Python312\\Lib\\site-packages\\xgboost\\core.py:730\u001b[0m, in \u001b[0;36mrequire_keyword_args.<locals>.throw_if.<locals>.inner_f\u001b[1;34m(*args, **kwargs)\u001b[0m\n\u001b[0;32m    728\u001b[0m \u001b[38;5;28;01mfor\u001b[39;00m k, arg \u001b[38;5;129;01min\u001b[39;00m \u001b[38;5;28mzip\u001b[39m(sig\u001b[38;5;241m.\u001b[39mparameters, args):\n\u001b[0;32m    729\u001b[0m     kwargs[k] \u001b[38;5;241m=\u001b[39m arg\n\u001b[1;32m--> 730\u001b[0m \u001b[38;5;28;01mreturn\u001b[39;00m \u001b[43mfunc\u001b[49m\u001b[43m(\u001b[49m\u001b[38;5;241;43m*\u001b[39;49m\u001b[38;5;241;43m*\u001b[39;49m\u001b[43mkwargs\u001b[49m\u001b[43m)\u001b[49m\n",
      "File \u001b[1;32mc:\\Users\\Moustapha\\AppData\\Local\\Programs\\Python\\Python312\\Lib\\site-packages\\xgboost\\training.py:181\u001b[0m, in \u001b[0;36mtrain\u001b[1;34m(params, dtrain, num_boost_round, evals, obj, feval, maximize, early_stopping_rounds, evals_result, verbose_eval, xgb_model, callbacks, custom_metric)\u001b[0m\n\u001b[0;32m    179\u001b[0m \u001b[38;5;28;01mif\u001b[39;00m cb_container\u001b[38;5;241m.\u001b[39mbefore_iteration(bst, i, dtrain, evals):\n\u001b[0;32m    180\u001b[0m     \u001b[38;5;28;01mbreak\u001b[39;00m\n\u001b[1;32m--> 181\u001b[0m \u001b[43mbst\u001b[49m\u001b[38;5;241;43m.\u001b[39;49m\u001b[43mupdate\u001b[49m\u001b[43m(\u001b[49m\u001b[43mdtrain\u001b[49m\u001b[43m,\u001b[49m\u001b[43m \u001b[49m\u001b[43mi\u001b[49m\u001b[43m,\u001b[49m\u001b[43m \u001b[49m\u001b[43mobj\u001b[49m\u001b[43m)\u001b[49m\n\u001b[0;32m    182\u001b[0m \u001b[38;5;28;01mif\u001b[39;00m cb_container\u001b[38;5;241m.\u001b[39mafter_iteration(bst, i, dtrain, evals):\n\u001b[0;32m    183\u001b[0m     \u001b[38;5;28;01mbreak\u001b[39;00m\n",
      "File \u001b[1;32mc:\\Users\\Moustapha\\AppData\\Local\\Programs\\Python\\Python312\\Lib\\site-packages\\xgboost\\core.py:2051\u001b[0m, in \u001b[0;36mBooster.update\u001b[1;34m(self, dtrain, iteration, fobj)\u001b[0m\n\u001b[0;32m   2047\u001b[0m \u001b[38;5;28mself\u001b[39m\u001b[38;5;241m.\u001b[39m_assign_dmatrix_features(dtrain)\n\u001b[0;32m   2049\u001b[0m \u001b[38;5;28;01mif\u001b[39;00m fobj \u001b[38;5;129;01mis\u001b[39;00m \u001b[38;5;28;01mNone\u001b[39;00m:\n\u001b[0;32m   2050\u001b[0m     _check_call(\n\u001b[1;32m-> 2051\u001b[0m         \u001b[43m_LIB\u001b[49m\u001b[38;5;241;43m.\u001b[39;49m\u001b[43mXGBoosterUpdateOneIter\u001b[49m\u001b[43m(\u001b[49m\n\u001b[0;32m   2052\u001b[0m \u001b[43m            \u001b[49m\u001b[38;5;28;43mself\u001b[39;49m\u001b[38;5;241;43m.\u001b[39;49m\u001b[43mhandle\u001b[49m\u001b[43m,\u001b[49m\u001b[43m \u001b[49m\u001b[43mctypes\u001b[49m\u001b[38;5;241;43m.\u001b[39;49m\u001b[43mc_int\u001b[49m\u001b[43m(\u001b[49m\u001b[43miteration\u001b[49m\u001b[43m)\u001b[49m\u001b[43m,\u001b[49m\u001b[43m \u001b[49m\u001b[43mdtrain\u001b[49m\u001b[38;5;241;43m.\u001b[39;49m\u001b[43mhandle\u001b[49m\n\u001b[0;32m   2053\u001b[0m \u001b[43m        \u001b[49m\u001b[43m)\u001b[49m\n\u001b[0;32m   2054\u001b[0m     )\n\u001b[0;32m   2055\u001b[0m \u001b[38;5;28;01melse\u001b[39;00m:\n\u001b[0;32m   2056\u001b[0m     pred \u001b[38;5;241m=\u001b[39m \u001b[38;5;28mself\u001b[39m\u001b[38;5;241m.\u001b[39mpredict(dtrain, output_margin\u001b[38;5;241m=\u001b[39m\u001b[38;5;28;01mTrue\u001b[39;00m, training\u001b[38;5;241m=\u001b[39m\u001b[38;5;28;01mTrue\u001b[39;00m)\n",
      "\u001b[1;31mKeyboardInterrupt\u001b[0m: "
     ]
    }
   ],
   "source": [
    "import cupy as cp\n",
    "hyper_params={\n",
    "    'objective':['multi:softmax'],\n",
    "    'eval_metric':['logloss','mse','mae'],\n",
    "\t'eta':[0.01,0.1,0.3,0.9],\n",
    "\t'gamma':[0.05,0.1,0.2],\n",
    "\t'max_depth':[3,6,12],\n",
    "\t'n_estimators':[100,200,300],\n",
    "    'num_parallel_tree':[3,10,30],\n",
    "\t'subsample':[0.3,0.5,0.8],\n",
    "\t'sampling_method':['uniform','gradient_based'],\n",
    "\t'lambda':[0.1, 0.5 , 1, 5, 7,10],\n",
    "    'alpha':[0.01,0.05,0.1,0.3,1],\n",
    "\t'tree_method':['hist','approx'],\n",
    "\t'grow_policy':['depthwise','lossguide'],\n",
    "}\n",
    "allParams=sorted(hyper_params)\n",
    "\n",
    "combinations=list(itr.product(*(hyper_params[param] for param in allParams)))\n",
    "\n",
    "\n",
    "def grid_search_xgb(parameters, X_train, y_train, cv=5):\n",
    "  \"\"\"\n",
    "  Performs grid search with KFold cross-validation for XGBoost with DMatrix.\n",
    "\n",
    "  Args:\n",
    "      params: Dictionary of hyperparameter grids to search over.\n",
    "      x_train: DMatrix containing training data features.\n",
    "      y_train: Training data target labels.\n",
    "      cv: Number of folds for KFold cross-validation (default=5).\n",
    "      scoring: Evaluation metric for scoring models (default='neg_mean_squared_error').\n",
    "      eval_metric: Evaluation metric reported during training (default='rmse').\n",
    "\n",
    "  Returns:\n",
    "      best_params: Dictionary containing the best hyperparameters found.\n",
    "      best_model: The XGBoost model with the best hyperparameters.\n",
    "      cv_results: Dictionary containing cross-validation results for each parameter combination.\n",
    "  \"\"\"\n",
    "\n",
    "  best_params = None\n",
    "  f1_scores=[float('-inf'),float('-inf'),float('-inf')]\n",
    "\n",
    "  cv_results = {}\n",
    "\n",
    "\n",
    "  kfold = KFold(n_splits=cv, shuffle=True)\n",
    "\n",
    "  for combination in parameters:\n",
    "    for train_idx, val_idx in kfold.split(X_train, y_train):\n",
    "      x_train_fold = X_train.iloc[train_idx]\n",
    "      x_val_fold = X_train.iloc[val_idx]\n",
    "      y_train_fold = y_train[train_idx]\n",
    "      y_val_fold = y_train[val_idx]\n",
    "\n",
    "\n",
    "      train_dmatrix = xgb.DMatrix(x_train_fold, label=y_train_fold)\n",
    "      val_dmatrix = xgb.DMatrix(x_val_fold, label=y_val_fold)\n",
    "\n",
    "      params = {\n",
    "          'num_class': 4,\n",
    "          'alpha': combination[0],\n",
    "          'device': 'cuda',\n",
    "          'eta': combination[1],\n",
    "          'eval_metric': 'logloss',\n",
    "          'gamma': combination[3],\n",
    "          'grow_policy': combination[4],\n",
    "          'lambda': combination[5],\n",
    "          'max_depth': combination[6],\n",
    "          'num_parallel_tree': combination[8],\n",
    "          'objective': 'multi:softmax',\n",
    "          'sampling_method': combination[10],\n",
    "          'subsample': combination[11],\n",
    "          'tree_method': combination[12],\n",
    "      }\n",
    "\n",
    "\n",
    "      model = xgb.train(params, train_dmatrix,\n",
    "                  num_boost_round=200)\n",
    "\n",
    "      #eval_results = model.eval(val_dmatrix, name='validation')\n",
    "      #validation_score = eval_results['validation']['logloss']\n",
    "\n",
    "      predictions=model.predict(val_dmatrix)\n",
    "      report=classification_report(y_val_fold,predictions,output_dict=True)\n",
    "      print(f'{report} for parameters {params}')\n",
    "      flags=[False,False,False]\n",
    "      for key, value in report.items():\n",
    "        if key==1 and f1_scores[key]<value:\n",
    "          f1_scores[key]=value\n",
    "          flags[key-1]=True\n",
    "        elif key==2 and f1_scores[key]<value:\n",
    "          f1_scores[key]=value\n",
    "          flags[key-1]=True\n",
    "        elif key==3 and f1_scores[key]<value:\n",
    "          f1_scores[key]=value\n",
    "          flags[key-1]=value\n",
    "\n",
    "      if flags[0]==True or flags[1]==True or flags[2]==True:\n",
    "        best_scores = f1_scores\n",
    "        best_params = combination\n",
    "        best_model = model\n",
    "\n",
    "      if combination not in cv_results:\n",
    "        cv_results[combination] = []\n",
    "      cv_results[combination].append(f1_scores)\n",
    "\n",
    "  return best_params, best_model, cv_results\n",
    "\n",
    "\n",
    "best_params, best_model, cv_results = grid_search_xgb(combinations, X_train, y_train)\n",
    "\n",
    "# Access results\n",
    "print(f\"Best Hyperparameters: {best_params}\")\n",
    "print(f\"Best Model Score: {cv_results}\")"
   ]
  }
 ],
 "metadata": {
  "kernelspec": {
   "display_name": "Python 3",
   "language": "python",
   "name": "python3"
  },
  "language_info": {
   "codemirror_mode": {
    "name": "ipython",
    "version": 3
   },
   "file_extension": ".py",
   "mimetype": "text/x-python",
   "name": "python",
   "nbconvert_exporter": "python",
   "pygments_lexer": "ipython3",
   "version": "3.12.2"
  }
 },
 "nbformat": 4,
 "nbformat_minor": 2
}
